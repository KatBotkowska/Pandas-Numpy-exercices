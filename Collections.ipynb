{
  "nbformat": 4,
  "nbformat_minor": 0,
  "metadata": {
    "kernelspec": {
      "display_name": "Python [Root]",
      "language": "python",
      "name": "Python [Root]"
    },
    "language_info": {
      "codemirror_mode": {
        "name": "ipython",
        "version": 3
      },
      "file_extension": ".py",
      "mimetype": "text/x-python",
      "name": "python",
      "nbconvert_exporter": "python",
      "pygments_lexer": "ipython3",
      "version": "3.5.2"
    },
    "colab": {
      "name": "Collections.ipynb",
      "provenance": [],
      "include_colab_link": true
    }
  },
  "cells": [
    {
      "cell_type": "markdown",
      "metadata": {
        "id": "view-in-github",
        "colab_type": "text"
      },
      "source": [
        "<a href=\"https://colab.research.google.com/github/KatBotkowska/Pandas-Numpy-exercices/blob/master/Collections.ipynb\" target=\"_parent\"><img src=\"https://colab.research.google.com/assets/colab-badge.svg\" alt=\"Open In Colab\"/></a>"
      ]
    },
    {
      "cell_type": "markdown",
      "metadata": {
        "id": "24YiaoXL_e7d"
      },
      "source": [
        "<h1>Lists</h1>\n",
        "<li>Sequential, Ordered Collection\n"
      ]
    },
    {
      "cell_type": "markdown",
      "metadata": {
        "id": "PAKZhG4D_e7n"
      },
      "source": [
        "<h2>Creating lists</h2>"
      ]
    },
    {
      "cell_type": "code",
      "metadata": {
        "id": "xnfYSNAR_e7o"
      },
      "source": [
        "x = [4,2,6,3] #Create a list with values\n",
        "y = list() # Create an empty list\n",
        "y = [] #Create an empty list\n",
        "print(x)\n",
        "print(y)"
      ],
      "execution_count": null,
      "outputs": []
    },
    {
      "cell_type": "markdown",
      "metadata": {
        "id": "QiI8284V_e7p"
      },
      "source": [
        "<h3>Adding items to a list</h3>\n"
      ]
    },
    {
      "cell_type": "code",
      "metadata": {
        "id": "cNkCQUj1_e7q"
      },
      "source": [
        "x=list()\n",
        "print(x)\n",
        "x.append('One') #Adds 'One' to the back of the empty list\n",
        "print(x)\n",
        "x.append('Two') #Adds 'Two' to the back of the list ['One']\n",
        "print(x)"
      ],
      "execution_count": null,
      "outputs": []
    },
    {
      "cell_type": "code",
      "metadata": {
        "id": "4BzDBEg7_e7q"
      },
      "source": [
        "x.insert(0,'Half') #Inserts 'Half' at location 0. Items will shift to make roomw\n",
        "print(x)"
      ],
      "execution_count": null,
      "outputs": []
    },
    {
      "cell_type": "code",
      "metadata": {
        "id": "3HtQwQj4_e7r"
      },
      "source": [
        "x=list()\n",
        "x.extend([1,2,3]) #Unpacks the list and adds each item to the back of the list\n",
        "print(x)"
      ],
      "execution_count": null,
      "outputs": []
    },
    {
      "cell_type": "markdown",
      "metadata": {
        "id": "G_3skveS_e7s"
      },
      "source": [
        "<h3>Indexing and slicing</h3>"
      ]
    },
    {
      "cell_type": "code",
      "metadata": {
        "id": "ISF8DVOb_e7s"
      },
      "source": [
        "x=[1,7,2,5,3,5,67,32]\n",
        "print(len(x))\n",
        "print(x[3])\n",
        "print(x[2:5])\n",
        "print(x[-1])\n",
        "print(x[::-1])"
      ],
      "execution_count": null,
      "outputs": []
    },
    {
      "cell_type": "markdown",
      "metadata": {
        "id": "6tPhbtIK_e7t"
      },
      "source": [
        "<h3>Removing items from a list</h3>"
      ]
    },
    {
      "cell_type": "code",
      "metadata": {
        "id": "Y_QqBU03_e7t"
      },
      "source": [
        "x=[1,7,2,5,3,5,67,32]\n",
        "x.pop() #Removes the last element from a list\n",
        "print(x)\n",
        "x.pop(3) #Removes element at item 3 from a list\n",
        "print(x)\n",
        "x.remove(7) #Removes the first 7 from the list\n",
        "print(x)"
      ],
      "execution_count": null,
      "outputs": []
    },
    {
      "cell_type": "code",
      "metadata": {
        "colab": {
          "base_uri": "https://localhost:8080/"
        },
        "id": "oQPLcMeiGqBs",
        "outputId": "659749f7-bc3e-4e6e-92d2-7beeb48ebce0"
      },
      "source": [
        "#removing all occurences from the list\n",
        "my_list=[2,3,6,5,2,3,4,5]\n",
        "def removes_values_from_list(list, value):\n",
        "    return[x for x in list if x != value]\n",
        "print(removes_values_from_list(my_list, 2))"
      ],
      "execution_count": 2,
      "outputs": [
        {
          "output_type": "stream",
          "text": [
            "[3, 6, 5, 3, 4, 5]\n"
          ],
          "name": "stdout"
        }
      ]
    },
    {
      "cell_type": "code",
      "metadata": {
        "colab": {
          "base_uri": "https://localhost:8080/"
        },
        "id": "yuIj5UunHeoZ",
        "outputId": "0234e146-d9de-4582-832f-730dea357eeb"
      },
      "source": [
        "#removing all occurences from the list - second way with lambda\n",
        "my_list=[2,3,6,5,2,3,4,5]\n",
        "def removes_values_from_list_2(my_list, value):\n",
        "    return list(filter(lambda a: a != value, my_list))\n",
        "print(removes_values_from_list_2(my_list, 2))"
      ],
      "execution_count": 3,
      "outputs": [
        {
          "output_type": "stream",
          "text": [
            "[3, 6, 5, 3, 4, 5]\n"
          ],
          "name": "stdout"
        }
      ]
    },
    {
      "cell_type": "markdown",
      "metadata": {
        "id": "42DTbgqL_e7u"
      },
      "source": [
        "<h3>Anything you want to remove must be in the list or the location must be inside the list</h3>"
      ]
    },
    {
      "cell_type": "code",
      "metadata": {
        "id": "45LlrFDn_e7u"
      },
      "source": [
        "x.remove(20)"
      ],
      "execution_count": null,
      "outputs": []
    },
    {
      "cell_type": "markdown",
      "metadata": {
        "id": "G3RksBtt_e7v"
      },
      "source": [
        "<h2>Mutablility of lists</h2>"
      ]
    },
    {
      "cell_type": "code",
      "metadata": {
        "id": "MuNR3Kgc_e7v"
      },
      "source": [
        "y=['a','b']\n",
        "x = [1,y,3]\n",
        "print(x)\n",
        "print(y)\n",
        "y[1] = 4\n",
        "print(y)"
      ],
      "execution_count": null,
      "outputs": []
    },
    {
      "cell_type": "code",
      "metadata": {
        "id": "mXEg40_C_e7v"
      },
      "source": [
        "print(x)"
      ],
      "execution_count": null,
      "outputs": []
    },
    {
      "cell_type": "code",
      "metadata": {
        "id": "Hg67hpTk_e7w"
      },
      "source": [
        "x=\"Hello\"\n",
        "print(x,id(x))\n",
        "x+=\" You!\"\n",
        "print(x,id(x)) #x is not the same object it was\n",
        "y=[\"Hello\"]\n",
        "print(y,id(y))\n",
        "y+=[\"You!\"] \n",
        "print(y,id(y)) #y is still the same object. Lists are mutable. Strings are immutable\n"
      ],
      "execution_count": null,
      "outputs": []
    },
    {
      "cell_type": "code",
      "metadata": {
        "id": "eKiiBXgd_e7w"
      },
      "source": [
        "def eggs(item,total=0):\n",
        "    total+=item\n",
        "    return total\n",
        "\n",
        "\n",
        "def spam(elem,some_list=[]):\n",
        "    some_list.append(elem)\n",
        "    return some_list\n"
      ],
      "execution_count": null,
      "outputs": []
    },
    {
      "cell_type": "code",
      "metadata": {
        "id": "kEcYiZbb_e7x"
      },
      "source": [
        "print(eggs(1))\n",
        "print(eggs(2))\n",
        "\n",
        "print(spam(1))\n",
        "print(spam(2))"
      ],
      "execution_count": null,
      "outputs": []
    },
    {
      "cell_type": "markdown",
      "metadata": {
        "id": "M9LWw-r__e7x"
      },
      "source": [
        "<h1>Iteration</h1>"
      ]
    },
    {
      "cell_type": "markdown",
      "metadata": {
        "id": "tAsJ3qGA_e7x"
      },
      "source": [
        "<h2>Range iteration</h2>"
      ]
    },
    {
      "cell_type": "code",
      "metadata": {
        "id": "YVRfMjl9_e7y"
      },
      "source": [
        "#The for loop creates a new variable (e.g., index below)\n",
        "#range(len(x)) generates values from 0 to len(x) \n",
        "x=[1,7,2,5,3,5,67,32]\n",
        "for index in range(len(x)):\n",
        "    print(x[index])"
      ],
      "execution_count": null,
      "outputs": []
    },
    {
      "cell_type": "code",
      "metadata": {
        "id": "Sd841oG__e7y"
      },
      "source": [
        "list(range(len(x)))"
      ],
      "execution_count": null,
      "outputs": []
    },
    {
      "cell_type": "markdown",
      "metadata": {
        "id": "eIpEngsT_e7y"
      },
      "source": [
        "<h3>List element iteration</h3>"
      ]
    },
    {
      "cell_type": "code",
      "metadata": {
        "id": "kRm3mJPw_e7z"
      },
      "source": [
        "x=[1,7,2,5,3,5,67,32]\n",
        "for element in x: #The for draws elements - sequentially - from the list x and uses the variable \"element\" to store values\n",
        "    print(element)"
      ],
      "execution_count": null,
      "outputs": []
    },
    {
      "cell_type": "markdown",
      "metadata": {
        "id": "UIyBjBON_e7z"
      },
      "source": [
        "<h3>Practice problem</h3>"
      ]
    },
    {
      "cell_type": "markdown",
      "metadata": {
        "id": "Bknv87s4_e7z"
      },
      "source": [
        "Write a function search_list that searches a list of tuple pairs and returns the value associated with the first element of the pair"
      ]
    },
    {
      "cell_type": "code",
      "metadata": {
        "id": "fyLU6JSn_e70"
      },
      "source": [
        "def search_list(list_of_tuples,value):\n",
        "    #Write the function here"
      ],
      "execution_count": null,
      "outputs": []
    },
    {
      "cell_type": "code",
      "metadata": {
        "id": "1WwxsfzM_e70"
      },
      "source": [
        "prices = [('AAPL',96.43),('IONS',39.28),('GS',159.53)]\n",
        "ticker = 'IONS'\n",
        "print(search_list(prices,ticker))"
      ],
      "execution_count": null,
      "outputs": []
    },
    {
      "cell_type": "markdown",
      "metadata": {
        "id": "4hKNl4K__e70"
      },
      "source": [
        "<h1>Dictionaries</h1>"
      ]
    },
    {
      "cell_type": "code",
      "metadata": {
        "id": "_u8valcd_e71"
      },
      "source": [
        "mktcaps = {'AAPL':538.7,'GOOG':68.7,'IONS':4.6}\n"
      ],
      "execution_count": null,
      "outputs": []
    },
    {
      "cell_type": "code",
      "metadata": {
        "id": "cXvpRTJA_e71"
      },
      "source": [
        "mktcaps['AAPL'] #Returns the value associated with the key \"AAPL\""
      ],
      "execution_count": null,
      "outputs": []
    },
    {
      "cell_type": "code",
      "metadata": {
        "id": "6Kvk6WQ1_e71"
      },
      "source": [
        "mktcaps['GS'] #Error because GS is not in mktcaps"
      ],
      "execution_count": null,
      "outputs": []
    },
    {
      "cell_type": "code",
      "metadata": {
        "collapsed": true,
        "id": "-XgzJdID_e71"
      },
      "source": [
        "mktcaps.get('GS') #Returns None because GS is not in mktcaps"
      ],
      "execution_count": null,
      "outputs": []
    },
    {
      "cell_type": "code",
      "metadata": {
        "id": "x8rD6-zx_e72"
      },
      "source": [
        "mktcaps['GS'] = 88.65 #Adds GS to the dictionary\n",
        "print(mktcaps) "
      ],
      "execution_count": null,
      "outputs": []
    },
    {
      "cell_type": "code",
      "metadata": {
        "id": "QIr1_BoD_e72"
      },
      "source": [
        "del(mktcaps['GOOG']) #Removes GOOG from mktcaps\n",
        "print(mktcaps)"
      ],
      "execution_count": null,
      "outputs": []
    },
    {
      "cell_type": "code",
      "metadata": {
        "id": "QhQBQwo1_e72"
      },
      "source": [
        "mktcaps.keys() #Returns all the keys"
      ],
      "execution_count": null,
      "outputs": []
    },
    {
      "cell_type": "code",
      "metadata": {
        "id": "NAE3lK3y_e73"
      },
      "source": [
        "mktcaps.values() #Returns all the values"
      ],
      "execution_count": null,
      "outputs": []
    },
    {
      "cell_type": "code",
      "metadata": {
        "collapsed": true,
        "id": "NmpV1IJm_e73"
      },
      "source": [
        ""
      ],
      "execution_count": null,
      "outputs": []
    }
  ]
}