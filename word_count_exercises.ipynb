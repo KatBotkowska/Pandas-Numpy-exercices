{
  "nbformat": 4,
  "nbformat_minor": 0,
  "metadata": {
    "colab": {
      "name": "word_count_exercises.ipynb",
      "provenance": [],
      "authorship_tag": "ABX9TyOQyPNZHK6ycOhgHEsJApnr",
      "include_colab_link": true
    },
    "kernelspec": {
      "name": "python3",
      "display_name": "Python 3"
    }
  },
  "cells": [
    {
      "cell_type": "markdown",
      "metadata": {
        "id": "view-in-github",
        "colab_type": "text"
      },
      "source": [
        "<a href=\"https://colab.research.google.com/github/KatBotkowska/Pandas-Numpy-exercices/blob/master/word_count_exercises.ipynb\" target=\"_parent\"><img src=\"https://colab.research.google.com/assets/colab-badge.svg\" alt=\"Open In Colab\"/></a>"
      ]
    },
    {
      "cell_type": "code",
      "metadata": {
        "id": "Wca_DKLmlkgw"
      },
      "source": [
        "def word_distribution(text):\n",
        "    word_dict={}\n",
        "    for elem in text.split():\n",
        "        cleaned_word = elem.strip().lower()\n",
        "        if not cleaned_word[-1].isalpha():\n",
        "            cleaned_word=cleaned_word[:-1]  \n",
        "        if cleaned_word in word_dict:\n",
        "            word_dict[cleaned_word]+=1\n",
        "        else:\n",
        "            word_dict[cleaned_word]=1\n",
        "    return word_dict"
      ],
      "execution_count": 17,
      "outputs": []
    },
    {
      "cell_type": "code",
      "metadata": {
        "id": "TeYARZrDmp9d"
      },
      "source": [
        "text_string = \"Hello. How are you? Please say hello if you don’t love me!\""
      ],
      "execution_count": 18,
      "outputs": []
    },
    {
      "cell_type": "code",
      "metadata": {
        "colab": {
          "base_uri": "https://localhost:8080/"
        },
        "id": "xHTKBy4gmrSR",
        "outputId": "18459542-2564-4c01-efca-03e9ebede377"
      },
      "source": [
        "word_distribution(text_string)"
      ],
      "execution_count": 19,
      "outputs": [
        {
          "output_type": "execute_result",
          "data": {
            "text/plain": [
              "{'are': 1,\n",
              " 'don’t': 1,\n",
              " 'hello': 2,\n",
              " 'how': 1,\n",
              " 'if': 1,\n",
              " 'love': 1,\n",
              " 'me': 1,\n",
              " 'please': 1,\n",
              " 'say': 1,\n",
              " 'you': 2}"
            ]
          },
          "metadata": {
            "tags": []
          },
          "execution_count": 19
        }
      ]
    },
    {
      "cell_type": "code",
      "metadata": {
        "id": "dYv3Cf4aotq6"
      },
      "source": [
        "other_text_string = \"That's when I saw Jane (John's sister)!\""
      ],
      "execution_count": 15,
      "outputs": []
    },
    {
      "cell_type": "code",
      "metadata": {
        "colab": {
          "base_uri": "https://localhost:8080/"
        },
        "id": "YfACX2BPowV8",
        "outputId": "8856e58f-96d7-4e74-d0c0-136ee95550a9"
      },
      "source": [
        "word_distribution(other_text_string)"
      ],
      "execution_count": 20,
      "outputs": [
        {
          "output_type": "execute_result",
          "data": {
            "text/plain": [
              "{\"(john's\": 1,\n",
              " 'i': 1,\n",
              " 'jane': 1,\n",
              " 'saw': 1,\n",
              " 'sister)': 1,\n",
              " \"that's\": 1,\n",
              " 'when': 1}"
            ]
          },
          "metadata": {
            "tags": []
          },
          "execution_count": 20
        }
      ]
    }
  ]
}