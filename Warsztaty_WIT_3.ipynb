{
  "nbformat": 4,
  "nbformat_minor": 0,
  "metadata": {
    "kernelspec": {
      "display_name": "Python 3",
      "language": "python",
      "name": "python3"
    },
    "language_info": {
      "codemirror_mode": {
        "name": "ipython",
        "version": 3
      },
      "file_extension": ".py",
      "mimetype": "text/x-python",
      "name": "python",
      "nbconvert_exporter": "python",
      "pygments_lexer": "ipython3",
      "version": "3.7.4"
    },
    "colab": {
      "name": "Warsztaty_WIT_3.ipynb",
      "provenance": [],
      "collapsed_sections": [],
      "include_colab_link": true
    },
    "widgets": {
      "application/vnd.jupyter.widget-state+json": {
        "a678e62dd7db46a5861e71e5c4b4807a": {
          "model_module": "@jupyter-widgets/controls",
          "model_name": "VBoxModel",
          "state": {
            "_view_name": "VBoxView",
            "_dom_classes": [],
            "_model_name": "VBoxModel",
            "_view_module": "@jupyter-widgets/controls",
            "_model_module_version": "1.5.0",
            "_view_count": null,
            "_view_module_version": "1.5.0",
            "box_style": "",
            "layout": "IPY_MODEL_12ae265aa17a4af397e199db937713fe",
            "_model_module": "@jupyter-widgets/controls",
            "children": [
              "IPY_MODEL_2bd1d556ba3447aba3f67dd091525b4c",
              "IPY_MODEL_eb1ada1acd734127a42ad0f23456a398"
            ]
          }
        },
        "12ae265aa17a4af397e199db937713fe": {
          "model_module": "@jupyter-widgets/base",
          "model_name": "LayoutModel",
          "state": {
            "_view_name": "LayoutView",
            "grid_template_rows": null,
            "right": null,
            "justify_content": null,
            "_view_module": "@jupyter-widgets/base",
            "overflow": null,
            "_model_module_version": "1.2.0",
            "_view_count": null,
            "flex_flow": null,
            "width": null,
            "min_width": null,
            "border": null,
            "align_items": null,
            "bottom": null,
            "_model_module": "@jupyter-widgets/base",
            "top": null,
            "grid_column": null,
            "overflow_y": null,
            "overflow_x": null,
            "grid_auto_flow": null,
            "grid_area": null,
            "grid_template_columns": null,
            "flex": null,
            "_model_name": "LayoutModel",
            "justify_items": null,
            "grid_row": null,
            "max_height": null,
            "align_content": null,
            "visibility": null,
            "align_self": null,
            "height": null,
            "min_height": null,
            "padding": null,
            "grid_auto_rows": null,
            "grid_gap": null,
            "max_width": null,
            "order": null,
            "_view_module_version": "1.2.0",
            "grid_template_areas": null,
            "object_position": null,
            "object_fit": null,
            "grid_auto_columns": null,
            "margin": null,
            "display": null,
            "left": null
          }
        },
        "2bd1d556ba3447aba3f67dd091525b4c": {
          "model_module": "bqplot",
          "model_name": "FigureModel",
          "state": {
            "_view_name": "Figure",
            "max_aspect_ratio": 100,
            "_view_module": "bqplot",
            "_model_module_version": "^0.5.23",
            "_view_count": null,
            "fig_margin": {
              "top": 60,
              "left": 60,
              "right": 60,
              "bottom": 60
            },
            "_model_module": "bqplot",
            "layout": "IPY_MODEL_6a23a861227a4cfaaf11b5c19f37fb46",
            "pixel_ratio": null,
            "title": "",
            "axes": [
              "IPY_MODEL_cc73b50da3a144a2bc221f6a98a60118",
              "IPY_MODEL_9449e355195b40a6b568dd6e97b569a2"
            ],
            "legend_location": "top-right",
            "theme": "classic",
            "marks": [
              "IPY_MODEL_5221cc18031146e19035d6cbc14b4092"
            ],
            "scale_x": "IPY_MODEL_637cbd922261420faa3c5060565716d2",
            "scale_y": "IPY_MODEL_470f671411584c0da8375320ad0a40a6",
            "padding_y": 0.025,
            "padding_x": 0,
            "_dom_classes": [],
            "background_style": {},
            "_model_name": "FigureModel",
            "legend_style": {},
            "min_aspect_ratio": 0.01,
            "title_style": {},
            "animation_duration": 0,
            "interaction": null,
            "legend_text": {},
            "_view_module_version": "^0.5.23"
          }
        },
        "eb1ada1acd734127a42ad0f23456a398": {
          "model_module": "bqplot",
          "model_name": "ToolbarModel",
          "state": {
            "_view_name": "Toolbar",
            "_dom_classes": [],
            "_panzoom": null,
            "figure": "IPY_MODEL_2bd1d556ba3447aba3f67dd091525b4c",
            "_model_name": "ToolbarModel",
            "_view_module": "bqplot",
            "_model_module_version": "^0.5.23",
            "_view_count": null,
            "_view_module_version": "^0.5.23",
            "layout": "IPY_MODEL_e10f6e0b527e4477be2bec6cde85ec39",
            "_model_module": "bqplot",
            "_panning": false
          }
        },
        "3d64feea351c4cf7a7e3826062b9dc98": {
          "model_module": "@jupyter-widgets/controls",
          "model_name": "VBoxModel",
          "state": {
            "_view_name": "VBoxView",
            "_dom_classes": [],
            "_model_name": "VBoxModel",
            "_view_module": "@jupyter-widgets/controls",
            "_model_module_version": "1.5.0",
            "_view_count": null,
            "_view_module_version": "1.5.0",
            "box_style": "",
            "layout": "IPY_MODEL_6a2daa31dd494838b0edb583d411d0e3",
            "_model_module": "@jupyter-widgets/controls",
            "children": [
              "IPY_MODEL_ba94b2ea2a2349a89597c0105a216816",
              "IPY_MODEL_e26093a8198948a1be63734b7ed8a55b"
            ]
          }
        },
        "6a2daa31dd494838b0edb583d411d0e3": {
          "model_module": "@jupyter-widgets/base",
          "model_name": "LayoutModel",
          "state": {
            "_view_name": "LayoutView",
            "grid_template_rows": null,
            "right": null,
            "justify_content": null,
            "_view_module": "@jupyter-widgets/base",
            "overflow": null,
            "_model_module_version": "1.2.0",
            "_view_count": null,
            "flex_flow": null,
            "width": null,
            "min_width": null,
            "border": null,
            "align_items": null,
            "bottom": null,
            "_model_module": "@jupyter-widgets/base",
            "top": null,
            "grid_column": null,
            "overflow_y": null,
            "overflow_x": null,
            "grid_auto_flow": null,
            "grid_area": null,
            "grid_template_columns": null,
            "flex": null,
            "_model_name": "LayoutModel",
            "justify_items": null,
            "grid_row": null,
            "max_height": null,
            "align_content": null,
            "visibility": null,
            "align_self": null,
            "height": null,
            "min_height": null,
            "padding": null,
            "grid_auto_rows": null,
            "grid_gap": null,
            "max_width": null,
            "order": null,
            "_view_module_version": "1.2.0",
            "grid_template_areas": null,
            "object_position": null,
            "object_fit": null,
            "grid_auto_columns": null,
            "margin": null,
            "display": null,
            "left": null
          }
        },
        "ba94b2ea2a2349a89597c0105a216816": {
          "model_module": "bqplot",
          "model_name": "FigureModel",
          "state": {
            "_view_name": "Figure",
            "max_aspect_ratio": 100,
            "_view_module": "bqplot",
            "_model_module_version": "^0.5.23",
            "_view_count": null,
            "fig_margin": {
              "top": 60,
              "left": 60,
              "right": 60,
              "bottom": 60
            },
            "_model_module": "bqplot",
            "layout": "IPY_MODEL_f25c06670fff452695fbb4370fe12c62",
            "pixel_ratio": null,
            "title": "Temperature versus month in 2015, station Aotizhongxin",
            "axes": [
              "IPY_MODEL_b6af4f32f80549d9bbbf68dfac277927",
              "IPY_MODEL_3c5bee57b42c4005a57b943235543abf"
            ],
            "legend_location": "top-right",
            "theme": "classic",
            "marks": [
              "IPY_MODEL_b2d403d0a5a8454588644c5c83366415"
            ],
            "scale_x": "IPY_MODEL_886dae1ac91840ed941b2fc62f486d35",
            "scale_y": "IPY_MODEL_958c9546b7fa460eaefb08bcaf5fc9a1",
            "padding_y": 0.025,
            "padding_x": 0,
            "_dom_classes": [],
            "background_style": {},
            "_model_name": "FigureModel",
            "legend_style": {},
            "min_aspect_ratio": 0.01,
            "title_style": {},
            "animation_duration": 0,
            "interaction": null,
            "legend_text": {},
            "_view_module_version": "^0.5.23"
          }
        },
        "e26093a8198948a1be63734b7ed8a55b": {
          "model_module": "bqplot",
          "model_name": "ToolbarModel",
          "state": {
            "_view_name": "Toolbar",
            "_dom_classes": [],
            "_panzoom": null,
            "figure": "IPY_MODEL_ba94b2ea2a2349a89597c0105a216816",
            "_model_name": "ToolbarModel",
            "_view_module": "bqplot",
            "_model_module_version": "^0.5.23",
            "_view_count": null,
            "_view_module_version": "^0.5.23",
            "layout": "IPY_MODEL_102ed07ff6b447a8983547a35c469c0c",
            "_model_module": "bqplot",
            "_panning": false
          }
        }
      }
    }
  },
  "cells": [
    {
      "cell_type": "markdown",
      "metadata": {
        "id": "view-in-github",
        "colab_type": "text"
      },
      "source": [
        "<a href=\"https://colab.research.google.com/github/KatBotkowska/Pandas-Numpy-exercices/blob/master/Warsztaty_WIT_3.ipynb\" target=\"_parent\"><img src=\"https://colab.research.google.com/assets/colab-badge.svg\" alt=\"Open In Colab\"/></a>"
      ]
    },
    {
      "cell_type": "markdown",
      "metadata": {
        "id": "JmlJqiRnesQd"
      },
      "source": [
        "## **WARSZTAT NR 3**\n",
        "\n",
        "### **Wizualizacja danych w Pythonie**"
      ]
    },
    {
      "cell_type": "markdown",
      "metadata": {
        "id": "LiSok9XVesQf"
      },
      "source": [
        "### <span style=\"background-color:yellow\">**Matplotlib oraz Pyplot**</span>\n",
        "\n",
        "Matplotlib jest biblioteką Pythona, która umożliwia tworzenie wykresów wysokiej jakości, które mogą być używane na przykład w publikacjach.\n",
        "\n",
        "Matplotlib sam w sobie jest bardzo obszerną biblioteką. Z pomocą przychodzi Pyplot, będący częścią Matplotlib. Pyplot jest zbiorem funkcji przypominających oprogramowanie MATLAB/Octave. Można go użyć w celu na przykład eksploracji zbioru danych, wizualizacji wyników symulacji, itp.\n",
        "\n",
        "Pliki można zapisywać jako grafiki wektorowe - ważne, gdy zależy nam na wysokiej jakości wykresów.\n",
        "\n",
        "\n",
        "- Dokumentacja: https://matplotlib.org/2.0.2/index.html\n",
        "- Przykładowe zastosowania: https://matplotlib.org/stable/tutorials/introductory/sample_plots.html#sphx-glr-tutorials-introductory-sample-plots-py\n",
        "- Cheat sheet: https://s3.amazonaws.com/assets.datacamp.com/blog_assets/Python_Matplotlib_Cheat_Sheet.pdf"
      ]
    },
    {
      "cell_type": "code",
      "metadata": {
        "id": "aOmsLiLlesQh"
      },
      "source": [
        "import numpy as np\n",
        "import pandas as pd\n",
        "import seaborn as sns\n",
        "import matplotlib.pyplot as plt # importujemy jako 'plt', dla uproszczenia"
      ],
      "execution_count": null,
      "outputs": []
    },
    {
      "cell_type": "markdown",
      "metadata": {
        "id": "Z7UVVHPfesQh"
      },
      "source": [
        "### **Podstawy**"
      ]
    },
    {
      "cell_type": "code",
      "metadata": {
        "colab": {
          "base_uri": "https://localhost:8080/",
          "height": 282
        },
        "id": "gxgiZQGJesQh",
        "outputId": "86506c75-9d23-4087-9296-0dd87640b417"
      },
      "source": [
        "plt.plot([1,5,10,20,75,100]) # zwracany jest obiekt matplotlib\n",
        "# plt.show() # wyświetlamy wartości na osi Y, oś X indeksowana jest od zera"
      ],
      "execution_count": null,
      "outputs": [
        {
          "output_type": "execute_result",
          "data": {
            "text/plain": [
              "[<matplotlib.lines.Line2D at 0x7fdebb8b48d0>]"
            ]
          },
          "metadata": {
            "tags": []
          },
          "execution_count": 7
        },
        {
          "output_type": "display_data",
          "data": {
            "image/png": "[encoded data removed]",
            "text/plain": [
              "<Figure size 432x288 with 1 Axes>"
            ]
          },
          "metadata": {
            "tags": [],
            "needs_background": "light"
          }
        }
      ]
    },
    {
      "cell_type": "code",
      "metadata": {
        "colab": {
          "base_uri": "https://localhost:8080/"
        },
        "id": "jKd1fUN1esQi",
        "outputId": "b7e6fc80-9311-477f-8c54-9e77cccf090a"
      },
      "source": [
        "x1 = np.linspace(5,15,101,retstep=True) # tworzymy wektor z N elementami  retsep - zwraca wartość kroku w x1\n",
        "print(x1[0])\n",
        "x2 = np.arange(-5,5,0.5) # tworzymy wektor z krokiem\n",
        "print(x2)"
      ],
      "execution_count": null,
      "outputs": [
        {
          "output_type": "stream",
          "text": [
            "[ 5.   5.1  5.2  5.3  5.4  5.5  5.6  5.7  5.8  5.9  6.   6.1  6.2  6.3\n",
            "  6.4  6.5  6.6  6.7  6.8  6.9  7.   7.1  7.2  7.3  7.4  7.5  7.6  7.7\n",
            "  7.8  7.9  8.   8.1  8.2  8.3  8.4  8.5  8.6  8.7  8.8  8.9  9.   9.1\n",
            "  9.2  9.3  9.4  9.5  9.6  9.7  9.8  9.9 10.  10.1 10.2 10.3 10.4 10.5\n",
            " 10.6 10.7 10.8 10.9 11.  11.1 11.2 11.3 11.4 11.5 11.6 11.7 11.8 11.9\n",
            " 12.  12.1 12.2 12.3 12.4 12.5 12.6 12.7 12.8 12.9 13.  13.1 13.2 13.3\n",
            " 13.4 13.5 13.6 13.7 13.8 13.9 14.  14.1 14.2 14.3 14.4 14.5 14.6 14.7\n",
            " 14.8 14.9 15. ]\n",
            "[-5.  -4.5 -4.  -3.5 -3.  -2.5 -2.  -1.5 -1.  -0.5  0.   0.5  1.   1.5\n",
            "  2.   2.5  3.   3.5  4.   4.5]\n"
          ],
          "name": "stdout"
        }
      ]
    },
    {
      "cell_type": "code",
      "metadata": {
        "colab": {
          "base_uri": "https://localhost:8080/",
          "height": 282
        },
        "id": "n0WZbCsmesQi",
        "outputId": "e861d0e7-3be2-4078-fbfa-42ef3b141071"
      },
      "source": [
        "# wyznaczamy wartości y dla wektorów x1, x2\n",
        "y1 = x1[0] ** 3.5\n",
        "#y2 = np.power(x2,2)\n",
        "plt.plot(x1[0],y1)"
      ],
      "execution_count": null,
      "outputs": [
        {
          "output_type": "execute_result",
          "data": {
            "text/plain": [
              "[<matplotlib.lines.Line2D at 0x7fdebb864c90>]"
            ]
          },
          "metadata": {
            "tags": []
          },
          "execution_count": 9
        },
        {
          "output_type": "display_data",
          "data": {
            "image/png": "[encoded data removed]",
            "text/plain": [
              "<Figure size 432x288 with 1 Axes>"
            ]
          },
          "metadata": {
            "tags": [],
            "needs_background": "light"
          }
        }
      ]
    },
    {
      "cell_type": "markdown",
      "metadata": {
        "id": "Bmd5H1BYesQi"
      },
      "source": [
        "### **Szerokość linii, znaczniki, itp.**\n",
        "\n",
        "- Link do Character & description, color abbreviations -> https://matplotlib.org/2.1.2/api/_as_gen/matplotlib.pyplot.plot.html"
      ]
    },
    {
      "cell_type": "code",
      "metadata": {
        "colab": {
          "base_uri": "https://localhost:8080/",
          "height": 592
        },
        "id": "yuQfouB_esQi",
        "outputId": "4ec2d68c-98b8-411d-f032-b46517d91668"
      },
      "source": [
        "# Kolejnym krokiem jest ustalenie stylu linii, markera itp.\n",
        "# Sprawa jest dość istotna w przypadku publikacji naukowych, jeżeli istnieje \"ryzyko\" wydruku monochromatycznego.\n",
        "# W takiej sytuacji oznaczenie poszczególnych linii np. za pomocą innego stylu dla każdej pozwala zapobiec niejasnościom.\n",
        "y2 = x2 ** 2\n",
        "y3 = x2 ** 3\n",
        "plt.figure(figsize=(20,10))\n",
        "plt.plot(x2,y2,\"bd--\",x2,y3,\"m*-.\",linewidth=0.5,markersize=5)\n",
        "plt.show()"
      ],
      "execution_count": null,
      "outputs": [
        {
          "output_type": "display_data",
          "data": {
            "image/png": "[encoded data removed]",
            "text/plain": [
              "<Figure size 1440x720 with 1 Axes>"
            ]
          },
          "metadata": {
            "tags": [],
            "needs_background": "light"
          }
        }
      ]
    },
    {
      "cell_type": "markdown",
      "metadata": {
        "id": "YBKDVRXKesQj"
      },
      "source": [
        "- Tworzenie legendy: <code>legend()</code>\n",
        "- Określanie zakresów osi X,Y: <code>axis()</code>\n",
        "- Opisy osi X,Y: <code>xlabel()</code>, <code>ylabel()</code>\n",
        "- Zapis do pliku: <code>savefig()</code>"
      ]
    },
    {
      "cell_type": "code",
      "metadata": {
        "colab": {
          "base_uri": "https://localhost:8080/",
          "height": 283
        },
        "id": "U-NZS46GesQj",
        "outputId": "88e4a616-46da-41ea-dfe2-df618b8b8a8f"
      },
      "source": [
        "plt.plot(x2,y3,\"m*-.\",linewidth=0.5,markersize=5,label='$y=x^3$') # możemy używać wyrażeń LaTeX\n",
        "plt.axis([-4,4,-100,100])\n",
        "plt.grid(True)\n",
        "plt.xlabel(\"$x$\") # możemy używać wyrażeń LaTeX\n",
        "plt.ylabel(\"$y=x^3$\") # możemy używać wyrażeń LaTeX\n",
        "plt.legend(loc=\"lower right\")\n",
        "plt.savefig(\"wykres.pdf\")\n",
        "# Możemy również zapisywać wykresy jako np. pliki eps.\n",
        "# https://stackoverflow.com/questions/19638773/matplotlib-plots-lose-transparency-when-saving-as-ps-eps\n",
        "plt.show()"
      ],
      "execution_count": null,
      "outputs": [
        {
          "output_type": "display_data",
          "data": {
            "image/png": "[encoded data removed]",
            "text/plain": [
              "<Figure size 432x288 with 1 Axes>"
            ]
          },
          "metadata": {
            "tags": [],
            "needs_background": "light"
          }
        }
      ]
    },
    {
      "cell_type": "markdown",
      "metadata": {
        "id": "S3p4-UHHesQj"
      },
      "source": [
        "### **Osie logarytmiczne**\n",
        "\n",
        "- <code>semilogx()</code> - oś X w skali logarytmicznej\n",
        "- <code>semilogy()</code> - oś Y w skali logarytmicznej\n",
        "- <code>loglog()</code> - obie osie w skali logarytmicznej"
      ]
    },
    {
      "cell_type": "code",
      "metadata": {
        "colab": {
          "base_uri": "https://localhost:8080/",
          "height": 283
        },
        "id": "EROgJV3CesQj",
        "outputId": "8dc0c31c-4165-4f2d-c368-a817400852c7"
      },
      "source": [
        "x5 = np.linspace(-10,10,100)\n",
        "y5 = 5*np.exp((-x5**2)/10)\n",
        "plt.semilogx(x5,y5,\"k-.\")  # k - kolor czarny\n",
        "plt.grid(True)\n",
        "plt.xlabel(\"$x$\")\n",
        "plt.ylabel(\"$y$\")\n",
        "plt.show()"
      ],
      "execution_count": null,
      "outputs": [
        {
          "output_type": "display_data",
          "data": {
            "image/png": "[encoded data removed]",
            "text/plain": [
              "<Figure size 432x288 with 1 Axes>"
            ]
          },
          "metadata": {
            "tags": [],
            "needs_background": "light"
          }
        }
      ]
    },
    {
      "cell_type": "code",
      "metadata": {
        "id": "5NOIOkqgesQk"
      },
      "source": [
        "plt.semilogy(x5,y5,\"k-.\")\n",
        "# Albo:\n",
        "#plt.plot(y5,\"k-.\")\n",
        "#plt.yscale('log')\n",
        "plt.grid(True)\n",
        "plt.show()"
      ],
      "execution_count": null,
      "outputs": []
    },
    {
      "cell_type": "markdown",
      "metadata": {
        "id": "H8HnlBp0esQk"
      },
      "source": [
        "### **Subplots**\n",
        "\n",
        "Funkcja subplots umożliwia wykreślanie wielu wykresów w jednym oknie.\n",
        "\n",
        "Jeżeli chcemy wyświetlić 8 wykresów w oknie 4 wiersze na 2 kolumny, mamy łącznie 8 'podwykresów', numerowanych najpierw wzdłuż wiersza, a następnie kolumnami.\n",
        "\n",
        "Numeracja będzie zatem wyglądać tak:\n",
        "\n",
        "1 2\n",
        "\n",
        "3 4\n",
        "\n",
        "5 6\n",
        "\n",
        "7 8\n"
      ]
    },
    {
      "cell_type": "code",
      "metadata": {
        "colab": {
          "base_uri": "https://localhost:8080/",
          "height": 729
        },
        "id": "nrXy07X3esQk",
        "outputId": "56b0b74f-b6ec-42a7-c883-a6386f995a47"
      },
      "source": [
        "# Przykład [3 x 1]\n",
        "plt.figure(figsize=(20,10))  #figsize to rozmiar rysunku\n",
        "plt.subplot(311) # numeracja: liczba wierszy (stała), liczba kolumn (stała), numer danego wykresu\n",
        "plt.semilogx(x5,y5,\"k-.\")\n",
        "#plt.xscale('symlog')\n",
        "plt.subplot(312)\n",
        "plt.semilogy(x5,y5,\"k-.\")\n",
        "#plt.yscale('symlog')\n",
        "plt.subplot(313)\n",
        "plt.loglog(x5,y5,\"k-.\")\n",
        "plt.tight_layout() # ważna funkcja! zapewnia że wykresy na siebie nie nachodzą - są osobno\n",
        "plt.show()"
      ],
      "execution_count": null,
      "outputs": [
        {
          "output_type": "display_data",
          "data": {
            "image/png": "[encoded data removed]",
            "text/plain": [
              "<Figure size 1440x720 with 3 Axes>"
            ]
          },
          "metadata": {
            "tags": [],
            "needs_background": "light"
          }
        }
      ]
    },
    {
      "cell_type": "markdown",
      "metadata": {
        "id": "7ZGljJJGesQk"
      },
      "source": [
        "### **Histogramy**"
      ]
    },
    {
      "cell_type": "code",
      "metadata": {
        "colab": {
          "base_uri": "https://localhost:8080/"
        },
        "id": "hqDwSSzWplTI",
        "outputId": "b3cc73d1-611f-4ef2-cf73-e78473592da7"
      },
      "source": [
        "#podłączenie google drive\n",
        "from google.colab import drive\n",
        "drive.mount('/content/gdrive')"
      ],
      "execution_count": null,
      "outputs": [
        {
          "output_type": "stream",
          "text": [
            "Mounted at /content/gdrive\n"
          ],
          "name": "stdout"
        }
      ]
    },
    {
      "cell_type": "code",
      "metadata": {
        "id": "dqqUSfiJQ-oQ"
      },
      "source": [
        "data = pd.read_csv('/content/gdrive/MyDrive/WiT_workshops/[datasets]/PRSA_Data_Aotizhongxin_20130301-20170228.csv', sep=',')\n",
        "data_2=pd.read_csv('/content/gdrive/MyDrive/WiT_workshops/[datasets]/PRSA_Data_Changping_20130301-20170228.csv', sep=',')\n",
        "data_3 = pd.read_csv('/content/gdrive/MyDrive/WiT_workshops/[datasets]/PRSA_Data_Tiantan_20130301-20170228.csv', sep=',')"
      ],
      "execution_count": null,
      "outputs": []
    },
    {
      "cell_type": "code",
      "metadata": {
        "id": "CKTsWL-gesQk"
      },
      "source": [
        "#data = pd.read_csv('PRSA_Data_Aotizhongxin_20130301-20170228.csv', sep=',')\n",
        "#data_2 = pd.read_csv('PRSA_Data_Changping_20130301-20170228.csv', sep=',')\n",
        "#data_3 = pd.read_csv('PRSA_Data_Tiantan_20130301-20170228.csv', sep=',')\n",
        "data_full = data.append(data_2)\n",
        "data_full = data_full.append(data_3)\n",
        "data.rename({'PM2.5': 'PM2_5'}, axis=1, inplace=True)\n",
        "data['PM10'].fillna(data['PM10'].median(), inplace=True)\n",
        "data['SO2'].fillna(data['SO2'].median(), inplace=True)\n",
        "data['NO2'].fillna(data['NO2'].mean(), inplace=True)\n",
        "data['CO'].fillna(data['CO'].median(), inplace=True)\n",
        "data['O3'].fillna(data['O3'].median(), inplace=True)"
      ],
      "execution_count": null,
      "outputs": []
    },
    {
      "cell_type": "code",
      "metadata": {
        "colab": {
          "base_uri": "https://localhost:8080/",
          "height": 419
        },
        "id": "XhXtbSXNesQl",
        "outputId": "972fa352-d871-484c-db28-e5b1126d2e0d"
      },
      "source": [
        "data"
      ],
      "execution_count": null,
      "outputs": [
        {
          "output_type": "execute_result",
          "data": {
            "text/html": [
              "<div>\n",
              "<style scoped>\n",
              "    .dataframe tbody tr th:only-of-type {\n",
              "        vertical-align: middle;\n",
              "    }\n",
              "\n",
              "    .dataframe tbody tr th {\n",
              "        vertical-align: top;\n",
              "    }\n",
              "\n",
              "    .dataframe thead th {\n",
              "        text-align: right;\n",
              "    }\n",
              "</style>\n",
              "<table border=\"1\" class=\"dataframe\">\n",
              "  <thead>\n",
              "    <tr style=\"text-align: right;\">\n",
              "      <th></th>\n",
              "      <th>No</th>\n",
              "      <th>year</th>\n",
              "      <th>month</th>\n",
              "      <th>day</th>\n",
              "      <th>hour</th>\n",
              "      <th>PM2_5</th>\n",
              "      <th>PM10</th>\n",
              "      <th>SO2</th>\n",
              "      <th>NO2</th>\n",
              "      <th>CO</th>\n",
              "      <th>O3</th>\n",
              "      <th>TEMP</th>\n",
              "      <th>PRES</th>\n",
              "      <th>DEWP</th>\n",
              "      <th>RAIN</th>\n",
              "      <th>wd</th>\n",
              "      <th>WSPM</th>\n",
              "      <th>station</th>\n",
              "    </tr>\n",
              "  </thead>\n",
              "  <tbody>\n",
              "    <tr>\n",
              "      <th>0</th>\n",
              "      <td>1</td>\n",
              "      <td>2013</td>\n",
              "      <td>3</td>\n",
              "      <td>1</td>\n",
              "      <td>0</td>\n",
              "      <td>4.0</td>\n",
              "      <td>4.0</td>\n",
              "      <td>4.0</td>\n",
              "      <td>7.0</td>\n",
              "      <td>300.0</td>\n",
              "      <td>77.0</td>\n",
              "      <td>-0.7</td>\n",
              "      <td>1023.0</td>\n",
              "      <td>-18.8</td>\n",
              "      <td>0.0</td>\n",
              "      <td>NNW</td>\n",
              "      <td>4.4</td>\n",
              "      <td>Aotizhongxin</td>\n",
              "    </tr>\n",
              "    <tr>\n",
              "      <th>1</th>\n",
              "      <td>2</td>\n",
              "      <td>2013</td>\n",
              "      <td>3</td>\n",
              "      <td>1</td>\n",
              "      <td>1</td>\n",
              "      <td>8.0</td>\n",
              "      <td>8.0</td>\n",
              "      <td>4.0</td>\n",
              "      <td>7.0</td>\n",
              "      <td>300.0</td>\n",
              "      <td>77.0</td>\n",
              "      <td>-1.1</td>\n",
              "      <td>1023.2</td>\n",
              "      <td>-18.2</td>\n",
              "      <td>0.0</td>\n",
              "      <td>N</td>\n",
              "      <td>4.7</td>\n",
              "      <td>Aotizhongxin</td>\n",
              "    </tr>\n",
              "    <tr>\n",
              "      <th>2</th>\n",
              "      <td>3</td>\n",
              "      <td>2013</td>\n",
              "      <td>3</td>\n",
              "      <td>1</td>\n",
              "      <td>2</td>\n",
              "      <td>7.0</td>\n",
              "      <td>7.0</td>\n",
              "      <td>5.0</td>\n",
              "      <td>10.0</td>\n",
              "      <td>300.0</td>\n",
              "      <td>73.0</td>\n",
              "      <td>-1.1</td>\n",
              "      <td>1023.5</td>\n",
              "      <td>-18.2</td>\n",
              "      <td>0.0</td>\n",
              "      <td>NNW</td>\n",
              "      <td>5.6</td>\n",
              "      <td>Aotizhongxin</td>\n",
              "    </tr>\n",
              "    <tr>\n",
              "      <th>3</th>\n",
              "      <td>4</td>\n",
              "      <td>2013</td>\n",
              "      <td>3</td>\n",
              "      <td>1</td>\n",
              "      <td>3</td>\n",
              "      <td>6.0</td>\n",
              "      <td>6.0</td>\n",
              "      <td>11.0</td>\n",
              "      <td>11.0</td>\n",
              "      <td>300.0</td>\n",
              "      <td>72.0</td>\n",
              "      <td>-1.4</td>\n",
              "      <td>1024.5</td>\n",
              "      <td>-19.4</td>\n",
              "      <td>0.0</td>\n",
              "      <td>NW</td>\n",
              "      <td>3.1</td>\n",
              "      <td>Aotizhongxin</td>\n",
              "    </tr>\n",
              "    <tr>\n",
              "      <th>4</th>\n",
              "      <td>5</td>\n",
              "      <td>2013</td>\n",
              "      <td>3</td>\n",
              "      <td>1</td>\n",
              "      <td>4</td>\n",
              "      <td>3.0</td>\n",
              "      <td>3.0</td>\n",
              "      <td>12.0</td>\n",
              "      <td>12.0</td>\n",
              "      <td>300.0</td>\n",
              "      <td>72.0</td>\n",
              "      <td>-2.0</td>\n",
              "      <td>1025.2</td>\n",
              "      <td>-19.5</td>\n",
              "      <td>0.0</td>\n",
              "      <td>N</td>\n",
              "      <td>2.0</td>\n",
              "      <td>Aotizhongxin</td>\n",
              "    </tr>\n",
              "    <tr>\n",
              "      <th>...</th>\n",
              "      <td>...</td>\n",
              "      <td>...</td>\n",
              "      <td>...</td>\n",
              "      <td>...</td>\n",
              "      <td>...</td>\n",
              "      <td>...</td>\n",
              "      <td>...</td>\n",
              "      <td>...</td>\n",
              "      <td>...</td>\n",
              "      <td>...</td>\n",
              "      <td>...</td>\n",
              "      <td>...</td>\n",
              "      <td>...</td>\n",
              "      <td>...</td>\n",
              "      <td>...</td>\n",
              "      <td>...</td>\n",
              "      <td>...</td>\n",
              "      <td>...</td>\n",
              "    </tr>\n",
              "    <tr>\n",
              "      <th>35059</th>\n",
              "      <td>35060</td>\n",
              "      <td>2017</td>\n",
              "      <td>2</td>\n",
              "      <td>28</td>\n",
              "      <td>19</td>\n",
              "      <td>12.0</td>\n",
              "      <td>29.0</td>\n",
              "      <td>5.0</td>\n",
              "      <td>35.0</td>\n",
              "      <td>400.0</td>\n",
              "      <td>95.0</td>\n",
              "      <td>12.5</td>\n",
              "      <td>1013.5</td>\n",
              "      <td>-16.2</td>\n",
              "      <td>0.0</td>\n",
              "      <td>NW</td>\n",
              "      <td>2.4</td>\n",
              "      <td>Aotizhongxin</td>\n",
              "    </tr>\n",
              "    <tr>\n",
              "      <th>35060</th>\n",
              "      <td>35061</td>\n",
              "      <td>2017</td>\n",
              "      <td>2</td>\n",
              "      <td>28</td>\n",
              "      <td>20</td>\n",
              "      <td>13.0</td>\n",
              "      <td>37.0</td>\n",
              "      <td>7.0</td>\n",
              "      <td>45.0</td>\n",
              "      <td>500.0</td>\n",
              "      <td>81.0</td>\n",
              "      <td>11.6</td>\n",
              "      <td>1013.6</td>\n",
              "      <td>-15.1</td>\n",
              "      <td>0.0</td>\n",
              "      <td>WNW</td>\n",
              "      <td>0.9</td>\n",
              "      <td>Aotizhongxin</td>\n",
              "    </tr>\n",
              "    <tr>\n",
              "      <th>35061</th>\n",
              "      <td>35062</td>\n",
              "      <td>2017</td>\n",
              "      <td>2</td>\n",
              "      <td>28</td>\n",
              "      <td>21</td>\n",
              "      <td>16.0</td>\n",
              "      <td>37.0</td>\n",
              "      <td>10.0</td>\n",
              "      <td>66.0</td>\n",
              "      <td>700.0</td>\n",
              "      <td>58.0</td>\n",
              "      <td>10.8</td>\n",
              "      <td>1014.2</td>\n",
              "      <td>-13.3</td>\n",
              "      <td>0.0</td>\n",
              "      <td>NW</td>\n",
              "      <td>1.1</td>\n",
              "      <td>Aotizhongxin</td>\n",
              "    </tr>\n",
              "    <tr>\n",
              "      <th>35062</th>\n",
              "      <td>35063</td>\n",
              "      <td>2017</td>\n",
              "      <td>2</td>\n",
              "      <td>28</td>\n",
              "      <td>22</td>\n",
              "      <td>21.0</td>\n",
              "      <td>44.0</td>\n",
              "      <td>12.0</td>\n",
              "      <td>87.0</td>\n",
              "      <td>700.0</td>\n",
              "      <td>35.0</td>\n",
              "      <td>10.5</td>\n",
              "      <td>1014.4</td>\n",
              "      <td>-12.9</td>\n",
              "      <td>0.0</td>\n",
              "      <td>NNW</td>\n",
              "      <td>1.2</td>\n",
              "      <td>Aotizhongxin</td>\n",
              "    </tr>\n",
              "    <tr>\n",
              "      <th>35063</th>\n",
              "      <td>35064</td>\n",
              "      <td>2017</td>\n",
              "      <td>2</td>\n",
              "      <td>28</td>\n",
              "      <td>23</td>\n",
              "      <td>19.0</td>\n",
              "      <td>31.0</td>\n",
              "      <td>10.0</td>\n",
              "      <td>79.0</td>\n",
              "      <td>600.0</td>\n",
              "      <td>42.0</td>\n",
              "      <td>8.6</td>\n",
              "      <td>1014.1</td>\n",
              "      <td>-15.9</td>\n",
              "      <td>0.0</td>\n",
              "      <td>NNE</td>\n",
              "      <td>1.3</td>\n",
              "      <td>Aotizhongxin</td>\n",
              "    </tr>\n",
              "  </tbody>\n",
              "</table>\n",
              "<p>35064 rows × 18 columns</p>\n",
              "</div>"
            ],
            "text/plain": [
              "          No  year  month  day  hour  ...  DEWP  RAIN   wd  WSPM       station\n",
              "0          1  2013      3    1     0  ... -18.8   0.0  NNW   4.4  Aotizhongxin\n",
              "1          2  2013      3    1     1  ... -18.2   0.0    N   4.7  Aotizhongxin\n",
              "2          3  2013      3    1     2  ... -18.2   0.0  NNW   5.6  Aotizhongxin\n",
              "3          4  2013      3    1     3  ... -19.4   0.0   NW   3.1  Aotizhongxin\n",
              "4          5  2013      3    1     4  ... -19.5   0.0    N   2.0  Aotizhongxin\n",
              "...      ...   ...    ...  ...   ...  ...   ...   ...  ...   ...           ...\n",
              "35059  35060  2017      2   28    19  ... -16.2   0.0   NW   2.4  Aotizhongxin\n",
              "35060  35061  2017      2   28    20  ... -15.1   0.0  WNW   0.9  Aotizhongxin\n",
              "35061  35062  2017      2   28    21  ... -13.3   0.0   NW   1.1  Aotizhongxin\n",
              "35062  35063  2017      2   28    22  ... -12.9   0.0  NNW   1.2  Aotizhongxin\n",
              "35063  35064  2017      2   28    23  ... -15.9   0.0  NNE   1.3  Aotizhongxin\n",
              "\n",
              "[35064 rows x 18 columns]"
            ]
          },
          "metadata": {
            "tags": []
          },
          "execution_count": 19
        }
      ]
    },
    {
      "cell_type": "code",
      "metadata": {
        "colab": {
          "base_uri": "https://localhost:8080/",
          "height": 419
        },
        "id": "lggMjpxBesQl",
        "outputId": "12908b5b-4b9b-46b4-e834-8c4693eabeff"
      },
      "source": [
        "data2015 = data.loc[data['year'] == 2015]\n",
        "data2015"
      ],
      "execution_count": null,
      "outputs": [
        {
          "output_type": "execute_result",
          "data": {
            "text/html": [
              "<div>\n",
              "<style scoped>\n",
              "    .dataframe tbody tr th:only-of-type {\n",
              "        vertical-align: middle;\n",
              "    }\n",
              "\n",
              "    .dataframe tbody tr th {\n",
              "        vertical-align: top;\n",
              "    }\n",
              "\n",
              "    .dataframe thead th {\n",
              "        text-align: right;\n",
              "    }\n",
              "</style>\n",
              "<table border=\"1\" class=\"dataframe\">\n",
              "  <thead>\n",
              "    <tr style=\"text-align: right;\">\n",
              "      <th></th>\n",
              "      <th>No</th>\n",
              "      <th>year</th>\n",
              "      <th>month</th>\n",
              "      <th>day</th>\n",
              "      <th>hour</th>\n",
              "      <th>PM2_5</th>\n",
              "      <th>PM10</th>\n",
              "      <th>SO2</th>\n",
              "      <th>NO2</th>\n",
              "      <th>CO</th>\n",
              "      <th>O3</th>\n",
              "      <th>TEMP</th>\n",
              "      <th>PRES</th>\n",
              "      <th>DEWP</th>\n",
              "      <th>RAIN</th>\n",
              "      <th>wd</th>\n",
              "      <th>WSPM</th>\n",
              "      <th>station</th>\n",
              "    </tr>\n",
              "  </thead>\n",
              "  <tbody>\n",
              "    <tr>\n",
              "      <th>16104</th>\n",
              "      <td>16105</td>\n",
              "      <td>2015</td>\n",
              "      <td>1</td>\n",
              "      <td>1</td>\n",
              "      <td>0</td>\n",
              "      <td>13.0</td>\n",
              "      <td>50.0</td>\n",
              "      <td>19.0</td>\n",
              "      <td>29.0</td>\n",
              "      <td>500.0</td>\n",
              "      <td>28.0</td>\n",
              "      <td>-1.0</td>\n",
              "      <td>1027.0</td>\n",
              "      <td>-22.4</td>\n",
              "      <td>0.0</td>\n",
              "      <td>NNW</td>\n",
              "      <td>4.4</td>\n",
              "      <td>Aotizhongxin</td>\n",
              "    </tr>\n",
              "    <tr>\n",
              "      <th>16105</th>\n",
              "      <td>16106</td>\n",
              "      <td>2015</td>\n",
              "      <td>1</td>\n",
              "      <td>1</td>\n",
              "      <td>1</td>\n",
              "      <td>11.0</td>\n",
              "      <td>30.0</td>\n",
              "      <td>15.0</td>\n",
              "      <td>31.0</td>\n",
              "      <td>600.0</td>\n",
              "      <td>27.0</td>\n",
              "      <td>-1.0</td>\n",
              "      <td>1027.0</td>\n",
              "      <td>-23.7</td>\n",
              "      <td>0.0</td>\n",
              "      <td>N</td>\n",
              "      <td>5.6</td>\n",
              "      <td>Aotizhongxin</td>\n",
              "    </tr>\n",
              "    <tr>\n",
              "      <th>16106</th>\n",
              "      <td>16107</td>\n",
              "      <td>2015</td>\n",
              "      <td>1</td>\n",
              "      <td>1</td>\n",
              "      <td>2</td>\n",
              "      <td>13.0</td>\n",
              "      <td>33.0</td>\n",
              "      <td>16.0</td>\n",
              "      <td>32.0</td>\n",
              "      <td>600.0</td>\n",
              "      <td>26.0</td>\n",
              "      <td>-1.0</td>\n",
              "      <td>1028.0</td>\n",
              "      <td>-23.7</td>\n",
              "      <td>0.0</td>\n",
              "      <td>N</td>\n",
              "      <td>4.2</td>\n",
              "      <td>Aotizhongxin</td>\n",
              "    </tr>\n",
              "    <tr>\n",
              "      <th>16107</th>\n",
              "      <td>16108</td>\n",
              "      <td>2015</td>\n",
              "      <td>1</td>\n",
              "      <td>1</td>\n",
              "      <td>3</td>\n",
              "      <td>10.0</td>\n",
              "      <td>29.0</td>\n",
              "      <td>10.0</td>\n",
              "      <td>25.0</td>\n",
              "      <td>500.0</td>\n",
              "      <td>31.0</td>\n",
              "      <td>-1.0</td>\n",
              "      <td>1029.0</td>\n",
              "      <td>-24.4</td>\n",
              "      <td>0.0</td>\n",
              "      <td>N</td>\n",
              "      <td>4.4</td>\n",
              "      <td>Aotizhongxin</td>\n",
              "    </tr>\n",
              "    <tr>\n",
              "      <th>16108</th>\n",
              "      <td>16109</td>\n",
              "      <td>2015</td>\n",
              "      <td>1</td>\n",
              "      <td>1</td>\n",
              "      <td>4</td>\n",
              "      <td>12.0</td>\n",
              "      <td>25.0</td>\n",
              "      <td>14.0</td>\n",
              "      <td>33.0</td>\n",
              "      <td>700.0</td>\n",
              "      <td>24.0</td>\n",
              "      <td>-2.0</td>\n",
              "      <td>1027.0</td>\n",
              "      <td>-23.2</td>\n",
              "      <td>0.0</td>\n",
              "      <td>ENE</td>\n",
              "      <td>1.4</td>\n",
              "      <td>Aotizhongxin</td>\n",
              "    </tr>\n",
              "    <tr>\n",
              "      <th>...</th>\n",
              "      <td>...</td>\n",
              "      <td>...</td>\n",
              "      <td>...</td>\n",
              "      <td>...</td>\n",
              "      <td>...</td>\n",
              "      <td>...</td>\n",
              "      <td>...</td>\n",
              "      <td>...</td>\n",
              "      <td>...</td>\n",
              "      <td>...</td>\n",
              "      <td>...</td>\n",
              "      <td>...</td>\n",
              "      <td>...</td>\n",
              "      <td>...</td>\n",
              "      <td>...</td>\n",
              "      <td>...</td>\n",
              "      <td>...</td>\n",
              "      <td>...</td>\n",
              "    </tr>\n",
              "    <tr>\n",
              "      <th>24859</th>\n",
              "      <td>24860</td>\n",
              "      <td>2015</td>\n",
              "      <td>12</td>\n",
              "      <td>31</td>\n",
              "      <td>19</td>\n",
              "      <td>98.0</td>\n",
              "      <td>148.0</td>\n",
              "      <td>28.0</td>\n",
              "      <td>119.0</td>\n",
              "      <td>2600.0</td>\n",
              "      <td>7.0</td>\n",
              "      <td>-1.4</td>\n",
              "      <td>1026.3</td>\n",
              "      <td>-8.6</td>\n",
              "      <td>0.0</td>\n",
              "      <td>E</td>\n",
              "      <td>1.0</td>\n",
              "      <td>Aotizhongxin</td>\n",
              "    </tr>\n",
              "    <tr>\n",
              "      <th>24860</th>\n",
              "      <td>24861</td>\n",
              "      <td>2015</td>\n",
              "      <td>12</td>\n",
              "      <td>31</td>\n",
              "      <td>20</td>\n",
              "      <td>98.0</td>\n",
              "      <td>165.0</td>\n",
              "      <td>24.0</td>\n",
              "      <td>113.0</td>\n",
              "      <td>3300.0</td>\n",
              "      <td>8.0</td>\n",
              "      <td>-2.5</td>\n",
              "      <td>1026.2</td>\n",
              "      <td>-8.4</td>\n",
              "      <td>0.0</td>\n",
              "      <td>E</td>\n",
              "      <td>1.3</td>\n",
              "      <td>Aotizhongxin</td>\n",
              "    </tr>\n",
              "    <tr>\n",
              "      <th>24861</th>\n",
              "      <td>24862</td>\n",
              "      <td>2015</td>\n",
              "      <td>12</td>\n",
              "      <td>31</td>\n",
              "      <td>21</td>\n",
              "      <td>107.0</td>\n",
              "      <td>187.0</td>\n",
              "      <td>27.0</td>\n",
              "      <td>117.0</td>\n",
              "      <td>4000.0</td>\n",
              "      <td>10.0</td>\n",
              "      <td>-2.7</td>\n",
              "      <td>1025.8</td>\n",
              "      <td>-8.0</td>\n",
              "      <td>0.0</td>\n",
              "      <td>ENE</td>\n",
              "      <td>0.9</td>\n",
              "      <td>Aotizhongxin</td>\n",
              "    </tr>\n",
              "    <tr>\n",
              "      <th>24862</th>\n",
              "      <td>24863</td>\n",
              "      <td>2015</td>\n",
              "      <td>12</td>\n",
              "      <td>31</td>\n",
              "      <td>22</td>\n",
              "      <td>150.0</td>\n",
              "      <td>228.0</td>\n",
              "      <td>38.0</td>\n",
              "      <td>129.0</td>\n",
              "      <td>4900.0</td>\n",
              "      <td>12.0</td>\n",
              "      <td>-3.5</td>\n",
              "      <td>1025.5</td>\n",
              "      <td>-7.6</td>\n",
              "      <td>0.0</td>\n",
              "      <td>ENE</td>\n",
              "      <td>0.4</td>\n",
              "      <td>Aotizhongxin</td>\n",
              "    </tr>\n",
              "    <tr>\n",
              "      <th>24863</th>\n",
              "      <td>24864</td>\n",
              "      <td>2015</td>\n",
              "      <td>12</td>\n",
              "      <td>31</td>\n",
              "      <td>23</td>\n",
              "      <td>193.0</td>\n",
              "      <td>262.0</td>\n",
              "      <td>39.0</td>\n",
              "      <td>127.0</td>\n",
              "      <td>5200.0</td>\n",
              "      <td>12.0</td>\n",
              "      <td>-3.4</td>\n",
              "      <td>1025.2</td>\n",
              "      <td>-7.5</td>\n",
              "      <td>0.0</td>\n",
              "      <td>NE</td>\n",
              "      <td>1.8</td>\n",
              "      <td>Aotizhongxin</td>\n",
              "    </tr>\n",
              "  </tbody>\n",
              "</table>\n",
              "<p>8760 rows × 18 columns</p>\n",
              "</div>"
            ],
            "text/plain": [
              "          No  year  month  day  hour  ...  DEWP  RAIN   wd  WSPM       station\n",
              "16104  16105  2015      1    1     0  ... -22.4   0.0  NNW   4.4  Aotizhongxin\n",
              "16105  16106  2015      1    1     1  ... -23.7   0.0    N   5.6  Aotizhongxin\n",
              "16106  16107  2015      1    1     2  ... -23.7   0.0    N   4.2  Aotizhongxin\n",
              "16107  16108  2015      1    1     3  ... -24.4   0.0    N   4.4  Aotizhongxin\n",
              "16108  16109  2015      1    1     4  ... -23.2   0.0  ENE   1.4  Aotizhongxin\n",
              "...      ...   ...    ...  ...   ...  ...   ...   ...  ...   ...           ...\n",
              "24859  24860  2015     12   31    19  ...  -8.6   0.0    E   1.0  Aotizhongxin\n",
              "24860  24861  2015     12   31    20  ...  -8.4   0.0    E   1.3  Aotizhongxin\n",
              "24861  24862  2015     12   31    21  ...  -8.0   0.0  ENE   0.9  Aotizhongxin\n",
              "24862  24863  2015     12   31    22  ...  -7.6   0.0  ENE   0.4  Aotizhongxin\n",
              "24863  24864  2015     12   31    23  ...  -7.5   0.0   NE   1.8  Aotizhongxin\n",
              "\n",
              "[8760 rows x 18 columns]"
            ]
          },
          "metadata": {
            "tags": []
          },
          "execution_count": 20
        }
      ]
    },
    {
      "cell_type": "markdown",
      "metadata": {
        "id": "hA5GfCNXesQl"
      },
      "source": [
        "---\n",
        "\n",
        "Do wykreślania histogramów możemy skorzystać z metody <code>hist()</code> biblioteki Pandas.\n",
        "\n",
        "Dokumentacja: https://pandas.pydata.org/pandas-docs/stable/reference/api/pandas.DataFrame.hist.html\n",
        "\n",
        "Jednym z parametrów metody jest **kwargs, czyli dowolna liczba tzw. keyword arguments. W tym miejscu można przekazać do metody wybrane keyword arguments z metody <code>hist()</code> biblioteki Matplotlib.\n",
        "    \n",
        "Dokumentacja: https://matplotlib.org/stable/api/_as_gen/matplotlib.pyplot.hist.html#matplotlib.pyplot.hist\n",
        "\n",
        "Istnieje również kilka innych możliwości - dla zainteresowanych proponujemy zapoznanie się z: https://realpython.com/python-histograms/\n",
        "\n",
        "---"
      ]
    },
    {
      "cell_type": "code",
      "metadata": {
        "colab": {
          "base_uri": "https://localhost:8080/",
          "height": 624
        },
        "id": "iIXdnvU0esQl",
        "outputId": "40d0b004-805f-4517-815c-527e1945fdb2"
      },
      "source": [
        "# Wykreślamy histogram temperatury w kolejnych miesiącach 2015 roku.\n",
        "data2015.hist(column='TEMP', by='month', bins=10, figsize=(20,10)); #jak jest średnik, to nie pokaże wartości zmiennych w outpucie"
      ],
      "execution_count": null,
      "outputs": [
        {
          "output_type": "display_data",
          "data": {
            "image/png": "[encoded data removed]",
            "text/plain": [
              "<Figure size 1440x720 with 12 Axes>"
            ]
          },
          "metadata": {
            "tags": [],
            "needs_background": "light"
          }
        }
      ]
    },
    {
      "cell_type": "code",
      "metadata": {
        "colab": {
          "base_uri": "https://localhost:8080/",
          "height": 607
        },
        "id": "_Ef4devjesQl",
        "outputId": "cb628a1b-38e3-4644-ce36-624e1a93a08d"
      },
      "source": [
        "# Wykreślamy histogram częstości występowania określonego stężenia SO2 w kolejnych miesiącach 2015 roku.\n",
        "data2015.hist(column='SO2', by='month', bins=5, figsize=(20,10));    #jak jest średnik to nie wyświetli wartości zmiennych, a jedynie same wykresy"
      ],
      "execution_count": null,
      "outputs": [
        {
          "output_type": "display_data",
          "data": {
            "image/png": "[encoded data removed]",
            "text/plain": [
              "<Figure size 1440x720 with 12 Axes>"
            ]
          },
          "metadata": {
            "tags": [],
            "needs_background": "light"
          }
        }
      ]
    },
    {
      "cell_type": "markdown",
      "metadata": {
        "id": "_qfC3zf9esQm"
      },
      "source": [
        "**Inne przykłady** zastosowań dla \"naszych\" danych:\n",
        "\n",
        "- Wyświetl medianę PM10 dla kolejnych lat."
      ]
    },
    {
      "cell_type": "code",
      "metadata": {
        "colab": {
          "base_uri": "https://localhost:8080/",
          "height": 296
        },
        "id": "Ur39YFO-esQm",
        "outputId": "6232d461-aaca-441d-f2c7-d15342393e94"
      },
      "source": [
        "df = data[['PM10','year']].groupby([\"year\"]).median().reset_index()\n",
        "sns.pointplot(x='year', y='PM10', data=df)"
      ],
      "execution_count": null,
      "outputs": [
        {
          "output_type": "execute_result",
          "data": {
            "text/plain": [
              "<matplotlib.axes._subplots.AxesSubplot at 0x7fdeaf75a290>"
            ]
          },
          "metadata": {
            "tags": []
          },
          "execution_count": 23
        },
        {
          "output_type": "display_data",
          "data": {
            "image/png": "[encoded data removed]",
            "text/plain": [
              "<Figure size 432x288 with 1 Axes>"
            ]
          },
          "metadata": {
            "tags": [],
            "needs_background": "light"
          }
        }
      ]
    },
    {
      "cell_type": "markdown",
      "metadata": {
        "id": "q0K6hR_VesQm"
      },
      "source": [
        "- Wyświetl medianę temperatury dla kolejnych miesięcy roku 2015."
      ]
    },
    {
      "cell_type": "code",
      "metadata": {
        "colab": {
          "base_uri": "https://localhost:8080/",
          "height": 296
        },
        "id": "gIR6WTV5esQm",
        "outputId": "97b9066f-8bc5-4809-df1a-f2f45d979fae"
      },
      "source": [
        "df = data2015[['TEMP','month']].groupby([\"month\"]).median().reset_index()\n",
        "sns.pointplot(x='month', y='TEMP', data=df)"
      ],
      "execution_count": null,
      "outputs": [
        {
          "output_type": "execute_result",
          "data": {
            "text/plain": [
              "<matplotlib.axes._subplots.AxesSubplot at 0x7fdeaf67d290>"
            ]
          },
          "metadata": {
            "tags": []
          },
          "execution_count": 24
        },
        {
          "output_type": "display_data",
          "data": {
            "image/png": "[encoded data removed]",
            "text/plain": [
              "<Figure size 432x288 with 1 Axes>"
            ]
          },
          "metadata": {
            "tags": [],
            "needs_background": "light"
          }
        }
      ]
    },
    {
      "cell_type": "markdown",
      "metadata": {
        "id": "AFF2570zesQm"
      },
      "source": [
        "**Wykres punktowy** - scatter plot.\n",
        "\n",
        "Dokumentacja: https://matplotlib.org/3.1.0/api/_as_gen/matplotlib.pyplot.scatter.html\n",
        "\n",
        "Jest to wykres obrazujący związek pomiędzy dwoma zmiennymi."
      ]
    },
    {
      "cell_type": "code",
      "metadata": {
        "colab": {
          "base_uri": "https://localhost:8080/",
          "height": 265
        },
        "id": "ieFdxLnResQn",
        "outputId": "2a668e87-a2ba-447b-b299-2c38d7ab235b"
      },
      "source": [
        "# Sprawdźmy związek PM2.5 i PM10 w 2015 roku.\n",
        "plt.scatter(data2015.PM2_5,data2015.PM10);"
      ],
      "execution_count": null,
      "outputs": [
        {
          "output_type": "display_data",
          "data": {
            "image/png": "[encoded data removed]",
            "text/plain": [
              "<Figure size 432x288 with 1 Axes>"
            ]
          },
          "metadata": {
            "tags": [],
            "needs_background": "light"
          }
        }
      ]
    },
    {
      "cell_type": "markdown",
      "metadata": {
        "id": "NU-xFUEAesQn"
      },
      "source": [
        "**Wykres pudełkowy** - box plot.\n",
        "\n",
        "Dokumentacja: https://seaborn.pydata.org/generated/seaborn.boxplot.html\n",
        "\n",
        "Jest to forma graficznej prezentacji rozkładu cechy statystycznej.\n",
        "\n",
        "\"Pudełka\" rysowane są w ten sposób, że linia pośrodku pudełka to mediana z danych.\n",
        "Linia na lewo od środkowej wyznacza pierwszy kwartyl, czyli medianę z danych na lewo od mediany.\n",
        "Linia na prawo od środkowej wyznacza trzeci kwartyl, czyli medianę z danych na prawo od mediany.\n",
        "Tzw. \"wąsy\" to nic innego jak minimum i maksimum z danych.\n",
        "\n",
        "Wykres pudełkowy pozwala wykryć asymetrię rozkładu danych, jak również błędy grube w zbiorze danych."
      ]
    },
    {
      "cell_type": "code",
      "metadata": {
        "colab": {
          "base_uri": "https://localhost:8080/",
          "height": 279
        },
        "id": "SAYYymIkesQn",
        "outputId": "0ae9b7a4-1895-419a-d6a6-54adf0f5f373"
      },
      "source": [
        "# Sprawdźmy wykres pudełkowy w praktyce - zobaczmy rozkład PM10 dla wybranych stacji.\n",
        "sns.boxplot(y=data_full[\"station\"], x=data_full[\"PM10\"]);\n",
        "plt.show()"
      ],
      "execution_count": null,
      "outputs": [
        {
          "output_type": "display_data",
          "data": {
            "image/png": "[encoded data removed]",
            "text/plain": [
              "<Figure size 432x288 with 1 Axes>"
            ]
          },
          "metadata": {
            "tags": [],
            "needs_background": "light"
          }
        }
      ]
    },
    {
      "cell_type": "markdown",
      "metadata": {
        "id": "Ym-GuT47esQn"
      },
      "source": [
        "### <span style=\"background-color:yellow\">**Bqplot**</span>\n",
        "\n",
        "Przydatny dodatek do Jupytera, który umożliwia tworzenie interaktywnych wykresów.\n",
        "\n",
        "Instalacja (jedna z możliwości):\n",
        "\n",
        "```\n",
        "pip install bqplot\n",
        "jupyter nbextension enable --py --sys-prefix bqplot\n",
        "```\n",
        "\n",
        "https://pypi.org/project/bqplot/\n",
        "\n",
        "https://github.com/bqplot/bqplot\n",
        "\n",
        "Dokumentacja: https://bqplot.readthedocs.io/en/latest/index.html\n",
        "\n",
        "Dla zainteresowanych, wiele przykładów wykresów: https://coderzcolumn.com/tutorials/data-science/interactive-plotting-in-python-jupyter-notebook-using-bqplot"
      ]
    },
    {
      "cell_type": "code",
      "metadata": {
        "id": "bxV6RWc0Ffwd"
      },
      "source": [
        "pip install bqplot"
      ],
      "execution_count": null,
      "outputs": []
    },
    {
      "cell_type": "code",
      "metadata": {
        "colab": {
          "base_uri": "https://localhost:8080/",
          "height": 129
        },
        "id": "yxulIvr3FrMB",
        "outputId": "9b382b85-520c-4088-8038-361a6e4f920d"
      },
      "source": [
        "#sprawdzić jak dla collab to zrobić\n",
        "nbextension enable --py --sys-prefix bqplot"
      ],
      "execution_count": null,
      "outputs": [
        {
          "output_type": "error",
          "ename": "SyntaxError",
          "evalue": "ignored",
          "traceback": [
            "\u001b[0;36m  File \u001b[0;32m\"<ipython-input-32-4caec3c46687>\"\u001b[0;36m, line \u001b[0;32m1\u001b[0m\n\u001b[0;31m    nbextension enable --py --sys-prefix bqplot\u001b[0m\n\u001b[0m                     ^\u001b[0m\n\u001b[0;31mSyntaxError\u001b[0m\u001b[0;31m:\u001b[0m invalid syntax\n"
          ]
        }
      ]
    },
    {
      "cell_type": "code",
      "metadata": {
        "colab": {
          "base_uri": "https://localhost:8080/",
          "height": 17,
          "referenced_widgets": [
            "a678e62dd7db46a5861e71e5c4b4807a",
            "12ae265aa17a4af397e199db937713fe",
            "2bd1d556ba3447aba3f67dd091525b4c",
            "eb1ada1acd734127a42ad0f23456a398"
          ]
        },
        "id": "UIfrQU2fesQo",
        "outputId": "77fb2860-d426-4543-9c61-6f01657d812c"
      },
      "source": [
        "# Interaktywny wykres punktowy z jednego z poprzednich przykładów -TUTAJ NIE DZIAŁA, SPRAWDZIĆ JAK TO ZROBI BY BYŁO INTERAKTYWNIE\n",
        "from bqplot import pyplot as plt\n",
        "fig = plt.figure()\n",
        "fig.layout.height = \"300px\"\n",
        "fig.layout.width = \"500px\"\n",
        "plt.scatter(data2015.PM2_5,data2015.PM10)\n",
        "plt.xlabel(\"PM2.5\")\n",
        "plt.ylabel(\"PM10\")\n",
        "plt.show()"
      ],
      "execution_count": null,
      "outputs": [
        {
          "output_type": "display_data",
          "data": {
            "application/vnd.jupyter.widget-view+json": {
              "model_id": "a678e62dd7db46a5861e71e5c4b4807a",
              "version_minor": 0,
              "version_major": 2
            },
            "text/plain": [
              "VBox(children=(Figure(axes=[Axis(label='PM2.5', scale=LinearScale()), Axis(label='PM10', orientation='vertical…"
            ]
          },
          "metadata": {
            "tags": []
          }
        }
      ]
    },
    {
      "cell_type": "code",
      "metadata": {
        "colab": {
          "base_uri": "https://localhost:8080/",
          "height": 17,
          "referenced_widgets": [
            "3d64feea351c4cf7a7e3826062b9dc98",
            "6a2daa31dd494838b0edb583d411d0e3",
            "ba94b2ea2a2349a89597c0105a216816",
            "e26093a8198948a1be63734b7ed8a55b"
          ]
        },
        "id": "BiiD2vedesQo",
        "outputId": "e266320c-3672-4c7f-c0d1-e490d51b551e"
      },
      "source": [
        "# Interaktywny wykres liniowy z jednego z poprzednich przykładów\n",
        "fig = plt.figure(title=\"Temperature versus month in 2015, station Aotizhongxin\")\n",
        "fig.layout.height = \"300px\"\n",
        "fig.layout.width = \"500px\"\n",
        "plt.plot(x=df['month'], y=df['TEMP'])\n",
        "plt.ylabel(\"TEMP\")\n",
        "plt.xlabel(\"Month\")\n",
        "plt.show()"
      ],
      "execution_count": null,
      "outputs": [
        {
          "output_type": "display_data",
          "data": {
            "application/vnd.jupyter.widget-view+json": {
              "model_id": "3d64feea351c4cf7a7e3826062b9dc98",
              "version_minor": 0,
              "version_major": 2
            },
            "text/plain": [
              "VBox(children=(Figure(axes=[Axis(label='Month', scale=LinearScale()), Axis(label='TEMP', orientation='vertical…"
            ]
          },
          "metadata": {
            "tags": []
          }
        }
      ]
    },
    {
      "cell_type": "markdown",
      "metadata": {
        "id": "h4NJbMsaesQo"
      },
      "source": [
        "### <span style=\"background-color:yellow\">**Plotly**</span>\n",
        "\n",
        "Jest to darmowa, open-source'owa biblioteka Pythona służąca do tworzenia interaktywnych wykresów. \n",
        "Na bazie Dash można budować aplikacje do analizy danych bazujące na figurach utworzonych przy pomocy Plotly.\n",
        "Jupyter-dash umożliwia realizację tego w Jupyter Notebook.\n",
        "\n",
        "```\n",
        "pip install jupyter-dash\n",
        "```\n",
        "\n",
        "Kompletny tutorial w formie notatnika jest dostępny na Githubie:\n",
        "\n",
        "https://github.com/plotly/jupyter-dash/blob/master/notebooks/getting_started.ipynb\n",
        "\n",
        "Inne przydatne źródła:\n",
        "\n",
        "https://www.kaggle.com/mehmetkasap/data-visualization-tools-seaborn-and-plotly\n",
        "\n",
        "https://www.statworx.com/at/blog/how-to-build-a-dashboard-in-python-plotly-dash-step-by-step-tutorial/\n",
        "\n",
        "https://pbpython.com/plotly-dash-intro.html\n",
        "\n",
        "I wiele, wiele innych... :)"
      ]
    },
    {
      "cell_type": "code",
      "metadata": {
        "colab": {
          "base_uri": "https://localhost:8080/"
        },
        "id": "0WdL71LaHtQg",
        "outputId": "63d1a4e2-1b14-46ae-fa68-f0280cce3038"
      },
      "source": [
        "pip install dash"
      ],
      "execution_count": null,
      "outputs": [
        {
          "output_type": "stream",
          "text": [
            "Collecting dash\n",
            "\u001b[?25l  Downloading https://files.pythonhosted.org/packages/bc/b4/0bd5c94fdcb0eccb93c3c8068fe10f5607e542337d0b8f6e2d88078316a9/dash-1.19.0.tar.gz (75kB)\n",
            "\r\u001b[K     |████▍                           | 10kB 18.5MB/s eta 0:00:01\r\u001b[K     |████████▊                       | 20kB 13.0MB/s eta 0:00:01\r\u001b[K     |█████████████                   | 30kB 8.4MB/s eta 0:00:01\r\u001b[K     |█████████████████▍              | 40kB 7.6MB/s eta 0:00:01\r\u001b[K     |█████████████████████▊          | 51kB 4.4MB/s eta 0:00:01\r\u001b[K     |██████████████████████████▏     | 61kB 4.9MB/s eta 0:00:01\r\u001b[K     |██████████████████████████████▌ | 71kB 5.1MB/s eta 0:00:01\r\u001b[K     |████████████████████████████████| 81kB 3.8MB/s \n",
            "\u001b[?25hRequirement already satisfied: Flask>=1.0.4 in /usr/local/lib/python3.7/dist-packages (from dash) (1.1.2)\n",
            "Collecting flask-compress\n",
            "  Downloading https://files.pythonhosted.org/packages/da/4d/20eccc60b10f8765f15f42db35e1a0d010bc9a7562760410f7d9cef87d77/Flask-Compress-1.9.0.tar.gz\n",
            "Requirement already satisfied: plotly in /usr/local/lib/python3.7/dist-packages (from dash) (4.4.1)\n",
            "Collecting dash_renderer==1.9.0\n",
            "\u001b[?25l  Downloading https://files.pythonhosted.org/packages/be/a6/dd1edfe7b1102274e93991736c35b2a5e1a63b524c8d9f41bbb30f17340b/dash_renderer-1.9.0.tar.gz (1.0MB)\n",
            "\u001b[K     |████████████████████████████████| 1.0MB 19.9MB/s \n",
            "\u001b[?25hCollecting dash-core-components==1.15.0\n",
            "\u001b[?25l  Downloading https://files.pythonhosted.org/packages/22/78/ae0829e673f3df77403bcdb35073b1ed2f156080f5bcac6f21c1047d73fe/dash_core_components-1.15.0.tar.gz (3.5MB)\n",
            "\u001b[K     |████████████████████████████████| 3.5MB 40.7MB/s \n",
            "\u001b[?25hCollecting dash-html-components==1.1.2\n",
            "\u001b[?25l  Downloading https://files.pythonhosted.org/packages/3f/25/56de2708128fe375eecc2e18e0ccdc3a853494966e36334ec8a30be99b94/dash_html_components-1.1.2.tar.gz (188kB)\n",
            "\u001b[K     |████████████████████████████████| 194kB 43.6MB/s \n",
            "\u001b[?25hCollecting dash-table==4.11.2\n",
            "\u001b[?25l  Downloading https://files.pythonhosted.org/packages/3d/ae/96cb64b58d76391604b57f8c747f9a19ab2122e7ba214e2e0cf35484962b/dash_table-4.11.2.tar.gz (1.8MB)\n",
            "\u001b[K     |████████████████████████████████| 1.8MB 40.4MB/s \n",
            "\u001b[?25hRequirement already satisfied: future in /usr/local/lib/python3.7/dist-packages (from dash) (0.16.0)\n",
            "Requirement already satisfied: itsdangerous>=0.24 in /usr/local/lib/python3.7/dist-packages (from Flask>=1.0.4->dash) (1.1.0)\n",
            "Requirement already satisfied: click>=5.1 in /usr/local/lib/python3.7/dist-packages (from Flask>=1.0.4->dash) (7.1.2)\n",
            "Requirement already satisfied: Jinja2>=2.10.1 in /usr/local/lib/python3.7/dist-packages (from Flask>=1.0.4->dash) (2.11.3)\n",
            "Requirement already satisfied: Werkzeug>=0.15 in /usr/local/lib/python3.7/dist-packages (from Flask>=1.0.4->dash) (1.0.1)\n",
            "Collecting brotli\n",
            "\u001b[?25l  Downloading https://files.pythonhosted.org/packages/15/ea/5bd575511b37bbd1c794606a0a621e6feff8e96b7dd007a86a5d218b2d94/Brotli-1.0.9-cp37-cp37m-manylinux1_x86_64.whl (357kB)\n",
            "\u001b[K     |████████████████████████████████| 358kB 53.5MB/s \n",
            "\u001b[?25hRequirement already satisfied: six in /usr/local/lib/python3.7/dist-packages (from plotly->dash) (1.15.0)\n",
            "Requirement already satisfied: retrying>=1.3.3 in /usr/local/lib/python3.7/dist-packages (from plotly->dash) (1.3.3)\n",
            "Requirement already satisfied: MarkupSafe>=0.23 in /usr/local/lib/python3.7/dist-packages (from Jinja2>=2.10.1->Flask>=1.0.4->dash) (1.1.1)\n",
            "Building wheels for collected packages: dash, flask-compress, dash-renderer, dash-core-components, dash-html-components, dash-table\n",
            "  Building wheel for dash (setup.py) ... \u001b[?25l\u001b[?25hdone\n",
            "  Created wheel for dash: filename=dash-1.19.0-cp37-none-any.whl size=84011 sha256=d4d7b29a7f72d965c8a957a721ae901d7f1b6ff0af21ce10b4951648773f1c15\n",
            "  Stored in directory: /root/.cache/pip/wheels/f7/50/a7/a230ff7f503b10120bff18c2524a375bb85a61ce6b519c8a77\n",
            "  Building wheel for flask-compress (setup.py) ... \u001b[?25l\u001b[?25hdone\n",
            "  Created wheel for flask-compress: filename=Flask_Compress-1.9.0-cp37-none-any.whl size=7259 sha256=6edeeaadfc54cf5517d9d75d7698128bd1ce4c9d9d19a52e3396958332a01511\n",
            "  Stored in directory: /root/.cache/pip/wheels/0d/56/7d/e0c50541e5421b8291d958afb098c23818989e29d91a1edac5\n",
            "  Building wheel for dash-renderer (setup.py) ... \u001b[?25l\u001b[?25hdone\n",
            "  Created wheel for dash-renderer: filename=dash_renderer-1.9.0-cp37-none-any.whl size=1014870 sha256=29b07e1fe5bcbc71b44a95e1a5776b563a0be292ae2ebece425f45e5149f2c45\n",
            "  Stored in directory: /root/.cache/pip/wheels/46/a0/ec/2be2e8fc750e623d76f9690c397cc5ab28b33d0a16a49e10c5\n",
            "  Building wheel for dash-core-components (setup.py) ... \u001b[?25l\u001b[?25hdone\n",
            "  Created wheel for dash-core-components: filename=dash_core_components-1.15.0-cp37-none-any.whl size=3527014 sha256=d90ac9ac8f49ada9ce9c1b828d052c9185ba322f9b0b9f652c2e79e0eae511f1\n",
            "  Stored in directory: /root/.cache/pip/wheels/53/3d/be/d628d6f66eedf9597f0c89c8ff43a5020ad1c25152c77d8e9f\n",
            "  Building wheel for dash-html-components (setup.py) ... \u001b[?25l\u001b[?25hdone\n",
            "  Created wheel for dash-html-components: filename=dash_html_components-1.1.2-cp37-none-any.whl size=427830 sha256=088946b50f606ea4b82311421dde704548f76ae9d3be5ed6b72b530d6139651f\n",
            "  Stored in directory: /root/.cache/pip/wheels/44/95/70/0dc41f9b4e31b8a7ea22193aad5647b2c85cfab37bf13c0242\n",
            "  Building wheel for dash-table (setup.py) ... \u001b[?25l\u001b[?25hdone\n",
            "  Created wheel for dash-table: filename=dash_table-4.11.2-cp37-none-any.whl size=1839869 sha256=b0c4d14d25588182fc2d3548f54c0b1b5558eaeb769943aa5800a634cfe19f78\n",
            "  Stored in directory: /root/.cache/pip/wheels/72/d9/f6/2ad62ac0037f1f0c0d3d10948a596b594a069057df0656ac3f\n",
            "Successfully built dash flask-compress dash-renderer dash-core-components dash-html-components dash-table\n",
            "Installing collected packages: brotli, flask-compress, dash-renderer, dash-core-components, dash-html-components, dash-table, dash\n",
            "Successfully installed brotli-1.0.9 dash-1.19.0 dash-core-components-1.15.0 dash-html-components-1.1.2 dash-renderer-1.9.0 dash-table-4.11.2 flask-compress-1.9.0\n"
          ],
          "name": "stdout"
        }
      ]
    },
    {
      "cell_type": "markdown",
      "metadata": {
        "id": "1E8v0y3fKupS"
      },
      "source": [
        "to sprawdzić\n",
        "https://stackoverflow.com/questions/53622518/launch-a-dash-app-in-a-google-colab-notebook\n"
      ]
    },
    {
      "cell_type": "code",
      "metadata": {
        "colab": {
          "base_uri": "https://localhost:8080/",
          "height": 367
        },
        "id": "0C-Oz3p8esQo",
        "outputId": "f2a48b03-ca8f-4ab9-9e13-bd90972cee6d"
      },
      "source": [
        "# Napiszemy sobie prostą aplikację do porównywania związku PM2.5 i PM10 w kolejnych wybranych latach, dla stacji Aotizhongxin\n",
        "#dash tworzy strukturę aplikacji, plotly odpowiada za wygląd\n",
        "import dash\n",
        "from jupyter_dash import JupyterDash\n",
        "external_stylesheets = ['https://codepen.io/chriddyp/pen/bWLwgP.css']\n",
        "import dash_core_components as dcc\n",
        "import dash_html_components as html\n",
        "import plotly.graph_objs as go\n",
        "import pandas as pd\n",
        "\n",
        "data2013 = data.loc[data['year'] == 2013]\n",
        "data2016 = data.loc[data['year'] == 2016]\n",
        "trace1 = go.Scatter(\n",
        "                    x = data2015.PM2_5,\n",
        "                    y = data2015.PM10,\n",
        "                    mode = \"markers\",\n",
        "                    name = \"PM10 vs PM2.5 - 2015\",\n",
        "                    marker = dict(color = 'red'),\n",
        "                    text= \"PM10 vs PM2.5 - 2015\")\n",
        "trace2 = go.Scatter(\n",
        "                    x = data2016.PM2_5,\n",
        "                    y = data2016.PM10,\n",
        "                    mode = \"markers\",\n",
        "                    name = \"PM10 vs PM2.5 - 2016\",\n",
        "                    marker = dict(color = 'green'),\n",
        "                    text= \"PM10 vs PM2.5 - 2016\")\n",
        "trace3 = go.Scatter(\n",
        "                    x = data2013.PM2_5,\n",
        "                    y = data2013.PM10,\n",
        "                    mode = \"markers\",\n",
        "                    name = \"PM10 vs PM2.5 - 2013\",\n",
        "                    marker = dict(color = 'blue'),\n",
        "                    text= \"PM10 vs PM2.5 - 2013\")\n",
        "\n",
        "app = JupyterDash(__name__, external_stylesheets=external_stylesheets)\n",
        "app.layout = html.Div(children=[\n",
        "    html.H1(children='Air pollution in China: PM2.5 vs PM10'),\n",
        "    html.Div(children='''Aotizhongxin station'''),\n",
        "    dcc.Graph(\n",
        "        id='example-graph',\n",
        "        figure={\n",
        "            'data': [trace1, trace2, trace3],\n",
        "            'layout':\n",
        "            go.Layout(title='Scatter plots for different years')\n",
        "        })\n",
        "])\n",
        "\n",
        "app.run_server(mode=\"inline\")"
      ],
      "execution_count": null,
      "outputs": [
        {
          "output_type": "error",
          "ename": "ModuleNotFoundError",
          "evalue": "ignored",
          "traceback": [
            "\u001b[0;31m---------------------------------------------------------------------------\u001b[0m",
            "\u001b[0;31mModuleNotFoundError\u001b[0m                       Traceback (most recent call last)",
            "\u001b[0;32m<ipython-input-41-433b57f796fe>\u001b[0m in \u001b[0;36m<module>\u001b[0;34m()\u001b[0m\n\u001b[1;32m      1\u001b[0m \u001b[0;31m# Napiszemy sobie prostą aplikację do porównywania związku PM2.5 i PM10 w kolejnych wybranych latach, dla stacji Aotizhongxin\u001b[0m\u001b[0;34m\u001b[0m\u001b[0;34m\u001b[0m\u001b[0;34m\u001b[0m\u001b[0m\n\u001b[1;32m      2\u001b[0m \u001b[0;32mimport\u001b[0m \u001b[0mdash\u001b[0m\u001b[0;34m\u001b[0m\u001b[0;34m\u001b[0m\u001b[0m\n\u001b[0;32m----> 3\u001b[0;31m \u001b[0;32mfrom\u001b[0m \u001b[0mjupyter_dash\u001b[0m \u001b[0;32mimport\u001b[0m \u001b[0mJupyterDash\u001b[0m\u001b[0;34m\u001b[0m\u001b[0;34m\u001b[0m\u001b[0m\n\u001b[0m\u001b[1;32m      4\u001b[0m \u001b[0mexternal_stylesheets\u001b[0m \u001b[0;34m=\u001b[0m \u001b[0;34m[\u001b[0m\u001b[0;34m'https://codepen.io/chriddyp/pen/bWLwgP.css'\u001b[0m\u001b[0;34m]\u001b[0m\u001b[0;34m\u001b[0m\u001b[0;34m\u001b[0m\u001b[0m\n\u001b[1;32m      5\u001b[0m \u001b[0;32mimport\u001b[0m \u001b[0mdash_core_components\u001b[0m \u001b[0;32mas\u001b[0m \u001b[0mdcc\u001b[0m\u001b[0;34m\u001b[0m\u001b[0;34m\u001b[0m\u001b[0m\n",
            "\u001b[0;31mModuleNotFoundError\u001b[0m: No module named 'jupyter_dash'",
            "",
            "\u001b[0;31m---------------------------------------------------------------------------\u001b[0;32m\nNOTE: If your import is failing due to a missing package, you can\nmanually install dependencies using either !pip or !apt.\n\nTo view examples of installing some common dependencies, click the\n\"Open Examples\" button below.\n\u001b[0;31m---------------------------------------------------------------------------\u001b[0m\n"
          ]
        }
      ]
    },
    {
      "cell_type": "code",
      "metadata": {
        "id": "jdzVrv0VesQp"
      },
      "source": [
        ""
      ],
      "execution_count": null,
      "outputs": []
    }
  ]
}