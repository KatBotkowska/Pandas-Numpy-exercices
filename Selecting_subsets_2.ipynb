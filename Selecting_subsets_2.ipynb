{
  "nbformat": 4,
  "nbformat_minor": 0,
  "metadata": {
    "colab": {
      "name": "Selecting_subsets_2.ipynb",
      "version": "0.3.2",
      "provenance": [],
      "collapsed_sections": [],
      "include_colab_link": true
    },
    "kernelspec": {
      "name": "python3",
      "display_name": "Python 3"
    }
  },
  "cells": [
    {
      "cell_type": "markdown",
      "metadata": {
        "id": "view-in-github",
        "colab_type": "text"
      },
      "source": [
        "<a href=\"https://colab.research.google.com/github/KatBotkowska/Pandas-Numpy-exercices/blob/master/Selecting_subsets_2.ipynb\" target=\"_parent\"><img src=\"https://colab.research.google.com/assets/colab-badge.svg\" alt=\"Open In Colab\"/></a>"
      ]
    },
    {
      "cell_type": "markdown",
      "metadata": {
        "id": "KaaV03KDUIEI",
        "colab_type": "text"
      },
      "source": [
        "## How to select subsets in Pandas - part 2: boolean indexing\n",
        "*Przy wybieraniu za pomocą: [], .loc, .iloc - wybiera się na podstawie nagłówków.\n",
        "Przy wybieraniu przy pomocy boolean indexing - na podstawie wartości danych., które przyrównuje sie do pytania - True lub False*"
      ]
    },
    {
      "cell_type": "code",
      "metadata": {
        "id": "XSBR7IepUBVK",
        "colab_type": "code",
        "colab": {}
      },
      "source": [
        "import pandas as pd\n",
        "import numpy as np"
      ],
      "execution_count": 0,
      "outputs": []
    },
    {
      "cell_type": "code",
      "metadata": {
        "id": "mAhIJf8-UdQz",
        "colab_type": "code",
        "colab": {}
      },
      "source": [
        "path = 'https://raw.githubusercontent.com/tdpetrou/Learn-Pandas/master/data/stackoverflow_qa.csv'\n",
        "stof = pd.read_csv(path)"
      ],
      "execution_count": 0,
      "outputs": []
    },
    {
      "cell_type": "code",
      "metadata": {
        "id": "zJYyenT2Vx07",
        "colab_type": "code",
        "colab": {
          "base_uri": "https://localhost:8080/",
          "height": 289
        },
        "outputId": "f0213b11-b952-4326-e258-d6697b14aaf1"
      },
      "source": [
        "stof_head = stof.head()\n",
        "stof_head"
      ],
      "execution_count": 5,
      "outputs": [
        {
          "output_type": "execute_result",
          "data": {
            "text/html": [
              "<div>\n",
              "<style scoped>\n",
              "    .dataframe tbody tr th:only-of-type {\n",
              "        vertical-align: middle;\n",
              "    }\n",
              "\n",
              "    .dataframe tbody tr th {\n",
              "        vertical-align: top;\n",
              "    }\n",
              "\n",
              "    .dataframe thead th {\n",
              "        text-align: right;\n",
              "    }\n",
              "</style>\n",
              "<table border=\"1\" class=\"dataframe\">\n",
              "  <thead>\n",
              "    <tr style=\"text-align: right;\">\n",
              "      <th></th>\n",
              "      <th>id</th>\n",
              "      <th>creationdate</th>\n",
              "      <th>score</th>\n",
              "      <th>viewcount</th>\n",
              "      <th>title</th>\n",
              "      <th>answercount</th>\n",
              "      <th>commentcount</th>\n",
              "      <th>favoritecount</th>\n",
              "      <th>quest_name</th>\n",
              "      <th>quest_rep</th>\n",
              "      <th>ans_name</th>\n",
              "      <th>ans_rep</th>\n",
              "    </tr>\n",
              "  </thead>\n",
              "  <tbody>\n",
              "    <tr>\n",
              "      <th>0</th>\n",
              "      <td>5486226</td>\n",
              "      <td>2011-03-30 12:26:50</td>\n",
              "      <td>4</td>\n",
              "      <td>2113</td>\n",
              "      <td>Rolling median in python</td>\n",
              "      <td>3</td>\n",
              "      <td>4</td>\n",
              "      <td>1.0</td>\n",
              "      <td>yueerhu</td>\n",
              "      <td>125.0</td>\n",
              "      <td>Mike Pennington</td>\n",
              "      <td>26995.0</td>\n",
              "    </tr>\n",
              "    <tr>\n",
              "      <th>1</th>\n",
              "      <td>5515021</td>\n",
              "      <td>2011-04-01 14:50:44</td>\n",
              "      <td>8</td>\n",
              "      <td>7015</td>\n",
              "      <td>Compute a compounded return series in Python</td>\n",
              "      <td>3</td>\n",
              "      <td>6</td>\n",
              "      <td>7.0</td>\n",
              "      <td>Jason Strimpel</td>\n",
              "      <td>3301.0</td>\n",
              "      <td>Mike Pennington</td>\n",
              "      <td>26995.0</td>\n",
              "    </tr>\n",
              "    <tr>\n",
              "      <th>2</th>\n",
              "      <td>5558607</td>\n",
              "      <td>2011-04-05 21:13:50</td>\n",
              "      <td>2</td>\n",
              "      <td>7392</td>\n",
              "      <td>Sort a pandas DataMatrix in ascending order</td>\n",
              "      <td>2</td>\n",
              "      <td>0</td>\n",
              "      <td>1.0</td>\n",
              "      <td>Jason Strimpel</td>\n",
              "      <td>3301.0</td>\n",
              "      <td>Wes McKinney</td>\n",
              "      <td>43310.0</td>\n",
              "    </tr>\n",
              "    <tr>\n",
              "      <th>3</th>\n",
              "      <td>6467832</td>\n",
              "      <td>2011-06-24 12:31:45</td>\n",
              "      <td>9</td>\n",
              "      <td>13056</td>\n",
              "      <td>How to get the correlation between two timeser...</td>\n",
              "      <td>1</td>\n",
              "      <td>0</td>\n",
              "      <td>7.0</td>\n",
              "      <td>user814005</td>\n",
              "      <td>117.0</td>\n",
              "      <td>Wes McKinney</td>\n",
              "      <td>43310.0</td>\n",
              "    </tr>\n",
              "    <tr>\n",
              "      <th>4</th>\n",
              "      <td>7577546</td>\n",
              "      <td>2011-09-28 01:58:38</td>\n",
              "      <td>9</td>\n",
              "      <td>2488</td>\n",
              "      <td>Using pandas, how do I subsample a large DataF...</td>\n",
              "      <td>1</td>\n",
              "      <td>0</td>\n",
              "      <td>5.0</td>\n",
              "      <td>Uri Laserson</td>\n",
              "      <td>958.0</td>\n",
              "      <td>HYRY</td>\n",
              "      <td>54137.0</td>\n",
              "    </tr>\n",
              "  </tbody>\n",
              "</table>\n",
              "</div>"
            ],
            "text/plain": [
              "        id         creationdate  score  ...  quest_rep         ans_name  ans_rep\n",
              "0  5486226  2011-03-30 12:26:50      4  ...      125.0  Mike Pennington  26995.0\n",
              "1  5515021  2011-04-01 14:50:44      8  ...     3301.0  Mike Pennington  26995.0\n",
              "2  5558607  2011-04-05 21:13:50      2  ...     3301.0     Wes McKinney  43310.0\n",
              "3  6467832  2011-06-24 12:31:45      9  ...      117.0     Wes McKinney  43310.0\n",
              "4  7577546  2011-09-28 01:58:38      9  ...      958.0             HYRY  54137.0\n",
              "\n",
              "[5 rows x 12 columns]"
            ]
          },
          "metadata": {
            "tags": []
          },
          "execution_count": 5
        }
      ]
    },
    {
      "cell_type": "code",
      "metadata": {
        "id": "IWvRg_0JYn1b",
        "colab_type": "code",
        "colab": {
          "base_uri": "https://localhost:8080/",
          "height": 145
        },
        "outputId": "f8d0bd19-78ff-4c2f-f744-81f64f532190"
      },
      "source": [
        "criteria = [True, False, False, True, False] #wybierze wiersze dla których wskazano True: 0, 3\n",
        "stof_head[criteria]"
      ],
      "execution_count": 6,
      "outputs": [
        {
          "output_type": "execute_result",
          "data": {
            "text/html": [
              "<div>\n",
              "<style scoped>\n",
              "    .dataframe tbody tr th:only-of-type {\n",
              "        vertical-align: middle;\n",
              "    }\n",
              "\n",
              "    .dataframe tbody tr th {\n",
              "        vertical-align: top;\n",
              "    }\n",
              "\n",
              "    .dataframe thead th {\n",
              "        text-align: right;\n",
              "    }\n",
              "</style>\n",
              "<table border=\"1\" class=\"dataframe\">\n",
              "  <thead>\n",
              "    <tr style=\"text-align: right;\">\n",
              "      <th></th>\n",
              "      <th>id</th>\n",
              "      <th>creationdate</th>\n",
              "      <th>score</th>\n",
              "      <th>viewcount</th>\n",
              "      <th>title</th>\n",
              "      <th>answercount</th>\n",
              "      <th>commentcount</th>\n",
              "      <th>favoritecount</th>\n",
              "      <th>quest_name</th>\n",
              "      <th>quest_rep</th>\n",
              "      <th>ans_name</th>\n",
              "      <th>ans_rep</th>\n",
              "    </tr>\n",
              "  </thead>\n",
              "  <tbody>\n",
              "    <tr>\n",
              "      <th>0</th>\n",
              "      <td>5486226</td>\n",
              "      <td>2011-03-30 12:26:50</td>\n",
              "      <td>4</td>\n",
              "      <td>2113</td>\n",
              "      <td>Rolling median in python</td>\n",
              "      <td>3</td>\n",
              "      <td>4</td>\n",
              "      <td>1.0</td>\n",
              "      <td>yueerhu</td>\n",
              "      <td>125.0</td>\n",
              "      <td>Mike Pennington</td>\n",
              "      <td>26995.0</td>\n",
              "    </tr>\n",
              "    <tr>\n",
              "      <th>3</th>\n",
              "      <td>6467832</td>\n",
              "      <td>2011-06-24 12:31:45</td>\n",
              "      <td>9</td>\n",
              "      <td>13056</td>\n",
              "      <td>How to get the correlation between two timeser...</td>\n",
              "      <td>1</td>\n",
              "      <td>0</td>\n",
              "      <td>7.0</td>\n",
              "      <td>user814005</td>\n",
              "      <td>117.0</td>\n",
              "      <td>Wes McKinney</td>\n",
              "      <td>43310.0</td>\n",
              "    </tr>\n",
              "  </tbody>\n",
              "</table>\n",
              "</div>"
            ],
            "text/plain": [
              "        id         creationdate  score  ...  quest_rep         ans_name  ans_rep\n",
              "0  5486226  2011-03-30 12:26:50      4  ...      125.0  Mike Pennington  26995.0\n",
              "3  6467832  2011-06-24 12:31:45      9  ...      117.0     Wes McKinney  43310.0\n",
              "\n",
              "[2 rows x 12 columns]"
            ]
          },
          "metadata": {
            "tags": []
          },
          "execution_count": 6
        }
      ]
    },
    {
      "cell_type": "code",
      "metadata": {
        "id": "uR9oSgubZF2Y",
        "colab_type": "code",
        "colab": {
          "base_uri": "https://localhost:8080/",
          "height": 145
        },
        "outputId": "fa620cae-3fd1-4dd4-dea9-3dc50a43d6cc"
      },
      "source": [
        "s = pd.Series([True, False, False, True, False]) #w Pandas używa się Series jako podstawowego kontenera\n",
        "stof_head[s]"
      ],
      "execution_count": 8,
      "outputs": [
        {
          "output_type": "execute_result",
          "data": {
            "text/html": [
              "<div>\n",
              "<style scoped>\n",
              "    .dataframe tbody tr th:only-of-type {\n",
              "        vertical-align: middle;\n",
              "    }\n",
              "\n",
              "    .dataframe tbody tr th {\n",
              "        vertical-align: top;\n",
              "    }\n",
              "\n",
              "    .dataframe thead th {\n",
              "        text-align: right;\n",
              "    }\n",
              "</style>\n",
              "<table border=\"1\" class=\"dataframe\">\n",
              "  <thead>\n",
              "    <tr style=\"text-align: right;\">\n",
              "      <th></th>\n",
              "      <th>id</th>\n",
              "      <th>creationdate</th>\n",
              "      <th>score</th>\n",
              "      <th>viewcount</th>\n",
              "      <th>title</th>\n",
              "      <th>answercount</th>\n",
              "      <th>commentcount</th>\n",
              "      <th>favoritecount</th>\n",
              "      <th>quest_name</th>\n",
              "      <th>quest_rep</th>\n",
              "      <th>ans_name</th>\n",
              "      <th>ans_rep</th>\n",
              "    </tr>\n",
              "  </thead>\n",
              "  <tbody>\n",
              "    <tr>\n",
              "      <th>0</th>\n",
              "      <td>5486226</td>\n",
              "      <td>2011-03-30 12:26:50</td>\n",
              "      <td>4</td>\n",
              "      <td>2113</td>\n",
              "      <td>Rolling median in python</td>\n",
              "      <td>3</td>\n",
              "      <td>4</td>\n",
              "      <td>1.0</td>\n",
              "      <td>yueerhu</td>\n",
              "      <td>125.0</td>\n",
              "      <td>Mike Pennington</td>\n",
              "      <td>26995.0</td>\n",
              "    </tr>\n",
              "    <tr>\n",
              "      <th>3</th>\n",
              "      <td>6467832</td>\n",
              "      <td>2011-06-24 12:31:45</td>\n",
              "      <td>9</td>\n",
              "      <td>13056</td>\n",
              "      <td>How to get the correlation between two timeser...</td>\n",
              "      <td>1</td>\n",
              "      <td>0</td>\n",
              "      <td>7.0</td>\n",
              "      <td>user814005</td>\n",
              "      <td>117.0</td>\n",
              "      <td>Wes McKinney</td>\n",
              "      <td>43310.0</td>\n",
              "    </tr>\n",
              "  </tbody>\n",
              "</table>\n",
              "</div>"
            ],
            "text/plain": [
              "        id         creationdate  score  ...  quest_rep         ans_name  ans_rep\n",
              "0  5486226  2011-03-30 12:26:50      4  ...      125.0  Mike Pennington  26995.0\n",
              "3  6467832  2011-06-24 12:31:45      9  ...      117.0     Wes McKinney  43310.0\n",
              "\n",
              "[2 rows x 12 columns]"
            ]
          },
          "metadata": {
            "tags": []
          },
          "execution_count": 8
        }
      ]
    },
    {
      "cell_type": "code",
      "metadata": {
        "id": "zHngbsxsaAdo",
        "colab_type": "code",
        "colab": {
          "base_uri": "https://localhost:8080/",
          "height": 145
        },
        "outputId": "c2798f60-00e8-49ea-e5ee-60b2c8c6d9d1"
      },
      "source": [
        "t = np.array([True, False, False, True, False]) #wrzucenie listy boolean do array\n",
        "stof_head[t]"
      ],
      "execution_count": 9,
      "outputs": [
        {
          "output_type": "execute_result",
          "data": {
            "text/html": [
              "<div>\n",
              "<style scoped>\n",
              "    .dataframe tbody tr th:only-of-type {\n",
              "        vertical-align: middle;\n",
              "    }\n",
              "\n",
              "    .dataframe tbody tr th {\n",
              "        vertical-align: top;\n",
              "    }\n",
              "\n",
              "    .dataframe thead th {\n",
              "        text-align: right;\n",
              "    }\n",
              "</style>\n",
              "<table border=\"1\" class=\"dataframe\">\n",
              "  <thead>\n",
              "    <tr style=\"text-align: right;\">\n",
              "      <th></th>\n",
              "      <th>id</th>\n",
              "      <th>creationdate</th>\n",
              "      <th>score</th>\n",
              "      <th>viewcount</th>\n",
              "      <th>title</th>\n",
              "      <th>answercount</th>\n",
              "      <th>commentcount</th>\n",
              "      <th>favoritecount</th>\n",
              "      <th>quest_name</th>\n",
              "      <th>quest_rep</th>\n",
              "      <th>ans_name</th>\n",
              "      <th>ans_rep</th>\n",
              "    </tr>\n",
              "  </thead>\n",
              "  <tbody>\n",
              "    <tr>\n",
              "      <th>0</th>\n",
              "      <td>5486226</td>\n",
              "      <td>2011-03-30 12:26:50</td>\n",
              "      <td>4</td>\n",
              "      <td>2113</td>\n",
              "      <td>Rolling median in python</td>\n",
              "      <td>3</td>\n",
              "      <td>4</td>\n",
              "      <td>1.0</td>\n",
              "      <td>yueerhu</td>\n",
              "      <td>125.0</td>\n",
              "      <td>Mike Pennington</td>\n",
              "      <td>26995.0</td>\n",
              "    </tr>\n",
              "    <tr>\n",
              "      <th>3</th>\n",
              "      <td>6467832</td>\n",
              "      <td>2011-06-24 12:31:45</td>\n",
              "      <td>9</td>\n",
              "      <td>13056</td>\n",
              "      <td>How to get the correlation between two timeser...</td>\n",
              "      <td>1</td>\n",
              "      <td>0</td>\n",
              "      <td>7.0</td>\n",
              "      <td>user814005</td>\n",
              "      <td>117.0</td>\n",
              "      <td>Wes McKinney</td>\n",
              "      <td>43310.0</td>\n",
              "    </tr>\n",
              "  </tbody>\n",
              "</table>\n",
              "</div>"
            ],
            "text/plain": [
              "        id         creationdate  score  ...  quest_rep         ans_name  ans_rep\n",
              "0  5486226  2011-03-30 12:26:50      4  ...      125.0  Mike Pennington  26995.0\n",
              "3  6467832  2011-06-24 12:31:45      9  ...      117.0     Wes McKinney  43310.0\n",
              "\n",
              "[2 rows x 12 columns]"
            ]
          },
          "metadata": {
            "tags": []
          },
          "execution_count": 9
        }
      ]
    },
    {
      "cell_type": "markdown",
      "metadata": {
        "id": "fNBxjiEOZhBO",
        "colab_type": "text"
      },
      "source": [
        "*w przypadku indeksowania za pomocą listy, serii wartości True lub False, trzeba uważać by lista wartości boolean była równa ilosci wierszy tabeli. Jeśli nie - IndexingError.\n",
        "ALE: nie używa się list wpisywanych 'z ręki' do indeksowania, tylko operatorów porównania: <, >, =...*"
      ]
    },
    {
      "cell_type": "markdown",
      "metadata": {
        "id": "o6VUtoGleFdP",
        "colab_type": "text"
      },
      "source": [
        "## Indeksowanie boolean - pojedynczy warunek"
      ]
    },
    {
      "cell_type": "markdown",
      "metadata": {
        "id": "yisLVFCEcLh1",
        "colab_type": "text"
      },
      "source": [
        "### Wskazanie kryteriów jako listy boolean dla pewnego warunku"
      ]
    },
    {
      "cell_type": "code",
      "metadata": {
        "id": "0RQY8ocWaqMF",
        "colab_type": "code",
        "colab": {
          "base_uri": "https://localhost:8080/",
          "height": 119
        },
        "outputId": "4f78289d-0905-4ef1-bb25-995aec8ee460"
      },
      "source": [
        "criteria = stof['score'] >= 10 #tworzy kryterium, dla którego score jest większy niż 10\n",
        "criteria.head() #zwraca listę wartości boolean dla pozycji kolumny score, które spełniają warunek"
      ],
      "execution_count": 10,
      "outputs": [
        {
          "output_type": "execute_result",
          "data": {
            "text/plain": [
              "0    False\n",
              "1    False\n",
              "2    False\n",
              "3    False\n",
              "4    False\n",
              "Name: score, dtype: bool"
            ]
          },
          "metadata": {
            "tags": []
          },
          "execution_count": 10
        }
      ]
    },
    {
      "cell_type": "code",
      "metadata": {
        "id": "IjZTZ23ybU5F",
        "colab_type": "code",
        "colab": {
          "base_uri": "https://localhost:8080/",
          "height": 289
        },
        "outputId": "dc89d8fd-a0f5-4e79-a67d-fd25f07fe54e"
      },
      "source": [
        "stof_score_10_or_more = stof[criteria] #wybiera wszystkie wiersze, dla których spełniony w kolumnie score jest warunek\n",
        "stof_score_10_or_more.head()"
      ],
      "execution_count": 11,
      "outputs": [
        {
          "output_type": "execute_result",
          "data": {
            "text/html": [
              "<div>\n",
              "<style scoped>\n",
              "    .dataframe tbody tr th:only-of-type {\n",
              "        vertical-align: middle;\n",
              "    }\n",
              "\n",
              "    .dataframe tbody tr th {\n",
              "        vertical-align: top;\n",
              "    }\n",
              "\n",
              "    .dataframe thead th {\n",
              "        text-align: right;\n",
              "    }\n",
              "</style>\n",
              "<table border=\"1\" class=\"dataframe\">\n",
              "  <thead>\n",
              "    <tr style=\"text-align: right;\">\n",
              "      <th></th>\n",
              "      <th>id</th>\n",
              "      <th>creationdate</th>\n",
              "      <th>score</th>\n",
              "      <th>viewcount</th>\n",
              "      <th>title</th>\n",
              "      <th>answercount</th>\n",
              "      <th>commentcount</th>\n",
              "      <th>favoritecount</th>\n",
              "      <th>quest_name</th>\n",
              "      <th>quest_rep</th>\n",
              "      <th>ans_name</th>\n",
              "      <th>ans_rep</th>\n",
              "    </tr>\n",
              "  </thead>\n",
              "  <tbody>\n",
              "    <tr>\n",
              "      <th>6</th>\n",
              "      <td>7776679</td>\n",
              "      <td>2011-10-15 08:21:17</td>\n",
              "      <td>25</td>\n",
              "      <td>28159</td>\n",
              "      <td>append two data frame with pandas</td>\n",
              "      <td>2</td>\n",
              "      <td>7</td>\n",
              "      <td>4.0</td>\n",
              "      <td>Jean-Pat</td>\n",
              "      <td>882.0</td>\n",
              "      <td>Wes McKinney</td>\n",
              "      <td>43310.0</td>\n",
              "    </tr>\n",
              "    <tr>\n",
              "      <th>7</th>\n",
              "      <td>7813132</td>\n",
              "      <td>2011-10-18 20:16:12</td>\n",
              "      <td>10</td>\n",
              "      <td>18917</td>\n",
              "      <td>Convert array of string (category) to array of...</td>\n",
              "      <td>3</td>\n",
              "      <td>0</td>\n",
              "      <td>6.0</td>\n",
              "      <td>Jean-Pat</td>\n",
              "      <td>882.0</td>\n",
              "      <td>Wes McKinney</td>\n",
              "      <td>43310.0</td>\n",
              "    </tr>\n",
              "    <tr>\n",
              "      <th>8</th>\n",
              "      <td>7837722</td>\n",
              "      <td>2011-10-20 14:46:14</td>\n",
              "      <td>201</td>\n",
              "      <td>223746</td>\n",
              "      <td>What is the most efficient way to loop through...</td>\n",
              "      <td>8</td>\n",
              "      <td>3</td>\n",
              "      <td>115.0</td>\n",
              "      <td>Muppet</td>\n",
              "      <td>1563.0</td>\n",
              "      <td>Nick Crawford</td>\n",
              "      <td>2779.0</td>\n",
              "    </tr>\n",
              "    <tr>\n",
              "      <th>14</th>\n",
              "      <td>8916302</td>\n",
              "      <td>2012-01-18 19:41:27</td>\n",
              "      <td>29</td>\n",
              "      <td>20614</td>\n",
              "      <td>selecting across multiple columns with python ...</td>\n",
              "      <td>3</td>\n",
              "      <td>0</td>\n",
              "      <td>14.0</td>\n",
              "      <td>user248237dfsf</td>\n",
              "      <td>19244.0</td>\n",
              "      <td>Wes McKinney</td>\n",
              "      <td>43310.0</td>\n",
              "    </tr>\n",
              "    <tr>\n",
              "      <th>17</th>\n",
              "      <td>8991709</td>\n",
              "      <td>2012-01-24 17:59:53</td>\n",
              "      <td>136</td>\n",
              "      <td>16783</td>\n",
              "      <td>Why are pandas merges in python faster than da...</td>\n",
              "      <td>3</td>\n",
              "      <td>16</td>\n",
              "      <td>60.0</td>\n",
              "      <td>Zach</td>\n",
              "      <td>12484.0</td>\n",
              "      <td>Matt Dowle</td>\n",
              "      <td>41275.0</td>\n",
              "    </tr>\n",
              "  </tbody>\n",
              "</table>\n",
              "</div>"
            ],
            "text/plain": [
              "         id         creationdate  score  ...  quest_rep       ans_name  ans_rep\n",
              "6   7776679  2011-10-15 08:21:17     25  ...      882.0   Wes McKinney  43310.0\n",
              "7   7813132  2011-10-18 20:16:12     10  ...      882.0   Wes McKinney  43310.0\n",
              "8   7837722  2011-10-20 14:46:14    201  ...     1563.0  Nick Crawford   2779.0\n",
              "14  8916302  2012-01-18 19:41:27     29  ...    19244.0   Wes McKinney  43310.0\n",
              "17  8991709  2012-01-24 17:59:53    136  ...    12484.0     Matt Dowle  41275.0\n",
              "\n",
              "[5 rows x 12 columns]"
            ]
          },
          "metadata": {
            "tags": []
          },
          "execution_count": 11
        }
      ]
    },
    {
      "cell_type": "code",
      "metadata": {
        "id": "J7xlilkVb1Hk",
        "colab_type": "code",
        "colab": {
          "base_uri": "https://localhost:8080/",
          "height": 34
        },
        "outputId": "2fd2c166-c188-4bda-f25c-dabfaeb92b48"
      },
      "source": [
        "stof.shape"
      ],
      "execution_count": 12,
      "outputs": [
        {
          "output_type": "execute_result",
          "data": {
            "text/plain": [
              "(56398, 12)"
            ]
          },
          "metadata": {
            "tags": []
          },
          "execution_count": 12
        }
      ]
    },
    {
      "cell_type": "code",
      "metadata": {
        "id": "k9JNCBl5b4HL",
        "colab_type": "code",
        "colab": {
          "base_uri": "https://localhost:8080/",
          "height": 34
        },
        "outputId": "f51e995c-6f80-465e-cfb6-067cf5dc4082"
      },
      "source": [
        "stof_score_10_or_more.shape"
      ],
      "execution_count": 13,
      "outputs": [
        {
          "output_type": "execute_result",
          "data": {
            "text/plain": [
              "(1505, 12)"
            ]
          },
          "metadata": {
            "tags": []
          },
          "execution_count": 13
        }
      ]
    },
    {
      "cell_type": "markdown",
      "metadata": {
        "id": "Cvf9gus2b9ug",
        "colab_type": "text"
      },
      "source": [
        "*Z ponad 56tys. wierszy, warunek dla score spełnia 1505 wierszy*"
      ]
    },
    {
      "cell_type": "markdown",
      "metadata": {
        "id": "sQEWjNlRcUBK",
        "colab_type": "text"
      },
      "source": [
        "### Boolean selection in one line"
      ]
    },
    {
      "cell_type": "code",
      "metadata": {
        "id": "fUePqdMvcdyn",
        "colab_type": "code",
        "colab": {
          "base_uri": "https://localhost:8080/",
          "height": 289
        },
        "outputId": "45dbbeed-3241-4256-fcef-d07694dd6f45"
      },
      "source": [
        "stof[stof['score'] >= 10].head() #zapisanie powyższych warunków w jednej linii"
      ],
      "execution_count": 15,
      "outputs": [
        {
          "output_type": "execute_result",
          "data": {
            "text/html": [
              "<div>\n",
              "<style scoped>\n",
              "    .dataframe tbody tr th:only-of-type {\n",
              "        vertical-align: middle;\n",
              "    }\n",
              "\n",
              "    .dataframe tbody tr th {\n",
              "        vertical-align: top;\n",
              "    }\n",
              "\n",
              "    .dataframe thead th {\n",
              "        text-align: right;\n",
              "    }\n",
              "</style>\n",
              "<table border=\"1\" class=\"dataframe\">\n",
              "  <thead>\n",
              "    <tr style=\"text-align: right;\">\n",
              "      <th></th>\n",
              "      <th>id</th>\n",
              "      <th>creationdate</th>\n",
              "      <th>score</th>\n",
              "      <th>viewcount</th>\n",
              "      <th>title</th>\n",
              "      <th>answercount</th>\n",
              "      <th>commentcount</th>\n",
              "      <th>favoritecount</th>\n",
              "      <th>quest_name</th>\n",
              "      <th>quest_rep</th>\n",
              "      <th>ans_name</th>\n",
              "      <th>ans_rep</th>\n",
              "    </tr>\n",
              "  </thead>\n",
              "  <tbody>\n",
              "    <tr>\n",
              "      <th>6</th>\n",
              "      <td>7776679</td>\n",
              "      <td>2011-10-15 08:21:17</td>\n",
              "      <td>25</td>\n",
              "      <td>28159</td>\n",
              "      <td>append two data frame with pandas</td>\n",
              "      <td>2</td>\n",
              "      <td>7</td>\n",
              "      <td>4.0</td>\n",
              "      <td>Jean-Pat</td>\n",
              "      <td>882.0</td>\n",
              "      <td>Wes McKinney</td>\n",
              "      <td>43310.0</td>\n",
              "    </tr>\n",
              "    <tr>\n",
              "      <th>7</th>\n",
              "      <td>7813132</td>\n",
              "      <td>2011-10-18 20:16:12</td>\n",
              "      <td>10</td>\n",
              "      <td>18917</td>\n",
              "      <td>Convert array of string (category) to array of...</td>\n",
              "      <td>3</td>\n",
              "      <td>0</td>\n",
              "      <td>6.0</td>\n",
              "      <td>Jean-Pat</td>\n",
              "      <td>882.0</td>\n",
              "      <td>Wes McKinney</td>\n",
              "      <td>43310.0</td>\n",
              "    </tr>\n",
              "    <tr>\n",
              "      <th>8</th>\n",
              "      <td>7837722</td>\n",
              "      <td>2011-10-20 14:46:14</td>\n",
              "      <td>201</td>\n",
              "      <td>223746</td>\n",
              "      <td>What is the most efficient way to loop through...</td>\n",
              "      <td>8</td>\n",
              "      <td>3</td>\n",
              "      <td>115.0</td>\n",
              "      <td>Muppet</td>\n",
              "      <td>1563.0</td>\n",
              "      <td>Nick Crawford</td>\n",
              "      <td>2779.0</td>\n",
              "    </tr>\n",
              "    <tr>\n",
              "      <th>14</th>\n",
              "      <td>8916302</td>\n",
              "      <td>2012-01-18 19:41:27</td>\n",
              "      <td>29</td>\n",
              "      <td>20614</td>\n",
              "      <td>selecting across multiple columns with python ...</td>\n",
              "      <td>3</td>\n",
              "      <td>0</td>\n",
              "      <td>14.0</td>\n",
              "      <td>user248237dfsf</td>\n",
              "      <td>19244.0</td>\n",
              "      <td>Wes McKinney</td>\n",
              "      <td>43310.0</td>\n",
              "    </tr>\n",
              "    <tr>\n",
              "      <th>17</th>\n",
              "      <td>8991709</td>\n",
              "      <td>2012-01-24 17:59:53</td>\n",
              "      <td>136</td>\n",
              "      <td>16783</td>\n",
              "      <td>Why are pandas merges in python faster than da...</td>\n",
              "      <td>3</td>\n",
              "      <td>16</td>\n",
              "      <td>60.0</td>\n",
              "      <td>Zach</td>\n",
              "      <td>12484.0</td>\n",
              "      <td>Matt Dowle</td>\n",
              "      <td>41275.0</td>\n",
              "    </tr>\n",
              "  </tbody>\n",
              "</table>\n",
              "</div>"
            ],
            "text/plain": [
              "         id         creationdate  score  ...  quest_rep       ans_name  ans_rep\n",
              "6   7776679  2011-10-15 08:21:17     25  ...      882.0   Wes McKinney  43310.0\n",
              "7   7813132  2011-10-18 20:16:12     10  ...      882.0   Wes McKinney  43310.0\n",
              "8   7837722  2011-10-20 14:46:14    201  ...     1563.0  Nick Crawford   2779.0\n",
              "14  8916302  2012-01-18 19:41:27     29  ...    19244.0   Wes McKinney  43310.0\n",
              "17  8991709  2012-01-24 17:59:53    136  ...    12484.0     Matt Dowle  41275.0\n",
              "\n",
              "[5 rows x 12 columns]"
            ]
          },
          "metadata": {
            "tags": []
          },
          "execution_count": 15
        }
      ]
    },
    {
      "cell_type": "code",
      "metadata": {
        "id": "b5VyPJnqc6vv",
        "colab_type": "code",
        "colab": {
          "base_uri": "https://localhost:8080/",
          "height": 119
        },
        "outputId": "10beecfc-1ff2-48a0-c25d-ae88241a3402"
      },
      "source": [
        "criteria = stof['ans_name'] == 'Scott Boston' #kryterium, by nazwa odpowiadającego to Scott Boston\n",
        "criteria.head()"
      ],
      "execution_count": 16,
      "outputs": [
        {
          "output_type": "execute_result",
          "data": {
            "text/plain": [
              "0    False\n",
              "1    False\n",
              "2    False\n",
              "3    False\n",
              "4    False\n",
              "Name: ans_name, dtype: bool"
            ]
          },
          "metadata": {
            "tags": []
          },
          "execution_count": 16
        }
      ]
    },
    {
      "cell_type": "code",
      "metadata": {
        "id": "4eIA7VbAdN7v",
        "colab_type": "code",
        "colab": {
          "base_uri": "https://localhost:8080/",
          "height": 289
        },
        "outputId": "d0cb5a37-ec1a-4354-8f88-19bb6c375880"
      },
      "source": [
        "stof[criteria].head()"
      ],
      "execution_count": 17,
      "outputs": [
        {
          "output_type": "execute_result",
          "data": {
            "text/html": [
              "<div>\n",
              "<style scoped>\n",
              "    .dataframe tbody tr th:only-of-type {\n",
              "        vertical-align: middle;\n",
              "    }\n",
              "\n",
              "    .dataframe tbody tr th {\n",
              "        vertical-align: top;\n",
              "    }\n",
              "\n",
              "    .dataframe thead th {\n",
              "        text-align: right;\n",
              "    }\n",
              "</style>\n",
              "<table border=\"1\" class=\"dataframe\">\n",
              "  <thead>\n",
              "    <tr style=\"text-align: right;\">\n",
              "      <th></th>\n",
              "      <th>id</th>\n",
              "      <th>creationdate</th>\n",
              "      <th>score</th>\n",
              "      <th>viewcount</th>\n",
              "      <th>title</th>\n",
              "      <th>answercount</th>\n",
              "      <th>commentcount</th>\n",
              "      <th>favoritecount</th>\n",
              "      <th>quest_name</th>\n",
              "      <th>quest_rep</th>\n",
              "      <th>ans_name</th>\n",
              "      <th>ans_rep</th>\n",
              "    </tr>\n",
              "  </thead>\n",
              "  <tbody>\n",
              "    <tr>\n",
              "      <th>38161</th>\n",
              "      <td>43491342</td>\n",
              "      <td>2017-04-19 09:14:28</td>\n",
              "      <td>4</td>\n",
              "      <td>167</td>\n",
              "      <td>Merging pandas dataframes based on nearest val...</td>\n",
              "      <td>1</td>\n",
              "      <td>0</td>\n",
              "      <td>NaN</td>\n",
              "      <td>AkiRoss</td>\n",
              "      <td>3991.0</td>\n",
              "      <td>Scott Boston</td>\n",
              "      <td>23611.0</td>\n",
              "    </tr>\n",
              "    <tr>\n",
              "      <th>38178</th>\n",
              "      <td>43190850</td>\n",
              "      <td>2017-04-03 17:31:33</td>\n",
              "      <td>1</td>\n",
              "      <td>284</td>\n",
              "      <td>Python Seaborn Plot ValueError</td>\n",
              "      <td>2</td>\n",
              "      <td>3</td>\n",
              "      <td>NaN</td>\n",
              "      <td>Ryan</td>\n",
              "      <td>545.0</td>\n",
              "      <td>Scott Boston</td>\n",
              "      <td>23611.0</td>\n",
              "    </tr>\n",
              "    <tr>\n",
              "      <th>38237</th>\n",
              "      <td>43176052</td>\n",
              "      <td>2017-04-03 03:21:12</td>\n",
              "      <td>2</td>\n",
              "      <td>39</td>\n",
              "      <td>Convert an indexed pandas matrix to a flat dat...</td>\n",
              "      <td>2</td>\n",
              "      <td>0</td>\n",
              "      <td>NaN</td>\n",
              "      <td>alvas</td>\n",
              "      <td>31923.0</td>\n",
              "      <td>Scott Boston</td>\n",
              "      <td>23611.0</td>\n",
              "    </tr>\n",
              "    <tr>\n",
              "      <th>38246</th>\n",
              "      <td>43209525</td>\n",
              "      <td>2017-04-04 14:03:17</td>\n",
              "      <td>5</td>\n",
              "      <td>131</td>\n",
              "      <td>Pandas: Optimal way to MultiIndex columns</td>\n",
              "      <td>2</td>\n",
              "      <td>0</td>\n",
              "      <td>0.0</td>\n",
              "      <td>sparc_spread</td>\n",
              "      <td>5470.0</td>\n",
              "      <td>Scott Boston</td>\n",
              "      <td>23611.0</td>\n",
              "    </tr>\n",
              "    <tr>\n",
              "      <th>38275</th>\n",
              "      <td>43211893</td>\n",
              "      <td>2017-04-04 15:45:17</td>\n",
              "      <td>0</td>\n",
              "      <td>38</td>\n",
              "      <td>How to calculate a index series for a event wi...</td>\n",
              "      <td>1</td>\n",
              "      <td>3</td>\n",
              "      <td>NaN</td>\n",
              "      <td>zsljulius</td>\n",
              "      <td>1102.0</td>\n",
              "      <td>Scott Boston</td>\n",
              "      <td>23611.0</td>\n",
              "    </tr>\n",
              "  </tbody>\n",
              "</table>\n",
              "</div>"
            ],
            "text/plain": [
              "             id         creationdate  score  ...  quest_rep      ans_name  ans_rep\n",
              "38161  43491342  2017-04-19 09:14:28      4  ...     3991.0  Scott Boston  23611.0\n",
              "38178  43190850  2017-04-03 17:31:33      1  ...      545.0  Scott Boston  23611.0\n",
              "38237  43176052  2017-04-03 03:21:12      2  ...    31923.0  Scott Boston  23611.0\n",
              "38246  43209525  2017-04-04 14:03:17      5  ...     5470.0  Scott Boston  23611.0\n",
              "38275  43211893  2017-04-04 15:45:17      0  ...     1102.0  Scott Boston  23611.0\n",
              "\n",
              "[5 rows x 12 columns]"
            ]
          },
          "metadata": {
            "tags": []
          },
          "execution_count": 17
        }
      ]
    },
    {
      "cell_type": "code",
      "metadata": {
        "id": "caKJDu8LdVyq",
        "colab_type": "code",
        "colab": {
          "base_uri": "https://localhost:8080/",
          "height": 289
        },
        "outputId": "392fc72d-49f9-4fba-9c39-708c3fe30e72"
      },
      "source": [
        "stof[stof['ans_name']== 'Scott Boston'].head()"
      ],
      "execution_count": 18,
      "outputs": [
        {
          "output_type": "execute_result",
          "data": {
            "text/html": [
              "<div>\n",
              "<style scoped>\n",
              "    .dataframe tbody tr th:only-of-type {\n",
              "        vertical-align: middle;\n",
              "    }\n",
              "\n",
              "    .dataframe tbody tr th {\n",
              "        vertical-align: top;\n",
              "    }\n",
              "\n",
              "    .dataframe thead th {\n",
              "        text-align: right;\n",
              "    }\n",
              "</style>\n",
              "<table border=\"1\" class=\"dataframe\">\n",
              "  <thead>\n",
              "    <tr style=\"text-align: right;\">\n",
              "      <th></th>\n",
              "      <th>id</th>\n",
              "      <th>creationdate</th>\n",
              "      <th>score</th>\n",
              "      <th>viewcount</th>\n",
              "      <th>title</th>\n",
              "      <th>answercount</th>\n",
              "      <th>commentcount</th>\n",
              "      <th>favoritecount</th>\n",
              "      <th>quest_name</th>\n",
              "      <th>quest_rep</th>\n",
              "      <th>ans_name</th>\n",
              "      <th>ans_rep</th>\n",
              "    </tr>\n",
              "  </thead>\n",
              "  <tbody>\n",
              "    <tr>\n",
              "      <th>38161</th>\n",
              "      <td>43491342</td>\n",
              "      <td>2017-04-19 09:14:28</td>\n",
              "      <td>4</td>\n",
              "      <td>167</td>\n",
              "      <td>Merging pandas dataframes based on nearest val...</td>\n",
              "      <td>1</td>\n",
              "      <td>0</td>\n",
              "      <td>NaN</td>\n",
              "      <td>AkiRoss</td>\n",
              "      <td>3991.0</td>\n",
              "      <td>Scott Boston</td>\n",
              "      <td>23611.0</td>\n",
              "    </tr>\n",
              "    <tr>\n",
              "      <th>38178</th>\n",
              "      <td>43190850</td>\n",
              "      <td>2017-04-03 17:31:33</td>\n",
              "      <td>1</td>\n",
              "      <td>284</td>\n",
              "      <td>Python Seaborn Plot ValueError</td>\n",
              "      <td>2</td>\n",
              "      <td>3</td>\n",
              "      <td>NaN</td>\n",
              "      <td>Ryan</td>\n",
              "      <td>545.0</td>\n",
              "      <td>Scott Boston</td>\n",
              "      <td>23611.0</td>\n",
              "    </tr>\n",
              "    <tr>\n",
              "      <th>38237</th>\n",
              "      <td>43176052</td>\n",
              "      <td>2017-04-03 03:21:12</td>\n",
              "      <td>2</td>\n",
              "      <td>39</td>\n",
              "      <td>Convert an indexed pandas matrix to a flat dat...</td>\n",
              "      <td>2</td>\n",
              "      <td>0</td>\n",
              "      <td>NaN</td>\n",
              "      <td>alvas</td>\n",
              "      <td>31923.0</td>\n",
              "      <td>Scott Boston</td>\n",
              "      <td>23611.0</td>\n",
              "    </tr>\n",
              "    <tr>\n",
              "      <th>38246</th>\n",
              "      <td>43209525</td>\n",
              "      <td>2017-04-04 14:03:17</td>\n",
              "      <td>5</td>\n",
              "      <td>131</td>\n",
              "      <td>Pandas: Optimal way to MultiIndex columns</td>\n",
              "      <td>2</td>\n",
              "      <td>0</td>\n",
              "      <td>0.0</td>\n",
              "      <td>sparc_spread</td>\n",
              "      <td>5470.0</td>\n",
              "      <td>Scott Boston</td>\n",
              "      <td>23611.0</td>\n",
              "    </tr>\n",
              "    <tr>\n",
              "      <th>38275</th>\n",
              "      <td>43211893</td>\n",
              "      <td>2017-04-04 15:45:17</td>\n",
              "      <td>0</td>\n",
              "      <td>38</td>\n",
              "      <td>How to calculate a index series for a event wi...</td>\n",
              "      <td>1</td>\n",
              "      <td>3</td>\n",
              "      <td>NaN</td>\n",
              "      <td>zsljulius</td>\n",
              "      <td>1102.0</td>\n",
              "      <td>Scott Boston</td>\n",
              "      <td>23611.0</td>\n",
              "    </tr>\n",
              "  </tbody>\n",
              "</table>\n",
              "</div>"
            ],
            "text/plain": [
              "             id         creationdate  score  ...  quest_rep      ans_name  ans_rep\n",
              "38161  43491342  2017-04-19 09:14:28      4  ...     3991.0  Scott Boston  23611.0\n",
              "38178  43190850  2017-04-03 17:31:33      1  ...      545.0  Scott Boston  23611.0\n",
              "38237  43176052  2017-04-03 03:21:12      2  ...    31923.0  Scott Boston  23611.0\n",
              "38246  43209525  2017-04-04 14:03:17      5  ...     5470.0  Scott Boston  23611.0\n",
              "38275  43211893  2017-04-04 15:45:17      0  ...     1102.0  Scott Boston  23611.0\n",
              "\n",
              "[5 rows x 12 columns]"
            ]
          },
          "metadata": {
            "tags": []
          },
          "execution_count": 18
        }
      ]
    },
    {
      "cell_type": "markdown",
      "metadata": {
        "id": "XK7q-iz7d7XA",
        "colab_type": "text"
      },
      "source": [
        "## Multiple conditions"
      ]
    },
    {
      "cell_type": "markdown",
      "metadata": {
        "id": "nCL1k0kZebUU",
        "colab_type": "text"
      },
      "source": [
        "**&  and**\n",
        "**|  or**\n",
        "**~   not**"
      ]
    },
    {
      "cell_type": "markdown",
      "metadata": {
        "id": "hG-ycUPdgU4g",
        "colab_type": "text"
      },
      "source": [
        "**AND  &**"
      ]
    },
    {
      "cell_type": "markdown",
      "metadata": {
        "id": "iRAWu8VoesyQ",
        "colab_type": "text"
      },
      "source": [
        "*Wiersze, dla których score >=5, a autorem odpowiedzi był Scott Boston*"
      ]
    },
    {
      "cell_type": "markdown",
      "metadata": {
        "id": "YyysS88TfcIw",
        "colab_type": "text"
      },
      "source": [
        "### 1 sposób - przypisanie warunku do listy boolean"
      ]
    },
    {
      "cell_type": "code",
      "metadata": {
        "id": "jXAbtf-4ez27",
        "colab_type": "code",
        "colab": {
          "base_uri": "https://localhost:8080/",
          "height": 289
        },
        "outputId": "c86f632d-a67b-4206-938a-205d2a10718d"
      },
      "source": [
        "condition1 = stof['score']>=5\n",
        "condition2 = stof['ans_name'] == 'Scott Boston'\n",
        "condition_all = condition1 & condition2\n",
        "stof[condition_all].head()"
      ],
      "execution_count": 19,
      "outputs": [
        {
          "output_type": "execute_result",
          "data": {
            "text/html": [
              "<div>\n",
              "<style scoped>\n",
              "    .dataframe tbody tr th:only-of-type {\n",
              "        vertical-align: middle;\n",
              "    }\n",
              "\n",
              "    .dataframe tbody tr th {\n",
              "        vertical-align: top;\n",
              "    }\n",
              "\n",
              "    .dataframe thead th {\n",
              "        text-align: right;\n",
              "    }\n",
              "</style>\n",
              "<table border=\"1\" class=\"dataframe\">\n",
              "  <thead>\n",
              "    <tr style=\"text-align: right;\">\n",
              "      <th></th>\n",
              "      <th>id</th>\n",
              "      <th>creationdate</th>\n",
              "      <th>score</th>\n",
              "      <th>viewcount</th>\n",
              "      <th>title</th>\n",
              "      <th>answercount</th>\n",
              "      <th>commentcount</th>\n",
              "      <th>favoritecount</th>\n",
              "      <th>quest_name</th>\n",
              "      <th>quest_rep</th>\n",
              "      <th>ans_name</th>\n",
              "      <th>ans_rep</th>\n",
              "    </tr>\n",
              "  </thead>\n",
              "  <tbody>\n",
              "    <tr>\n",
              "      <th>38246</th>\n",
              "      <td>43209525</td>\n",
              "      <td>2017-04-04 14:03:17</td>\n",
              "      <td>5</td>\n",
              "      <td>131</td>\n",
              "      <td>Pandas: Optimal way to MultiIndex columns</td>\n",
              "      <td>2</td>\n",
              "      <td>0</td>\n",
              "      <td>0.0</td>\n",
              "      <td>sparc_spread</td>\n",
              "      <td>5470.0</td>\n",
              "      <td>Scott Boston</td>\n",
              "      <td>23611.0</td>\n",
              "    </tr>\n",
              "    <tr>\n",
              "      <th>38640</th>\n",
              "      <td>42870703</td>\n",
              "      <td>2017-03-18 05:06:22</td>\n",
              "      <td>5</td>\n",
              "      <td>125</td>\n",
              "      <td>Simultaneous operation of groupby and resample...</td>\n",
              "      <td>1</td>\n",
              "      <td>0</td>\n",
              "      <td>1.0</td>\n",
              "      <td>S. Naribole</td>\n",
              "      <td>43.0</td>\n",
              "      <td>Scott Boston</td>\n",
              "      <td>23611.0</td>\n",
              "    </tr>\n",
              "    <tr>\n",
              "      <th>44358</th>\n",
              "      <td>45064916</td>\n",
              "      <td>2017-07-12 18:16:49</td>\n",
              "      <td>5</td>\n",
              "      <td>428</td>\n",
              "      <td>How to find the correlation between a group of...</td>\n",
              "      <td>2</td>\n",
              "      <td>5</td>\n",
              "      <td>NaN</td>\n",
              "      <td>BKS</td>\n",
              "      <td>506.0</td>\n",
              "      <td>Scott Boston</td>\n",
              "      <td>23611.0</td>\n",
              "    </tr>\n",
              "    <tr>\n",
              "      <th>44814</th>\n",
              "      <td>44877663</td>\n",
              "      <td>2017-07-03 04:07:59</td>\n",
              "      <td>9</td>\n",
              "      <td>1267</td>\n",
              "      <td>Error: float object has no attribute notnull</td>\n",
              "      <td>3</td>\n",
              "      <td>2</td>\n",
              "      <td>1.0</td>\n",
              "      <td>Vivian  Tio</td>\n",
              "      <td>181.0</td>\n",
              "      <td>Scott Boston</td>\n",
              "      <td>23611.0</td>\n",
              "    </tr>\n",
              "    <tr>\n",
              "      <th>52013</th>\n",
              "      <td>47061564</td>\n",
              "      <td>2017-11-01 18:40:36</td>\n",
              "      <td>5</td>\n",
              "      <td>60</td>\n",
              "      <td>How to create strings from dataframe columns e...</td>\n",
              "      <td>5</td>\n",
              "      <td>0</td>\n",
              "      <td>NaN</td>\n",
              "      <td>hernanavella</td>\n",
              "      <td>1890.0</td>\n",
              "      <td>Scott Boston</td>\n",
              "      <td>23611.0</td>\n",
              "    </tr>\n",
              "  </tbody>\n",
              "</table>\n",
              "</div>"
            ],
            "text/plain": [
              "             id         creationdate  score  ...  quest_rep      ans_name  ans_rep\n",
              "38246  43209525  2017-04-04 14:03:17      5  ...     5470.0  Scott Boston  23611.0\n",
              "38640  42870703  2017-03-18 05:06:22      5  ...       43.0  Scott Boston  23611.0\n",
              "44358  45064916  2017-07-12 18:16:49      5  ...      506.0  Scott Boston  23611.0\n",
              "44814  44877663  2017-07-03 04:07:59      9  ...      181.0  Scott Boston  23611.0\n",
              "52013  47061564  2017-11-01 18:40:36      5  ...     1890.0  Scott Boston  23611.0\n",
              "\n",
              "[5 rows x 12 columns]"
            ]
          },
          "metadata": {
            "tags": []
          },
          "execution_count": 19
        }
      ]
    },
    {
      "cell_type": "markdown",
      "metadata": {
        "id": "VRUtHlp0fit8",
        "colab_type": "text"
      },
      "source": [
        "### 2gi sposób - w jednej linii\n",
        "warunki wrzucone do () i połączone &"
      ]
    },
    {
      "cell_type": "code",
      "metadata": {
        "id": "02V0_qtdfm-c",
        "colab_type": "code",
        "colab": {
          "base_uri": "https://localhost:8080/",
          "height": 289
        },
        "outputId": "77edad21-b9af-4f58-dc66-aecb972108b9"
      },
      "source": [
        "stof[(stof['score']>=5) & (stof['ans_name'] == 'Scott Boston')].head()"
      ],
      "execution_count": 21,
      "outputs": [
        {
          "output_type": "execute_result",
          "data": {
            "text/html": [
              "<div>\n",
              "<style scoped>\n",
              "    .dataframe tbody tr th:only-of-type {\n",
              "        vertical-align: middle;\n",
              "    }\n",
              "\n",
              "    .dataframe tbody tr th {\n",
              "        vertical-align: top;\n",
              "    }\n",
              "\n",
              "    .dataframe thead th {\n",
              "        text-align: right;\n",
              "    }\n",
              "</style>\n",
              "<table border=\"1\" class=\"dataframe\">\n",
              "  <thead>\n",
              "    <tr style=\"text-align: right;\">\n",
              "      <th></th>\n",
              "      <th>id</th>\n",
              "      <th>creationdate</th>\n",
              "      <th>score</th>\n",
              "      <th>viewcount</th>\n",
              "      <th>title</th>\n",
              "      <th>answercount</th>\n",
              "      <th>commentcount</th>\n",
              "      <th>favoritecount</th>\n",
              "      <th>quest_name</th>\n",
              "      <th>quest_rep</th>\n",
              "      <th>ans_name</th>\n",
              "      <th>ans_rep</th>\n",
              "    </tr>\n",
              "  </thead>\n",
              "  <tbody>\n",
              "    <tr>\n",
              "      <th>38246</th>\n",
              "      <td>43209525</td>\n",
              "      <td>2017-04-04 14:03:17</td>\n",
              "      <td>5</td>\n",
              "      <td>131</td>\n",
              "      <td>Pandas: Optimal way to MultiIndex columns</td>\n",
              "      <td>2</td>\n",
              "      <td>0</td>\n",
              "      <td>0.0</td>\n",
              "      <td>sparc_spread</td>\n",
              "      <td>5470.0</td>\n",
              "      <td>Scott Boston</td>\n",
              "      <td>23611.0</td>\n",
              "    </tr>\n",
              "    <tr>\n",
              "      <th>38640</th>\n",
              "      <td>42870703</td>\n",
              "      <td>2017-03-18 05:06:22</td>\n",
              "      <td>5</td>\n",
              "      <td>125</td>\n",
              "      <td>Simultaneous operation of groupby and resample...</td>\n",
              "      <td>1</td>\n",
              "      <td>0</td>\n",
              "      <td>1.0</td>\n",
              "      <td>S. Naribole</td>\n",
              "      <td>43.0</td>\n",
              "      <td>Scott Boston</td>\n",
              "      <td>23611.0</td>\n",
              "    </tr>\n",
              "    <tr>\n",
              "      <th>44358</th>\n",
              "      <td>45064916</td>\n",
              "      <td>2017-07-12 18:16:49</td>\n",
              "      <td>5</td>\n",
              "      <td>428</td>\n",
              "      <td>How to find the correlation between a group of...</td>\n",
              "      <td>2</td>\n",
              "      <td>5</td>\n",
              "      <td>NaN</td>\n",
              "      <td>BKS</td>\n",
              "      <td>506.0</td>\n",
              "      <td>Scott Boston</td>\n",
              "      <td>23611.0</td>\n",
              "    </tr>\n",
              "    <tr>\n",
              "      <th>44814</th>\n",
              "      <td>44877663</td>\n",
              "      <td>2017-07-03 04:07:59</td>\n",
              "      <td>9</td>\n",
              "      <td>1267</td>\n",
              "      <td>Error: float object has no attribute notnull</td>\n",
              "      <td>3</td>\n",
              "      <td>2</td>\n",
              "      <td>1.0</td>\n",
              "      <td>Vivian  Tio</td>\n",
              "      <td>181.0</td>\n",
              "      <td>Scott Boston</td>\n",
              "      <td>23611.0</td>\n",
              "    </tr>\n",
              "    <tr>\n",
              "      <th>52013</th>\n",
              "      <td>47061564</td>\n",
              "      <td>2017-11-01 18:40:36</td>\n",
              "      <td>5</td>\n",
              "      <td>60</td>\n",
              "      <td>How to create strings from dataframe columns e...</td>\n",
              "      <td>5</td>\n",
              "      <td>0</td>\n",
              "      <td>NaN</td>\n",
              "      <td>hernanavella</td>\n",
              "      <td>1890.0</td>\n",
              "      <td>Scott Boston</td>\n",
              "      <td>23611.0</td>\n",
              "    </tr>\n",
              "  </tbody>\n",
              "</table>\n",
              "</div>"
            ],
            "text/plain": [
              "             id         creationdate  score  ...  quest_rep      ans_name  ans_rep\n",
              "38246  43209525  2017-04-04 14:03:17      5  ...     5470.0  Scott Boston  23611.0\n",
              "38640  42870703  2017-03-18 05:06:22      5  ...       43.0  Scott Boston  23611.0\n",
              "44358  45064916  2017-07-12 18:16:49      5  ...      506.0  Scott Boston  23611.0\n",
              "44814  44877663  2017-07-03 04:07:59      9  ...      181.0  Scott Boston  23611.0\n",
              "52013  47061564  2017-11-01 18:40:36      5  ...     1890.0  Scott Boston  23611.0\n",
              "\n",
              "[5 rows x 12 columns]"
            ]
          },
          "metadata": {
            "tags": []
          },
          "execution_count": 21
        }
      ]
    },
    {
      "cell_type": "markdown",
      "metadata": {
        "id": "xhzbafGKgZzh",
        "colab_type": "text"
      },
      "source": [
        "**OR  |**"
      ]
    },
    {
      "cell_type": "markdown",
      "metadata": {
        "id": "pSFDQ8BngdFc",
        "colab_type": "text"
      },
      "source": [
        "*pytania, dla których punktacja była co najmniej 100, a odpowiedzi było co najmniej 10*"
      ]
    },
    {
      "cell_type": "code",
      "metadata": {
        "id": "s_kxg4PYgisK",
        "colab_type": "code",
        "colab": {
          "base_uri": "https://localhost:8080/",
          "height": 306
        },
        "outputId": "85801047-4739-4fec-d59a-5956a74486fc"
      },
      "source": [
        "condition1 = stof['score']>=100\n",
        "condition2 = stof['answercount']>=10\n",
        "condition_all = condition1 | condition2\n",
        "stof[condition_all].head()"
      ],
      "execution_count": 23,
      "outputs": [
        {
          "output_type": "execute_result",
          "data": {
            "text/html": [
              "<div>\n",
              "<style scoped>\n",
              "    .dataframe tbody tr th:only-of-type {\n",
              "        vertical-align: middle;\n",
              "    }\n",
              "\n",
              "    .dataframe tbody tr th {\n",
              "        vertical-align: top;\n",
              "    }\n",
              "\n",
              "    .dataframe thead th {\n",
              "        text-align: right;\n",
              "    }\n",
              "</style>\n",
              "<table border=\"1\" class=\"dataframe\">\n",
              "  <thead>\n",
              "    <tr style=\"text-align: right;\">\n",
              "      <th></th>\n",
              "      <th>id</th>\n",
              "      <th>creationdate</th>\n",
              "      <th>score</th>\n",
              "      <th>viewcount</th>\n",
              "      <th>title</th>\n",
              "      <th>answercount</th>\n",
              "      <th>commentcount</th>\n",
              "      <th>favoritecount</th>\n",
              "      <th>quest_name</th>\n",
              "      <th>quest_rep</th>\n",
              "      <th>ans_name</th>\n",
              "      <th>ans_rep</th>\n",
              "    </tr>\n",
              "  </thead>\n",
              "  <tbody>\n",
              "    <tr>\n",
              "      <th>8</th>\n",
              "      <td>7837722</td>\n",
              "      <td>2011-10-20 14:46:14</td>\n",
              "      <td>201</td>\n",
              "      <td>223746</td>\n",
              "      <td>What is the most efficient way to loop through...</td>\n",
              "      <td>8</td>\n",
              "      <td>3</td>\n",
              "      <td>115.0</td>\n",
              "      <td>Muppet</td>\n",
              "      <td>1563.0</td>\n",
              "      <td>Nick Crawford</td>\n",
              "      <td>2779.0</td>\n",
              "    </tr>\n",
              "    <tr>\n",
              "      <th>17</th>\n",
              "      <td>8991709</td>\n",
              "      <td>2012-01-24 17:59:53</td>\n",
              "      <td>136</td>\n",
              "      <td>16783</td>\n",
              "      <td>Why are pandas merges in python faster than da...</td>\n",
              "      <td>3</td>\n",
              "      <td>16</td>\n",
              "      <td>60.0</td>\n",
              "      <td>Zach</td>\n",
              "      <td>12484.0</td>\n",
              "      <td>Matt Dowle</td>\n",
              "      <td>41275.0</td>\n",
              "    </tr>\n",
              "    <tr>\n",
              "      <th>60</th>\n",
              "      <td>10065051</td>\n",
              "      <td>2012-04-08 18:01:13</td>\n",
              "      <td>83</td>\n",
              "      <td>77902</td>\n",
              "      <td>python-pandas and databases like mysql</td>\n",
              "      <td>11</td>\n",
              "      <td>4</td>\n",
              "      <td>65.0</td>\n",
              "      <td>user1320615</td>\n",
              "      <td>532.0</td>\n",
              "      <td>NaN</td>\n",
              "      <td>NaN</td>\n",
              "    </tr>\n",
              "    <tr>\n",
              "      <th>75</th>\n",
              "      <td>10373660</td>\n",
              "      <td>2012-04-29 16:10:35</td>\n",
              "      <td>199</td>\n",
              "      <td>207980</td>\n",
              "      <td>Converting a Pandas GroupBy object to DataFrame</td>\n",
              "      <td>5</td>\n",
              "      <td>0</td>\n",
              "      <td>90.0</td>\n",
              "      <td>saveenr</td>\n",
              "      <td>2421.0</td>\n",
              "      <td>Wes McKinney</td>\n",
              "      <td>43310.0</td>\n",
              "    </tr>\n",
              "    <tr>\n",
              "      <th>99</th>\n",
              "      <td>10636024</td>\n",
              "      <td>2012-05-17 12:48:00</td>\n",
              "      <td>36</td>\n",
              "      <td>30386</td>\n",
              "      <td>Python / Pandas - GUI for viewing a DataFrame ...</td>\n",
              "      <td>15</td>\n",
              "      <td>6</td>\n",
              "      <td>27.0</td>\n",
              "      <td>Ross R</td>\n",
              "      <td>1562.0</td>\n",
              "      <td>user1319128</td>\n",
              "      <td>555.0</td>\n",
              "    </tr>\n",
              "  </tbody>\n",
              "</table>\n",
              "</div>"
            ],
            "text/plain": [
              "          id         creationdate  score  ...  quest_rep       ans_name  ans_rep\n",
              "8    7837722  2011-10-20 14:46:14    201  ...     1563.0  Nick Crawford   2779.0\n",
              "17   8991709  2012-01-24 17:59:53    136  ...    12484.0     Matt Dowle  41275.0\n",
              "60  10065051  2012-04-08 18:01:13     83  ...      532.0            NaN      NaN\n",
              "75  10373660  2012-04-29 16:10:35    199  ...     2421.0   Wes McKinney  43310.0\n",
              "99  10636024  2012-05-17 12:48:00     36  ...     1562.0    user1319128    555.0\n",
              "\n",
              "[5 rows x 12 columns]"
            ]
          },
          "metadata": {
            "tags": []
          },
          "execution_count": 23
        }
      ]
    },
    {
      "cell_type": "code",
      "metadata": {
        "id": "iPMvTC3ghXUh",
        "colab_type": "code",
        "colab": {
          "base_uri": "https://localhost:8080/",
          "height": 306
        },
        "outputId": "0779d043-76fa-499d-ebec-a4c698ca9a4b"
      },
      "source": [
        "stof[(stof['score']>=100) | (stof['answercount']>=10)].head()"
      ],
      "execution_count": 24,
      "outputs": [
        {
          "output_type": "execute_result",
          "data": {
            "text/html": [
              "<div>\n",
              "<style scoped>\n",
              "    .dataframe tbody tr th:only-of-type {\n",
              "        vertical-align: middle;\n",
              "    }\n",
              "\n",
              "    .dataframe tbody tr th {\n",
              "        vertical-align: top;\n",
              "    }\n",
              "\n",
              "    .dataframe thead th {\n",
              "        text-align: right;\n",
              "    }\n",
              "</style>\n",
              "<table border=\"1\" class=\"dataframe\">\n",
              "  <thead>\n",
              "    <tr style=\"text-align: right;\">\n",
              "      <th></th>\n",
              "      <th>id</th>\n",
              "      <th>creationdate</th>\n",
              "      <th>score</th>\n",
              "      <th>viewcount</th>\n",
              "      <th>title</th>\n",
              "      <th>answercount</th>\n",
              "      <th>commentcount</th>\n",
              "      <th>favoritecount</th>\n",
              "      <th>quest_name</th>\n",
              "      <th>quest_rep</th>\n",
              "      <th>ans_name</th>\n",
              "      <th>ans_rep</th>\n",
              "    </tr>\n",
              "  </thead>\n",
              "  <tbody>\n",
              "    <tr>\n",
              "      <th>8</th>\n",
              "      <td>7837722</td>\n",
              "      <td>2011-10-20 14:46:14</td>\n",
              "      <td>201</td>\n",
              "      <td>223746</td>\n",
              "      <td>What is the most efficient way to loop through...</td>\n",
              "      <td>8</td>\n",
              "      <td>3</td>\n",
              "      <td>115.0</td>\n",
              "      <td>Muppet</td>\n",
              "      <td>1563.0</td>\n",
              "      <td>Nick Crawford</td>\n",
              "      <td>2779.0</td>\n",
              "    </tr>\n",
              "    <tr>\n",
              "      <th>17</th>\n",
              "      <td>8991709</td>\n",
              "      <td>2012-01-24 17:59:53</td>\n",
              "      <td>136</td>\n",
              "      <td>16783</td>\n",
              "      <td>Why are pandas merges in python faster than da...</td>\n",
              "      <td>3</td>\n",
              "      <td>16</td>\n",
              "      <td>60.0</td>\n",
              "      <td>Zach</td>\n",
              "      <td>12484.0</td>\n",
              "      <td>Matt Dowle</td>\n",
              "      <td>41275.0</td>\n",
              "    </tr>\n",
              "    <tr>\n",
              "      <th>60</th>\n",
              "      <td>10065051</td>\n",
              "      <td>2012-04-08 18:01:13</td>\n",
              "      <td>83</td>\n",
              "      <td>77902</td>\n",
              "      <td>python-pandas and databases like mysql</td>\n",
              "      <td>11</td>\n",
              "      <td>4</td>\n",
              "      <td>65.0</td>\n",
              "      <td>user1320615</td>\n",
              "      <td>532.0</td>\n",
              "      <td>NaN</td>\n",
              "      <td>NaN</td>\n",
              "    </tr>\n",
              "    <tr>\n",
              "      <th>75</th>\n",
              "      <td>10373660</td>\n",
              "      <td>2012-04-29 16:10:35</td>\n",
              "      <td>199</td>\n",
              "      <td>207980</td>\n",
              "      <td>Converting a Pandas GroupBy object to DataFrame</td>\n",
              "      <td>5</td>\n",
              "      <td>0</td>\n",
              "      <td>90.0</td>\n",
              "      <td>saveenr</td>\n",
              "      <td>2421.0</td>\n",
              "      <td>Wes McKinney</td>\n",
              "      <td>43310.0</td>\n",
              "    </tr>\n",
              "    <tr>\n",
              "      <th>99</th>\n",
              "      <td>10636024</td>\n",
              "      <td>2012-05-17 12:48:00</td>\n",
              "      <td>36</td>\n",
              "      <td>30386</td>\n",
              "      <td>Python / Pandas - GUI for viewing a DataFrame ...</td>\n",
              "      <td>15</td>\n",
              "      <td>6</td>\n",
              "      <td>27.0</td>\n",
              "      <td>Ross R</td>\n",
              "      <td>1562.0</td>\n",
              "      <td>user1319128</td>\n",
              "      <td>555.0</td>\n",
              "    </tr>\n",
              "  </tbody>\n",
              "</table>\n",
              "</div>"
            ],
            "text/plain": [
              "          id         creationdate  score  ...  quest_rep       ans_name  ans_rep\n",
              "8    7837722  2011-10-20 14:46:14    201  ...     1563.0  Nick Crawford   2779.0\n",
              "17   8991709  2012-01-24 17:59:53    136  ...    12484.0     Matt Dowle  41275.0\n",
              "60  10065051  2012-04-08 18:01:13     83  ...      532.0            NaN      NaN\n",
              "75  10373660  2012-04-29 16:10:35    199  ...     2421.0   Wes McKinney  43310.0\n",
              "99  10636024  2012-05-17 12:48:00     36  ...     1562.0    user1319128    555.0\n",
              "\n",
              "[5 rows x 12 columns]"
            ]
          },
          "metadata": {
            "tags": []
          },
          "execution_count": 24
        }
      ]
    },
    {
      "cell_type": "markdown",
      "metadata": {
        "id": "9EJOBN3Mhpz9",
        "colab_type": "text"
      },
      "source": [
        "**NOT ~**\n",
        "*pytania z punktacją większą niż 100*"
      ]
    },
    {
      "cell_type": "code",
      "metadata": {
        "id": "50pd4q2NhyCu",
        "colab_type": "code",
        "colab": {
          "base_uri": "https://localhost:8080/",
          "height": 289
        },
        "outputId": "e4e11eb2-3293-4729-8f9d-31046d94fcd3"
      },
      "source": [
        "stof[~(stof['score']<=100)].head()"
      ],
      "execution_count": 27,
      "outputs": [
        {
          "output_type": "execute_result",
          "data": {
            "text/html": [
              "<div>\n",
              "<style scoped>\n",
              "    .dataframe tbody tr th:only-of-type {\n",
              "        vertical-align: middle;\n",
              "    }\n",
              "\n",
              "    .dataframe tbody tr th {\n",
              "        vertical-align: top;\n",
              "    }\n",
              "\n",
              "    .dataframe thead th {\n",
              "        text-align: right;\n",
              "    }\n",
              "</style>\n",
              "<table border=\"1\" class=\"dataframe\">\n",
              "  <thead>\n",
              "    <tr style=\"text-align: right;\">\n",
              "      <th></th>\n",
              "      <th>id</th>\n",
              "      <th>creationdate</th>\n",
              "      <th>score</th>\n",
              "      <th>viewcount</th>\n",
              "      <th>title</th>\n",
              "      <th>answercount</th>\n",
              "      <th>commentcount</th>\n",
              "      <th>favoritecount</th>\n",
              "      <th>quest_name</th>\n",
              "      <th>quest_rep</th>\n",
              "      <th>ans_name</th>\n",
              "      <th>ans_rep</th>\n",
              "    </tr>\n",
              "  </thead>\n",
              "  <tbody>\n",
              "    <tr>\n",
              "      <th>8</th>\n",
              "      <td>7837722</td>\n",
              "      <td>2011-10-20 14:46:14</td>\n",
              "      <td>201</td>\n",
              "      <td>223746</td>\n",
              "      <td>What is the most efficient way to loop through...</td>\n",
              "      <td>8</td>\n",
              "      <td>3</td>\n",
              "      <td>115.0</td>\n",
              "      <td>Muppet</td>\n",
              "      <td>1563.0</td>\n",
              "      <td>Nick Crawford</td>\n",
              "      <td>2779.0</td>\n",
              "    </tr>\n",
              "    <tr>\n",
              "      <th>17</th>\n",
              "      <td>8991709</td>\n",
              "      <td>2012-01-24 17:59:53</td>\n",
              "      <td>136</td>\n",
              "      <td>16783</td>\n",
              "      <td>Why are pandas merges in python faster than da...</td>\n",
              "      <td>3</td>\n",
              "      <td>16</td>\n",
              "      <td>60.0</td>\n",
              "      <td>Zach</td>\n",
              "      <td>12484.0</td>\n",
              "      <td>Matt Dowle</td>\n",
              "      <td>41275.0</td>\n",
              "    </tr>\n",
              "    <tr>\n",
              "      <th>75</th>\n",
              "      <td>10373660</td>\n",
              "      <td>2012-04-29 16:10:35</td>\n",
              "      <td>199</td>\n",
              "      <td>207980</td>\n",
              "      <td>Converting a Pandas GroupBy object to DataFrame</td>\n",
              "      <td>5</td>\n",
              "      <td>0</td>\n",
              "      <td>90.0</td>\n",
              "      <td>saveenr</td>\n",
              "      <td>2421.0</td>\n",
              "      <td>Wes McKinney</td>\n",
              "      <td>43310.0</td>\n",
              "    </tr>\n",
              "    <tr>\n",
              "      <th>100</th>\n",
              "      <td>10665889</td>\n",
              "      <td>2012-05-19 14:11:42</td>\n",
              "      <td>144</td>\n",
              "      <td>179896</td>\n",
              "      <td>How to take column-slices of dataframe in pandas</td>\n",
              "      <td>7</td>\n",
              "      <td>3</td>\n",
              "      <td>65.0</td>\n",
              "      <td>cpa</td>\n",
              "      <td>988.0</td>\n",
              "      <td>Ted Petrou</td>\n",
              "      <td>10426.0</td>\n",
              "    </tr>\n",
              "    <tr>\n",
              "      <th>106</th>\n",
              "      <td>10715965</td>\n",
              "      <td>2012-05-23 08:12:31</td>\n",
              "      <td>340</td>\n",
              "      <td>408347</td>\n",
              "      <td>add one row in a pandas.DataFrame</td>\n",
              "      <td>15</td>\n",
              "      <td>3</td>\n",
              "      <td>89.0</td>\n",
              "      <td>PhE</td>\n",
              "      <td>1988.0</td>\n",
              "      <td>fred</td>\n",
              "      <td>2342.0</td>\n",
              "    </tr>\n",
              "  </tbody>\n",
              "</table>\n",
              "</div>"
            ],
            "text/plain": [
              "           id         creationdate  score  ...  quest_rep       ans_name  ans_rep\n",
              "8     7837722  2011-10-20 14:46:14    201  ...     1563.0  Nick Crawford   2779.0\n",
              "17    8991709  2012-01-24 17:59:53    136  ...    12484.0     Matt Dowle  41275.0\n",
              "75   10373660  2012-04-29 16:10:35    199  ...     2421.0   Wes McKinney  43310.0\n",
              "100  10665889  2012-05-19 14:11:42    144  ...      988.0     Ted Petrou  10426.0\n",
              "106  10715965  2012-05-23 08:12:31    340  ...     1988.0           fred   2342.0\n",
              "\n",
              "[5 rows x 12 columns]"
            ]
          },
          "metadata": {
            "tags": []
          },
          "execution_count": 27
        }
      ]
    },
    {
      "cell_type": "markdown",
      "metadata": {
        "id": "4zfXgZByicPv",
        "colab_type": "text"
      },
      "source": [
        "## Complex condition"
      ]
    },
    {
      "cell_type": "markdown",
      "metadata": {
        "id": "_xDIfsaTigiI",
        "colab_type": "text"
      },
      "source": [
        "*pytania odpowiedziane przez Scott Boston z punktacją 5 i więcej lub odpowiedziane przez Ted Petrou z punktacją 5 i więcej*\n",
        "**Warunki muszą być w nawiasach**"
      ]
    },
    {
      "cell_type": "code",
      "metadata": {
        "id": "8gIqOmDdiwdZ",
        "colab_type": "code",
        "colab": {
          "base_uri": "https://localhost:8080/",
          "height": 289
        },
        "outputId": "3e1eef26-6ec5-4db8-a71c-7145ffb284cf"
      },
      "source": [
        "stof[((stof['ans_name'] == 'Scott Boston') & (stof['score']>=5)) | ((stof['ans_name'] == 'Ted Petrou') & (stof['score']>=5))].head()"
      ],
      "execution_count": 28,
      "outputs": [
        {
          "output_type": "execute_result",
          "data": {
            "text/html": [
              "<div>\n",
              "<style scoped>\n",
              "    .dataframe tbody tr th:only-of-type {\n",
              "        vertical-align: middle;\n",
              "    }\n",
              "\n",
              "    .dataframe tbody tr th {\n",
              "        vertical-align: top;\n",
              "    }\n",
              "\n",
              "    .dataframe thead th {\n",
              "        text-align: right;\n",
              "    }\n",
              "</style>\n",
              "<table border=\"1\" class=\"dataframe\">\n",
              "  <thead>\n",
              "    <tr style=\"text-align: right;\">\n",
              "      <th></th>\n",
              "      <th>id</th>\n",
              "      <th>creationdate</th>\n",
              "      <th>score</th>\n",
              "      <th>viewcount</th>\n",
              "      <th>title</th>\n",
              "      <th>answercount</th>\n",
              "      <th>commentcount</th>\n",
              "      <th>favoritecount</th>\n",
              "      <th>quest_name</th>\n",
              "      <th>quest_rep</th>\n",
              "      <th>ans_name</th>\n",
              "      <th>ans_rep</th>\n",
              "    </tr>\n",
              "  </thead>\n",
              "  <tbody>\n",
              "    <tr>\n",
              "      <th>100</th>\n",
              "      <td>10665889</td>\n",
              "      <td>2012-05-19 14:11:42</td>\n",
              "      <td>144</td>\n",
              "      <td>179896</td>\n",
              "      <td>How to take column-slices of dataframe in pandas</td>\n",
              "      <td>7</td>\n",
              "      <td>3</td>\n",
              "      <td>65.0</td>\n",
              "      <td>cpa</td>\n",
              "      <td>988.0</td>\n",
              "      <td>Ted Petrou</td>\n",
              "      <td>10426.0</td>\n",
              "    </tr>\n",
              "    <tr>\n",
              "      <th>38246</th>\n",
              "      <td>43209525</td>\n",
              "      <td>2017-04-04 14:03:17</td>\n",
              "      <td>5</td>\n",
              "      <td>131</td>\n",
              "      <td>Pandas: Optimal way to MultiIndex columns</td>\n",
              "      <td>2</td>\n",
              "      <td>0</td>\n",
              "      <td>0.0</td>\n",
              "      <td>sparc_spread</td>\n",
              "      <td>5470.0</td>\n",
              "      <td>Scott Boston</td>\n",
              "      <td>23611.0</td>\n",
              "    </tr>\n",
              "    <tr>\n",
              "      <th>38640</th>\n",
              "      <td>42870703</td>\n",
              "      <td>2017-03-18 05:06:22</td>\n",
              "      <td>5</td>\n",
              "      <td>125</td>\n",
              "      <td>Simultaneous operation of groupby and resample...</td>\n",
              "      <td>1</td>\n",
              "      <td>0</td>\n",
              "      <td>1.0</td>\n",
              "      <td>S. Naribole</td>\n",
              "      <td>43.0</td>\n",
              "      <td>Scott Boston</td>\n",
              "      <td>23611.0</td>\n",
              "    </tr>\n",
              "    <tr>\n",
              "      <th>44358</th>\n",
              "      <td>45064916</td>\n",
              "      <td>2017-07-12 18:16:49</td>\n",
              "      <td>5</td>\n",
              "      <td>428</td>\n",
              "      <td>How to find the correlation between a group of...</td>\n",
              "      <td>2</td>\n",
              "      <td>5</td>\n",
              "      <td>NaN</td>\n",
              "      <td>BKS</td>\n",
              "      <td>506.0</td>\n",
              "      <td>Scott Boston</td>\n",
              "      <td>23611.0</td>\n",
              "    </tr>\n",
              "    <tr>\n",
              "      <th>44386</th>\n",
              "      <td>44635626</td>\n",
              "      <td>2017-06-19 16:28:34</td>\n",
              "      <td>7</td>\n",
              "      <td>1966</td>\n",
              "      <td>Pandas aggregation warning (FutureWarning: usi...</td>\n",
              "      <td>1</td>\n",
              "      <td>1</td>\n",
              "      <td>2.0</td>\n",
              "      <td>Victor Mayrink</td>\n",
              "      <td>92.0</td>\n",
              "      <td>Ted Petrou</td>\n",
              "      <td>10426.0</td>\n",
              "    </tr>\n",
              "  </tbody>\n",
              "</table>\n",
              "</div>"
            ],
            "text/plain": [
              "             id         creationdate  score  ...  quest_rep      ans_name  ans_rep\n",
              "100    10665889  2012-05-19 14:11:42    144  ...      988.0    Ted Petrou  10426.0\n",
              "38246  43209525  2017-04-04 14:03:17      5  ...     5470.0  Scott Boston  23611.0\n",
              "38640  42870703  2017-03-18 05:06:22      5  ...       43.0  Scott Boston  23611.0\n",
              "44358  45064916  2017-07-12 18:16:49      5  ...      506.0  Scott Boston  23611.0\n",
              "44386  44635626  2017-06-19 16:28:34      7  ...       92.0    Ted Petrou  10426.0\n",
              "\n",
              "[5 rows x 12 columns]"
            ]
          },
          "metadata": {
            "tags": []
          },
          "execution_count": 28
        }
      ]
    },
    {
      "cell_type": "markdown",
      "metadata": {
        "id": "wb6t2zjFjtW2",
        "colab_type": "text"
      },
      "source": [
        "**isin  - many condition with or in one column**\n",
        "\n",
        "*pytania odpowiedziane przez Scott Boston, Ted Petrou, MaxU, unutbu*"
      ]
    },
    {
      "cell_type": "markdown",
      "metadata": {
        "id": "cOxAQFo0kzUF",
        "colab_type": "text"
      },
      "source": [
        "wersja 1"
      ]
    },
    {
      "cell_type": "code",
      "metadata": {
        "id": "wd2IuHRpkBa5",
        "colab_type": "code",
        "colab": {
          "base_uri": "https://localhost:8080/",
          "height": 289
        },
        "outputId": "a761d49a-34c1-4aa4-c9a2-3d6eb244f656"
      },
      "source": [
        "criteria = ((stof['ans_name'] == 'Scott Boston') | (stof['ans_name'] == 'Ted Petrou') | (stof['ans_name'] == 'MaxU') | (stof['ans_name'] == 'unutbu'))\n",
        "stof[criteria].head()"
      ],
      "execution_count": 29,
      "outputs": [
        {
          "output_type": "execute_result",
          "data": {
            "text/html": [
              "<div>\n",
              "<style scoped>\n",
              "    .dataframe tbody tr th:only-of-type {\n",
              "        vertical-align: middle;\n",
              "    }\n",
              "\n",
              "    .dataframe tbody tr th {\n",
              "        vertical-align: top;\n",
              "    }\n",
              "\n",
              "    .dataframe thead th {\n",
              "        text-align: right;\n",
              "    }\n",
              "</style>\n",
              "<table border=\"1\" class=\"dataframe\">\n",
              "  <thead>\n",
              "    <tr style=\"text-align: right;\">\n",
              "      <th></th>\n",
              "      <th>id</th>\n",
              "      <th>creationdate</th>\n",
              "      <th>score</th>\n",
              "      <th>viewcount</th>\n",
              "      <th>title</th>\n",
              "      <th>answercount</th>\n",
              "      <th>commentcount</th>\n",
              "      <th>favoritecount</th>\n",
              "      <th>quest_name</th>\n",
              "      <th>quest_rep</th>\n",
              "      <th>ans_name</th>\n",
              "      <th>ans_rep</th>\n",
              "    </tr>\n",
              "  </thead>\n",
              "  <tbody>\n",
              "    <tr>\n",
              "      <th>100</th>\n",
              "      <td>10665889</td>\n",
              "      <td>2012-05-19 14:11:42</td>\n",
              "      <td>144</td>\n",
              "      <td>179896</td>\n",
              "      <td>How to take column-slices of dataframe in pandas</td>\n",
              "      <td>7</td>\n",
              "      <td>3</td>\n",
              "      <td>65.0</td>\n",
              "      <td>cpa</td>\n",
              "      <td>988.0</td>\n",
              "      <td>Ted Petrou</td>\n",
              "      <td>10426.0</td>\n",
              "    </tr>\n",
              "    <tr>\n",
              "      <th>574</th>\n",
              "      <td>13385860</td>\n",
              "      <td>2012-11-14 19:25:28</td>\n",
              "      <td>29</td>\n",
              "      <td>31712</td>\n",
              "      <td>How can I remove extra whitespace from strings...</td>\n",
              "      <td>6</td>\n",
              "      <td>0</td>\n",
              "      <td>17.0</td>\n",
              "      <td>mpjan</td>\n",
              "      <td>530.0</td>\n",
              "      <td>unutbu</td>\n",
              "      <td>464745.0</td>\n",
              "    </tr>\n",
              "    <tr>\n",
              "      <th>593</th>\n",
              "      <td>13446480</td>\n",
              "      <td>2012-11-19 01:20:07</td>\n",
              "      <td>18</td>\n",
              "      <td>7969</td>\n",
              "      <td>Python Pandas: remove entries based on the num...</td>\n",
              "      <td>4</td>\n",
              "      <td>1</td>\n",
              "      <td>7.0</td>\n",
              "      <td>sashkello</td>\n",
              "      <td>8714.0</td>\n",
              "      <td>unutbu</td>\n",
              "      <td>464745.0</td>\n",
              "    </tr>\n",
              "    <tr>\n",
              "      <th>599</th>\n",
              "      <td>13460889</td>\n",
              "      <td>2012-11-19 19:39:06</td>\n",
              "      <td>8</td>\n",
              "      <td>3168</td>\n",
              "      <td>How to redirect all methods of a contained cla...</td>\n",
              "      <td>2</td>\n",
              "      <td>4</td>\n",
              "      <td>5.0</td>\n",
              "      <td>Yariv</td>\n",
              "      <td>5013.0</td>\n",
              "      <td>unutbu</td>\n",
              "      <td>464745.0</td>\n",
              "    </tr>\n",
              "    <tr>\n",
              "      <th>639</th>\n",
              "      <td>13653030</td>\n",
              "      <td>2012-11-30 20:54:35</td>\n",
              "      <td>6</td>\n",
              "      <td>11798</td>\n",
              "      <td>How do I Pass a List of Series to a Pandas Dat...</td>\n",
              "      <td>5</td>\n",
              "      <td>1</td>\n",
              "      <td>1.0</td>\n",
              "      <td>rhaskett</td>\n",
              "      <td>323.0</td>\n",
              "      <td>unutbu</td>\n",
              "      <td>464745.0</td>\n",
              "    </tr>\n",
              "  </tbody>\n",
              "</table>\n",
              "</div>"
            ],
            "text/plain": [
              "           id         creationdate  score  ...  quest_rep    ans_name   ans_rep\n",
              "100  10665889  2012-05-19 14:11:42    144  ...      988.0  Ted Petrou   10426.0\n",
              "574  13385860  2012-11-14 19:25:28     29  ...      530.0      unutbu  464745.0\n",
              "593  13446480  2012-11-19 01:20:07     18  ...     8714.0      unutbu  464745.0\n",
              "599  13460889  2012-11-19 19:39:06      8  ...     5013.0      unutbu  464745.0\n",
              "639  13653030  2012-11-30 20:54:35      6  ...      323.0      unutbu  464745.0\n",
              "\n",
              "[5 rows x 12 columns]"
            ]
          },
          "metadata": {
            "tags": []
          },
          "execution_count": 29
        }
      ]
    },
    {
      "cell_type": "markdown",
      "metadata": {
        "id": "zSWNF7Axk3IO",
        "colab_type": "text"
      },
      "source": [
        "wersja 2"
      ]
    },
    {
      "cell_type": "code",
      "metadata": {
        "id": "MIJSf-gCk4Q4",
        "colab_type": "code",
        "colab": {
          "base_uri": "https://localhost:8080/",
          "height": 289
        },
        "outputId": "4757af88-9dcc-4a1b-82ab-42d30d14aebe"
      },
      "source": [
        "criteria = stof['ans_name'].isin(['Scott Boston', 'Ted Petrou', 'MaxU', 'unutbu'])\n",
        "stof[criteria].head()"
      ],
      "execution_count": 30,
      "outputs": [
        {
          "output_type": "execute_result",
          "data": {
            "text/html": [
              "<div>\n",
              "<style scoped>\n",
              "    .dataframe tbody tr th:only-of-type {\n",
              "        vertical-align: middle;\n",
              "    }\n",
              "\n",
              "    .dataframe tbody tr th {\n",
              "        vertical-align: top;\n",
              "    }\n",
              "\n",
              "    .dataframe thead th {\n",
              "        text-align: right;\n",
              "    }\n",
              "</style>\n",
              "<table border=\"1\" class=\"dataframe\">\n",
              "  <thead>\n",
              "    <tr style=\"text-align: right;\">\n",
              "      <th></th>\n",
              "      <th>id</th>\n",
              "      <th>creationdate</th>\n",
              "      <th>score</th>\n",
              "      <th>viewcount</th>\n",
              "      <th>title</th>\n",
              "      <th>answercount</th>\n",
              "      <th>commentcount</th>\n",
              "      <th>favoritecount</th>\n",
              "      <th>quest_name</th>\n",
              "      <th>quest_rep</th>\n",
              "      <th>ans_name</th>\n",
              "      <th>ans_rep</th>\n",
              "    </tr>\n",
              "  </thead>\n",
              "  <tbody>\n",
              "    <tr>\n",
              "      <th>100</th>\n",
              "      <td>10665889</td>\n",
              "      <td>2012-05-19 14:11:42</td>\n",
              "      <td>144</td>\n",
              "      <td>179896</td>\n",
              "      <td>How to take column-slices of dataframe in pandas</td>\n",
              "      <td>7</td>\n",
              "      <td>3</td>\n",
              "      <td>65.0</td>\n",
              "      <td>cpa</td>\n",
              "      <td>988.0</td>\n",
              "      <td>Ted Petrou</td>\n",
              "      <td>10426.0</td>\n",
              "    </tr>\n",
              "    <tr>\n",
              "      <th>574</th>\n",
              "      <td>13385860</td>\n",
              "      <td>2012-11-14 19:25:28</td>\n",
              "      <td>29</td>\n",
              "      <td>31712</td>\n",
              "      <td>How can I remove extra whitespace from strings...</td>\n",
              "      <td>6</td>\n",
              "      <td>0</td>\n",
              "      <td>17.0</td>\n",
              "      <td>mpjan</td>\n",
              "      <td>530.0</td>\n",
              "      <td>unutbu</td>\n",
              "      <td>464745.0</td>\n",
              "    </tr>\n",
              "    <tr>\n",
              "      <th>593</th>\n",
              "      <td>13446480</td>\n",
              "      <td>2012-11-19 01:20:07</td>\n",
              "      <td>18</td>\n",
              "      <td>7969</td>\n",
              "      <td>Python Pandas: remove entries based on the num...</td>\n",
              "      <td>4</td>\n",
              "      <td>1</td>\n",
              "      <td>7.0</td>\n",
              "      <td>sashkello</td>\n",
              "      <td>8714.0</td>\n",
              "      <td>unutbu</td>\n",
              "      <td>464745.0</td>\n",
              "    </tr>\n",
              "    <tr>\n",
              "      <th>599</th>\n",
              "      <td>13460889</td>\n",
              "      <td>2012-11-19 19:39:06</td>\n",
              "      <td>8</td>\n",
              "      <td>3168</td>\n",
              "      <td>How to redirect all methods of a contained cla...</td>\n",
              "      <td>2</td>\n",
              "      <td>4</td>\n",
              "      <td>5.0</td>\n",
              "      <td>Yariv</td>\n",
              "      <td>5013.0</td>\n",
              "      <td>unutbu</td>\n",
              "      <td>464745.0</td>\n",
              "    </tr>\n",
              "    <tr>\n",
              "      <th>639</th>\n",
              "      <td>13653030</td>\n",
              "      <td>2012-11-30 20:54:35</td>\n",
              "      <td>6</td>\n",
              "      <td>11798</td>\n",
              "      <td>How do I Pass a List of Series to a Pandas Dat...</td>\n",
              "      <td>5</td>\n",
              "      <td>1</td>\n",
              "      <td>1.0</td>\n",
              "      <td>rhaskett</td>\n",
              "      <td>323.0</td>\n",
              "      <td>unutbu</td>\n",
              "      <td>464745.0</td>\n",
              "    </tr>\n",
              "  </tbody>\n",
              "</table>\n",
              "</div>"
            ],
            "text/plain": [
              "           id         creationdate  score  ...  quest_rep    ans_name   ans_rep\n",
              "100  10665889  2012-05-19 14:11:42    144  ...      988.0  Ted Petrou   10426.0\n",
              "574  13385860  2012-11-14 19:25:28     29  ...      530.0      unutbu  464745.0\n",
              "593  13446480  2012-11-19 01:20:07     18  ...     8714.0      unutbu  464745.0\n",
              "599  13460889  2012-11-19 19:39:06      8  ...     5013.0      unutbu  464745.0\n",
              "639  13653030  2012-11-30 20:54:35      6  ...      323.0      unutbu  464745.0\n",
              "\n",
              "[5 rows x 12 columns]"
            ]
          },
          "metadata": {
            "tags": []
          },
          "execution_count": 30
        }
      ]
    },
    {
      "cell_type": "code",
      "metadata": {
        "id": "47Fs38hMlSxt",
        "colab_type": "code",
        "colab": {
          "base_uri": "https://localhost:8080/",
          "height": 289
        },
        "outputId": "e240d226-635a-4c03-e25a-f570c9d7bc27"
      },
      "source": [
        "stof[stof['ans_name'].isin(['Scott Boston', 'Ted Petrou', 'MaxU', 'unutbu'])].head()"
      ],
      "execution_count": 32,
      "outputs": [
        {
          "output_type": "execute_result",
          "data": {
            "text/html": [
              "<div>\n",
              "<style scoped>\n",
              "    .dataframe tbody tr th:only-of-type {\n",
              "        vertical-align: middle;\n",
              "    }\n",
              "\n",
              "    .dataframe tbody tr th {\n",
              "        vertical-align: top;\n",
              "    }\n",
              "\n",
              "    .dataframe thead th {\n",
              "        text-align: right;\n",
              "    }\n",
              "</style>\n",
              "<table border=\"1\" class=\"dataframe\">\n",
              "  <thead>\n",
              "    <tr style=\"text-align: right;\">\n",
              "      <th></th>\n",
              "      <th>id</th>\n",
              "      <th>creationdate</th>\n",
              "      <th>score</th>\n",
              "      <th>viewcount</th>\n",
              "      <th>title</th>\n",
              "      <th>answercount</th>\n",
              "      <th>commentcount</th>\n",
              "      <th>favoritecount</th>\n",
              "      <th>quest_name</th>\n",
              "      <th>quest_rep</th>\n",
              "      <th>ans_name</th>\n",
              "      <th>ans_rep</th>\n",
              "    </tr>\n",
              "  </thead>\n",
              "  <tbody>\n",
              "    <tr>\n",
              "      <th>100</th>\n",
              "      <td>10665889</td>\n",
              "      <td>2012-05-19 14:11:42</td>\n",
              "      <td>144</td>\n",
              "      <td>179896</td>\n",
              "      <td>How to take column-slices of dataframe in pandas</td>\n",
              "      <td>7</td>\n",
              "      <td>3</td>\n",
              "      <td>65.0</td>\n",
              "      <td>cpa</td>\n",
              "      <td>988.0</td>\n",
              "      <td>Ted Petrou</td>\n",
              "      <td>10426.0</td>\n",
              "    </tr>\n",
              "    <tr>\n",
              "      <th>574</th>\n",
              "      <td>13385860</td>\n",
              "      <td>2012-11-14 19:25:28</td>\n",
              "      <td>29</td>\n",
              "      <td>31712</td>\n",
              "      <td>How can I remove extra whitespace from strings...</td>\n",
              "      <td>6</td>\n",
              "      <td>0</td>\n",
              "      <td>17.0</td>\n",
              "      <td>mpjan</td>\n",
              "      <td>530.0</td>\n",
              "      <td>unutbu</td>\n",
              "      <td>464745.0</td>\n",
              "    </tr>\n",
              "    <tr>\n",
              "      <th>593</th>\n",
              "      <td>13446480</td>\n",
              "      <td>2012-11-19 01:20:07</td>\n",
              "      <td>18</td>\n",
              "      <td>7969</td>\n",
              "      <td>Python Pandas: remove entries based on the num...</td>\n",
              "      <td>4</td>\n",
              "      <td>1</td>\n",
              "      <td>7.0</td>\n",
              "      <td>sashkello</td>\n",
              "      <td>8714.0</td>\n",
              "      <td>unutbu</td>\n",
              "      <td>464745.0</td>\n",
              "    </tr>\n",
              "    <tr>\n",
              "      <th>599</th>\n",
              "      <td>13460889</td>\n",
              "      <td>2012-11-19 19:39:06</td>\n",
              "      <td>8</td>\n",
              "      <td>3168</td>\n",
              "      <td>How to redirect all methods of a contained cla...</td>\n",
              "      <td>2</td>\n",
              "      <td>4</td>\n",
              "      <td>5.0</td>\n",
              "      <td>Yariv</td>\n",
              "      <td>5013.0</td>\n",
              "      <td>unutbu</td>\n",
              "      <td>464745.0</td>\n",
              "    </tr>\n",
              "    <tr>\n",
              "      <th>639</th>\n",
              "      <td>13653030</td>\n",
              "      <td>2012-11-30 20:54:35</td>\n",
              "      <td>6</td>\n",
              "      <td>11798</td>\n",
              "      <td>How do I Pass a List of Series to a Pandas Dat...</td>\n",
              "      <td>5</td>\n",
              "      <td>1</td>\n",
              "      <td>1.0</td>\n",
              "      <td>rhaskett</td>\n",
              "      <td>323.0</td>\n",
              "      <td>unutbu</td>\n",
              "      <td>464745.0</td>\n",
              "    </tr>\n",
              "  </tbody>\n",
              "</table>\n",
              "</div>"
            ],
            "text/plain": [
              "           id         creationdate  score  ...  quest_rep    ans_name   ans_rep\n",
              "100  10665889  2012-05-19 14:11:42    144  ...      988.0  Ted Petrou   10426.0\n",
              "574  13385860  2012-11-14 19:25:28     29  ...      530.0      unutbu  464745.0\n",
              "593  13446480  2012-11-19 01:20:07     18  ...     8714.0      unutbu  464745.0\n",
              "599  13460889  2012-11-19 19:39:06      8  ...     5013.0      unutbu  464745.0\n",
              "639  13653030  2012-11-30 20:54:35      6  ...      323.0      unutbu  464745.0\n",
              "\n",
              "[5 rows x 12 columns]"
            ]
          },
          "metadata": {
            "tags": []
          },
          "execution_count": 32
        }
      ]
    },
    {
      "cell_type": "markdown",
      "metadata": {
        "id": "tv8Y6ouJlnMN",
        "colab_type": "text"
      },
      "source": [
        "*Pytania odpowiedziane przez wyżej plus punkty wiecej niż 30*"
      ]
    },
    {
      "cell_type": "code",
      "metadata": {
        "id": "LKjbTMBblsn9",
        "colab_type": "code",
        "colab": {
          "base_uri": "https://localhost:8080/",
          "height": 306
        },
        "outputId": "8b05c2ed-c81d-4f6b-cc83-f72c52b5889c"
      },
      "source": [
        "stof[(stof['ans_name'].isin(['Scott Boston', 'Ted Petrou', 'MaxU', 'unutbu']))& (stof['score']>30)].head()"
      ],
      "execution_count": 33,
      "outputs": [
        {
          "output_type": "execute_result",
          "data": {
            "text/html": [
              "<div>\n",
              "<style scoped>\n",
              "    .dataframe tbody tr th:only-of-type {\n",
              "        vertical-align: middle;\n",
              "    }\n",
              "\n",
              "    .dataframe tbody tr th {\n",
              "        vertical-align: top;\n",
              "    }\n",
              "\n",
              "    .dataframe thead th {\n",
              "        text-align: right;\n",
              "    }\n",
              "</style>\n",
              "<table border=\"1\" class=\"dataframe\">\n",
              "  <thead>\n",
              "    <tr style=\"text-align: right;\">\n",
              "      <th></th>\n",
              "      <th>id</th>\n",
              "      <th>creationdate</th>\n",
              "      <th>score</th>\n",
              "      <th>viewcount</th>\n",
              "      <th>title</th>\n",
              "      <th>answercount</th>\n",
              "      <th>commentcount</th>\n",
              "      <th>favoritecount</th>\n",
              "      <th>quest_name</th>\n",
              "      <th>quest_rep</th>\n",
              "      <th>ans_name</th>\n",
              "      <th>ans_rep</th>\n",
              "    </tr>\n",
              "  </thead>\n",
              "  <tbody>\n",
              "    <tr>\n",
              "      <th>100</th>\n",
              "      <td>10665889</td>\n",
              "      <td>2012-05-19 14:11:42</td>\n",
              "      <td>144</td>\n",
              "      <td>179896</td>\n",
              "      <td>How to take column-slices of dataframe in pandas</td>\n",
              "      <td>7</td>\n",
              "      <td>3</td>\n",
              "      <td>65.0</td>\n",
              "      <td>cpa</td>\n",
              "      <td>988.0</td>\n",
              "      <td>Ted Petrou</td>\n",
              "      <td>10426.0</td>\n",
              "    </tr>\n",
              "    <tr>\n",
              "      <th>680</th>\n",
              "      <td>13842088</td>\n",
              "      <td>2012-12-12 14:40:45</td>\n",
              "      <td>160</td>\n",
              "      <td>219937</td>\n",
              "      <td>Set value for particular cell in pandas DataFrame</td>\n",
              "      <td>8</td>\n",
              "      <td>3</td>\n",
              "      <td>59.0</td>\n",
              "      <td>Mitkp</td>\n",
              "      <td>902.0</td>\n",
              "      <td>unutbu</td>\n",
              "      <td>464745.0</td>\n",
              "    </tr>\n",
              "    <tr>\n",
              "      <th>977</th>\n",
              "      <td>15465645</td>\n",
              "      <td>2013-03-17 20:12:23</td>\n",
              "      <td>36</td>\n",
              "      <td>33121</td>\n",
              "      <td>Plotting results of Pandas GroupBy</td>\n",
              "      <td>1</td>\n",
              "      <td>1</td>\n",
              "      <td>16.0</td>\n",
              "      <td>Maxim Zaslavsky</td>\n",
              "      <td>9617.0</td>\n",
              "      <td>unutbu</td>\n",
              "      <td>464745.0</td>\n",
              "    </tr>\n",
              "    <tr>\n",
              "      <th>1253</th>\n",
              "      <td>17071871</td>\n",
              "      <td>2013-06-12 17:42:05</td>\n",
              "      <td>475</td>\n",
              "      <td>549481</td>\n",
              "      <td>Select rows from a DataFrame based on values i...</td>\n",
              "      <td>10</td>\n",
              "      <td>0</td>\n",
              "      <td>294.0</td>\n",
              "      <td>szli</td>\n",
              "      <td>3374.0</td>\n",
              "      <td>unutbu</td>\n",
              "      <td>464745.0</td>\n",
              "    </tr>\n",
              "    <tr>\n",
              "      <th>1296</th>\n",
              "      <td>16522380</td>\n",
              "      <td>2013-05-13 12:44:17</td>\n",
              "      <td>56</td>\n",
              "      <td>35446</td>\n",
              "      <td>Matplotlib plot is a no-show</td>\n",
              "      <td>3</td>\n",
              "      <td>2</td>\n",
              "      <td>11.0</td>\n",
              "      <td>ncmathsadist</td>\n",
              "      <td>2406.0</td>\n",
              "      <td>unutbu</td>\n",
              "      <td>464745.0</td>\n",
              "    </tr>\n",
              "  </tbody>\n",
              "</table>\n",
              "</div>"
            ],
            "text/plain": [
              "            id         creationdate  score  ...  quest_rep    ans_name   ans_rep\n",
              "100   10665889  2012-05-19 14:11:42    144  ...      988.0  Ted Petrou   10426.0\n",
              "680   13842088  2012-12-12 14:40:45    160  ...      902.0      unutbu  464745.0\n",
              "977   15465645  2013-03-17 20:12:23     36  ...     9617.0      unutbu  464745.0\n",
              "1253  17071871  2013-06-12 17:42:05    475  ...     3374.0      unutbu  464745.0\n",
              "1296  16522380  2013-05-13 12:44:17     56  ...     2406.0      unutbu  464745.0\n",
              "\n",
              "[5 rows x 12 columns]"
            ]
          },
          "metadata": {
            "tags": []
          },
          "execution_count": 33
        }
      ]
    },
    {
      "cell_type": "markdown",
      "metadata": {
        "id": "KEq6vcIQmMBv",
        "colab_type": "text"
      },
      "source": [
        "### isnull - sprawdzanie gdzie są missing values"
      ]
    },
    {
      "cell_type": "markdown",
      "metadata": {
        "id": "cNQq5mE3mT2f",
        "colab_type": "text"
      },
      "source": [
        "*pytania, gdzie nie ma zaakceptowanej odpowiedzi, czyli ans_name - jest puste, bo nie ma autora zaakceptowanej odpowiedzi*"
      ]
    },
    {
      "cell_type": "code",
      "metadata": {
        "id": "H8b-GLfomsoh",
        "colab_type": "code",
        "colab": {
          "base_uri": "https://localhost:8080/",
          "height": 289
        },
        "outputId": "13957de8-3505-4378-c22a-c4cb434af1d6"
      },
      "source": [
        "no_answer = stof['ans_name'].isnull()\n",
        "stof[no_answer].head()"
      ],
      "execution_count": 34,
      "outputs": [
        {
          "output_type": "execute_result",
          "data": {
            "text/html": [
              "<div>\n",
              "<style scoped>\n",
              "    .dataframe tbody tr th:only-of-type {\n",
              "        vertical-align: middle;\n",
              "    }\n",
              "\n",
              "    .dataframe tbody tr th {\n",
              "        vertical-align: top;\n",
              "    }\n",
              "\n",
              "    .dataframe thead th {\n",
              "        text-align: right;\n",
              "    }\n",
              "</style>\n",
              "<table border=\"1\" class=\"dataframe\">\n",
              "  <thead>\n",
              "    <tr style=\"text-align: right;\">\n",
              "      <th></th>\n",
              "      <th>id</th>\n",
              "      <th>creationdate</th>\n",
              "      <th>score</th>\n",
              "      <th>viewcount</th>\n",
              "      <th>title</th>\n",
              "      <th>answercount</th>\n",
              "      <th>commentcount</th>\n",
              "      <th>favoritecount</th>\n",
              "      <th>quest_name</th>\n",
              "      <th>quest_rep</th>\n",
              "      <th>ans_name</th>\n",
              "      <th>ans_rep</th>\n",
              "    </tr>\n",
              "  </thead>\n",
              "  <tbody>\n",
              "    <tr>\n",
              "      <th>5</th>\n",
              "      <td>7766400</td>\n",
              "      <td>2011-10-14 10:33:54</td>\n",
              "      <td>2</td>\n",
              "      <td>977</td>\n",
              "      <td>Pandas + Django + mod_wsgi + virtualenv</td>\n",
              "      <td>1</td>\n",
              "      <td>2</td>\n",
              "      <td>1.0</td>\n",
              "      <td>Evan Davey</td>\n",
              "      <td>100.0</td>\n",
              "      <td>NaN</td>\n",
              "      <td>NaN</td>\n",
              "    </tr>\n",
              "    <tr>\n",
              "      <th>11</th>\n",
              "      <td>8451327</td>\n",
              "      <td>2011-12-09 20:27:24</td>\n",
              "      <td>1</td>\n",
              "      <td>2435</td>\n",
              "      <td>Python map() function output into Pandas DataF...</td>\n",
              "      <td>1</td>\n",
              "      <td>0</td>\n",
              "      <td>1.0</td>\n",
              "      <td>briant57</td>\n",
              "      <td>6.0</td>\n",
              "      <td>NaN</td>\n",
              "      <td>NaN</td>\n",
              "    </tr>\n",
              "    <tr>\n",
              "      <th>16</th>\n",
              "      <td>8966871</td>\n",
              "      <td>2012-01-23 03:21:00</td>\n",
              "      <td>0</td>\n",
              "      <td>287</td>\n",
              "      <td>Running Python/Numpy/Pandas on older secure co...</td>\n",
              "      <td>0</td>\n",
              "      <td>3</td>\n",
              "      <td>NaN</td>\n",
              "      <td>Casey</td>\n",
              "      <td>16.0</td>\n",
              "      <td>NaN</td>\n",
              "      <td>NaN</td>\n",
              "    </tr>\n",
              "    <tr>\n",
              "      <th>29</th>\n",
              "      <td>9641916</td>\n",
              "      <td>2012-03-09 22:36:52</td>\n",
              "      <td>7</td>\n",
              "      <td>5519</td>\n",
              "      <td>Python Pandas: can't find numpy.core.multiarra...</td>\n",
              "      <td>4</td>\n",
              "      <td>2</td>\n",
              "      <td>NaN</td>\n",
              "      <td>Dylan Cutler</td>\n",
              "      <td>41.0</td>\n",
              "      <td>NaN</td>\n",
              "      <td>NaN</td>\n",
              "    </tr>\n",
              "    <tr>\n",
              "      <th>30</th>\n",
              "      <td>9647656</td>\n",
              "      <td>2012-03-10 15:35:26</td>\n",
              "      <td>3</td>\n",
              "      <td>986</td>\n",
              "      <td>Pandas dataframe in mixed mode can't serialize...</td>\n",
              "      <td>1</td>\n",
              "      <td>0</td>\n",
              "      <td>NaN</td>\n",
              "      <td>David van Coevorden</td>\n",
              "      <td>45.0</td>\n",
              "      <td>NaN</td>\n",
              "      <td>NaN</td>\n",
              "    </tr>\n",
              "  </tbody>\n",
              "</table>\n",
              "</div>"
            ],
            "text/plain": [
              "         id         creationdate  score  ...  quest_rep ans_name  ans_rep\n",
              "5   7766400  2011-10-14 10:33:54      2  ...      100.0      NaN      NaN\n",
              "11  8451327  2011-12-09 20:27:24      1  ...        6.0      NaN      NaN\n",
              "16  8966871  2012-01-23 03:21:00      0  ...       16.0      NaN      NaN\n",
              "29  9641916  2012-03-09 22:36:52      7  ...       41.0      NaN      NaN\n",
              "30  9647656  2012-03-10 15:35:26      3  ...       45.0      NaN      NaN\n",
              "\n",
              "[5 rows x 12 columns]"
            ]
          },
          "metadata": {
            "tags": []
          },
          "execution_count": 34
        }
      ]
    },
    {
      "cell_type": "code",
      "metadata": {
        "id": "AsQ23lcBm8UB",
        "colab_type": "code",
        "colab": {
          "base_uri": "https://localhost:8080/",
          "height": 289
        },
        "outputId": "2208d6d7-d792-4d90-ed2e-8b3e9080cb51"
      },
      "source": [
        "stof[stof['ans_name'].isnull()].tail()"
      ],
      "execution_count": 36,
      "outputs": [
        {
          "output_type": "execute_result",
          "data": {
            "text/html": [
              "<div>\n",
              "<style scoped>\n",
              "    .dataframe tbody tr th:only-of-type {\n",
              "        vertical-align: middle;\n",
              "    }\n",
              "\n",
              "    .dataframe tbody tr th {\n",
              "        vertical-align: top;\n",
              "    }\n",
              "\n",
              "    .dataframe thead th {\n",
              "        text-align: right;\n",
              "    }\n",
              "</style>\n",
              "<table border=\"1\" class=\"dataframe\">\n",
              "  <thead>\n",
              "    <tr style=\"text-align: right;\">\n",
              "      <th></th>\n",
              "      <th>id</th>\n",
              "      <th>creationdate</th>\n",
              "      <th>score</th>\n",
              "      <th>viewcount</th>\n",
              "      <th>title</th>\n",
              "      <th>answercount</th>\n",
              "      <th>commentcount</th>\n",
              "      <th>favoritecount</th>\n",
              "      <th>quest_name</th>\n",
              "      <th>quest_rep</th>\n",
              "      <th>ans_name</th>\n",
              "      <th>ans_rep</th>\n",
              "    </tr>\n",
              "  </thead>\n",
              "  <tbody>\n",
              "    <tr>\n",
              "      <th>56391</th>\n",
              "      <td>47601533</td>\n",
              "      <td>2017-12-01 21:09:16</td>\n",
              "      <td>1</td>\n",
              "      <td>22</td>\n",
              "      <td>Getting a crime 'count' from pandas big dataset</td>\n",
              "      <td>1</td>\n",
              "      <td>1</td>\n",
              "      <td>NaN</td>\n",
              "      <td>Leena</td>\n",
              "      <td>6.0</td>\n",
              "      <td>NaN</td>\n",
              "      <td>NaN</td>\n",
              "    </tr>\n",
              "    <tr>\n",
              "      <th>56392</th>\n",
              "      <td>47610316</td>\n",
              "      <td>2017-12-02 17:02:03</td>\n",
              "      <td>1</td>\n",
              "      <td>23</td>\n",
              "      <td>python module 'pandas' has no attribute 'plott...</td>\n",
              "      <td>1</td>\n",
              "      <td>1</td>\n",
              "      <td>NaN</td>\n",
              "      <td>Harry</td>\n",
              "      <td>6.0</td>\n",
              "      <td>NaN</td>\n",
              "      <td>NaN</td>\n",
              "    </tr>\n",
              "    <tr>\n",
              "      <th>56394</th>\n",
              "      <td>47607549</td>\n",
              "      <td>2017-12-02 11:41:59</td>\n",
              "      <td>-1</td>\n",
              "      <td>41</td>\n",
              "      <td>Convert Numeric percentage values into String</td>\n",
              "      <td>1</td>\n",
              "      <td>2</td>\n",
              "      <td>NaN</td>\n",
              "      <td>Ajeet</td>\n",
              "      <td>1.0</td>\n",
              "      <td>NaN</td>\n",
              "      <td>NaN</td>\n",
              "    </tr>\n",
              "    <tr>\n",
              "      <th>56395</th>\n",
              "      <td>47609325</td>\n",
              "      <td>2017-12-02 15:16:26</td>\n",
              "      <td>0</td>\n",
              "      <td>33</td>\n",
              "      <td>Filtering for criteria in Pandas Dataframe Python</td>\n",
              "      <td>2</td>\n",
              "      <td>4</td>\n",
              "      <td>NaN</td>\n",
              "      <td>NthA</td>\n",
              "      <td>1.0</td>\n",
              "      <td>NaN</td>\n",
              "      <td>NaN</td>\n",
              "    </tr>\n",
              "    <tr>\n",
              "      <th>56397</th>\n",
              "      <td>47611969</td>\n",
              "      <td>2017-12-02 19:59:09</td>\n",
              "      <td>-6</td>\n",
              "      <td>19</td>\n",
              "      <td>Converting Pandas Dataframe to R object</td>\n",
              "      <td>0</td>\n",
              "      <td>0</td>\n",
              "      <td>NaN</td>\n",
              "      <td>Soorya Paturi</td>\n",
              "      <td>1.0</td>\n",
              "      <td>NaN</td>\n",
              "      <td>NaN</td>\n",
              "    </tr>\n",
              "  </tbody>\n",
              "</table>\n",
              "</div>"
            ],
            "text/plain": [
              "             id         creationdate  score  ...  quest_rep ans_name  ans_rep\n",
              "56391  47601533  2017-12-01 21:09:16      1  ...        6.0      NaN      NaN\n",
              "56392  47610316  2017-12-02 17:02:03      1  ...        6.0      NaN      NaN\n",
              "56394  47607549  2017-12-02 11:41:59     -1  ...        1.0      NaN      NaN\n",
              "56395  47609325  2017-12-02 15:16:26      0  ...        1.0      NaN      NaN\n",
              "56397  47611969  2017-12-02 19:59:09     -6  ...        1.0      NaN      NaN\n",
              "\n",
              "[5 rows x 12 columns]"
            ]
          },
          "metadata": {
            "tags": []
          },
          "execution_count": 36
        }
      ]
    },
    {
      "cell_type": "markdown",
      "metadata": {
        "id": "AsszUkT5oUEZ",
        "colab_type": "text"
      },
      "source": [
        "**Boolean selection on series**"
      ]
    },
    {
      "cell_type": "code",
      "metadata": {
        "id": "q0rgZcdJoY1p",
        "colab_type": "code",
        "colab": {
          "base_uri": "https://localhost:8080/",
          "height": 119
        },
        "outputId": "2005b84d-053c-449c-b1bc-d88eddaa5682"
      },
      "source": [
        "s = stof['commentcount']\n",
        "s.head()"
      ],
      "execution_count": 37,
      "outputs": [
        {
          "output_type": "execute_result",
          "data": {
            "text/plain": [
              "0    4\n",
              "1    6\n",
              "2    0\n",
              "3    0\n",
              "4    0\n",
              "Name: commentcount, dtype: int64"
            ]
          },
          "metadata": {
            "tags": []
          },
          "execution_count": 37
        }
      ]
    },
    {
      "cell_type": "code",
      "metadata": {
        "id": "CxZm59wCog1Z",
        "colab_type": "code",
        "colab": {
          "base_uri": "https://localhost:8080/",
          "height": 119
        },
        "outputId": "ab12ad86-631a-444e-d746-795979054306"
      },
      "source": [
        "criteria = s > 10\n",
        "s[criteria].head()"
      ],
      "execution_count": 39,
      "outputs": [
        {
          "output_type": "execute_result",
          "data": {
            "text/plain": [
              "17     16\n",
              "76     14\n",
              "566    11\n",
              "763    12\n",
              "781    19\n",
              "Name: commentcount, dtype: int64"
            ]
          },
          "metadata": {
            "tags": []
          },
          "execution_count": 39
        }
      ]
    },
    {
      "cell_type": "code",
      "metadata": {
        "id": "uPDq3swLorg8",
        "colab_type": "code",
        "colab": {
          "base_uri": "https://localhost:8080/",
          "height": 119
        },
        "outputId": "913ad69c-a6e7-4b9c-a244-c89f28e92444"
      },
      "source": [
        "s[s>10].head()"
      ],
      "execution_count": 40,
      "outputs": [
        {
          "output_type": "execute_result",
          "data": {
            "text/plain": [
              "17     16\n",
              "76     14\n",
              "566    11\n",
              "763    12\n",
              "781    19\n",
              "Name: commentcount, dtype: int64"
            ]
          },
          "metadata": {
            "tags": []
          },
          "execution_count": 40
        }
      ]
    },
    {
      "cell_type": "code",
      "metadata": {
        "id": "QSBSp9EDo1Cr",
        "colab_type": "code",
        "colab": {
          "base_uri": "https://localhost:8080/",
          "height": 119
        },
        "outputId": "a94287c0-fa35-42b9-e1b9-b07b2da093e9"
      },
      "source": [
        "s[(s>10)&(s<15)].head()"
      ],
      "execution_count": 41,
      "outputs": [
        {
          "output_type": "execute_result",
          "data": {
            "text/plain": [
              "76     14\n",
              "566    11\n",
              "763    12\n",
              "787    12\n",
              "837    13\n",
              "Name: commentcount, dtype: int64"
            ]
          },
          "metadata": {
            "tags": []
          },
          "execution_count": 41
        }
      ]
    },
    {
      "cell_type": "code",
      "metadata": {
        "id": "cTaKae3Jo_xW",
        "colab_type": "code",
        "colab": {
          "base_uri": "https://localhost:8080/",
          "height": 119
        },
        "outputId": "609213cf-86b5-4c46-de21-6626135ff0cf"
      },
      "source": [
        "s[s.between(11, 14)].head()"
      ],
      "execution_count": 42,
      "outputs": [
        {
          "output_type": "execute_result",
          "data": {
            "text/plain": [
              "76     14\n",
              "566    11\n",
              "763    12\n",
              "787    12\n",
              "837    13\n",
              "Name: commentcount, dtype: int64"
            ]
          },
          "metadata": {
            "tags": []
          },
          "execution_count": 42
        }
      ]
    },
    {
      "cell_type": "markdown",
      "metadata": {
        "id": "PEjTOGw_pMPl",
        "colab_type": "text"
      },
      "source": [
        "## .loc - wybiera przez nagłówki, ale może też być do boolean indexing przez operatory porównania"
      ]
    },
    {
      "cell_type": "code",
      "metadata": {
        "id": "01OmrHQeqRG3",
        "colab_type": "code",
        "colab": {
          "base_uri": "https://localhost:8080/",
          "height": 289
        },
        "outputId": "ab4e99f8-e85b-47f2-fe3e-c245d5d6ce89"
      },
      "source": [
        "stof.loc[(stof['ans_name'] == 'Scott Boston') & (stof['score']>=5)].head()"
      ],
      "execution_count": 44,
      "outputs": [
        {
          "output_type": "execute_result",
          "data": {
            "text/html": [
              "<div>\n",
              "<style scoped>\n",
              "    .dataframe tbody tr th:only-of-type {\n",
              "        vertical-align: middle;\n",
              "    }\n",
              "\n",
              "    .dataframe tbody tr th {\n",
              "        vertical-align: top;\n",
              "    }\n",
              "\n",
              "    .dataframe thead th {\n",
              "        text-align: right;\n",
              "    }\n",
              "</style>\n",
              "<table border=\"1\" class=\"dataframe\">\n",
              "  <thead>\n",
              "    <tr style=\"text-align: right;\">\n",
              "      <th></th>\n",
              "      <th>id</th>\n",
              "      <th>creationdate</th>\n",
              "      <th>score</th>\n",
              "      <th>viewcount</th>\n",
              "      <th>title</th>\n",
              "      <th>answercount</th>\n",
              "      <th>commentcount</th>\n",
              "      <th>favoritecount</th>\n",
              "      <th>quest_name</th>\n",
              "      <th>quest_rep</th>\n",
              "      <th>ans_name</th>\n",
              "      <th>ans_rep</th>\n",
              "    </tr>\n",
              "  </thead>\n",
              "  <tbody>\n",
              "    <tr>\n",
              "      <th>38246</th>\n",
              "      <td>43209525</td>\n",
              "      <td>2017-04-04 14:03:17</td>\n",
              "      <td>5</td>\n",
              "      <td>131</td>\n",
              "      <td>Pandas: Optimal way to MultiIndex columns</td>\n",
              "      <td>2</td>\n",
              "      <td>0</td>\n",
              "      <td>0.0</td>\n",
              "      <td>sparc_spread</td>\n",
              "      <td>5470.0</td>\n",
              "      <td>Scott Boston</td>\n",
              "      <td>23611.0</td>\n",
              "    </tr>\n",
              "    <tr>\n",
              "      <th>38640</th>\n",
              "      <td>42870703</td>\n",
              "      <td>2017-03-18 05:06:22</td>\n",
              "      <td>5</td>\n",
              "      <td>125</td>\n",
              "      <td>Simultaneous operation of groupby and resample...</td>\n",
              "      <td>1</td>\n",
              "      <td>0</td>\n",
              "      <td>1.0</td>\n",
              "      <td>S. Naribole</td>\n",
              "      <td>43.0</td>\n",
              "      <td>Scott Boston</td>\n",
              "      <td>23611.0</td>\n",
              "    </tr>\n",
              "    <tr>\n",
              "      <th>44358</th>\n",
              "      <td>45064916</td>\n",
              "      <td>2017-07-12 18:16:49</td>\n",
              "      <td>5</td>\n",
              "      <td>428</td>\n",
              "      <td>How to find the correlation between a group of...</td>\n",
              "      <td>2</td>\n",
              "      <td>5</td>\n",
              "      <td>NaN</td>\n",
              "      <td>BKS</td>\n",
              "      <td>506.0</td>\n",
              "      <td>Scott Boston</td>\n",
              "      <td>23611.0</td>\n",
              "    </tr>\n",
              "    <tr>\n",
              "      <th>44814</th>\n",
              "      <td>44877663</td>\n",
              "      <td>2017-07-03 04:07:59</td>\n",
              "      <td>9</td>\n",
              "      <td>1267</td>\n",
              "      <td>Error: float object has no attribute notnull</td>\n",
              "      <td>3</td>\n",
              "      <td>2</td>\n",
              "      <td>1.0</td>\n",
              "      <td>Vivian  Tio</td>\n",
              "      <td>181.0</td>\n",
              "      <td>Scott Boston</td>\n",
              "      <td>23611.0</td>\n",
              "    </tr>\n",
              "    <tr>\n",
              "      <th>52013</th>\n",
              "      <td>47061564</td>\n",
              "      <td>2017-11-01 18:40:36</td>\n",
              "      <td>5</td>\n",
              "      <td>60</td>\n",
              "      <td>How to create strings from dataframe columns e...</td>\n",
              "      <td>5</td>\n",
              "      <td>0</td>\n",
              "      <td>NaN</td>\n",
              "      <td>hernanavella</td>\n",
              "      <td>1890.0</td>\n",
              "      <td>Scott Boston</td>\n",
              "      <td>23611.0</td>\n",
              "    </tr>\n",
              "  </tbody>\n",
              "</table>\n",
              "</div>"
            ],
            "text/plain": [
              "             id         creationdate  score  ...  quest_rep      ans_name  ans_rep\n",
              "38246  43209525  2017-04-04 14:03:17      5  ...     5470.0  Scott Boston  23611.0\n",
              "38640  42870703  2017-03-18 05:06:22      5  ...       43.0  Scott Boston  23611.0\n",
              "44358  45064916  2017-07-12 18:16:49      5  ...      506.0  Scott Boston  23611.0\n",
              "44814  44877663  2017-07-03 04:07:59      9  ...      181.0  Scott Boston  23611.0\n",
              "52013  47061564  2017-11-01 18:40:36      5  ...     1890.0  Scott Boston  23611.0\n",
              "\n",
              "[5 rows x 12 columns]"
            ]
          },
          "metadata": {
            "tags": []
          },
          "execution_count": 44
        }
      ]
    },
    {
      "cell_type": "code",
      "metadata": {
        "id": "E8TIXVmWrX5c",
        "colab_type": "code",
        "colab": {
          "base_uri": "https://localhost:8080/",
          "height": 289
        },
        "outputId": "6fe1c8b1-86b5-4fc1-9fef-13580a9fa177"
      },
      "source": [
        "stof.loc[stof['ans_name'].isin(['Scott Boston', 'Ted Petrou', 'MaxU', 'unutbu'])].head()"
      ],
      "execution_count": 45,
      "outputs": [
        {
          "output_type": "execute_result",
          "data": {
            "text/html": [
              "<div>\n",
              "<style scoped>\n",
              "    .dataframe tbody tr th:only-of-type {\n",
              "        vertical-align: middle;\n",
              "    }\n",
              "\n",
              "    .dataframe tbody tr th {\n",
              "        vertical-align: top;\n",
              "    }\n",
              "\n",
              "    .dataframe thead th {\n",
              "        text-align: right;\n",
              "    }\n",
              "</style>\n",
              "<table border=\"1\" class=\"dataframe\">\n",
              "  <thead>\n",
              "    <tr style=\"text-align: right;\">\n",
              "      <th></th>\n",
              "      <th>id</th>\n",
              "      <th>creationdate</th>\n",
              "      <th>score</th>\n",
              "      <th>viewcount</th>\n",
              "      <th>title</th>\n",
              "      <th>answercount</th>\n",
              "      <th>commentcount</th>\n",
              "      <th>favoritecount</th>\n",
              "      <th>quest_name</th>\n",
              "      <th>quest_rep</th>\n",
              "      <th>ans_name</th>\n",
              "      <th>ans_rep</th>\n",
              "    </tr>\n",
              "  </thead>\n",
              "  <tbody>\n",
              "    <tr>\n",
              "      <th>100</th>\n",
              "      <td>10665889</td>\n",
              "      <td>2012-05-19 14:11:42</td>\n",
              "      <td>144</td>\n",
              "      <td>179896</td>\n",
              "      <td>How to take column-slices of dataframe in pandas</td>\n",
              "      <td>7</td>\n",
              "      <td>3</td>\n",
              "      <td>65.0</td>\n",
              "      <td>cpa</td>\n",
              "      <td>988.0</td>\n",
              "      <td>Ted Petrou</td>\n",
              "      <td>10426.0</td>\n",
              "    </tr>\n",
              "    <tr>\n",
              "      <th>574</th>\n",
              "      <td>13385860</td>\n",
              "      <td>2012-11-14 19:25:28</td>\n",
              "      <td>29</td>\n",
              "      <td>31712</td>\n",
              "      <td>How can I remove extra whitespace from strings...</td>\n",
              "      <td>6</td>\n",
              "      <td>0</td>\n",
              "      <td>17.0</td>\n",
              "      <td>mpjan</td>\n",
              "      <td>530.0</td>\n",
              "      <td>unutbu</td>\n",
              "      <td>464745.0</td>\n",
              "    </tr>\n",
              "    <tr>\n",
              "      <th>593</th>\n",
              "      <td>13446480</td>\n",
              "      <td>2012-11-19 01:20:07</td>\n",
              "      <td>18</td>\n",
              "      <td>7969</td>\n",
              "      <td>Python Pandas: remove entries based on the num...</td>\n",
              "      <td>4</td>\n",
              "      <td>1</td>\n",
              "      <td>7.0</td>\n",
              "      <td>sashkello</td>\n",
              "      <td>8714.0</td>\n",
              "      <td>unutbu</td>\n",
              "      <td>464745.0</td>\n",
              "    </tr>\n",
              "    <tr>\n",
              "      <th>599</th>\n",
              "      <td>13460889</td>\n",
              "      <td>2012-11-19 19:39:06</td>\n",
              "      <td>8</td>\n",
              "      <td>3168</td>\n",
              "      <td>How to redirect all methods of a contained cla...</td>\n",
              "      <td>2</td>\n",
              "      <td>4</td>\n",
              "      <td>5.0</td>\n",
              "      <td>Yariv</td>\n",
              "      <td>5013.0</td>\n",
              "      <td>unutbu</td>\n",
              "      <td>464745.0</td>\n",
              "    </tr>\n",
              "    <tr>\n",
              "      <th>639</th>\n",
              "      <td>13653030</td>\n",
              "      <td>2012-11-30 20:54:35</td>\n",
              "      <td>6</td>\n",
              "      <td>11798</td>\n",
              "      <td>How do I Pass a List of Series to a Pandas Dat...</td>\n",
              "      <td>5</td>\n",
              "      <td>1</td>\n",
              "      <td>1.0</td>\n",
              "      <td>rhaskett</td>\n",
              "      <td>323.0</td>\n",
              "      <td>unutbu</td>\n",
              "      <td>464745.0</td>\n",
              "    </tr>\n",
              "  </tbody>\n",
              "</table>\n",
              "</div>"
            ],
            "text/plain": [
              "           id         creationdate  score  ...  quest_rep    ans_name   ans_rep\n",
              "100  10665889  2012-05-19 14:11:42    144  ...      988.0  Ted Petrou   10426.0\n",
              "574  13385860  2012-11-14 19:25:28     29  ...      530.0      unutbu  464745.0\n",
              "593  13446480  2012-11-19 01:20:07     18  ...     8714.0      unutbu  464745.0\n",
              "599  13460889  2012-11-19 19:39:06      8  ...     5013.0      unutbu  464745.0\n",
              "639  13653030  2012-11-30 20:54:35      6  ...      323.0      unutbu  464745.0\n",
              "\n",
              "[5 rows x 12 columns]"
            ]
          },
          "metadata": {
            "tags": []
          },
          "execution_count": 45
        }
      ]
    },
    {
      "cell_type": "markdown",
      "metadata": {
        "id": "cXYZ34Mgrj5g",
        "colab_type": "text"
      },
      "source": [
        "## .loc select rows and columns\n",
        "*Można kombinować boolean selection dla wierszy i wybierać kolumny nagłówkami*"
      ]
    },
    {
      "cell_type": "markdown",
      "metadata": {
        "id": "X9NlTOmSrvp0",
        "colab_type": "text"
      },
      "source": [
        "*Pytania z oglądającymi więcej niż 20k ale tylko kolumny creationdate, viewcount, ans_name*"
      ]
    },
    {
      "cell_type": "code",
      "metadata": {
        "id": "GpRAunCvsPVA",
        "colab_type": "code",
        "colab": {
          "base_uri": "https://localhost:8080/",
          "height": 204
        },
        "outputId": "0e445020-b68f-4cc0-80ae-967e9f6b5aa3"
      },
      "source": [
        "stof.loc[stof['viewcount']>20000, ['creationdate', 'viewcount', 'ans_name']].head()"
      ],
      "execution_count": 47,
      "outputs": [
        {
          "output_type": "execute_result",
          "data": {
            "text/html": [
              "<div>\n",
              "<style scoped>\n",
              "    .dataframe tbody tr th:only-of-type {\n",
              "        vertical-align: middle;\n",
              "    }\n",
              "\n",
              "    .dataframe tbody tr th {\n",
              "        vertical-align: top;\n",
              "    }\n",
              "\n",
              "    .dataframe thead th {\n",
              "        text-align: right;\n",
              "    }\n",
              "</style>\n",
              "<table border=\"1\" class=\"dataframe\">\n",
              "  <thead>\n",
              "    <tr style=\"text-align: right;\">\n",
              "      <th></th>\n",
              "      <th>creationdate</th>\n",
              "      <th>viewcount</th>\n",
              "      <th>ans_name</th>\n",
              "    </tr>\n",
              "  </thead>\n",
              "  <tbody>\n",
              "    <tr>\n",
              "      <th>6</th>\n",
              "      <td>2011-10-15 08:21:17</td>\n",
              "      <td>28159</td>\n",
              "      <td>Wes McKinney</td>\n",
              "    </tr>\n",
              "    <tr>\n",
              "      <th>8</th>\n",
              "      <td>2011-10-20 14:46:14</td>\n",
              "      <td>223746</td>\n",
              "      <td>Nick Crawford</td>\n",
              "    </tr>\n",
              "    <tr>\n",
              "      <th>14</th>\n",
              "      <td>2012-01-18 19:41:27</td>\n",
              "      <td>20614</td>\n",
              "      <td>Wes McKinney</td>\n",
              "    </tr>\n",
              "    <tr>\n",
              "      <th>31</th>\n",
              "      <td>2012-03-11 06:00:56</td>\n",
              "      <td>39323</td>\n",
              "      <td>huon</td>\n",
              "    </tr>\n",
              "    <tr>\n",
              "      <th>35</th>\n",
              "      <td>2012-03-18 12:53:06</td>\n",
              "      <td>43262</td>\n",
              "      <td>Wes McKinney</td>\n",
              "    </tr>\n",
              "  </tbody>\n",
              "</table>\n",
              "</div>"
            ],
            "text/plain": [
              "           creationdate  viewcount       ans_name\n",
              "6   2011-10-15 08:21:17      28159   Wes McKinney\n",
              "8   2011-10-20 14:46:14     223746  Nick Crawford\n",
              "14  2012-01-18 19:41:27      20614   Wes McKinney\n",
              "31  2012-03-11 06:00:56      39323           huon\n",
              "35  2012-03-18 12:53:06      43262   Wes McKinney"
            ]
          },
          "metadata": {
            "tags": []
          },
          "execution_count": 47
        }
      ]
    },
    {
      "cell_type": "markdown",
      "metadata": {
        "id": "KcBoR5UBw-8t",
        "colab_type": "text"
      },
      "source": [
        "*wiersze gdzie favoritecount jest pomiędzy 30 a 40, i kolumny co 3cią, zaczynając od title*"
      ]
    },
    {
      "cell_type": "code",
      "metadata": {
        "id": "read6yiVxMnS",
        "colab_type": "code",
        "colab": {
          "base_uri": "https://localhost:8080/",
          "height": 204
        },
        "outputId": "673a1e3e-38a4-4af7-fea4-2311d0aa3621"
      },
      "source": [
        "stof.loc[stof['favoritecount'].between(30, 40), 'title'::3].head()"
      ],
      "execution_count": 48,
      "outputs": [
        {
          "output_type": "execute_result",
          "data": {
            "text/html": [
              "<div>\n",
              "<style scoped>\n",
              "    .dataframe tbody tr th:only-of-type {\n",
              "        vertical-align: middle;\n",
              "    }\n",
              "\n",
              "    .dataframe tbody tr th {\n",
              "        vertical-align: top;\n",
              "    }\n",
              "\n",
              "    .dataframe thead th {\n",
              "        text-align: right;\n",
              "    }\n",
              "</style>\n",
              "<table border=\"1\" class=\"dataframe\">\n",
              "  <thead>\n",
              "    <tr style=\"text-align: right;\">\n",
              "      <th></th>\n",
              "      <th>title</th>\n",
              "      <th>favoritecount</th>\n",
              "      <th>ans_name</th>\n",
              "    </tr>\n",
              "  </thead>\n",
              "  <tbody>\n",
              "    <tr>\n",
              "      <th>348</th>\n",
              "      <td>Pandas: create two new columns in a dataframe ...</td>\n",
              "      <td>39.0</td>\n",
              "      <td>DSM</td>\n",
              "    </tr>\n",
              "    <tr>\n",
              "      <th>555</th>\n",
              "      <td>How can I replace all the NaN values with Zero...</td>\n",
              "      <td>39.0</td>\n",
              "      <td>Aman</td>\n",
              "    </tr>\n",
              "    <tr>\n",
              "      <th>643</th>\n",
              "      <td>Pandas DataFrame: remove unwanted parts from s...</td>\n",
              "      <td>31.0</td>\n",
              "      <td>eumiro</td>\n",
              "    </tr>\n",
              "    <tr>\n",
              "      <th>667</th>\n",
              "      <td>Creating an empty Pandas DataFrame, then filli...</td>\n",
              "      <td>40.0</td>\n",
              "      <td>Andy Hayden</td>\n",
              "    </tr>\n",
              "    <tr>\n",
              "      <th>892</th>\n",
              "      <td>Apply multiple functions to multiple groupby c...</td>\n",
              "      <td>35.0</td>\n",
              "      <td>Zelazny7</td>\n",
              "    </tr>\n",
              "  </tbody>\n",
              "</table>\n",
              "</div>"
            ],
            "text/plain": [
              "                                                 title  ...     ans_name\n",
              "348  Pandas: create two new columns in a dataframe ...  ...          DSM\n",
              "555  How can I replace all the NaN values with Zero...  ...         Aman\n",
              "643  Pandas DataFrame: remove unwanted parts from s...  ...       eumiro\n",
              "667  Creating an empty Pandas DataFrame, then filli...  ...  Andy Hayden\n",
              "892  Apply multiple functions to multiple groupby c...  ...     Zelazny7\n",
              "\n",
              "[5 rows x 3 columns]"
            ]
          },
          "metadata": {
            "tags": []
          },
          "execution_count": 48
        }
      ]
    },
    {
      "cell_type": "markdown",
      "metadata": {
        "id": "g8aDOwxyxtmI",
        "colab_type": "text"
      },
      "source": [
        "## Boolean selection for columns"
      ]
    },
    {
      "cell_type": "code",
      "metadata": {
        "id": "IbJ0sD2zx4nn",
        "colab_type": "code",
        "colab": {
          "base_uri": "https://localhost:8080/",
          "height": 34
        },
        "outputId": "b9b5c3ca-bc7b-4cac-dc92-a27ccc69390b"
      },
      "source": [
        "stof.shape"
      ],
      "execution_count": 49,
      "outputs": [
        {
          "output_type": "execute_result",
          "data": {
            "text/plain": [
              "(56398, 12)"
            ]
          },
          "metadata": {
            "tags": []
          },
          "execution_count": 49
        }
      ]
    },
    {
      "cell_type": "code",
      "metadata": {
        "id": "Fyci4Lwgx8rY",
        "colab_type": "code",
        "colab": {}
      },
      "source": [
        "col_bools =[True, False, False]*4 #przykładowa seria dla bool"
      ],
      "execution_count": 0,
      "outputs": []
    },
    {
      "cell_type": "code",
      "metadata": {
        "id": "v4cR_qbwyMON",
        "colab_type": "code",
        "colab": {
          "base_uri": "https://localhost:8080/",
          "height": 204
        },
        "outputId": "e85af7e7-9eda-4bfb-a32b-3e0dbda60ab3"
      },
      "source": [
        "stof.loc[:, col_bools].head()\n"
      ],
      "execution_count": 51,
      "outputs": [
        {
          "output_type": "execute_result",
          "data": {
            "text/html": [
              "<div>\n",
              "<style scoped>\n",
              "    .dataframe tbody tr th:only-of-type {\n",
              "        vertical-align: middle;\n",
              "    }\n",
              "\n",
              "    .dataframe tbody tr th {\n",
              "        vertical-align: top;\n",
              "    }\n",
              "\n",
              "    .dataframe thead th {\n",
              "        text-align: right;\n",
              "    }\n",
              "</style>\n",
              "<table border=\"1\" class=\"dataframe\">\n",
              "  <thead>\n",
              "    <tr style=\"text-align: right;\">\n",
              "      <th></th>\n",
              "      <th>id</th>\n",
              "      <th>viewcount</th>\n",
              "      <th>commentcount</th>\n",
              "      <th>quest_rep</th>\n",
              "    </tr>\n",
              "  </thead>\n",
              "  <tbody>\n",
              "    <tr>\n",
              "      <th>0</th>\n",
              "      <td>5486226</td>\n",
              "      <td>2113</td>\n",
              "      <td>4</td>\n",
              "      <td>125.0</td>\n",
              "    </tr>\n",
              "    <tr>\n",
              "      <th>1</th>\n",
              "      <td>5515021</td>\n",
              "      <td>7015</td>\n",
              "      <td>6</td>\n",
              "      <td>3301.0</td>\n",
              "    </tr>\n",
              "    <tr>\n",
              "      <th>2</th>\n",
              "      <td>5558607</td>\n",
              "      <td>7392</td>\n",
              "      <td>0</td>\n",
              "      <td>3301.0</td>\n",
              "    </tr>\n",
              "    <tr>\n",
              "      <th>3</th>\n",
              "      <td>6467832</td>\n",
              "      <td>13056</td>\n",
              "      <td>0</td>\n",
              "      <td>117.0</td>\n",
              "    </tr>\n",
              "    <tr>\n",
              "      <th>4</th>\n",
              "      <td>7577546</td>\n",
              "      <td>2488</td>\n",
              "      <td>0</td>\n",
              "      <td>958.0</td>\n",
              "    </tr>\n",
              "  </tbody>\n",
              "</table>\n",
              "</div>"
            ],
            "text/plain": [
              "        id  viewcount  commentcount  quest_rep\n",
              "0  5486226       2113             4      125.0\n",
              "1  5515021       7015             6     3301.0\n",
              "2  5558607       7392             0     3301.0\n",
              "3  6467832      13056             0      117.0\n",
              "4  7577546       2488             0      958.0"
            ]
          },
          "metadata": {
            "tags": []
          },
          "execution_count": 51
        }
      ]
    },
    {
      "cell_type": "markdown",
      "metadata": {
        "id": "nmTjh_du14YX",
        "colab_type": "text"
      },
      "source": [
        "*wybieramy te same kolumny, ale wiersze gdzie liczba odsłon >500k*"
      ]
    },
    {
      "cell_type": "code",
      "metadata": {
        "id": "uIbsjORnyMiY",
        "colab_type": "code",
        "colab": {
          "base_uri": "https://localhost:8080/",
          "height": 204
        },
        "outputId": "ec28a136-42f1-41ab-96f0-2cad47e5a981"
      },
      "source": [
        "stof.loc[stof['viewcount']>500000, col_bools].head()"
      ],
      "execution_count": 52,
      "outputs": [
        {
          "output_type": "execute_result",
          "data": {
            "text/html": [
              "<div>\n",
              "<style scoped>\n",
              "    .dataframe tbody tr th:only-of-type {\n",
              "        vertical-align: middle;\n",
              "    }\n",
              "\n",
              "    .dataframe tbody tr th {\n",
              "        vertical-align: top;\n",
              "    }\n",
              "\n",
              "    .dataframe thead th {\n",
              "        text-align: right;\n",
              "    }\n",
              "</style>\n",
              "<table border=\"1\" class=\"dataframe\">\n",
              "  <thead>\n",
              "    <tr style=\"text-align: right;\">\n",
              "      <th></th>\n",
              "      <th>id</th>\n",
              "      <th>viewcount</th>\n",
              "      <th>commentcount</th>\n",
              "      <th>quest_rep</th>\n",
              "    </tr>\n",
              "  </thead>\n",
              "  <tbody>\n",
              "    <tr>\n",
              "      <th>171</th>\n",
              "      <td>11285613</td>\n",
              "      <td>526432</td>\n",
              "      <td>4</td>\n",
              "      <td>3369.0</td>\n",
              "    </tr>\n",
              "    <tr>\n",
              "      <th>181</th>\n",
              "      <td>11346283</td>\n",
              "      <td>931604</td>\n",
              "      <td>1</td>\n",
              "      <td>4206.0</td>\n",
              "    </tr>\n",
              "    <tr>\n",
              "      <th>397</th>\n",
              "      <td>12555323</td>\n",
              "      <td>698537</td>\n",
              "      <td>0</td>\n",
              "      <td>2920.0</td>\n",
              "    </tr>\n",
              "    <tr>\n",
              "      <th>581</th>\n",
              "      <td>13411544</td>\n",
              "      <td>802655</td>\n",
              "      <td>0</td>\n",
              "      <td>8807.0</td>\n",
              "    </tr>\n",
              "    <tr>\n",
              "      <th>1253</th>\n",
              "      <td>17071871</td>\n",
              "      <td>549481</td>\n",
              "      <td>0</td>\n",
              "      <td>3374.0</td>\n",
              "    </tr>\n",
              "  </tbody>\n",
              "</table>\n",
              "</div>"
            ],
            "text/plain": [
              "            id  viewcount  commentcount  quest_rep\n",
              "171   11285613     526432             4     3369.0\n",
              "181   11346283     931604             1     4206.0\n",
              "397   12555323     698537             0     2920.0\n",
              "581   13411544     802655             0     8807.0\n",
              "1253  17071871     549481             0     3374.0"
            ]
          },
          "metadata": {
            "tags": []
          },
          "execution_count": 52
        }
      ]
    },
    {
      "cell_type": "markdown",
      "metadata": {
        "id": "AdA26kK62WMQ",
        "colab_type": "text"
      },
      "source": [
        "**EXAMPLE**\n",
        "\n",
        "rzucamy 10 monetami 100 razy - wyniki do tabeli do kolumn dla każdej monety"
      ]
    },
    {
      "cell_type": "code",
      "metadata": {
        "id": "QwDL1Jvo2mFl",
        "colab_type": "code",
        "colab": {
          "base_uri": "https://localhost:8080/",
          "height": 204
        },
        "outputId": "50f6edcf-43b0-497a-f7af-b203ce6dc2d4"
      },
      "source": [
        "coins = pd.DataFrame(np.random.randint(0,2, (100,10)), columns = list('abcdefghij'))\n",
        "coins.head()"
      ],
      "execution_count": 53,
      "outputs": [
        {
          "output_type": "execute_result",
          "data": {
            "text/html": [
              "<div>\n",
              "<style scoped>\n",
              "    .dataframe tbody tr th:only-of-type {\n",
              "        vertical-align: middle;\n",
              "    }\n",
              "\n",
              "    .dataframe tbody tr th {\n",
              "        vertical-align: top;\n",
              "    }\n",
              "\n",
              "    .dataframe thead th {\n",
              "        text-align: right;\n",
              "    }\n",
              "</style>\n",
              "<table border=\"1\" class=\"dataframe\">\n",
              "  <thead>\n",
              "    <tr style=\"text-align: right;\">\n",
              "      <th></th>\n",
              "      <th>a</th>\n",
              "      <th>b</th>\n",
              "      <th>c</th>\n",
              "      <th>d</th>\n",
              "      <th>e</th>\n",
              "      <th>f</th>\n",
              "      <th>g</th>\n",
              "      <th>h</th>\n",
              "      <th>i</th>\n",
              "      <th>j</th>\n",
              "    </tr>\n",
              "  </thead>\n",
              "  <tbody>\n",
              "    <tr>\n",
              "      <th>0</th>\n",
              "      <td>0</td>\n",
              "      <td>0</td>\n",
              "      <td>1</td>\n",
              "      <td>1</td>\n",
              "      <td>1</td>\n",
              "      <td>0</td>\n",
              "      <td>0</td>\n",
              "      <td>1</td>\n",
              "      <td>1</td>\n",
              "      <td>0</td>\n",
              "    </tr>\n",
              "    <tr>\n",
              "      <th>1</th>\n",
              "      <td>1</td>\n",
              "      <td>0</td>\n",
              "      <td>0</td>\n",
              "      <td>0</td>\n",
              "      <td>1</td>\n",
              "      <td>0</td>\n",
              "      <td>0</td>\n",
              "      <td>0</td>\n",
              "      <td>1</td>\n",
              "      <td>0</td>\n",
              "    </tr>\n",
              "    <tr>\n",
              "      <th>2</th>\n",
              "      <td>0</td>\n",
              "      <td>0</td>\n",
              "      <td>0</td>\n",
              "      <td>0</td>\n",
              "      <td>1</td>\n",
              "      <td>0</td>\n",
              "      <td>1</td>\n",
              "      <td>1</td>\n",
              "      <td>1</td>\n",
              "      <td>0</td>\n",
              "    </tr>\n",
              "    <tr>\n",
              "      <th>3</th>\n",
              "      <td>0</td>\n",
              "      <td>1</td>\n",
              "      <td>1</td>\n",
              "      <td>0</td>\n",
              "      <td>1</td>\n",
              "      <td>0</td>\n",
              "      <td>0</td>\n",
              "      <td>1</td>\n",
              "      <td>0</td>\n",
              "      <td>1</td>\n",
              "    </tr>\n",
              "    <tr>\n",
              "      <th>4</th>\n",
              "      <td>0</td>\n",
              "      <td>1</td>\n",
              "      <td>0</td>\n",
              "      <td>0</td>\n",
              "      <td>0</td>\n",
              "      <td>1</td>\n",
              "      <td>1</td>\n",
              "      <td>0</td>\n",
              "      <td>0</td>\n",
              "      <td>1</td>\n",
              "    </tr>\n",
              "  </tbody>\n",
              "</table>\n",
              "</div>"
            ],
            "text/plain": [
              "   a  b  c  d  e  f  g  h  i  j\n",
              "0  0  0  1  1  1  0  0  1  1  0\n",
              "1  1  0  0  0  1  0  0  0  1  0\n",
              "2  0  0  0  0  1  0  1  1  1  0\n",
              "3  0  1  1  0  1  0  0  1  0  1\n",
              "4  0  1  0  0  0  1  1  0  0  1"
            ]
          },
          "metadata": {
            "tags": []
          },
          "execution_count": 53
        }
      ]
    },
    {
      "cell_type": "code",
      "metadata": {
        "id": "bPXTJshb4Qk4",
        "colab_type": "code",
        "colab": {
          "base_uri": "https://localhost:8080/",
          "height": 34
        },
        "outputId": "40de836a-cb27-4918-aeb5-fb3be74c2a4c"
      },
      "source": [
        "coins.shape"
      ],
      "execution_count": 55,
      "outputs": [
        {
          "output_type": "execute_result",
          "data": {
            "text/plain": [
              "(100, 10)"
            ]
          },
          "metadata": {
            "tags": []
          },
          "execution_count": 55
        }
      ]
    },
    {
      "cell_type": "markdown",
      "metadata": {
        "id": "cw7O836o4bRy",
        "colab_type": "text"
      },
      "source": [
        "*wybieramy kolumny, gdzie więcej niż 50% wyrzucono heads*"
      ]
    },
    {
      "cell_type": "code",
      "metadata": {
        "id": "gSbKlbfm4lXQ",
        "colab_type": "code",
        "colab": {
          "base_uri": "https://localhost:8080/",
          "height": 204
        },
        "outputId": "2d5811e5-0ce3-4714-dd12-ec08b155ecdb"
      },
      "source": [
        "coin_mean = coins.mean()\n",
        "coin_mean"
      ],
      "execution_count": 57,
      "outputs": [
        {
          "output_type": "execute_result",
          "data": {
            "text/plain": [
              "a    0.45\n",
              "b    0.47\n",
              "c    0.53\n",
              "d    0.57\n",
              "e    0.50\n",
              "f    0.49\n",
              "g    0.55\n",
              "h    0.42\n",
              "i    0.46\n",
              "j    0.52\n",
              "dtype: float64"
            ]
          },
          "metadata": {
            "tags": []
          },
          "execution_count": 57
        }
      ]
    },
    {
      "cell_type": "code",
      "metadata": {
        "id": "BwRi54gz40Ou",
        "colab_type": "code",
        "colab": {
          "base_uri": "https://localhost:8080/",
          "height": 204
        },
        "outputId": "48e3529a-82fb-4418-b8cd-c7b971ce57fc"
      },
      "source": [
        "coins.loc[:, coin_mean>0.50].head()"
      ],
      "execution_count": 61,
      "outputs": [
        {
          "output_type": "execute_result",
          "data": {
            "text/html": [
              "<div>\n",
              "<style scoped>\n",
              "    .dataframe tbody tr th:only-of-type {\n",
              "        vertical-align: middle;\n",
              "    }\n",
              "\n",
              "    .dataframe tbody tr th {\n",
              "        vertical-align: top;\n",
              "    }\n",
              "\n",
              "    .dataframe thead th {\n",
              "        text-align: right;\n",
              "    }\n",
              "</style>\n",
              "<table border=\"1\" class=\"dataframe\">\n",
              "  <thead>\n",
              "    <tr style=\"text-align: right;\">\n",
              "      <th></th>\n",
              "      <th>c</th>\n",
              "      <th>d</th>\n",
              "      <th>g</th>\n",
              "      <th>j</th>\n",
              "    </tr>\n",
              "  </thead>\n",
              "  <tbody>\n",
              "    <tr>\n",
              "      <th>0</th>\n",
              "      <td>1</td>\n",
              "      <td>1</td>\n",
              "      <td>0</td>\n",
              "      <td>0</td>\n",
              "    </tr>\n",
              "    <tr>\n",
              "      <th>1</th>\n",
              "      <td>0</td>\n",
              "      <td>0</td>\n",
              "      <td>0</td>\n",
              "      <td>0</td>\n",
              "    </tr>\n",
              "    <tr>\n",
              "      <th>2</th>\n",
              "      <td>0</td>\n",
              "      <td>0</td>\n",
              "      <td>1</td>\n",
              "      <td>0</td>\n",
              "    </tr>\n",
              "    <tr>\n",
              "      <th>3</th>\n",
              "      <td>1</td>\n",
              "      <td>0</td>\n",
              "      <td>0</td>\n",
              "      <td>1</td>\n",
              "    </tr>\n",
              "    <tr>\n",
              "      <th>4</th>\n",
              "      <td>0</td>\n",
              "      <td>0</td>\n",
              "      <td>1</td>\n",
              "      <td>1</td>\n",
              "    </tr>\n",
              "  </tbody>\n",
              "</table>\n",
              "</div>"
            ],
            "text/plain": [
              "   c  d  g  j\n",
              "0  1  1  0  0\n",
              "1  0  0  0  0\n",
              "2  0  0  1  0\n",
              "3  1  0  0  1\n",
              "4  0  0  1  1"
            ]
          },
          "metadata": {
            "tags": []
          },
          "execution_count": 61
        }
      ]
    },
    {
      "cell_type": "markdown",
      "metadata": {
        "id": "ge8ldbDb5dpH",
        "colab_type": "text"
      },
      "source": [
        "**Porównywanie kolumn**\n",
        "\n",
        "*kolumny z pytaniami, gdzie jest więcej odpowiedzi niż punktów*"
      ]
    },
    {
      "cell_type": "code",
      "metadata": {
        "id": "uWZ2e5x85oyb",
        "colab_type": "code",
        "colab": {
          "base_uri": "https://localhost:8080/",
          "height": 306
        },
        "outputId": "5277ccc2-7b4d-4872-d47e-a73fe2cc9203"
      },
      "source": [
        "criteria = stof['answercount'] > stof['score']\n",
        "stof[criteria].head()"
      ],
      "execution_count": 62,
      "outputs": [
        {
          "output_type": "execute_result",
          "data": {
            "text/html": [
              "<div>\n",
              "<style scoped>\n",
              "    .dataframe tbody tr th:only-of-type {\n",
              "        vertical-align: middle;\n",
              "    }\n",
              "\n",
              "    .dataframe tbody tr th {\n",
              "        vertical-align: top;\n",
              "    }\n",
              "\n",
              "    .dataframe thead th {\n",
              "        text-align: right;\n",
              "    }\n",
              "</style>\n",
              "<table border=\"1\" class=\"dataframe\">\n",
              "  <thead>\n",
              "    <tr style=\"text-align: right;\">\n",
              "      <th></th>\n",
              "      <th>id</th>\n",
              "      <th>creationdate</th>\n",
              "      <th>score</th>\n",
              "      <th>viewcount</th>\n",
              "      <th>title</th>\n",
              "      <th>answercount</th>\n",
              "      <th>commentcount</th>\n",
              "      <th>favoritecount</th>\n",
              "      <th>quest_name</th>\n",
              "      <th>quest_rep</th>\n",
              "      <th>ans_name</th>\n",
              "      <th>ans_rep</th>\n",
              "    </tr>\n",
              "  </thead>\n",
              "  <tbody>\n",
              "    <tr>\n",
              "      <th>10</th>\n",
              "      <td>8273092</td>\n",
              "      <td>2011-11-25 18:39:02</td>\n",
              "      <td>1</td>\n",
              "      <td>2333</td>\n",
              "      <td>python: pandas install errors</td>\n",
              "      <td>2</td>\n",
              "      <td>0</td>\n",
              "      <td>NaN</td>\n",
              "      <td>codingknob</td>\n",
              "      <td>2279.0</td>\n",
              "      <td>codingknob</td>\n",
              "      <td>2279.0</td>\n",
              "    </tr>\n",
              "    <tr>\n",
              "      <th>46</th>\n",
              "      <td>9927711</td>\n",
              "      <td>2012-03-29 14:42:42</td>\n",
              "      <td>1</td>\n",
              "      <td>1659</td>\n",
              "      <td>Reading csv in python pandas and handling bad ...</td>\n",
              "      <td>3</td>\n",
              "      <td>0</td>\n",
              "      <td>2.0</td>\n",
              "      <td>Dave31415</td>\n",
              "      <td>914.0</td>\n",
              "      <td>eumiro</td>\n",
              "      <td>104313.0</td>\n",
              "    </tr>\n",
              "    <tr>\n",
              "      <th>54</th>\n",
              "      <td>10003171</td>\n",
              "      <td>2012-04-03 23:59:41</td>\n",
              "      <td>1</td>\n",
              "      <td>404</td>\n",
              "      <td>What is an efficient way in pandas to do summa...</td>\n",
              "      <td>2</td>\n",
              "      <td>1</td>\n",
              "      <td>NaN</td>\n",
              "      <td>LmW.</td>\n",
              "      <td>486.0</td>\n",
              "      <td>Wes McKinney</td>\n",
              "      <td>43310.0</td>\n",
              "    </tr>\n",
              "    <tr>\n",
              "      <th>59</th>\n",
              "      <td>10027719</td>\n",
              "      <td>2012-04-05 11:28:00</td>\n",
              "      <td>0</td>\n",
              "      <td>500</td>\n",
              "      <td>Installing Pandas with Python 2.5 on Windows</td>\n",
              "      <td>1</td>\n",
              "      <td>0</td>\n",
              "      <td>NaN</td>\n",
              "      <td>JamesS</td>\n",
              "      <td>191.0</td>\n",
              "      <td>Wes McKinney</td>\n",
              "      <td>43310.0</td>\n",
              "    </tr>\n",
              "    <tr>\n",
              "      <th>77</th>\n",
              "      <td>10393447</td>\n",
              "      <td>2012-05-01 04:12:13</td>\n",
              "      <td>0</td>\n",
              "      <td>130</td>\n",
              "      <td>Scope gotcha when dynamically adding methods i...</td>\n",
              "      <td>2</td>\n",
              "      <td>0</td>\n",
              "      <td>NaN</td>\n",
              "      <td>Chris Billington</td>\n",
              "      <td>424.0</td>\n",
              "      <td>Ignacio Vazquez-Abrams</td>\n",
              "      <td>513959.0</td>\n",
              "    </tr>\n",
              "  </tbody>\n",
              "</table>\n",
              "</div>"
            ],
            "text/plain": [
              "          id         creationdate  ...                ans_name   ans_rep\n",
              "10   8273092  2011-11-25 18:39:02  ...              codingknob    2279.0\n",
              "46   9927711  2012-03-29 14:42:42  ...                  eumiro  104313.0\n",
              "54  10003171  2012-04-03 23:59:41  ...            Wes McKinney   43310.0\n",
              "59  10027719  2012-04-05 11:28:00  ...            Wes McKinney   43310.0\n",
              "77  10393447  2012-05-01 04:12:13  ...  Ignacio Vazquez-Abrams  513959.0\n",
              "\n",
              "[5 rows x 12 columns]"
            ]
          },
          "metadata": {
            "tags": []
          },
          "execution_count": 62
        }
      ]
    },
    {
      "cell_type": "code",
      "metadata": {
        "id": "lVmGBucN6BWb",
        "colab_type": "code",
        "colab": {
          "base_uri": "https://localhost:8080/",
          "height": 306
        },
        "outputId": "9a2c96e5-e842-4c52-b9b6-4c747f130a26"
      },
      "source": [
        "stof[stof['answercount']>stof['score']].head()"
      ],
      "execution_count": 63,
      "outputs": [
        {
          "output_type": "execute_result",
          "data": {
            "text/html": [
              "<div>\n",
              "<style scoped>\n",
              "    .dataframe tbody tr th:only-of-type {\n",
              "        vertical-align: middle;\n",
              "    }\n",
              "\n",
              "    .dataframe tbody tr th {\n",
              "        vertical-align: top;\n",
              "    }\n",
              "\n",
              "    .dataframe thead th {\n",
              "        text-align: right;\n",
              "    }\n",
              "</style>\n",
              "<table border=\"1\" class=\"dataframe\">\n",
              "  <thead>\n",
              "    <tr style=\"text-align: right;\">\n",
              "      <th></th>\n",
              "      <th>id</th>\n",
              "      <th>creationdate</th>\n",
              "      <th>score</th>\n",
              "      <th>viewcount</th>\n",
              "      <th>title</th>\n",
              "      <th>answercount</th>\n",
              "      <th>commentcount</th>\n",
              "      <th>favoritecount</th>\n",
              "      <th>quest_name</th>\n",
              "      <th>quest_rep</th>\n",
              "      <th>ans_name</th>\n",
              "      <th>ans_rep</th>\n",
              "    </tr>\n",
              "  </thead>\n",
              "  <tbody>\n",
              "    <tr>\n",
              "      <th>10</th>\n",
              "      <td>8273092</td>\n",
              "      <td>2011-11-25 18:39:02</td>\n",
              "      <td>1</td>\n",
              "      <td>2333</td>\n",
              "      <td>python: pandas install errors</td>\n",
              "      <td>2</td>\n",
              "      <td>0</td>\n",
              "      <td>NaN</td>\n",
              "      <td>codingknob</td>\n",
              "      <td>2279.0</td>\n",
              "      <td>codingknob</td>\n",
              "      <td>2279.0</td>\n",
              "    </tr>\n",
              "    <tr>\n",
              "      <th>46</th>\n",
              "      <td>9927711</td>\n",
              "      <td>2012-03-29 14:42:42</td>\n",
              "      <td>1</td>\n",
              "      <td>1659</td>\n",
              "      <td>Reading csv in python pandas and handling bad ...</td>\n",
              "      <td>3</td>\n",
              "      <td>0</td>\n",
              "      <td>2.0</td>\n",
              "      <td>Dave31415</td>\n",
              "      <td>914.0</td>\n",
              "      <td>eumiro</td>\n",
              "      <td>104313.0</td>\n",
              "    </tr>\n",
              "    <tr>\n",
              "      <th>54</th>\n",
              "      <td>10003171</td>\n",
              "      <td>2012-04-03 23:59:41</td>\n",
              "      <td>1</td>\n",
              "      <td>404</td>\n",
              "      <td>What is an efficient way in pandas to do summa...</td>\n",
              "      <td>2</td>\n",
              "      <td>1</td>\n",
              "      <td>NaN</td>\n",
              "      <td>LmW.</td>\n",
              "      <td>486.0</td>\n",
              "      <td>Wes McKinney</td>\n",
              "      <td>43310.0</td>\n",
              "    </tr>\n",
              "    <tr>\n",
              "      <th>59</th>\n",
              "      <td>10027719</td>\n",
              "      <td>2012-04-05 11:28:00</td>\n",
              "      <td>0</td>\n",
              "      <td>500</td>\n",
              "      <td>Installing Pandas with Python 2.5 on Windows</td>\n",
              "      <td>1</td>\n",
              "      <td>0</td>\n",
              "      <td>NaN</td>\n",
              "      <td>JamesS</td>\n",
              "      <td>191.0</td>\n",
              "      <td>Wes McKinney</td>\n",
              "      <td>43310.0</td>\n",
              "    </tr>\n",
              "    <tr>\n",
              "      <th>77</th>\n",
              "      <td>10393447</td>\n",
              "      <td>2012-05-01 04:12:13</td>\n",
              "      <td>0</td>\n",
              "      <td>130</td>\n",
              "      <td>Scope gotcha when dynamically adding methods i...</td>\n",
              "      <td>2</td>\n",
              "      <td>0</td>\n",
              "      <td>NaN</td>\n",
              "      <td>Chris Billington</td>\n",
              "      <td>424.0</td>\n",
              "      <td>Ignacio Vazquez-Abrams</td>\n",
              "      <td>513959.0</td>\n",
              "    </tr>\n",
              "  </tbody>\n",
              "</table>\n",
              "</div>"
            ],
            "text/plain": [
              "          id         creationdate  ...                ans_name   ans_rep\n",
              "10   8273092  2011-11-25 18:39:02  ...              codingknob    2279.0\n",
              "46   9927711  2012-03-29 14:42:42  ...                  eumiro  104313.0\n",
              "54  10003171  2012-04-03 23:59:41  ...            Wes McKinney   43310.0\n",
              "59  10027719  2012-04-05 11:28:00  ...            Wes McKinney   43310.0\n",
              "77  10393447  2012-05-01 04:12:13  ...  Ignacio Vazquez-Abrams  513959.0\n",
              "\n",
              "[5 rows x 12 columns]"
            ]
          },
          "metadata": {
            "tags": []
          },
          "execution_count": 63
        }
      ]
    },
    {
      "cell_type": "markdown",
      "metadata": {
        "id": "Sa58ZJsw6TGi",
        "colab_type": "text"
      },
      "source": [
        "**Uwaga: przy bool nie używamy .iloc, bo używa się nazw kolumn do porównywania**"
      ]
    },
    {
      "cell_type": "markdown",
      "metadata": {
        "id": "dY_7nbkT7P2g",
        "colab_type": "text"
      },
      "source": [
        "## Exercises"
      ]
    },
    {
      "cell_type": "markdown",
      "metadata": {
        "id": "ZhNHNWG77SZv",
        "colab_type": "text"
      },
      "source": [
        "*pytania z ilością odpowiedzi = 5*"
      ]
    },
    {
      "cell_type": "code",
      "metadata": {
        "id": "pnIv-rk77Y-R",
        "colab_type": "code",
        "colab": {
          "base_uri": "https://localhost:8080/",
          "height": 289
        },
        "outputId": "337bd2ce-7a38-40ae-d6cb-7012bf8b9f2e"
      },
      "source": [
        "stof.loc[stof['answercount']==5].head()"
      ],
      "execution_count": 66,
      "outputs": [
        {
          "output_type": "execute_result",
          "data": {
            "text/html": [
              "<div>\n",
              "<style scoped>\n",
              "    .dataframe tbody tr th:only-of-type {\n",
              "        vertical-align: middle;\n",
              "    }\n",
              "\n",
              "    .dataframe tbody tr th {\n",
              "        vertical-align: top;\n",
              "    }\n",
              "\n",
              "    .dataframe thead th {\n",
              "        text-align: right;\n",
              "    }\n",
              "</style>\n",
              "<table border=\"1\" class=\"dataframe\">\n",
              "  <thead>\n",
              "    <tr style=\"text-align: right;\">\n",
              "      <th></th>\n",
              "      <th>id</th>\n",
              "      <th>creationdate</th>\n",
              "      <th>score</th>\n",
              "      <th>viewcount</th>\n",
              "      <th>title</th>\n",
              "      <th>answercount</th>\n",
              "      <th>commentcount</th>\n",
              "      <th>favoritecount</th>\n",
              "      <th>quest_name</th>\n",
              "      <th>quest_rep</th>\n",
              "      <th>ans_name</th>\n",
              "      <th>ans_rep</th>\n",
              "    </tr>\n",
              "  </thead>\n",
              "  <tbody>\n",
              "    <tr>\n",
              "      <th>75</th>\n",
              "      <td>10373660</td>\n",
              "      <td>2012-04-29 16:10:35</td>\n",
              "      <td>199</td>\n",
              "      <td>207980</td>\n",
              "      <td>Converting a Pandas GroupBy object to DataFrame</td>\n",
              "      <td>5</td>\n",
              "      <td>0</td>\n",
              "      <td>90.0</td>\n",
              "      <td>saveenr</td>\n",
              "      <td>2421.0</td>\n",
              "      <td>Wes McKinney</td>\n",
              "      <td>43310.0</td>\n",
              "    </tr>\n",
              "    <tr>\n",
              "      <th>115</th>\n",
              "      <td>10791661</td>\n",
              "      <td>2012-05-29 00:06:52</td>\n",
              "      <td>7</td>\n",
              "      <td>12210</td>\n",
              "      <td>How do I discretize values in a pandas DataFra...</td>\n",
              "      <td>5</td>\n",
              "      <td>0</td>\n",
              "      <td>3.0</td>\n",
              "      <td>Uri Laserson</td>\n",
              "      <td>958.0</td>\n",
              "      <td>lbolla</td>\n",
              "      <td>4552.0</td>\n",
              "    </tr>\n",
              "    <tr>\n",
              "      <th>130</th>\n",
              "      <td>10972410</td>\n",
              "      <td>2012-06-10 21:12:43</td>\n",
              "      <td>19</td>\n",
              "      <td>46428</td>\n",
              "      <td>pandas: combine two columns in a DataFrame</td>\n",
              "      <td>5</td>\n",
              "      <td>0</td>\n",
              "      <td>5.0</td>\n",
              "      <td>BFTM</td>\n",
              "      <td>895.0</td>\n",
              "      <td>BrenBarn</td>\n",
              "      <td>136870.0</td>\n",
              "    </tr>\n",
              "    <tr>\n",
              "      <th>189</th>\n",
              "      <td>11391969</td>\n",
              "      <td>2012-07-09 09:04:33</td>\n",
              "      <td>44</td>\n",
              "      <td>27467</td>\n",
              "      <td>How to group pandas DataFrame entries by date ...</td>\n",
              "      <td>5</td>\n",
              "      <td>1</td>\n",
              "      <td>15.0</td>\n",
              "      <td>Boris Gorelik</td>\n",
              "      <td>9605.0</td>\n",
              "      <td>Wes McKinney</td>\n",
              "      <td>43310.0</td>\n",
              "    </tr>\n",
              "    <tr>\n",
              "      <th>246</th>\n",
              "      <td>11811392</td>\n",
              "      <td>2012-08-04 19:25:34</td>\n",
              "      <td>17</td>\n",
              "      <td>20051</td>\n",
              "      <td>How to generate a list from a pandas DataFrame...</td>\n",
              "      <td>5</td>\n",
              "      <td>0</td>\n",
              "      <td>6.0</td>\n",
              "      <td>turtle</td>\n",
              "      <td>1260.0</td>\n",
              "      <td>BrenBarn</td>\n",
              "      <td>136870.0</td>\n",
              "    </tr>\n",
              "  </tbody>\n",
              "</table>\n",
              "</div>"
            ],
            "text/plain": [
              "           id         creationdate  score  ...  quest_rep      ans_name   ans_rep\n",
              "75   10373660  2012-04-29 16:10:35    199  ...     2421.0  Wes McKinney   43310.0\n",
              "115  10791661  2012-05-29 00:06:52      7  ...      958.0        lbolla    4552.0\n",
              "130  10972410  2012-06-10 21:12:43     19  ...      895.0      BrenBarn  136870.0\n",
              "189  11391969  2012-07-09 09:04:33     44  ...     9605.0  Wes McKinney   43310.0\n",
              "246  11811392  2012-08-04 19:25:34     17  ...     1260.0      BrenBarn  136870.0\n",
              "\n",
              "[5 rows x 12 columns]"
            ]
          },
          "metadata": {
            "tags": []
          },
          "execution_count": 66
        }
      ]
    },
    {
      "cell_type": "markdown",
      "metadata": {
        "id": "blbQ6d9O7vnm",
        "colab_type": "text"
      },
      "source": [
        "*pytania, gdzie ilość views mniej niż 10*"
      ]
    },
    {
      "cell_type": "code",
      "metadata": {
        "id": "E4FftO0k71h2",
        "colab_type": "code",
        "colab": {
          "base_uri": "https://localhost:8080/",
          "height": 289
        },
        "outputId": "cfae4f0e-686d-43d4-8c9d-235a14134a97"
      },
      "source": [
        "stof.loc[stof['viewcount']<10].head()"
      ],
      "execution_count": 67,
      "outputs": [
        {
          "output_type": "execute_result",
          "data": {
            "text/html": [
              "<div>\n",
              "<style scoped>\n",
              "    .dataframe tbody tr th:only-of-type {\n",
              "        vertical-align: middle;\n",
              "    }\n",
              "\n",
              "    .dataframe tbody tr th {\n",
              "        vertical-align: top;\n",
              "    }\n",
              "\n",
              "    .dataframe thead th {\n",
              "        text-align: right;\n",
              "    }\n",
              "</style>\n",
              "<table border=\"1\" class=\"dataframe\">\n",
              "  <thead>\n",
              "    <tr style=\"text-align: right;\">\n",
              "      <th></th>\n",
              "      <th>id</th>\n",
              "      <th>creationdate</th>\n",
              "      <th>score</th>\n",
              "      <th>viewcount</th>\n",
              "      <th>title</th>\n",
              "      <th>answercount</th>\n",
              "      <th>commentcount</th>\n",
              "      <th>favoritecount</th>\n",
              "      <th>quest_name</th>\n",
              "      <th>quest_rep</th>\n",
              "      <th>ans_name</th>\n",
              "      <th>ans_rep</th>\n",
              "    </tr>\n",
              "  </thead>\n",
              "  <tbody>\n",
              "    <tr>\n",
              "      <th>7787</th>\n",
              "      <td>26493306</td>\n",
              "      <td>2014-10-21 18:06:10</td>\n",
              "      <td>1</td>\n",
              "      <td>6</td>\n",
              "      <td>How to convert hierarchical DataFrame back fro...</td>\n",
              "      <td>0</td>\n",
              "      <td>2</td>\n",
              "      <td>1.0</td>\n",
              "      <td>exp1orer</td>\n",
              "      <td>3551.0</td>\n",
              "      <td>NaN</td>\n",
              "      <td>NaN</td>\n",
              "    </tr>\n",
              "    <tr>\n",
              "      <th>17653</th>\n",
              "      <td>33641540</td>\n",
              "      <td>2015-11-10 23:19:36</td>\n",
              "      <td>0</td>\n",
              "      <td>9</td>\n",
              "      <td>Joining Dataframes in Pandas deletes an existi...</td>\n",
              "      <td>1</td>\n",
              "      <td>0</td>\n",
              "      <td>NaN</td>\n",
              "      <td>Rahul Biswas</td>\n",
              "      <td>88.0</td>\n",
              "      <td>NaN</td>\n",
              "      <td>NaN</td>\n",
              "    </tr>\n",
              "    <tr>\n",
              "      <th>29414</th>\n",
              "      <td>40062672</td>\n",
              "      <td>2016-10-15 18:24:21</td>\n",
              "      <td>-1</td>\n",
              "      <td>9</td>\n",
              "      <td>Replace one or more sub-strings from multiple ...</td>\n",
              "      <td>1</td>\n",
              "      <td>0</td>\n",
              "      <td>NaN</td>\n",
              "      <td>Andreuccio</td>\n",
              "      <td>186.0</td>\n",
              "      <td>NaN</td>\n",
              "      <td>NaN</td>\n",
              "    </tr>\n",
              "    <tr>\n",
              "      <th>36086</th>\n",
              "      <td>42538091</td>\n",
              "      <td>2017-03-01 17:20:37</td>\n",
              "      <td>0</td>\n",
              "      <td>9</td>\n",
              "      <td>Saving box plot pandas python</td>\n",
              "      <td>0</td>\n",
              "      <td>0</td>\n",
              "      <td>NaN</td>\n",
              "      <td>user2906657</td>\n",
              "      <td>119.0</td>\n",
              "      <td>NaN</td>\n",
              "      <td>NaN</td>\n",
              "    </tr>\n",
              "    <tr>\n",
              "      <th>36340</th>\n",
              "      <td>42080039</td>\n",
              "      <td>2017-02-07 01:13:30</td>\n",
              "      <td>0</td>\n",
              "      <td>8</td>\n",
              "      <td>pandas: count the non-duplicated elements when...</td>\n",
              "      <td>1</td>\n",
              "      <td>0</td>\n",
              "      <td>NaN</td>\n",
              "      <td>Edamame</td>\n",
              "      <td>2281.0</td>\n",
              "      <td>root</td>\n",
              "      <td>12202.0</td>\n",
              "    </tr>\n",
              "  </tbody>\n",
              "</table>\n",
              "</div>"
            ],
            "text/plain": [
              "             id         creationdate  score  ...  quest_rep ans_name  ans_rep\n",
              "7787   26493306  2014-10-21 18:06:10      1  ...     3551.0      NaN      NaN\n",
              "17653  33641540  2015-11-10 23:19:36      0  ...       88.0      NaN      NaN\n",
              "29414  40062672  2016-10-15 18:24:21     -1  ...      186.0      NaN      NaN\n",
              "36086  42538091  2017-03-01 17:20:37      0  ...      119.0      NaN      NaN\n",
              "36340  42080039  2017-02-07 01:13:30      0  ...     2281.0     root  12202.0\n",
              "\n",
              "[5 rows x 12 columns]"
            ]
          },
          "metadata": {
            "tags": []
          },
          "execution_count": 67
        }
      ]
    },
    {
      "cell_type": "markdown",
      "metadata": {
        "id": "jS9e7lOz8BQv",
        "colab_type": "text"
      },
      "source": [
        "*pytania, gdzie osoba pytająca jest osobą odpowiadającą*"
      ]
    },
    {
      "cell_type": "code",
      "metadata": {
        "id": "34Kajs-e8HHE",
        "colab_type": "code",
        "colab": {
          "base_uri": "https://localhost:8080/",
          "height": 306
        },
        "outputId": "84637f8d-d6b9-4d3e-dd52-652143b39dff"
      },
      "source": [
        "stof.loc[stof['quest_name'] == stof['ans_name']].head()"
      ],
      "execution_count": 68,
      "outputs": [
        {
          "output_type": "execute_result",
          "data": {
            "text/html": [
              "<div>\n",
              "<style scoped>\n",
              "    .dataframe tbody tr th:only-of-type {\n",
              "        vertical-align: middle;\n",
              "    }\n",
              "\n",
              "    .dataframe tbody tr th {\n",
              "        vertical-align: top;\n",
              "    }\n",
              "\n",
              "    .dataframe thead th {\n",
              "        text-align: right;\n",
              "    }\n",
              "</style>\n",
              "<table border=\"1\" class=\"dataframe\">\n",
              "  <thead>\n",
              "    <tr style=\"text-align: right;\">\n",
              "      <th></th>\n",
              "      <th>id</th>\n",
              "      <th>creationdate</th>\n",
              "      <th>score</th>\n",
              "      <th>viewcount</th>\n",
              "      <th>title</th>\n",
              "      <th>answercount</th>\n",
              "      <th>commentcount</th>\n",
              "      <th>favoritecount</th>\n",
              "      <th>quest_name</th>\n",
              "      <th>quest_rep</th>\n",
              "      <th>ans_name</th>\n",
              "      <th>ans_rep</th>\n",
              "    </tr>\n",
              "  </thead>\n",
              "  <tbody>\n",
              "    <tr>\n",
              "      <th>10</th>\n",
              "      <td>8273092</td>\n",
              "      <td>2011-11-25 18:39:02</td>\n",
              "      <td>1</td>\n",
              "      <td>2333</td>\n",
              "      <td>python: pandas install errors</td>\n",
              "      <td>2</td>\n",
              "      <td>0</td>\n",
              "      <td>NaN</td>\n",
              "      <td>codingknob</td>\n",
              "      <td>2279.0</td>\n",
              "      <td>codingknob</td>\n",
              "      <td>2279.0</td>\n",
              "    </tr>\n",
              "    <tr>\n",
              "      <th>33</th>\n",
              "      <td>9721429</td>\n",
              "      <td>2012-03-15 14:08:31</td>\n",
              "      <td>9</td>\n",
              "      <td>5732</td>\n",
              "      <td>How do I read a fix width format text file in ...</td>\n",
              "      <td>4</td>\n",
              "      <td>2</td>\n",
              "      <td>NaN</td>\n",
              "      <td>user1234440</td>\n",
              "      <td>3369.0</td>\n",
              "      <td>user1234440</td>\n",
              "      <td>3369.0</td>\n",
              "    </tr>\n",
              "    <tr>\n",
              "      <th>58</th>\n",
              "      <td>10020591</td>\n",
              "      <td>2012-04-04 23:17:23</td>\n",
              "      <td>21</td>\n",
              "      <td>20171</td>\n",
              "      <td>How to resample a dataframe with different fun...</td>\n",
              "      <td>4</td>\n",
              "      <td>0</td>\n",
              "      <td>15.0</td>\n",
              "      <td>bmu</td>\n",
              "      <td>17129.0</td>\n",
              "      <td>bmu</td>\n",
              "      <td>17129.0</td>\n",
              "    </tr>\n",
              "    <tr>\n",
              "      <th>68</th>\n",
              "      <td>10175068</td>\n",
              "      <td>2012-04-16 13:27:44</td>\n",
              "      <td>15</td>\n",
              "      <td>7501</td>\n",
              "      <td>Select data at a particular level from a Multi...</td>\n",
              "      <td>2</td>\n",
              "      <td>3</td>\n",
              "      <td>5.0</td>\n",
              "      <td>elyase</td>\n",
              "      <td>19551.0</td>\n",
              "      <td>elyase</td>\n",
              "      <td>19551.0</td>\n",
              "    </tr>\n",
              "    <tr>\n",
              "      <th>74</th>\n",
              "      <td>10264739</td>\n",
              "      <td>2012-04-22 02:35:06</td>\n",
              "      <td>9</td>\n",
              "      <td>2362</td>\n",
              "      <td>major memory problems reading in a csv file us...</td>\n",
              "      <td>3</td>\n",
              "      <td>2</td>\n",
              "      <td>7.0</td>\n",
              "      <td>vgoklani</td>\n",
              "      <td>1752.0</td>\n",
              "      <td>vgoklani</td>\n",
              "      <td>1752.0</td>\n",
              "    </tr>\n",
              "  </tbody>\n",
              "</table>\n",
              "</div>"
            ],
            "text/plain": [
              "          id         creationdate  score  ...  quest_rep     ans_name  ans_rep\n",
              "10   8273092  2011-11-25 18:39:02      1  ...     2279.0   codingknob   2279.0\n",
              "33   9721429  2012-03-15 14:08:31      9  ...     3369.0  user1234440   3369.0\n",
              "58  10020591  2012-04-04 23:17:23     21  ...    17129.0          bmu  17129.0\n",
              "68  10175068  2012-04-16 13:27:44     15  ...    19551.0       elyase  19551.0\n",
              "74  10264739  2012-04-22 02:35:06      9  ...     1752.0     vgoklani   1752.0\n",
              "\n",
              "[5 rows x 12 columns]"
            ]
          },
          "metadata": {
            "tags": []
          },
          "execution_count": 68
        }
      ]
    },
    {
      "cell_type": "markdown",
      "metadata": {
        "id": "zb1LJB698V-U",
        "colab_type": "text"
      },
      "source": [
        "*pytanie, gdzie nie ma zaakceptowanej odpowiedzi, ale score jest większy niż 100*"
      ]
    },
    {
      "cell_type": "code",
      "metadata": {
        "id": "m4kbxGHH8hmO",
        "colab_type": "code",
        "colab": {
          "base_uri": "https://localhost:8080/",
          "height": 289
        },
        "outputId": "43c83b92-4f03-4fac-d77a-173916a8918c"
      },
      "source": [
        "stof.loc[(stof['ans_name'].isnull()) & (stof['score']>100)].head()"
      ],
      "execution_count": 69,
      "outputs": [
        {
          "output_type": "execute_result",
          "data": {
            "text/html": [
              "<div>\n",
              "<style scoped>\n",
              "    .dataframe tbody tr th:only-of-type {\n",
              "        vertical-align: middle;\n",
              "    }\n",
              "\n",
              "    .dataframe tbody tr th {\n",
              "        vertical-align: top;\n",
              "    }\n",
              "\n",
              "    .dataframe thead th {\n",
              "        text-align: right;\n",
              "    }\n",
              "</style>\n",
              "<table border=\"1\" class=\"dataframe\">\n",
              "  <thead>\n",
              "    <tr style=\"text-align: right;\">\n",
              "      <th></th>\n",
              "      <th>id</th>\n",
              "      <th>creationdate</th>\n",
              "      <th>score</th>\n",
              "      <th>viewcount</th>\n",
              "      <th>title</th>\n",
              "      <th>answercount</th>\n",
              "      <th>commentcount</th>\n",
              "      <th>favoritecount</th>\n",
              "      <th>quest_name</th>\n",
              "      <th>quest_rep</th>\n",
              "      <th>ans_name</th>\n",
              "      <th>ans_rep</th>\n",
              "    </tr>\n",
              "  </thead>\n",
              "  <tbody>\n",
              "    <tr>\n",
              "      <th>184</th>\n",
              "      <td>11350770</td>\n",
              "      <td>2012-07-05 18:57:34</td>\n",
              "      <td>149</td>\n",
              "      <td>155776</td>\n",
              "      <td>pandas + dataframe - select by partial string</td>\n",
              "      <td>7</td>\n",
              "      <td>0</td>\n",
              "      <td>52.0</td>\n",
              "      <td>euforia</td>\n",
              "      <td>816.0</td>\n",
              "      <td>NaN</td>\n",
              "      <td>NaN</td>\n",
              "    </tr>\n",
              "    <tr>\n",
              "      <th>514</th>\n",
              "      <td>13148429</td>\n",
              "      <td>2012-10-30 22:22:59</td>\n",
              "      <td>312</td>\n",
              "      <td>228357</td>\n",
              "      <td>How to change the order of DataFrame columns?</td>\n",
              "      <td>19</td>\n",
              "      <td>1</td>\n",
              "      <td>90.0</td>\n",
              "      <td>Timmie</td>\n",
              "      <td>1689.0</td>\n",
              "      <td>NaN</td>\n",
              "      <td>NaN</td>\n",
              "    </tr>\n",
              "    <tr>\n",
              "      <th>527</th>\n",
              "      <td>13187778</td>\n",
              "      <td>2012-11-02 00:57:33</td>\n",
              "      <td>102</td>\n",
              "      <td>202329</td>\n",
              "      <td>Convert pandas dataframe to numpy array, prese...</td>\n",
              "      <td>8</td>\n",
              "      <td>0</td>\n",
              "      <td>45.0</td>\n",
              "      <td>mister.nobody.nz</td>\n",
              "      <td>511.0</td>\n",
              "      <td>NaN</td>\n",
              "      <td>NaN</td>\n",
              "    </tr>\n",
              "    <tr>\n",
              "      <th>560</th>\n",
              "      <td>13331698</td>\n",
              "      <td>2012-11-11 13:48:53</td>\n",
              "      <td>154</td>\n",
              "      <td>174964</td>\n",
              "      <td>How to apply a function to two columns of Pand...</td>\n",
              "      <td>9</td>\n",
              "      <td>4</td>\n",
              "      <td>66.0</td>\n",
              "      <td>bigbug</td>\n",
              "      <td>7865.0</td>\n",
              "      <td>NaN</td>\n",
              "      <td>NaN</td>\n",
              "    </tr>\n",
              "    <tr>\n",
              "      <th>5013</th>\n",
              "      <td>19377969</td>\n",
              "      <td>2013-10-15 09:42:52</td>\n",
              "      <td>128</td>\n",
              "      <td>144045</td>\n",
              "      <td>Combine two columns of text in dataframe in pa...</td>\n",
              "      <td>10</td>\n",
              "      <td>1</td>\n",
              "      <td>49.0</td>\n",
              "      <td>user2866103</td>\n",
              "      <td>831.0</td>\n",
              "      <td>NaN</td>\n",
              "      <td>NaN</td>\n",
              "    </tr>\n",
              "  </tbody>\n",
              "</table>\n",
              "</div>"
            ],
            "text/plain": [
              "            id         creationdate  score  ...  quest_rep ans_name  ans_rep\n",
              "184   11350770  2012-07-05 18:57:34    149  ...      816.0      NaN      NaN\n",
              "514   13148429  2012-10-30 22:22:59    312  ...     1689.0      NaN      NaN\n",
              "527   13187778  2012-11-02 00:57:33    102  ...      511.0      NaN      NaN\n",
              "560   13331698  2012-11-11 13:48:53    154  ...     7865.0      NaN      NaN\n",
              "5013  19377969  2013-10-15 09:42:52    128  ...      831.0      NaN      NaN\n",
              "\n",
              "[5 rows x 12 columns]"
            ]
          },
          "metadata": {
            "tags": []
          },
          "execution_count": 69
        }
      ]
    },
    {
      "cell_type": "markdown",
      "metadata": {
        "id": "tufFbhBb9CqS",
        "colab_type": "text"
      },
      "source": [
        "*pytania, gdzie reputacja pytającego jest większa niż osoby odpowiadającej. Potem procent jak często to sie zdarza*"
      ]
    },
    {
      "cell_type": "code",
      "metadata": {
        "id": "2hBRJb9T9Pl3",
        "colab_type": "code",
        "colab": {
          "base_uri": "https://localhost:8080/",
          "height": 289
        },
        "outputId": "c59cd0f2-b86b-4889-ff18-ea9a9ba2f7c5"
      },
      "source": [
        "stof.loc[stof['quest_rep']>stof['ans_rep']].head()"
      ],
      "execution_count": 70,
      "outputs": [
        {
          "output_type": "execute_result",
          "data": {
            "text/html": [
              "<div>\n",
              "<style scoped>\n",
              "    .dataframe tbody tr th:only-of-type {\n",
              "        vertical-align: middle;\n",
              "    }\n",
              "\n",
              "    .dataframe tbody tr th {\n",
              "        vertical-align: top;\n",
              "    }\n",
              "\n",
              "    .dataframe thead th {\n",
              "        text-align: right;\n",
              "    }\n",
              "</style>\n",
              "<table border=\"1\" class=\"dataframe\">\n",
              "  <thead>\n",
              "    <tr style=\"text-align: right;\">\n",
              "      <th></th>\n",
              "      <th>id</th>\n",
              "      <th>creationdate</th>\n",
              "      <th>score</th>\n",
              "      <th>viewcount</th>\n",
              "      <th>title</th>\n",
              "      <th>answercount</th>\n",
              "      <th>commentcount</th>\n",
              "      <th>favoritecount</th>\n",
              "      <th>quest_name</th>\n",
              "      <th>quest_rep</th>\n",
              "      <th>ans_name</th>\n",
              "      <th>ans_rep</th>\n",
              "    </tr>\n",
              "  </thead>\n",
              "  <tbody>\n",
              "    <tr>\n",
              "      <th>26</th>\n",
              "      <td>9588331</td>\n",
              "      <td>2012-03-06 17:01:47</td>\n",
              "      <td>22</td>\n",
              "      <td>10038</td>\n",
              "      <td>Simple cross-tabulation in pandas</td>\n",
              "      <td>2</td>\n",
              "      <td>3</td>\n",
              "      <td>5.0</td>\n",
              "      <td>Jon Clements</td>\n",
              "      <td>85944.0</td>\n",
              "      <td>Jeff Hammerbacher</td>\n",
              "      <td>3172.0</td>\n",
              "    </tr>\n",
              "    <tr>\n",
              "      <th>51</th>\n",
              "      <td>9962114</td>\n",
              "      <td>2012-04-01 05:25:20</td>\n",
              "      <td>9</td>\n",
              "      <td>8079</td>\n",
              "      <td>Control Charts in Python</td>\n",
              "      <td>1</td>\n",
              "      <td>0</td>\n",
              "      <td>3.0</td>\n",
              "      <td>John</td>\n",
              "      <td>8807.0</td>\n",
              "      <td>Josh Hemann</td>\n",
              "      <td>590.0</td>\n",
              "    </tr>\n",
              "    <tr>\n",
              "      <th>99</th>\n",
              "      <td>10636024</td>\n",
              "      <td>2012-05-17 12:48:00</td>\n",
              "      <td>36</td>\n",
              "      <td>30386</td>\n",
              "      <td>Python / Pandas - GUI for viewing a DataFrame ...</td>\n",
              "      <td>15</td>\n",
              "      <td>6</td>\n",
              "      <td>27.0</td>\n",
              "      <td>Ross R</td>\n",
              "      <td>1562.0</td>\n",
              "      <td>user1319128</td>\n",
              "      <td>555.0</td>\n",
              "    </tr>\n",
              "    <tr>\n",
              "      <th>101</th>\n",
              "      <td>10671227</td>\n",
              "      <td>2012-05-20 06:14:57</td>\n",
              "      <td>0</td>\n",
              "      <td>473</td>\n",
              "      <td>Pandas FloatingPoint Error</td>\n",
              "      <td>1</td>\n",
              "      <td>5</td>\n",
              "      <td>NaN</td>\n",
              "      <td>tshauck</td>\n",
              "      <td>5957.0</td>\n",
              "      <td>Karmel</td>\n",
              "      <td>2870.0</td>\n",
              "    </tr>\n",
              "    <tr>\n",
              "      <th>112</th>\n",
              "      <td>10760364</td>\n",
              "      <td>2012-05-25 19:33:39</td>\n",
              "      <td>8</td>\n",
              "      <td>2977</td>\n",
              "      <td>\"Zebra Tables\" in IPython Notebook?</td>\n",
              "      <td>3</td>\n",
              "      <td>0</td>\n",
              "      <td>4.0</td>\n",
              "      <td>JD Long</td>\n",
              "      <td>33098.0</td>\n",
              "      <td>minrk</td>\n",
              "      <td>22244.0</td>\n",
              "    </tr>\n",
              "  </tbody>\n",
              "</table>\n",
              "</div>"
            ],
            "text/plain": [
              "           id         creationdate  ...           ans_name  ans_rep\n",
              "26    9588331  2012-03-06 17:01:47  ...  Jeff Hammerbacher   3172.0\n",
              "51    9962114  2012-04-01 05:25:20  ...        Josh Hemann    590.0\n",
              "99   10636024  2012-05-17 12:48:00  ...        user1319128    555.0\n",
              "101  10671227  2012-05-20 06:14:57  ...             Karmel   2870.0\n",
              "112  10760364  2012-05-25 19:33:39  ...              minrk  22244.0\n",
              "\n",
              "[5 rows x 12 columns]"
            ]
          },
          "metadata": {
            "tags": []
          },
          "execution_count": 70
        }
      ]
    },
    {
      "cell_type": "code",
      "metadata": {
        "id": "U3dCq3u99rQk",
        "colab_type": "code",
        "colab": {
          "base_uri": "https://localhost:8080/",
          "height": 34
        },
        "outputId": "ad0b1507-61f0-4dd3-e880-500ced404581"
      },
      "source": [
        "stof.shape"
      ],
      "execution_count": 71,
      "outputs": [
        {
          "output_type": "execute_result",
          "data": {
            "text/plain": [
              "(56398, 12)"
            ]
          },
          "metadata": {
            "tags": []
          },
          "execution_count": 71
        }
      ]
    },
    {
      "cell_type": "code",
      "metadata": {
        "id": "kWKo0nGH9uXF",
        "colab_type": "code",
        "colab": {
          "base_uri": "https://localhost:8080/",
          "height": 34
        },
        "outputId": "288db670-1c9d-4e28-b388-6d4ebba717ce"
      },
      "source": [
        "stof.loc[stof['quest_rep']>stof['ans_rep']].shape"
      ],
      "execution_count": 73,
      "outputs": [
        {
          "output_type": "execute_result",
          "data": {
            "text/plain": [
              "2240"
            ]
          },
          "metadata": {
            "tags": []
          },
          "execution_count": 73
        }
      ]
    },
    {
      "cell_type": "code",
      "metadata": {
        "id": "7Z2uDanz93-z",
        "colab_type": "code",
        "colab": {
          "base_uri": "https://localhost:8080/",
          "height": 34
        },
        "outputId": "59640f2e-76da-4da5-aa42-d87785a72b6d"
      },
      "source": [
        "rep_perc = (stof.loc[stof['quest_rep']>stof['ans_rep']].shape[0])/stof.shape[0]*100\n",
        "rep_perc"
      ],
      "execution_count": 75,
      "outputs": [
        {
          "output_type": "execute_result",
          "data": {
            "text/plain": [
              "3.9717720486542074"
            ]
          },
          "metadata": {
            "tags": []
          },
          "execution_count": 75
        }
      ]
    },
    {
      "cell_type": "code",
      "metadata": {
        "id": "uhQVAeD4-d6P",
        "colab_type": "code",
        "colab": {
          "base_uri": "https://localhost:8080/",
          "height": 34
        },
        "outputId": "507a4266-0f36-43ca-a222-b64e34cf8ddb"
      },
      "source": [
        "(stof['quest_rep']>stof['ans_rep']).mean() #prościej"
      ],
      "execution_count": 76,
      "outputs": [
        {
          "output_type": "execute_result",
          "data": {
            "text/plain": [
              "0.039717720486542075"
            ]
          },
          "metadata": {
            "tags": []
          },
          "execution_count": 76
        }
      ]
    },
    {
      "cell_type": "markdown",
      "metadata": {
        "id": "GejvXgAC_HOv",
        "colab_type": "text"
      },
      "source": [
        "*pytanie, gdzie liczba odpowiedzi jest między 5 a 10, a liczba odsłon mniejsza niż 1k*"
      ]
    },
    {
      "cell_type": "code",
      "metadata": {
        "id": "40VKruSE_Sp2",
        "colab_type": "code",
        "colab": {
          "base_uri": "https://localhost:8080/",
          "height": 306
        },
        "outputId": "2e305a08-2a2b-4c3c-f8b5-53f3dafeb213"
      },
      "source": [
        "stof[stof['answercount'].between(5, 10) & (stof['viewcount']<1000)].head()"
      ],
      "execution_count": 79,
      "outputs": [
        {
          "output_type": "execute_result",
          "data": {
            "text/html": [
              "<div>\n",
              "<style scoped>\n",
              "    .dataframe tbody tr th:only-of-type {\n",
              "        vertical-align: middle;\n",
              "    }\n",
              "\n",
              "    .dataframe tbody tr th {\n",
              "        vertical-align: top;\n",
              "    }\n",
              "\n",
              "    .dataframe thead th {\n",
              "        text-align: right;\n",
              "    }\n",
              "</style>\n",
              "<table border=\"1\" class=\"dataframe\">\n",
              "  <thead>\n",
              "    <tr style=\"text-align: right;\">\n",
              "      <th></th>\n",
              "      <th>id</th>\n",
              "      <th>creationdate</th>\n",
              "      <th>score</th>\n",
              "      <th>viewcount</th>\n",
              "      <th>title</th>\n",
              "      <th>answercount</th>\n",
              "      <th>commentcount</th>\n",
              "      <th>favoritecount</th>\n",
              "      <th>quest_name</th>\n",
              "      <th>quest_rep</th>\n",
              "      <th>ans_name</th>\n",
              "      <th>ans_rep</th>\n",
              "    </tr>\n",
              "  </thead>\n",
              "  <tbody>\n",
              "    <tr>\n",
              "      <th>620</th>\n",
              "      <td>13580875</td>\n",
              "      <td>2012-11-27 09:19:07</td>\n",
              "      <td>2</td>\n",
              "      <td>963</td>\n",
              "      <td>Running average / frequency of time series data?</td>\n",
              "      <td>5</td>\n",
              "      <td>9</td>\n",
              "      <td>1.0</td>\n",
              "      <td>Prof. Falken</td>\n",
              "      <td>15061.0</td>\n",
              "      <td>Victor K</td>\n",
              "      <td>332.0</td>\n",
              "    </tr>\n",
              "    <tr>\n",
              "      <th>1316</th>\n",
              "      <td>14742893</td>\n",
              "      <td>2013-02-07 03:13:31</td>\n",
              "      <td>2</td>\n",
              "      <td>598</td>\n",
              "      <td>Interpolation Function</td>\n",
              "      <td>5</td>\n",
              "      <td>0</td>\n",
              "      <td>NaN</td>\n",
              "      <td>eWizardII</td>\n",
              "      <td>886.0</td>\n",
              "      <td>NaN</td>\n",
              "      <td>NaN</td>\n",
              "    </tr>\n",
              "    <tr>\n",
              "      <th>4816</th>\n",
              "      <td>21315997</td>\n",
              "      <td>2014-01-23 18:02:57</td>\n",
              "      <td>2</td>\n",
              "      <td>716</td>\n",
              "      <td>Python Pandas vs R. Transformation Code Concis...</td>\n",
              "      <td>5</td>\n",
              "      <td>2</td>\n",
              "      <td>2.0</td>\n",
              "      <td>user2684301</td>\n",
              "      <td>1465.0</td>\n",
              "      <td>Jeff</td>\n",
              "      <td>62248.0</td>\n",
              "    </tr>\n",
              "    <tr>\n",
              "      <th>4958</th>\n",
              "      <td>19892107</td>\n",
              "      <td>2013-11-10 16:28:50</td>\n",
              "      <td>5</td>\n",
              "      <td>385</td>\n",
              "      <td>Updating csv with data from a csv with differe...</td>\n",
              "      <td>6</td>\n",
              "      <td>0</td>\n",
              "      <td>1.0</td>\n",
              "      <td>OliverSteph</td>\n",
              "      <td>32.0</td>\n",
              "      <td>NaN</td>\n",
              "      <td>NaN</td>\n",
              "    </tr>\n",
              "    <tr>\n",
              "      <th>5339</th>\n",
              "      <td>21040578</td>\n",
              "      <td>2014-01-10 09:33:09</td>\n",
              "      <td>-1</td>\n",
              "      <td>175</td>\n",
              "      <td>combining mutiple csv file</td>\n",
              "      <td>8</td>\n",
              "      <td>2</td>\n",
              "      <td>NaN</td>\n",
              "      <td>user104853</td>\n",
              "      <td>16.0</td>\n",
              "      <td>NaN</td>\n",
              "      <td>NaN</td>\n",
              "    </tr>\n",
              "  </tbody>\n",
              "</table>\n",
              "</div>"
            ],
            "text/plain": [
              "            id         creationdate  score  ...  quest_rep  ans_name  ans_rep\n",
              "620   13580875  2012-11-27 09:19:07      2  ...    15061.0  Victor K    332.0\n",
              "1316  14742893  2013-02-07 03:13:31      2  ...      886.0       NaN      NaN\n",
              "4816  21315997  2014-01-23 18:02:57      2  ...     1465.0      Jeff  62248.0\n",
              "4958  19892107  2013-11-10 16:28:50      5  ...       32.0       NaN      NaN\n",
              "5339  21040578  2014-01-10 09:33:09     -1  ...       16.0       NaN      NaN\n",
              "\n",
              "[5 rows x 12 columns]"
            ]
          },
          "metadata": {
            "tags": []
          },
          "execution_count": 79
        }
      ]
    },
    {
      "cell_type": "markdown",
      "metadata": {
        "id": "KmTPxcAGANaQ",
        "colab_type": "text"
      },
      "source": [
        "*Przeciwieństwo tego co wyżej*"
      ]
    },
    {
      "cell_type": "code",
      "metadata": {
        "id": "N794rzFmASc-",
        "colab_type": "code",
        "colab": {
          "base_uri": "https://localhost:8080/",
          "height": 289
        },
        "outputId": "3468a18d-1ead-4126-9ca6-e3f59a4cf7aa"
      },
      "source": [
        "stof[~(stof['answercount'].between(5, 10) & (stof['viewcount']<1000))].head()"
      ],
      "execution_count": 80,
      "outputs": [
        {
          "output_type": "execute_result",
          "data": {
            "text/html": [
              "<div>\n",
              "<style scoped>\n",
              "    .dataframe tbody tr th:only-of-type {\n",
              "        vertical-align: middle;\n",
              "    }\n",
              "\n",
              "    .dataframe tbody tr th {\n",
              "        vertical-align: top;\n",
              "    }\n",
              "\n",
              "    .dataframe thead th {\n",
              "        text-align: right;\n",
              "    }\n",
              "</style>\n",
              "<table border=\"1\" class=\"dataframe\">\n",
              "  <thead>\n",
              "    <tr style=\"text-align: right;\">\n",
              "      <th></th>\n",
              "      <th>id</th>\n",
              "      <th>creationdate</th>\n",
              "      <th>score</th>\n",
              "      <th>viewcount</th>\n",
              "      <th>title</th>\n",
              "      <th>answercount</th>\n",
              "      <th>commentcount</th>\n",
              "      <th>favoritecount</th>\n",
              "      <th>quest_name</th>\n",
              "      <th>quest_rep</th>\n",
              "      <th>ans_name</th>\n",
              "      <th>ans_rep</th>\n",
              "    </tr>\n",
              "  </thead>\n",
              "  <tbody>\n",
              "    <tr>\n",
              "      <th>0</th>\n",
              "      <td>5486226</td>\n",
              "      <td>2011-03-30 12:26:50</td>\n",
              "      <td>4</td>\n",
              "      <td>2113</td>\n",
              "      <td>Rolling median in python</td>\n",
              "      <td>3</td>\n",
              "      <td>4</td>\n",
              "      <td>1.0</td>\n",
              "      <td>yueerhu</td>\n",
              "      <td>125.0</td>\n",
              "      <td>Mike Pennington</td>\n",
              "      <td>26995.0</td>\n",
              "    </tr>\n",
              "    <tr>\n",
              "      <th>1</th>\n",
              "      <td>5515021</td>\n",
              "      <td>2011-04-01 14:50:44</td>\n",
              "      <td>8</td>\n",
              "      <td>7015</td>\n",
              "      <td>Compute a compounded return series in Python</td>\n",
              "      <td>3</td>\n",
              "      <td>6</td>\n",
              "      <td>7.0</td>\n",
              "      <td>Jason Strimpel</td>\n",
              "      <td>3301.0</td>\n",
              "      <td>Mike Pennington</td>\n",
              "      <td>26995.0</td>\n",
              "    </tr>\n",
              "    <tr>\n",
              "      <th>2</th>\n",
              "      <td>5558607</td>\n",
              "      <td>2011-04-05 21:13:50</td>\n",
              "      <td>2</td>\n",
              "      <td>7392</td>\n",
              "      <td>Sort a pandas DataMatrix in ascending order</td>\n",
              "      <td>2</td>\n",
              "      <td>0</td>\n",
              "      <td>1.0</td>\n",
              "      <td>Jason Strimpel</td>\n",
              "      <td>3301.0</td>\n",
              "      <td>Wes McKinney</td>\n",
              "      <td>43310.0</td>\n",
              "    </tr>\n",
              "    <tr>\n",
              "      <th>3</th>\n",
              "      <td>6467832</td>\n",
              "      <td>2011-06-24 12:31:45</td>\n",
              "      <td>9</td>\n",
              "      <td>13056</td>\n",
              "      <td>How to get the correlation between two timeser...</td>\n",
              "      <td>1</td>\n",
              "      <td>0</td>\n",
              "      <td>7.0</td>\n",
              "      <td>user814005</td>\n",
              "      <td>117.0</td>\n",
              "      <td>Wes McKinney</td>\n",
              "      <td>43310.0</td>\n",
              "    </tr>\n",
              "    <tr>\n",
              "      <th>4</th>\n",
              "      <td>7577546</td>\n",
              "      <td>2011-09-28 01:58:38</td>\n",
              "      <td>9</td>\n",
              "      <td>2488</td>\n",
              "      <td>Using pandas, how do I subsample a large DataF...</td>\n",
              "      <td>1</td>\n",
              "      <td>0</td>\n",
              "      <td>5.0</td>\n",
              "      <td>Uri Laserson</td>\n",
              "      <td>958.0</td>\n",
              "      <td>HYRY</td>\n",
              "      <td>54137.0</td>\n",
              "    </tr>\n",
              "  </tbody>\n",
              "</table>\n",
              "</div>"
            ],
            "text/plain": [
              "        id         creationdate  score  ...  quest_rep         ans_name  ans_rep\n",
              "0  5486226  2011-03-30 12:26:50      4  ...      125.0  Mike Pennington  26995.0\n",
              "1  5515021  2011-04-01 14:50:44      8  ...     3301.0  Mike Pennington  26995.0\n",
              "2  5558607  2011-04-05 21:13:50      2  ...     3301.0     Wes McKinney  43310.0\n",
              "3  6467832  2011-06-24 12:31:45      9  ...      117.0     Wes McKinney  43310.0\n",
              "4  7577546  2011-09-28 01:58:38      9  ...      958.0             HYRY  54137.0\n",
              "\n",
              "[5 rows x 12 columns]"
            ]
          },
          "metadata": {
            "tags": []
          },
          "execution_count": 80
        }
      ]
    },
    {
      "cell_type": "markdown",
      "metadata": {
        "id": "RokxlcHeAsH-",
        "colab_type": "text"
      },
      "source": [
        "**Inna baza danych**"
      ]
    },
    {
      "cell_type": "code",
      "metadata": {
        "id": "tFqrciSEAvAb",
        "colab_type": "code",
        "colab": {
          "base_uri": "https://localhost:8080/",
          "height": 204
        },
        "outputId": "bb2f0b45-ef42-4245-af10-661de449b647"
      },
      "source": [
        "path = 'https://raw.githubusercontent.com/tdpetrou/Learn-Pandas/6bb60eece5d6a1d2580351574ed5b6d0ee1a1dda/data/employee.csv'\n",
        "employee = pd.read_csv(path)\n",
        "employee.head()"
      ],
      "execution_count": 81,
      "outputs": [
        {
          "output_type": "execute_result",
          "data": {
            "text/html": [
              "<div>\n",
              "<style scoped>\n",
              "    .dataframe tbody tr th:only-of-type {\n",
              "        vertical-align: middle;\n",
              "    }\n",
              "\n",
              "    .dataframe tbody tr th {\n",
              "        vertical-align: top;\n",
              "    }\n",
              "\n",
              "    .dataframe thead th {\n",
              "        text-align: right;\n",
              "    }\n",
              "</style>\n",
              "<table border=\"1\" class=\"dataframe\">\n",
              "  <thead>\n",
              "    <tr style=\"text-align: right;\">\n",
              "      <th></th>\n",
              "      <th>POSITION_TITLE</th>\n",
              "      <th>DEPARTMENT</th>\n",
              "      <th>BASE_SALARY</th>\n",
              "      <th>RACE</th>\n",
              "      <th>EMPLOYMENT_TYPE</th>\n",
              "      <th>GENDER</th>\n",
              "      <th>HIRE_DATE</th>\n",
              "      <th>JOB_DATE</th>\n",
              "    </tr>\n",
              "  </thead>\n",
              "  <tbody>\n",
              "    <tr>\n",
              "      <th>0</th>\n",
              "      <td>ASSISTANT DIRECTOR (EX LVL)</td>\n",
              "      <td>Municipal Courts Department</td>\n",
              "      <td>121862.0</td>\n",
              "      <td>Hispanic/Latino</td>\n",
              "      <td>Full Time</td>\n",
              "      <td>Female</td>\n",
              "      <td>2006-06-12</td>\n",
              "      <td>2012-10-13</td>\n",
              "    </tr>\n",
              "    <tr>\n",
              "      <th>1</th>\n",
              "      <td>LIBRARY ASSISTANT</td>\n",
              "      <td>Library</td>\n",
              "      <td>26125.0</td>\n",
              "      <td>Hispanic/Latino</td>\n",
              "      <td>Full Time</td>\n",
              "      <td>Female</td>\n",
              "      <td>2000-07-19</td>\n",
              "      <td>2010-09-18</td>\n",
              "    </tr>\n",
              "    <tr>\n",
              "      <th>2</th>\n",
              "      <td>POLICE OFFICER</td>\n",
              "      <td>Houston Police Department-HPD</td>\n",
              "      <td>45279.0</td>\n",
              "      <td>White</td>\n",
              "      <td>Full Time</td>\n",
              "      <td>Male</td>\n",
              "      <td>2015-02-03</td>\n",
              "      <td>2015-02-03</td>\n",
              "    </tr>\n",
              "    <tr>\n",
              "      <th>3</th>\n",
              "      <td>ENGINEER/OPERATOR</td>\n",
              "      <td>Houston Fire Department (HFD)</td>\n",
              "      <td>63166.0</td>\n",
              "      <td>White</td>\n",
              "      <td>Full Time</td>\n",
              "      <td>Male</td>\n",
              "      <td>1982-02-08</td>\n",
              "      <td>1991-05-25</td>\n",
              "    </tr>\n",
              "    <tr>\n",
              "      <th>4</th>\n",
              "      <td>ELECTRICIAN</td>\n",
              "      <td>General Services Department</td>\n",
              "      <td>56347.0</td>\n",
              "      <td>White</td>\n",
              "      <td>Full Time</td>\n",
              "      <td>Male</td>\n",
              "      <td>1989-06-19</td>\n",
              "      <td>1994-10-22</td>\n",
              "    </tr>\n",
              "  </tbody>\n",
              "</table>\n",
              "</div>"
            ],
            "text/plain": [
              "                POSITION_TITLE  ...    JOB_DATE\n",
              "0  ASSISTANT DIRECTOR (EX LVL)  ...  2012-10-13\n",
              "1            LIBRARY ASSISTANT  ...  2010-09-18\n",
              "2               POLICE OFFICER  ...  2015-02-03\n",
              "3            ENGINEER/OPERATOR  ...  1991-05-25\n",
              "4                  ELECTRICIAN  ...  1994-10-22\n",
              "\n",
              "[5 rows x 8 columns]"
            ]
          },
          "metadata": {
            "tags": []
          },
          "execution_count": 81
        }
      ]
    },
    {
      "cell_type": "code",
      "metadata": {
        "id": "N_kBqq4RBQ4y",
        "colab_type": "code",
        "colab": {
          "base_uri": "https://localhost:8080/",
          "height": 136
        },
        "outputId": "e99ef1e2-e8fc-4656-ddac-146da292f8a7"
      },
      "source": [
        "employee.RACE.value_counts()"
      ],
      "execution_count": 82,
      "outputs": [
        {
          "output_type": "execute_result",
          "data": {
            "text/plain": [
              "Black or African American            700\n",
              "White                                665\n",
              "Hispanic/Latino                      480\n",
              "Asian/Pacific Islander               107\n",
              "American Indian or Alaskan Native     11\n",
              "Others                                 2\n",
              "Name: RACE, dtype: int64"
            ]
          },
          "metadata": {
            "tags": []
          },
          "execution_count": 82
        }
      ]
    },
    {
      "cell_type": "markdown",
      "metadata": {
        "id": "E0u4OTZCBcf2",
        "colab_type": "text"
      },
      "source": [
        "*Find all the **`Black or African American`** females that work in the **`Houston Police Department-HPD`*"
      ]
    },
    {
      "cell_type": "code",
      "metadata": {
        "id": "HdNsEPkYBftb",
        "colab_type": "code",
        "colab": {
          "base_uri": "https://localhost:8080/",
          "height": 204
        },
        "outputId": "8baa316b-374a-46b3-f71f-958c47a5b250"
      },
      "source": [
        "employee.loc[(employee['DEPARTMENT']=='Houston Police Department-HPD')&(employee['RACE']=='Black or African American') & (employee['GENDER']=='Female')].head()"
      ],
      "execution_count": 83,
      "outputs": [
        {
          "output_type": "execute_result",
          "data": {
            "text/html": [
              "<div>\n",
              "<style scoped>\n",
              "    .dataframe tbody tr th:only-of-type {\n",
              "        vertical-align: middle;\n",
              "    }\n",
              "\n",
              "    .dataframe tbody tr th {\n",
              "        vertical-align: top;\n",
              "    }\n",
              "\n",
              "    .dataframe thead th {\n",
              "        text-align: right;\n",
              "    }\n",
              "</style>\n",
              "<table border=\"1\" class=\"dataframe\">\n",
              "  <thead>\n",
              "    <tr style=\"text-align: right;\">\n",
              "      <th></th>\n",
              "      <th>POSITION_TITLE</th>\n",
              "      <th>DEPARTMENT</th>\n",
              "      <th>BASE_SALARY</th>\n",
              "      <th>RACE</th>\n",
              "      <th>EMPLOYMENT_TYPE</th>\n",
              "      <th>GENDER</th>\n",
              "      <th>HIRE_DATE</th>\n",
              "      <th>JOB_DATE</th>\n",
              "    </tr>\n",
              "  </thead>\n",
              "  <tbody>\n",
              "    <tr>\n",
              "      <th>55</th>\n",
              "      <td>ADMINISTRATIVE ASSOCIATE</td>\n",
              "      <td>Houston Police Department-HPD</td>\n",
              "      <td>34757.0</td>\n",
              "      <td>Black or African American</td>\n",
              "      <td>Full Time</td>\n",
              "      <td>Female</td>\n",
              "      <td>2005-05-11</td>\n",
              "      <td>2008-05-17</td>\n",
              "    </tr>\n",
              "    <tr>\n",
              "      <th>113</th>\n",
              "      <td>SENIOR POLICE OFFICER</td>\n",
              "      <td>Houston Police Department-HPD</td>\n",
              "      <td>66614.0</td>\n",
              "      <td>Black or African American</td>\n",
              "      <td>Full Time</td>\n",
              "      <td>Female</td>\n",
              "      <td>1994-06-20</td>\n",
              "      <td>2007-02-24</td>\n",
              "    </tr>\n",
              "    <tr>\n",
              "      <th>137</th>\n",
              "      <td>JAIL ATTENDANT</td>\n",
              "      <td>Houston Police Department-HPD</td>\n",
              "      <td>36317.0</td>\n",
              "      <td>Black or African American</td>\n",
              "      <td>Full Time</td>\n",
              "      <td>Female</td>\n",
              "      <td>2008-11-24</td>\n",
              "      <td>2013-07-17</td>\n",
              "    </tr>\n",
              "    <tr>\n",
              "      <th>196</th>\n",
              "      <td>SENIOR POLICE OFFICER</td>\n",
              "      <td>Houston Police Department-HPD</td>\n",
              "      <td>66614.0</td>\n",
              "      <td>Black or African American</td>\n",
              "      <td>Full Time</td>\n",
              "      <td>Female</td>\n",
              "      <td>1992-08-31</td>\n",
              "      <td>2008-03-08</td>\n",
              "    </tr>\n",
              "    <tr>\n",
              "      <th>228</th>\n",
              "      <td>FINANCIAL ANALYST III</td>\n",
              "      <td>Houston Police Department-HPD</td>\n",
              "      <td>59182.0</td>\n",
              "      <td>Black or African American</td>\n",
              "      <td>Full Time</td>\n",
              "      <td>Female</td>\n",
              "      <td>1985-04-15</td>\n",
              "      <td>2009-07-25</td>\n",
              "    </tr>\n",
              "  </tbody>\n",
              "</table>\n",
              "</div>"
            ],
            "text/plain": [
              "               POSITION_TITLE  ...    JOB_DATE\n",
              "55   ADMINISTRATIVE ASSOCIATE  ...  2008-05-17\n",
              "113     SENIOR POLICE OFFICER  ...  2007-02-24\n",
              "137            JAIL ATTENDANT  ...  2013-07-17\n",
              "196     SENIOR POLICE OFFICER  ...  2008-03-08\n",
              "228     FINANCIAL ANALYST III  ...  2009-07-25\n",
              "\n",
              "[5 rows x 8 columns]"
            ]
          },
          "metadata": {
            "tags": []
          },
          "execution_count": 83
        }
      ]
    },
    {
      "cell_type": "markdown",
      "metadata": {
        "id": "67vLxRCVCWGA",
        "colab_type": "text"
      },
      "source": [
        "*Find the females that have a salary over 100,000 OR males with salary under 50,000*"
      ]
    },
    {
      "cell_type": "code",
      "metadata": {
        "id": "L5FUz_K5CYNE",
        "colab_type": "code",
        "colab": {
          "base_uri": "https://localhost:8080/",
          "height": 204
        },
        "outputId": "b037342e-4561-4a9a-8341-0b44d73704ea"
      },
      "source": [
        "employee.loc[((employee['GENDER']=='Female')&(employee['BASE_SALARY']>100000)) | ((employee['GENDER']=='Male')&(employee['BASE_SALARY']<50000))].head()"
      ],
      "execution_count": 84,
      "outputs": [
        {
          "output_type": "execute_result",
          "data": {
            "text/html": [
              "<div>\n",
              "<style scoped>\n",
              "    .dataframe tbody tr th:only-of-type {\n",
              "        vertical-align: middle;\n",
              "    }\n",
              "\n",
              "    .dataframe tbody tr th {\n",
              "        vertical-align: top;\n",
              "    }\n",
              "\n",
              "    .dataframe thead th {\n",
              "        text-align: right;\n",
              "    }\n",
              "</style>\n",
              "<table border=\"1\" class=\"dataframe\">\n",
              "  <thead>\n",
              "    <tr style=\"text-align: right;\">\n",
              "      <th></th>\n",
              "      <th>POSITION_TITLE</th>\n",
              "      <th>DEPARTMENT</th>\n",
              "      <th>BASE_SALARY</th>\n",
              "      <th>RACE</th>\n",
              "      <th>EMPLOYMENT_TYPE</th>\n",
              "      <th>GENDER</th>\n",
              "      <th>HIRE_DATE</th>\n",
              "      <th>JOB_DATE</th>\n",
              "    </tr>\n",
              "  </thead>\n",
              "  <tbody>\n",
              "    <tr>\n",
              "      <th>0</th>\n",
              "      <td>ASSISTANT DIRECTOR (EX LVL)</td>\n",
              "      <td>Municipal Courts Department</td>\n",
              "      <td>121862.0</td>\n",
              "      <td>Hispanic/Latino</td>\n",
              "      <td>Full Time</td>\n",
              "      <td>Female</td>\n",
              "      <td>2006-06-12</td>\n",
              "      <td>2012-10-13</td>\n",
              "    </tr>\n",
              "    <tr>\n",
              "      <th>2</th>\n",
              "      <td>POLICE OFFICER</td>\n",
              "      <td>Houston Police Department-HPD</td>\n",
              "      <td>45279.0</td>\n",
              "      <td>White</td>\n",
              "      <td>Full Time</td>\n",
              "      <td>Male</td>\n",
              "      <td>2015-02-03</td>\n",
              "      <td>2015-02-03</td>\n",
              "    </tr>\n",
              "    <tr>\n",
              "      <th>7</th>\n",
              "      <td>CARPENTER</td>\n",
              "      <td>Houston Airport System (HAS)</td>\n",
              "      <td>42390.0</td>\n",
              "      <td>White</td>\n",
              "      <td>Full Time</td>\n",
              "      <td>Male</td>\n",
              "      <td>2013-11-04</td>\n",
              "      <td>2013-11-04</td>\n",
              "    </tr>\n",
              "    <tr>\n",
              "      <th>9</th>\n",
              "      <td>AIRPORT OPERATIONS COORDINATOR</td>\n",
              "      <td>Houston Airport System (HAS)</td>\n",
              "      <td>44616.0</td>\n",
              "      <td>NaN</td>\n",
              "      <td>Full Time</td>\n",
              "      <td>Male</td>\n",
              "      <td>2016-03-14</td>\n",
              "      <td>2016-03-14</td>\n",
              "    </tr>\n",
              "    <tr>\n",
              "      <th>12</th>\n",
              "      <td>CUSTOMER SERVICE REPRESENTATIVE I</td>\n",
              "      <td>Public Works &amp; Engineering-PWE</td>\n",
              "      <td>30347.0</td>\n",
              "      <td>Black or African American</td>\n",
              "      <td>Full Time</td>\n",
              "      <td>Male</td>\n",
              "      <td>2015-11-16</td>\n",
              "      <td>2015-11-16</td>\n",
              "    </tr>\n",
              "  </tbody>\n",
              "</table>\n",
              "</div>"
            ],
            "text/plain": [
              "                       POSITION_TITLE  ...    JOB_DATE\n",
              "0         ASSISTANT DIRECTOR (EX LVL)  ...  2012-10-13\n",
              "2                      POLICE OFFICER  ...  2015-02-03\n",
              "7                           CARPENTER  ...  2013-11-04\n",
              "9      AIRPORT OPERATIONS COORDINATOR  ...  2016-03-14\n",
              "12  CUSTOMER SERVICE REPRESENTATIVE I  ...  2015-11-16\n",
              "\n",
              "[5 rows x 8 columns]"
            ]
          },
          "metadata": {
            "tags": []
          },
          "execution_count": 84
        }
      ]
    },
    {
      "cell_type": "markdown",
      "metadata": {
        "id": "1f4XFTnqDLYs",
        "colab_type": "text"
      },
      "source": [
        "*Find the females in the following departments with salary over 60,000 (Parks & Recreation, Solid Waste Management, Fleet Management Department, Library)*"
      ]
    },
    {
      "cell_type": "code",
      "metadata": {
        "id": "RPvgKeQADNki",
        "colab_type": "code",
        "colab": {
          "base_uri": "https://localhost:8080/",
          "height": 204
        },
        "outputId": "9bb2ccb4-c7e6-4023-d38b-9fe864db6880"
      },
      "source": [
        "employee.loc[employee['DEPARTMENT'].isin(['Parks&Recreation', 'Solid Waste Management', 'Fleet Management Departament', 'Library'])\n",
        "             & (employee['BASE_SALARY']>60000) & (employee['GENDER']=='Female')].head()"
      ],
      "execution_count": 87,
      "outputs": [
        {
          "output_type": "execute_result",
          "data": {
            "text/html": [
              "<div>\n",
              "<style scoped>\n",
              "    .dataframe tbody tr th:only-of-type {\n",
              "        vertical-align: middle;\n",
              "    }\n",
              "\n",
              "    .dataframe tbody tr th {\n",
              "        vertical-align: top;\n",
              "    }\n",
              "\n",
              "    .dataframe thead th {\n",
              "        text-align: right;\n",
              "    }\n",
              "</style>\n",
              "<table border=\"1\" class=\"dataframe\">\n",
              "  <thead>\n",
              "    <tr style=\"text-align: right;\">\n",
              "      <th></th>\n",
              "      <th>POSITION_TITLE</th>\n",
              "      <th>DEPARTMENT</th>\n",
              "      <th>BASE_SALARY</th>\n",
              "      <th>RACE</th>\n",
              "      <th>EMPLOYMENT_TYPE</th>\n",
              "      <th>GENDER</th>\n",
              "      <th>HIRE_DATE</th>\n",
              "      <th>JOB_DATE</th>\n",
              "    </tr>\n",
              "  </thead>\n",
              "  <tbody>\n",
              "    <tr>\n",
              "      <th>249</th>\n",
              "      <td>STAFF ANALYST</td>\n",
              "      <td>Solid Waste Management</td>\n",
              "      <td>75041.0</td>\n",
              "      <td>Hispanic/Latino</td>\n",
              "      <td>Full Time</td>\n",
              "      <td>Female</td>\n",
              "      <td>1992-10-21</td>\n",
              "      <td>2015-07-18</td>\n",
              "    </tr>\n",
              "    <tr>\n",
              "      <th>412</th>\n",
              "      <td>ADMINISTRATIVE COORDINATOR</td>\n",
              "      <td>Library</td>\n",
              "      <td>79302.0</td>\n",
              "      <td>Hispanic/Latino</td>\n",
              "      <td>Full Time</td>\n",
              "      <td>Female</td>\n",
              "      <td>2003-12-22</td>\n",
              "      <td>2005-04-02</td>\n",
              "    </tr>\n",
              "    <tr>\n",
              "      <th>476</th>\n",
              "      <td>ADMINISTRATIVE SUPERVISOR</td>\n",
              "      <td>Library</td>\n",
              "      <td>60632.0</td>\n",
              "      <td>Black or African American</td>\n",
              "      <td>Full Time</td>\n",
              "      <td>Female</td>\n",
              "      <td>1993-05-10</td>\n",
              "      <td>2014-11-08</td>\n",
              "    </tr>\n",
              "    <tr>\n",
              "      <th>892</th>\n",
              "      <td>LIBRARIAN III</td>\n",
              "      <td>Library</td>\n",
              "      <td>61454.0</td>\n",
              "      <td>White</td>\n",
              "      <td>Full Time</td>\n",
              "      <td>Female</td>\n",
              "      <td>1998-11-02</td>\n",
              "      <td>2002-06-15</td>\n",
              "    </tr>\n",
              "    <tr>\n",
              "      <th>1165</th>\n",
              "      <td>DEPUTY ASSISTANT DIRECTOR (EXECUTIVE LEV</td>\n",
              "      <td>Library</td>\n",
              "      <td>107763.0</td>\n",
              "      <td>Black or African American</td>\n",
              "      <td>Full Time</td>\n",
              "      <td>Female</td>\n",
              "      <td>1993-11-16</td>\n",
              "      <td>2014-03-15</td>\n",
              "    </tr>\n",
              "  </tbody>\n",
              "</table>\n",
              "</div>"
            ],
            "text/plain": [
              "                                POSITION_TITLE  ...    JOB_DATE\n",
              "249                              STAFF ANALYST  ...  2015-07-18\n",
              "412                 ADMINISTRATIVE COORDINATOR  ...  2005-04-02\n",
              "476                  ADMINISTRATIVE SUPERVISOR  ...  2014-11-08\n",
              "892                              LIBRARIAN III  ...  2002-06-15\n",
              "1165  DEPUTY ASSISTANT DIRECTOR (EXECUTIVE LEV  ...  2014-03-15\n",
              "\n",
              "[5 rows x 8 columns]"
            ]
          },
          "metadata": {
            "tags": []
          },
          "execution_count": 87
        }
      ]
    },
    {
      "cell_type": "markdown",
      "metadata": {
        "id": "dTii0KBLEb2B",
        "colab_type": "text"
      },
      "source": [
        "*Find all the males with salary over 100,000. Return only the race, gender and salary columns*\n"
      ]
    },
    {
      "cell_type": "code",
      "metadata": {
        "id": "eztarLOKEeRH",
        "colab_type": "code",
        "colab": {
          "base_uri": "https://localhost:8080/",
          "height": 204
        },
        "outputId": "d953bca3-3321-48a6-977f-eb66617d15b3"
      },
      "source": [
        "employee.loc[((employee['GENDER']=='Male') & (employee['BASE_SALARY']>100000)), ['RACE', 'GENDER', 'BASE_SALARY']].head()"
      ],
      "execution_count": 91,
      "outputs": [
        {
          "output_type": "execute_result",
          "data": {
            "text/html": [
              "<div>\n",
              "<style scoped>\n",
              "    .dataframe tbody tr th:only-of-type {\n",
              "        vertical-align: middle;\n",
              "    }\n",
              "\n",
              "    .dataframe tbody tr th {\n",
              "        vertical-align: top;\n",
              "    }\n",
              "\n",
              "    .dataframe thead th {\n",
              "        text-align: right;\n",
              "    }\n",
              "</style>\n",
              "<table border=\"1\" class=\"dataframe\">\n",
              "  <thead>\n",
              "    <tr style=\"text-align: right;\">\n",
              "      <th></th>\n",
              "      <th>RACE</th>\n",
              "      <th>GENDER</th>\n",
              "      <th>BASE_SALARY</th>\n",
              "    </tr>\n",
              "  </thead>\n",
              "  <tbody>\n",
              "    <tr>\n",
              "      <th>8</th>\n",
              "      <td>White</td>\n",
              "      <td>Male</td>\n",
              "      <td>107962.0</td>\n",
              "    </tr>\n",
              "    <tr>\n",
              "      <th>11</th>\n",
              "      <td>Black or African American</td>\n",
              "      <td>Male</td>\n",
              "      <td>180416.0</td>\n",
              "    </tr>\n",
              "    <tr>\n",
              "      <th>43</th>\n",
              "      <td>Hispanic/Latino</td>\n",
              "      <td>Male</td>\n",
              "      <td>165216.0</td>\n",
              "    </tr>\n",
              "    <tr>\n",
              "      <th>169</th>\n",
              "      <td>White</td>\n",
              "      <td>Male</td>\n",
              "      <td>120916.0</td>\n",
              "    </tr>\n",
              "    <tr>\n",
              "      <th>178</th>\n",
              "      <td>White</td>\n",
              "      <td>Male</td>\n",
              "      <td>210588.0</td>\n",
              "    </tr>\n",
              "  </tbody>\n",
              "</table>\n",
              "</div>"
            ],
            "text/plain": [
              "                          RACE GENDER  BASE_SALARY\n",
              "8                        White   Male     107962.0\n",
              "11   Black or African American   Male     180416.0\n",
              "43             Hispanic/Latino   Male     165216.0\n",
              "169                      White   Male     120916.0\n",
              "178                      White   Male     210588.0"
            ]
          },
          "metadata": {
            "tags": []
          },
          "execution_count": 91
        }
      ]
    },
    {
      "cell_type": "markdown",
      "metadata": {
        "id": "PdglUD9KFbG8",
        "colab_type": "text"
      },
      "source": [
        "*Select all salaries as a Series in a separate variable. From this series select all salaries under 25,000*"
      ]
    },
    {
      "cell_type": "code",
      "metadata": {
        "id": "wvADm37qFdvs",
        "colab_type": "code",
        "colab": {
          "base_uri": "https://localhost:8080/",
          "height": 51
        },
        "outputId": "05d1899f-2e71-48df-a138-7db162aef9b3"
      },
      "source": [
        "salaries = employee['BASE_SALARY']\n",
        "salaries[salaries<25000]"
      ],
      "execution_count": 93,
      "outputs": [
        {
          "output_type": "execute_result",
          "data": {
            "text/plain": [
              "454    24960.0\n",
              "Name: BASE_SALARY, dtype: float64"
            ]
          },
          "metadata": {
            "tags": []
          },
          "execution_count": 93
        }
      ]
    },
    {
      "cell_type": "markdown",
      "metadata": {
        "id": "JdVcB2q_GAPs",
        "colab_type": "text"
      },
      "source": [
        "*Get the same exact result as exercise 11, but make your selection from the employee DataFrame. Use only a single line of code*"
      ]
    },
    {
      "cell_type": "code",
      "metadata": {
        "id": "yHsZhXRPEf9g",
        "colab_type": "code",
        "colab": {
          "base_uri": "https://localhost:8080/",
          "height": 80
        },
        "outputId": "a92eb363-44a4-4dba-e369-07c7214b453c"
      },
      "source": [
        "employee.loc[(employee['BASE_SALARY']<25000), ['BASE_SALARY']].head()"
      ],
      "execution_count": 95,
      "outputs": [
        {
          "output_type": "execute_result",
          "data": {
            "text/html": [
              "<div>\n",
              "<style scoped>\n",
              "    .dataframe tbody tr th:only-of-type {\n",
              "        vertical-align: middle;\n",
              "    }\n",
              "\n",
              "    .dataframe tbody tr th {\n",
              "        vertical-align: top;\n",
              "    }\n",
              "\n",
              "    .dataframe thead th {\n",
              "        text-align: right;\n",
              "    }\n",
              "</style>\n",
              "<table border=\"1\" class=\"dataframe\">\n",
              "  <thead>\n",
              "    <tr style=\"text-align: right;\">\n",
              "      <th></th>\n",
              "      <th>BASE_SALARY</th>\n",
              "    </tr>\n",
              "  </thead>\n",
              "  <tbody>\n",
              "    <tr>\n",
              "      <th>454</th>\n",
              "      <td>24960.0</td>\n",
              "    </tr>\n",
              "  </tbody>\n",
              "</table>\n",
              "</div>"
            ],
            "text/plain": [
              "     BASE_SALARY\n",
              "454      24960.0"
            ]
          },
          "metadata": {
            "tags": []
          },
          "execution_count": 95
        }
      ]
    }
  ]
}