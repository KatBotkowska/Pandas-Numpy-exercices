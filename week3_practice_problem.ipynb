{
  "nbformat": 4,
  "nbformat_minor": 0,
  "metadata": {
    "colab": {
      "name": "week3_practice_problem.ipynb",
      "provenance": [],
      "authorship_tag": "ABX9TyNp9Hy0ApFbiwpMFyw9VxSC",
      "include_colab_link": true
    },
    "kernelspec": {
      "name": "python3",
      "display_name": "Python 3"
    }
  },
  "cells": [
    {
      "cell_type": "markdown",
      "metadata": {
        "id": "view-in-github",
        "colab_type": "text"
      },
      "source": [
        "<a href=\"https://colab.research.google.com/github/KatBotkowska/Pandas-Numpy-exercices/blob/master/week3_practice_problem.ipynb\" target=\"_parent\"><img src=\"https://colab.research.google.com/assets/colab-badge.svg\" alt=\"Open In Colab\"/></a>"
      ]
    },
    {
      "cell_type": "markdown",
      "metadata": {
        "id": "5vrno_nvaYMN"
      },
      "source": [
        "Practice using the requests library by visiting https://en.wikipedia.org/wiki/main_page and searching for the string \"Did you know\" on that page. You need to do the following steps:\n",
        "\n",
        "1. Open https://en.wikipedia.org/wiki/main_page using the requests library\n",
        "\n",
        "2. Check the status code. Did your request work?\n",
        "\n",
        "3. Get the content. Decode it. Then search the page for the string “Did you know” using the str find function\n",
        "\n",
        "4. If your find function returned a positive number - Great!\n",
        "\n",
        "5. If it returned -1 (that means it was not found), you’ve done something wrong. Try figuring out what went wrong"
      ]
    },
    {
      "cell_type": "code",
      "metadata": {
        "id": "7Gj7rzTxTw_q"
      },
      "source": [
        "import urllib.request\n",
        "import requests\n",
        "from bs4 import BeautifulSoup"
      ],
      "execution_count": 11,
      "outputs": []
    },
    {
      "cell_type": "code",
      "metadata": {
        "id": "rWyvk5CjWDgo"
      },
      "source": [
        "url = 'https://en.wikipedia.org/wiki/main_page'"
      ],
      "execution_count": 8,
      "outputs": []
    },
    {
      "cell_type": "code",
      "metadata": {
        "id": "P0hOzpcoWJuz"
      },
      "source": [
        "response = requests.get(url)"
      ],
      "execution_count": 9,
      "outputs": []
    },
    {
      "cell_type": "code",
      "metadata": {
        "colab": {
          "base_uri": "https://localhost:8080/"
        },
        "id": "cCz18zAlWR88",
        "outputId": "626037aa-73ee-4768-8929-9a2c9448f0d6"
      },
      "source": [
        "response"
      ],
      "execution_count": 10,
      "outputs": [
        {
          "output_type": "execute_result",
          "data": {
            "text/plain": [
              "<Response [200]>"
            ]
          },
          "metadata": {
            "tags": []
          },
          "execution_count": 10
        }
      ]
    },
    {
      "cell_type": "code",
      "metadata": {
        "id": "hwpRz7pXWaht"
      },
      "source": [
        "soup = BeautifulSoup(response.text, \"html.parser\")\n",
        "#print(soup)"
      ],
      "execution_count": 22,
      "outputs": []
    },
    {
      "cell_type": "code",
      "metadata": {
        "colab": {
          "base_uri": "https://localhost:8080/"
        },
        "id": "zEJQ6canW03e",
        "outputId": "8d28cf27-d127-4d35-e1ea-0012a32fdea7"
      },
      "source": [
        "page_decoded = soup.prettify()\n",
        "page_decoded.find('Did you know')"
      ],
      "execution_count": 28,
      "outputs": [
        {
          "output_type": "execute_result",
          "data": {
            "text/plain": [
              "18789"
            ]
          },
          "metadata": {
            "tags": []
          },
          "execution_count": 28
        }
      ]
    }
  ]
}