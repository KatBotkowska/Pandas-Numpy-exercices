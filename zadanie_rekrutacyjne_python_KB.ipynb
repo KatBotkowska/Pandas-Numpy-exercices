{
  "nbformat": 4,
  "nbformat_minor": 0,
  "metadata": {
    "celltoolbar": "Edit Metadata",
    "kernelspec": {
      "display_name": "Python 3",
      "language": "python",
      "name": "python3"
    },
    "language_info": {
      "codemirror_mode": {
        "name": "ipython",
        "version": 3
      },
      "file_extension": ".py",
      "mimetype": "text/x-python",
      "name": "python",
      "nbconvert_exporter": "python",
      "pygments_lexer": "ipython3",
      "version": "3.7.4"
    },
    "colab": {
      "name": "zadanie_rekrutacyjne_python",
      "provenance": [],
      "include_colab_link": true
    }
  },
  "cells": [
    {
      "cell_type": "markdown",
      "metadata": {
        "id": "view-in-github",
        "colab_type": "text"
      },
      "source": [
        "<a href=\"https://colab.research.google.com/github/KatBotkowska/Pandas-Numpy-exercices/blob/master/zadanie_rekrutacyjne_python_KB.ipynb\" target=\"_parent\"><img src=\"https://colab.research.google.com/assets/colab-badge.svg\" alt=\"Open In Colab\"/></a>"
      ]
    },
    {
      "cell_type": "markdown",
      "metadata": {
        "id": "3gTGfDD7AXHu"
      },
      "source": [
        "**Seria warsztatów z analizy danych w Pythonie**\n",
        "\n",
        "_Zadanie rekrutacyjne_\n",
        "\n",
        "Napisz funkcję <code><font color=\"blue\">are_anagrams</font>(s1, s2, s3)</code>, która zwróci:\n",
        "\n",
        "* <code>True</code>, jeżeli łańcuchy znaków <code>s1, s2, s3</code> są anagramami,\n",
        "\n",
        "* <code>False</code>, jeżeli łańcuchy znaków <code>s1, s2, s3</code> nie są anagramami.\n",
        "\n",
        "Załóż, że maksymalna długość każdego z łańcuchów znaków jest równa **5**.\n",
        "\n",
        "Uzasadnij zaproponowane rozwiązanie, umieszczając komentarze w treści kodu."
      ]
    },
    {
      "cell_type": "code",
      "metadata": {
        "id": "pq8occlRBPrM"
      },
      "source": [
        "def are_anagrams(s1, s2, s3):\n",
        "    #sprawdzenie czy łańcuchy spełniaja warunek długości, jeśli nie -> return niewłaściwa długość, jeśli tak, dalsza część funkcji\n",
        "    if len(s1)<= 5 and len(s2)<=5 and len(s3)<=5:\n",
        "        #sprawdzenie czy są anagramami  - porównanie posortowanych list - zwróci wartość porównania wartości bool\n",
        "        return sorted(s1) == sorted(s2) and sorted(s2) == sorted(s3)\n",
        "    return 'niewłaściwa długość'"
      ],
      "execution_count": 19,
      "outputs": []
    },
    {
      "cell_type": "code",
      "metadata": {
        "id": "nKvX2hWLBAGd"
      },
      "source": [
        "s1='alaaa'\n",
        "s2 ='aalaa'\n",
        "s3 = 'aaala'"
      ],
      "execution_count": 24,
      "outputs": []
    },
    {
      "cell_type": "code",
      "metadata": {
        "colab": {
          "base_uri": "https://localhost:8080/"
        },
        "id": "Isb4NwLDBGdf",
        "outputId": "8adb084e-c381-4228-b009-635cb2be5231"
      },
      "source": [
        "are_anagrams(s1, s2, s3)\n"
      ],
      "execution_count": 25,
      "outputs": [
        {
          "output_type": "execute_result",
          "data": {
            "text/plain": [
              "True"
            ]
          },
          "metadata": {
            "tags": []
          },
          "execution_count": 25
        }
      ]
    }
  ]
}