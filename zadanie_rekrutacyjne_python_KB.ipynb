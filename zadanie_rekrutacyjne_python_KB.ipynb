{
  "nbformat": 4,
  "nbformat_minor": 0,
  "metadata": {
    "celltoolbar": "Edit Metadata",
    "kernelspec": {
      "display_name": "Python 3",
      "language": "python",
      "name": "python3"
    },
    "language_info": {
      "codemirror_mode": {
        "name": "ipython",
        "version": 3
      },
      "file_extension": ".py",
      "mimetype": "text/x-python",
      "name": "python",
      "nbconvert_exporter": "python",
      "pygments_lexer": "ipython3",
      "version": "3.7.4"
    },
    "colab": {
      "name": "zadanie_rekrutacyjne_python",
      "provenance": [],
      "include_colab_link": true
    }
  },
  "cells": [
    {
      "cell_type": "markdown",
      "metadata": {
        "id": "view-in-github",
        "colab_type": "text"
      },
      "source": [
        "<a href=\"https://colab.research.google.com/github/KatBotkowska/Pandas-Numpy-exercices/blob/master/zadanie_rekrutacyjne_python_KB.ipynb\" target=\"_parent\"><img src=\"https://colab.research.google.com/assets/colab-badge.svg\" alt=\"Open In Colab\"/></a>"
      ]
    },
    {
      "cell_type": "markdown",
      "metadata": {
        "id": "3gTGfDD7AXHu"
      },
      "source": [
        "**Seria warsztatów z analizy danych w Pythonie**\n",
        "\n",
        "_Zadanie rekrutacyjne_\n",
        "\n",
        "Napisz funkcję <code><font color=\"blue\">are_anagrams</font>(s1, s2, s3)</code>, która zwróci:\n",
        "\n",
        "* <code>True</code>, jeżeli łańcuchy znaków <code>s1, s2, s3</code> są anagramami,\n",
        "\n",
        "* <code>False</code>, jeżeli łańcuchy znaków <code>s1, s2, s3</code> nie są anagramami.\n",
        "\n",
        "Załóż, że maksymalna długość każdego z łańcuchów znaków jest równa **5**.\n",
        "\n",
        "Uzasadnij zaproponowane rozwiązanie, umieszczając komentarze w treści kodu."
      ]
    },
    {
      "cell_type": "code",
      "metadata": {
        "id": "nk5aZbeIAXH8"
      },
      "source": [
        "def are_anagrams(s1, s2, s3):\n",
        "    #sprawdzenie czy stringi spełniaja warunek długości, jeśli nie -> return niewłaściwa długość, jeśli tak, dalsza część funkcji\n",
        "    if len(s1)<= 5 and len(s2)<=5 and len(s3)<=5:\n",
        "        #warunek - każdy ze stringów jest anagramem -> return True\n",
        "        if s1 == s1[::-1] and s2 == s2[::-1] and s3 == s3[::-1]:\n",
        "            return True\n",
        "        #warunek - żaden ze stringów nie jest anagramem -> return False\n",
        "        elif s1 != s1[::-1] and s2 != s2[::-1] and s3 != s3[::-1]:\n",
        "            return False\n",
        "        #wszystkie pozostałe przypadki\n",
        "        else:\n",
        "            return \"co najmniej jeden ze stringów nie jest anagramem\"\n",
        "    return 'niewłaściwa długość'\n",
        "\n",
        "    "
      ],
      "execution_count": 23,
      "outputs": []
    },
    {
      "cell_type": "code",
      "metadata": {
        "id": "nKvX2hWLBAGd"
      },
      "source": [
        "s1='alaaaa'\n",
        "s2 ='baab'\n",
        "s3 = 'grarg'"
      ],
      "execution_count": 66,
      "outputs": []
    },
    {
      "cell_type": "code",
      "metadata": {
        "colab": {
          "base_uri": "https://localhost:8080/",
          "height": 35
        },
        "id": "Isb4NwLDBGdf",
        "outputId": "02524a2c-bc0b-4ca3-935a-eb823cc32399"
      },
      "source": [
        "are_anagrams(s1, s2, s3)\n"
      ],
      "execution_count": 67,
      "outputs": [
        {
          "output_type": "execute_result",
          "data": {
            "application/vnd.google.colaboratory.intrinsic+json": {
              "type": "string"
            },
            "text/plain": [
              "'niewłaściwa długość'"
            ]
          },
          "metadata": {
            "tags": []
          },
          "execution_count": 67
        }
      ]
    }
  ]
}