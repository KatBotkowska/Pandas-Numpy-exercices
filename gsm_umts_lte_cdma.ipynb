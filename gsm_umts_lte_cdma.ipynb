{
  "nbformat": 4,
  "nbformat_minor": 0,
  "metadata": {
    "colab": {
      "name": "gsm_umts_lte_cdma.ipynb",
      "provenance": [],
      "collapsed_sections": [],
      "authorship_tag": "ABX9TyORTj5SKZvsUC2vUs1feDit",
      "include_colab_link": true
    },
    "kernelspec": {
      "name": "python3",
      "display_name": "Python 3"
    },
    "language_info": {
      "name": "python"
    }
  },
  "cells": [
    {
      "cell_type": "markdown",
      "metadata": {
        "id": "view-in-github",
        "colab_type": "text"
      },
      "source": [
        "<a href=\"https://colab.research.google.com/github/KatBotkowska/Pandas-Numpy-exercices/blob/master/gsm_umts_lte_cdma.ipynb\" target=\"_parent\"><img src=\"https://colab.research.google.com/assets/colab-badge.svg\" alt=\"Open In Colab\"/></a>"
      ]
    },
    {
      "cell_type": "code",
      "execution_count": 1,
      "metadata": {
        "id": "9amL47xmHkRD"
      },
      "outputs": [],
      "source": [
        "import pandas as pd\n",
        "import glob\n",
        "import os\n",
        "import re"
      ]
    },
    {
      "cell_type": "code",
      "metadata": {
        "colab": {
          "base_uri": "https://localhost:8080/"
        },
        "id": "zvVvU9yg9bdq",
        "outputId": "aa7b980f-608b-4aad-93b6-f047a2d91cb9"
      },
      "source": [
        "#podłączenie google drive\n",
        "from google.colab import drive\n",
        "drive.mount('/content/gdrive/')"
      ],
      "execution_count": 2,
      "outputs": [
        {
          "output_type": "stream",
          "name": "stdout",
          "text": [
            "Drive already mounted at /content/gdrive/; to attempt to forcibly remount, call drive.mount(\"/content/gdrive/\", force_remount=True).\n"
          ]
        }
      ]
    },
    {
      "cell_type": "code",
      "source": [
        "#Nie odpalać, już załadowane \n",
        "#!unzip '/content/gdrive/MyDrive/CodersCrew/wykazy_pozwolen_gsm_umts_lte_cdma.zip' -d '/content/gdrive/MyDrive/CodersCrew/gsm_umts_lte_cdma'"
      ],
      "metadata": {
        "colab": {
          "base_uri": "https://localhost:8080/"
        },
        "id": "2w4SHPLlNhmV",
        "outputId": "9046b771-b1cd-47b4-e4d3-4de49ead112c"
      },
      "execution_count": null,
      "outputs": [
        {
          "output_type": "stream",
          "name": "stdout",
          "text": [
            "Archive:  /content/gdrive/MyDrive/CodersCrew/wykazy_pozwolen_gsm_umts_lte_cdma.zip\n",
            "replace /content/gdrive/MyDrive/CodersCrew/gsm_umts_lte_cdma/UMTS2100 - stan na 2022-02-25.xlsx? [y]es, [n]o, [A]ll, [N]one, [r]ename: "
          ]
        }
      ]
    },
    {
      "cell_type": "code",
      "source": [
        "files = glob.glob(f\"/content/gdrive/MyDrive/CodersCrew/gsm_umts_lte_cdma/*.xlsx\")"
      ],
      "metadata": {
        "id": "a6U3cCnsKAoL"
      },
      "execution_count": 4,
      "outputs": []
    },
    {
      "cell_type": "code",
      "source": [
        "files = glob.glob(f\"/content/gdrive/MyDrive/CodersCrew/gsm_umts_lte_cdma/*.xlsx\")\n",
        "for file in files:\n",
        "    title = os.path.splitext(os.path.basename(file))[0].split()[0]\n",
        "    print(title)\n",
        "    title = pd.read_excel(file)\n",
        "    print(title.info())\n",
        "    # print(os.path.splitext(os.path.basename(file)), os.path.dirname(file))\n"
      ],
      "metadata": {
        "id": "mdTzkOtOQbzY",
        "colab": {
          "base_uri": "https://localhost:8080/",
          "height": 1000
        },
        "outputId": "a0e13ccc-7176-42f8-b4c1-10cedaa9e637"
      },
      "execution_count": 3,
      "outputs": [
        {
          "output_type": "stream",
          "name": "stdout",
          "text": [
            "CDMA450\n",
            "<class 'pandas.core.frame.DataFrame'>\n",
            "Index: 0 entries\n",
            "Data columns (total 10 columns):\n",
            " #   Column             Non-Null Count  Dtype \n",
            "---  ------             --------------  ----- \n",
            " 0   Nazwa Operatora    0 non-null      object\n",
            " 1   Nr Decyzji         0 non-null      object\n",
            " 2   Rodzaj decyzji     0 non-null      object\n",
            " 3   Data ważności      0 non-null      object\n",
            " 4   Dł geogr stacji    0 non-null      object\n",
            " 5   Szer geogr stacji  0 non-null      object\n",
            " 6   Miejscowość        0 non-null      object\n",
            " 7   Lokalizacja        0 non-null      object\n",
            " 8   IdStacji           0 non-null      object\n",
            " 9   TERYT              0 non-null      object\n",
            "dtypes: object(10)\n",
            "memory usage: 0.0+ bytes\n",
            "None\n",
            "5G2100\n",
            "<class 'pandas.core.frame.DataFrame'>\n",
            "RangeIndex: 9893 entries, 0 to 9892\n",
            "Data columns (total 10 columns):\n",
            " #   Column             Non-Null Count  Dtype         \n",
            "---  ------             --------------  -----         \n",
            " 0   Nazwa Operatora    9893 non-null   object        \n",
            " 1   Nr Decyzji         9893 non-null   object        \n",
            " 2   Rodzaj decyzji     9893 non-null   object        \n",
            " 3   Data ważności      9893 non-null   datetime64[ns]\n",
            " 4   Dł geogr stacji    9893 non-null   object        \n",
            " 5   Szer geogr stacji  9893 non-null   object        \n",
            " 6   Miejscowość        9893 non-null   object        \n",
            " 7   Lokalizacja        9891 non-null   object        \n",
            " 8   IdStacji           9893 non-null   object        \n",
            " 9   TERYT              9893 non-null   int64         \n",
            "dtypes: datetime64[ns](1), int64(1), object(8)\n",
            "memory usage: 773.0+ KB\n",
            "None\n",
            "5G2600\n",
            "<class 'pandas.core.frame.DataFrame'>\n",
            "RangeIndex: 148 entries, 0 to 147\n",
            "Data columns (total 10 columns):\n",
            " #   Column             Non-Null Count  Dtype         \n",
            "---  ------             --------------  -----         \n",
            " 0   Nazwa Operatora    148 non-null    object        \n",
            " 1   Nr Decyzji         148 non-null    object        \n",
            " 2   Rodzaj decyzji     148 non-null    object        \n",
            " 3   Data ważności      148 non-null    datetime64[ns]\n",
            " 4   Dł geogr stacji    148 non-null    object        \n",
            " 5   Szer geogr stacji  148 non-null    object        \n",
            " 6   Miejscowość        148 non-null    object        \n",
            " 7   Lokalizacja        148 non-null    object        \n",
            " 8   IdStacji           148 non-null    object        \n",
            " 9   TERYT              148 non-null    int64         \n",
            "dtypes: datetime64[ns](1), int64(1), object(8)\n",
            "memory usage: 11.7+ KB\n",
            "None\n",
            "CDMA420\n",
            "<class 'pandas.core.frame.DataFrame'>\n",
            "RangeIndex: 419 entries, 0 to 418\n",
            "Data columns (total 10 columns):\n",
            " #   Column             Non-Null Count  Dtype         \n",
            "---  ------             --------------  -----         \n",
            " 0   Nazwa Operatora    419 non-null    object        \n",
            " 1   Nr Decyzji         419 non-null    object        \n",
            " 2   Rodzaj decyzji     419 non-null    object        \n",
            " 3   Data ważności      419 non-null    datetime64[ns]\n",
            " 4   Dł geogr stacji    419 non-null    object        \n",
            " 5   Szer geogr stacji  419 non-null    object        \n",
            " 6   Miejscowość        419 non-null    object        \n",
            " 7   Lokalizacja        419 non-null    object        \n",
            " 8   IdStacji           419 non-null    object        \n",
            " 9   TERYT              419 non-null    int64         \n",
            "dtypes: datetime64[ns](1), int64(1), object(8)\n",
            "memory usage: 32.9+ KB\n",
            "None\n",
            "5G1800\n",
            "<class 'pandas.core.frame.DataFrame'>\n",
            "RangeIndex: 14 entries, 0 to 13\n",
            "Data columns (total 10 columns):\n",
            " #   Column             Non-Null Count  Dtype         \n",
            "---  ------             --------------  -----         \n",
            " 0   Nazwa Operatora    14 non-null     object        \n",
            " 1   Nr Decyzji         14 non-null     object        \n",
            " 2   Rodzaj decyzji     14 non-null     object        \n",
            " 3   Data ważności      14 non-null     datetime64[ns]\n",
            " 4   Dł geogr stacji    14 non-null     object        \n",
            " 5   Szer geogr stacji  14 non-null     object        \n",
            " 6   Miejscowość        14 non-null     object        \n",
            " 7   Lokalizacja        14 non-null     object        \n",
            " 8   IdStacji           14 non-null     object        \n",
            " 9   TERYT              14 non-null     int64         \n",
            "dtypes: datetime64[ns](1), int64(1), object(8)\n",
            "memory usage: 1.2+ KB\n",
            "None\n",
            "GSM900\n",
            "<class 'pandas.core.frame.DataFrame'>\n",
            "RangeIndex: 24865 entries, 0 to 24864\n",
            "Data columns (total 10 columns):\n",
            " #   Column             Non-Null Count  Dtype         \n",
            "---  ------             --------------  -----         \n",
            " 0   Nazwa Operatora    24865 non-null  object        \n",
            " 1   Nr Decyzji         24865 non-null  object        \n",
            " 2   Rodzaj decyzji     24865 non-null  object        \n",
            " 3   Data ważności      24865 non-null  datetime64[ns]\n",
            " 4   Dł geogr stacji    24865 non-null  object        \n",
            " 5   Szer geogr stacji  24865 non-null  object        \n",
            " 6   Miejscowość        24865 non-null  object        \n",
            " 7   Lokalizacja        24811 non-null  object        \n",
            " 8   IdStacji           24865 non-null  object        \n",
            " 9   TERYT              24855 non-null  float64       \n",
            "dtypes: datetime64[ns](1), float64(1), object(8)\n",
            "memory usage: 1.9+ MB\n",
            "None\n",
            "GSM1800\n",
            "<class 'pandas.core.frame.DataFrame'>\n",
            "RangeIndex: 24408 entries, 0 to 24407\n",
            "Data columns (total 10 columns):\n",
            " #   Column             Non-Null Count  Dtype         \n",
            "---  ------             --------------  -----         \n",
            " 0   Nazwa Operatora    24408 non-null  object        \n",
            " 1   Nr Decyzji         24408 non-null  object        \n",
            " 2   Rodzaj decyzji     24408 non-null  object        \n",
            " 3   Data ważności      24408 non-null  datetime64[ns]\n",
            " 4   Dł geogr stacji    24408 non-null  object        \n",
            " 5   Szer geogr stacji  24408 non-null  object        \n",
            " 6   Miejscowość        24408 non-null  object        \n",
            " 7   Lokalizacja        24355 non-null  object        \n",
            " 8   IdStacji           24408 non-null  object        \n",
            " 9   TERYT              24408 non-null  int64         \n",
            "dtypes: datetime64[ns](1), int64(1), object(8)\n",
            "memory usage: 1.9+ MB\n",
            "None\n",
            "LTE420\n",
            "<class 'pandas.core.frame.DataFrame'>\n",
            "RangeIndex: 405 entries, 0 to 404\n",
            "Data columns (total 10 columns):\n",
            " #   Column             Non-Null Count  Dtype         \n",
            "---  ------             --------------  -----         \n",
            " 0   Nazwa Operatora    405 non-null    object        \n",
            " 1   Nr Decyzji         405 non-null    object        \n",
            " 2   Rodzaj decyzji     405 non-null    object        \n",
            " 3   Data ważności      405 non-null    datetime64[ns]\n",
            " 4   Dł geogr stacji    405 non-null    object        \n",
            " 5   Szer geogr stacji  405 non-null    object        \n",
            " 6   Miejscowość        405 non-null    object        \n",
            " 7   Lokalizacja        405 non-null    object        \n",
            " 8   IdStacji           405 non-null    object        \n",
            " 9   TERYT              405 non-null    int64         \n",
            "dtypes: datetime64[ns](1), int64(1), object(8)\n",
            "memory usage: 31.8+ KB\n",
            "None\n",
            "LTE450\n",
            "<class 'pandas.core.frame.DataFrame'>\n",
            "RangeIndex: 4 entries, 0 to 3\n",
            "Data columns (total 10 columns):\n",
            " #   Column             Non-Null Count  Dtype         \n",
            "---  ------             --------------  -----         \n",
            " 0   Nazwa Operatora    4 non-null      object        \n",
            " 1   Nr Decyzji         4 non-null      object        \n",
            " 2   Rodzaj decyzji     4 non-null      object        \n",
            " 3   Data ważności      4 non-null      datetime64[ns]\n",
            " 4   Dł geogr stacji    4 non-null      object        \n",
            " 5   Szer geogr stacji  4 non-null      object        \n",
            " 6   Miejscowość        4 non-null      object        \n",
            " 7   Lokalizacja        4 non-null      object        \n",
            " 8   IdStacji           4 non-null      int64         \n",
            " 9   TERYT              4 non-null      int64         \n",
            "dtypes: datetime64[ns](1), int64(2), object(7)\n",
            "memory usage: 448.0+ bytes\n",
            "None\n",
            "LTE800\n",
            "<class 'pandas.core.frame.DataFrame'>\n",
            "RangeIndex: 20856 entries, 0 to 20855\n",
            "Data columns (total 10 columns):\n",
            " #   Column             Non-Null Count  Dtype         \n",
            "---  ------             --------------  -----         \n",
            " 0   Nazwa Operatora    20856 non-null  object        \n",
            " 1   Nr Decyzji         20856 non-null  object        \n",
            " 2   Rodzaj decyzji     20856 non-null  object        \n",
            " 3   Data ważności      20856 non-null  datetime64[ns]\n",
            " 4   Dł geogr stacji    20856 non-null  object        \n",
            " 5   Szer geogr stacji  20856 non-null  object        \n",
            " 6   Miejscowość        20856 non-null  object        \n",
            " 7   Lokalizacja        20810 non-null  object        \n",
            " 8   IdStacji           20856 non-null  object        \n",
            " 9   TERYT              20856 non-null  int64         \n",
            "dtypes: datetime64[ns](1), int64(1), object(8)\n",
            "memory usage: 1.6+ MB\n",
            "None\n",
            "LTE900\n",
            "<class 'pandas.core.frame.DataFrame'>\n",
            "RangeIndex: 826 entries, 0 to 825\n",
            "Data columns (total 10 columns):\n",
            " #   Column             Non-Null Count  Dtype         \n",
            "---  ------             --------------  -----         \n",
            " 0   Nazwa Operatora    826 non-null    object        \n",
            " 1   Nr Decyzji         826 non-null    object        \n",
            " 2   Rodzaj decyzji     826 non-null    object        \n",
            " 3   Data ważności      826 non-null    datetime64[ns]\n",
            " 4   Dł geogr stacji    826 non-null    object        \n",
            " 5   Szer geogr stacji  826 non-null    object        \n",
            " 6   Miejscowość        826 non-null    object        \n",
            " 7   Lokalizacja        826 non-null    object        \n",
            " 8   IdStacji           826 non-null    object        \n",
            " 9   TERYT              826 non-null    int64         \n",
            "dtypes: datetime64[ns](1), int64(1), object(8)\n",
            "memory usage: 64.7+ KB\n",
            "None\n",
            "LTE1800\n",
            "<class 'pandas.core.frame.DataFrame'>\n",
            "RangeIndex: 29956 entries, 0 to 29955\n",
            "Data columns (total 10 columns):\n",
            " #   Column             Non-Null Count  Dtype         \n",
            "---  ------             --------------  -----         \n",
            " 0   Nazwa Operatora    29956 non-null  object        \n",
            " 1   Nr Decyzji         29956 non-null  object        \n",
            " 2   Rodzaj decyzji     29956 non-null  object        \n",
            " 3   Data ważności      29956 non-null  datetime64[ns]\n",
            " 4   Dł geogr stacji    29956 non-null  object        \n",
            " 5   Szer geogr stacji  29956 non-null  object        \n",
            " 6   Miejscowość        29956 non-null  object        \n",
            " 7   Lokalizacja        29900 non-null  object        \n",
            " 8   IdStacji           29956 non-null  object        \n",
            " 9   TERYT              29956 non-null  int64         \n",
            "dtypes: datetime64[ns](1), int64(1), object(8)\n",
            "memory usage: 2.3+ MB\n",
            "None\n",
            "LTE2100\n"
          ]
        },
        {
          "output_type": "error",
          "ename": "KeyboardInterrupt",
          "evalue": "ignored",
          "traceback": [
            "\u001b[0;31m---------------------------------------------------------------------------\u001b[0m",
            "\u001b[0;31mKeyboardInterrupt\u001b[0m                         Traceback (most recent call last)",
            "\u001b[0;32m<ipython-input-3-064f1fd2735f>\u001b[0m in \u001b[0;36m<module>\u001b[0;34m()\u001b[0m\n\u001b[1;32m      3\u001b[0m     \u001b[0mtitle\u001b[0m \u001b[0;34m=\u001b[0m \u001b[0mos\u001b[0m\u001b[0;34m.\u001b[0m\u001b[0mpath\u001b[0m\u001b[0;34m.\u001b[0m\u001b[0msplitext\u001b[0m\u001b[0;34m(\u001b[0m\u001b[0mos\u001b[0m\u001b[0;34m.\u001b[0m\u001b[0mpath\u001b[0m\u001b[0;34m.\u001b[0m\u001b[0mbasename\u001b[0m\u001b[0;34m(\u001b[0m\u001b[0mfile\u001b[0m\u001b[0;34m)\u001b[0m\u001b[0;34m)\u001b[0m\u001b[0;34m[\u001b[0m\u001b[0;36m0\u001b[0m\u001b[0;34m]\u001b[0m\u001b[0;34m.\u001b[0m\u001b[0msplit\u001b[0m\u001b[0;34m(\u001b[0m\u001b[0;34m)\u001b[0m\u001b[0;34m[\u001b[0m\u001b[0;36m0\u001b[0m\u001b[0;34m]\u001b[0m\u001b[0;34m\u001b[0m\u001b[0;34m\u001b[0m\u001b[0m\n\u001b[1;32m      4\u001b[0m     \u001b[0mprint\u001b[0m\u001b[0;34m(\u001b[0m\u001b[0mtitle\u001b[0m\u001b[0;34m)\u001b[0m\u001b[0;34m\u001b[0m\u001b[0;34m\u001b[0m\u001b[0m\n\u001b[0;32m----> 5\u001b[0;31m     \u001b[0mtitle\u001b[0m \u001b[0;34m=\u001b[0m \u001b[0mpd\u001b[0m\u001b[0;34m.\u001b[0m\u001b[0mread_excel\u001b[0m\u001b[0;34m(\u001b[0m\u001b[0mfile\u001b[0m\u001b[0;34m)\u001b[0m\u001b[0;34m\u001b[0m\u001b[0;34m\u001b[0m\u001b[0m\n\u001b[0m\u001b[1;32m      6\u001b[0m     \u001b[0mprint\u001b[0m\u001b[0;34m(\u001b[0m\u001b[0mtitle\u001b[0m\u001b[0;34m.\u001b[0m\u001b[0minfo\u001b[0m\u001b[0;34m(\u001b[0m\u001b[0;34m)\u001b[0m\u001b[0;34m)\u001b[0m\u001b[0;34m\u001b[0m\u001b[0;34m\u001b[0m\u001b[0m\n\u001b[1;32m      7\u001b[0m     \u001b[0;31m# print(os.path.splitext(os.path.basename(file)), os.path.dirname(file))\u001b[0m\u001b[0;34m\u001b[0m\u001b[0;34m\u001b[0m\u001b[0;34m\u001b[0m\u001b[0m\n",
            "\u001b[0;32m/usr/local/lib/python3.7/dist-packages/pandas/util/_decorators.py\u001b[0m in \u001b[0;36mwrapper\u001b[0;34m(*args, **kwargs)\u001b[0m\n\u001b[1;32m    309\u001b[0m                     \u001b[0mstacklevel\u001b[0m\u001b[0;34m=\u001b[0m\u001b[0mstacklevel\u001b[0m\u001b[0;34m,\u001b[0m\u001b[0;34m\u001b[0m\u001b[0;34m\u001b[0m\u001b[0m\n\u001b[1;32m    310\u001b[0m                 )\n\u001b[0;32m--> 311\u001b[0;31m             \u001b[0;32mreturn\u001b[0m \u001b[0mfunc\u001b[0m\u001b[0;34m(\u001b[0m\u001b[0;34m*\u001b[0m\u001b[0margs\u001b[0m\u001b[0;34m,\u001b[0m \u001b[0;34m**\u001b[0m\u001b[0mkwargs\u001b[0m\u001b[0;34m)\u001b[0m\u001b[0;34m\u001b[0m\u001b[0;34m\u001b[0m\u001b[0m\n\u001b[0m\u001b[1;32m    312\u001b[0m \u001b[0;34m\u001b[0m\u001b[0m\n\u001b[1;32m    313\u001b[0m         \u001b[0;32mreturn\u001b[0m \u001b[0mwrapper\u001b[0m\u001b[0;34m\u001b[0m\u001b[0;34m\u001b[0m\u001b[0m\n",
            "\u001b[0;32m/usr/local/lib/python3.7/dist-packages/pandas/io/excel/_base.py\u001b[0m in \u001b[0;36mread_excel\u001b[0;34m(io, sheet_name, header, names, index_col, usecols, squeeze, dtype, engine, converters, true_values, false_values, skiprows, nrows, na_values, keep_default_na, na_filter, verbose, parse_dates, date_parser, thousands, comment, skipfooter, convert_float, mangle_dupe_cols, storage_options)\u001b[0m\n\u001b[1;32m    393\u001b[0m             \u001b[0mskipfooter\u001b[0m\u001b[0;34m=\u001b[0m\u001b[0mskipfooter\u001b[0m\u001b[0;34m,\u001b[0m\u001b[0;34m\u001b[0m\u001b[0;34m\u001b[0m\u001b[0m\n\u001b[1;32m    394\u001b[0m             \u001b[0mconvert_float\u001b[0m\u001b[0;34m=\u001b[0m\u001b[0mconvert_float\u001b[0m\u001b[0;34m,\u001b[0m\u001b[0;34m\u001b[0m\u001b[0;34m\u001b[0m\u001b[0m\n\u001b[0;32m--> 395\u001b[0;31m             \u001b[0mmangle_dupe_cols\u001b[0m\u001b[0;34m=\u001b[0m\u001b[0mmangle_dupe_cols\u001b[0m\u001b[0;34m,\u001b[0m\u001b[0;34m\u001b[0m\u001b[0;34m\u001b[0m\u001b[0m\n\u001b[0m\u001b[1;32m    396\u001b[0m         )\n\u001b[1;32m    397\u001b[0m     \u001b[0;32mfinally\u001b[0m\u001b[0;34m:\u001b[0m\u001b[0;34m\u001b[0m\u001b[0;34m\u001b[0m\u001b[0m\n",
            "\u001b[0;32m/usr/local/lib/python3.7/dist-packages/pandas/io/excel/_base.py\u001b[0m in \u001b[0;36mparse\u001b[0;34m(self, sheet_name, header, names, index_col, usecols, squeeze, converters, true_values, false_values, skiprows, nrows, na_values, parse_dates, date_parser, thousands, comment, skipfooter, convert_float, mangle_dupe_cols, **kwds)\u001b[0m\n\u001b[1;32m   1290\u001b[0m             \u001b[0mconvert_float\u001b[0m\u001b[0;34m=\u001b[0m\u001b[0mconvert_float\u001b[0m\u001b[0;34m,\u001b[0m\u001b[0;34m\u001b[0m\u001b[0;34m\u001b[0m\u001b[0m\n\u001b[1;32m   1291\u001b[0m             \u001b[0mmangle_dupe_cols\u001b[0m\u001b[0;34m=\u001b[0m\u001b[0mmangle_dupe_cols\u001b[0m\u001b[0;34m,\u001b[0m\u001b[0;34m\u001b[0m\u001b[0;34m\u001b[0m\u001b[0m\n\u001b[0;32m-> 1292\u001b[0;31m             \u001b[0;34m**\u001b[0m\u001b[0mkwds\u001b[0m\u001b[0;34m,\u001b[0m\u001b[0;34m\u001b[0m\u001b[0;34m\u001b[0m\u001b[0m\n\u001b[0m\u001b[1;32m   1293\u001b[0m         )\n\u001b[1;32m   1294\u001b[0m \u001b[0;34m\u001b[0m\u001b[0m\n",
            "\u001b[0;32m/usr/local/lib/python3.7/dist-packages/pandas/io/excel/_base.py\u001b[0m in \u001b[0;36mparse\u001b[0;34m(self, sheet_name, header, names, index_col, usecols, squeeze, dtype, true_values, false_values, skiprows, nrows, na_values, verbose, parse_dates, date_parser, thousands, comment, skipfooter, convert_float, mangle_dupe_cols, **kwds)\u001b[0m\n\u001b[1;32m    537\u001b[0m                 \u001b[0msheet\u001b[0m \u001b[0;34m=\u001b[0m \u001b[0mself\u001b[0m\u001b[0;34m.\u001b[0m\u001b[0mget_sheet_by_index\u001b[0m\u001b[0;34m(\u001b[0m\u001b[0masheetname\u001b[0m\u001b[0;34m)\u001b[0m\u001b[0;34m\u001b[0m\u001b[0;34m\u001b[0m\u001b[0m\n\u001b[1;32m    538\u001b[0m \u001b[0;34m\u001b[0m\u001b[0m\n\u001b[0;32m--> 539\u001b[0;31m             \u001b[0mdata\u001b[0m \u001b[0;34m=\u001b[0m \u001b[0mself\u001b[0m\u001b[0;34m.\u001b[0m\u001b[0mget_sheet_data\u001b[0m\u001b[0;34m(\u001b[0m\u001b[0msheet\u001b[0m\u001b[0;34m,\u001b[0m \u001b[0mconvert_float\u001b[0m\u001b[0;34m)\u001b[0m\u001b[0;34m\u001b[0m\u001b[0;34m\u001b[0m\u001b[0m\n\u001b[0m\u001b[1;32m    540\u001b[0m             \u001b[0;32mif\u001b[0m \u001b[0mhasattr\u001b[0m\u001b[0;34m(\u001b[0m\u001b[0msheet\u001b[0m\u001b[0;34m,\u001b[0m \u001b[0;34m\"close\"\u001b[0m\u001b[0;34m)\u001b[0m\u001b[0;34m:\u001b[0m\u001b[0;34m\u001b[0m\u001b[0;34m\u001b[0m\u001b[0m\n\u001b[1;32m    541\u001b[0m                 \u001b[0;31m# pyxlsb opens two TemporaryFiles\u001b[0m\u001b[0;34m\u001b[0m\u001b[0;34m\u001b[0m\u001b[0;34m\u001b[0m\u001b[0m\n",
            "\u001b[0;32m/usr/local/lib/python3.7/dist-packages/pandas/io/excel/_openpyxl.py\u001b[0m in \u001b[0;36mget_sheet_data\u001b[0;34m(self, sheet, convert_float)\u001b[0m\n\u001b[1;32m    570\u001b[0m         \u001b[0mdata\u001b[0m\u001b[0;34m:\u001b[0m \u001b[0mlist\u001b[0m\u001b[0;34m[\u001b[0m\u001b[0mlist\u001b[0m\u001b[0;34m[\u001b[0m\u001b[0mScalar\u001b[0m\u001b[0;34m]\u001b[0m\u001b[0;34m]\u001b[0m \u001b[0;34m=\u001b[0m \u001b[0;34m[\u001b[0m\u001b[0;34m]\u001b[0m\u001b[0;34m\u001b[0m\u001b[0;34m\u001b[0m\u001b[0m\n\u001b[1;32m    571\u001b[0m         \u001b[0mlast_row_with_data\u001b[0m \u001b[0;34m=\u001b[0m \u001b[0;34m-\u001b[0m\u001b[0;36m1\u001b[0m\u001b[0;34m\u001b[0m\u001b[0;34m\u001b[0m\u001b[0m\n\u001b[0;32m--> 572\u001b[0;31m         \u001b[0;32mfor\u001b[0m \u001b[0mrow_number\u001b[0m\u001b[0;34m,\u001b[0m \u001b[0mrow\u001b[0m \u001b[0;32min\u001b[0m \u001b[0menumerate\u001b[0m\u001b[0;34m(\u001b[0m\u001b[0msheet\u001b[0m\u001b[0;34m.\u001b[0m\u001b[0mrows\u001b[0m\u001b[0;34m)\u001b[0m\u001b[0;34m:\u001b[0m\u001b[0;34m\u001b[0m\u001b[0;34m\u001b[0m\u001b[0m\n\u001b[0m\u001b[1;32m    573\u001b[0m             \u001b[0mconverted_row\u001b[0m \u001b[0;34m=\u001b[0m \u001b[0;34m[\u001b[0m\u001b[0mself\u001b[0m\u001b[0;34m.\u001b[0m\u001b[0m_convert_cell\u001b[0m\u001b[0;34m(\u001b[0m\u001b[0mcell\u001b[0m\u001b[0;34m,\u001b[0m \u001b[0mconvert_float\u001b[0m\u001b[0;34m)\u001b[0m \u001b[0;32mfor\u001b[0m \u001b[0mcell\u001b[0m \u001b[0;32min\u001b[0m \u001b[0mrow\u001b[0m\u001b[0;34m]\u001b[0m\u001b[0;34m\u001b[0m\u001b[0;34m\u001b[0m\u001b[0m\n\u001b[1;32m    574\u001b[0m             \u001b[0;32mwhile\u001b[0m \u001b[0mconverted_row\u001b[0m \u001b[0;32mand\u001b[0m \u001b[0mconverted_row\u001b[0m\u001b[0;34m[\u001b[0m\u001b[0;34m-\u001b[0m\u001b[0;36m1\u001b[0m\u001b[0;34m]\u001b[0m \u001b[0;34m==\u001b[0m \u001b[0;34m\"\"\u001b[0m\u001b[0;34m:\u001b[0m\u001b[0;34m\u001b[0m\u001b[0;34m\u001b[0m\u001b[0m\n",
            "\u001b[0;32m/usr/local/lib/python3.7/dist-packages/openpyxl/worksheet/_read_only.py\u001b[0m in \u001b[0;36m_cells_by_row\u001b[0;34m(self, min_col, min_row, max_col, max_row, values_only)\u001b[0m\n\u001b[1;32m     77\u001b[0m                                  \u001b[0mdata_only\u001b[0m\u001b[0;34m=\u001b[0m\u001b[0mself\u001b[0m\u001b[0;34m.\u001b[0m\u001b[0mparent\u001b[0m\u001b[0;34m.\u001b[0m\u001b[0mdata_only\u001b[0m\u001b[0;34m,\u001b[0m \u001b[0mepoch\u001b[0m\u001b[0;34m=\u001b[0m\u001b[0mself\u001b[0m\u001b[0;34m.\u001b[0m\u001b[0mparent\u001b[0m\u001b[0;34m.\u001b[0m\u001b[0mepoch\u001b[0m\u001b[0;34m,\u001b[0m\u001b[0;34m\u001b[0m\u001b[0;34m\u001b[0m\u001b[0m\n\u001b[1;32m     78\u001b[0m                                  date_formats=self.parent._date_formats)\n\u001b[0;32m---> 79\u001b[0;31m         \u001b[0;32mfor\u001b[0m \u001b[0midx\u001b[0m\u001b[0;34m,\u001b[0m \u001b[0mrow\u001b[0m \u001b[0;32min\u001b[0m \u001b[0mparser\u001b[0m\u001b[0;34m.\u001b[0m\u001b[0mparse\u001b[0m\u001b[0;34m(\u001b[0m\u001b[0;34m)\u001b[0m\u001b[0;34m:\u001b[0m\u001b[0;34m\u001b[0m\u001b[0;34m\u001b[0m\u001b[0m\n\u001b[0m\u001b[1;32m     80\u001b[0m             \u001b[0;32mif\u001b[0m \u001b[0mmax_row\u001b[0m \u001b[0;32mis\u001b[0m \u001b[0;32mnot\u001b[0m \u001b[0;32mNone\u001b[0m \u001b[0;32mand\u001b[0m \u001b[0midx\u001b[0m \u001b[0;34m>\u001b[0m \u001b[0mmax_row\u001b[0m\u001b[0;34m:\u001b[0m\u001b[0;34m\u001b[0m\u001b[0;34m\u001b[0m\u001b[0m\n\u001b[1;32m     81\u001b[0m                 \u001b[0;32mbreak\u001b[0m\u001b[0;34m\u001b[0m\u001b[0;34m\u001b[0m\u001b[0m\n",
            "\u001b[0;32m/usr/local/lib/python3.7/dist-packages/openpyxl/worksheet/_reader.py\u001b[0m in \u001b[0;36mparse\u001b[0;34m(self)\u001b[0m\n\u001b[1;32m    142\u001b[0m         \u001b[0mit\u001b[0m \u001b[0;34m=\u001b[0m \u001b[0miterparse\u001b[0m\u001b[0;34m(\u001b[0m\u001b[0mself\u001b[0m\u001b[0;34m.\u001b[0m\u001b[0msource\u001b[0m\u001b[0;34m)\u001b[0m \u001b[0;31m# add a finaliser to close the source when this becomes possible\u001b[0m\u001b[0;34m\u001b[0m\u001b[0;34m\u001b[0m\u001b[0m\n\u001b[1;32m    143\u001b[0m \u001b[0;34m\u001b[0m\u001b[0m\n\u001b[0;32m--> 144\u001b[0;31m         \u001b[0;32mfor\u001b[0m \u001b[0m_\u001b[0m\u001b[0;34m,\u001b[0m \u001b[0melement\u001b[0m \u001b[0;32min\u001b[0m \u001b[0mit\u001b[0m\u001b[0;34m:\u001b[0m\u001b[0;34m\u001b[0m\u001b[0;34m\u001b[0m\u001b[0m\n\u001b[0m\u001b[1;32m    145\u001b[0m             \u001b[0mtag_name\u001b[0m \u001b[0;34m=\u001b[0m \u001b[0melement\u001b[0m\u001b[0;34m.\u001b[0m\u001b[0mtag\u001b[0m\u001b[0;34m\u001b[0m\u001b[0;34m\u001b[0m\u001b[0m\n\u001b[1;32m    146\u001b[0m             \u001b[0;32mif\u001b[0m \u001b[0mtag_name\u001b[0m \u001b[0;32min\u001b[0m \u001b[0mdispatcher\u001b[0m\u001b[0;34m:\u001b[0m\u001b[0;34m\u001b[0m\u001b[0;34m\u001b[0m\u001b[0m\n",
            "\u001b[0;32m/usr/lib/python3.7/xml/etree/ElementTree.py\u001b[0m in \u001b[0;36miterator\u001b[0;34m()\u001b[0m\n\u001b[1;32m   1225\u001b[0m                 \u001b[0;32mif\u001b[0m \u001b[0;32mnot\u001b[0m \u001b[0mdata\u001b[0m\u001b[0;34m:\u001b[0m\u001b[0;34m\u001b[0m\u001b[0;34m\u001b[0m\u001b[0m\n\u001b[1;32m   1226\u001b[0m                     \u001b[0;32mbreak\u001b[0m\u001b[0;34m\u001b[0m\u001b[0;34m\u001b[0m\u001b[0m\n\u001b[0;32m-> 1227\u001b[0;31m                 \u001b[0mpullparser\u001b[0m\u001b[0;34m.\u001b[0m\u001b[0mfeed\u001b[0m\u001b[0;34m(\u001b[0m\u001b[0mdata\u001b[0m\u001b[0;34m)\u001b[0m\u001b[0;34m\u001b[0m\u001b[0;34m\u001b[0m\u001b[0m\n\u001b[0m\u001b[1;32m   1228\u001b[0m             \u001b[0mroot\u001b[0m \u001b[0;34m=\u001b[0m \u001b[0mpullparser\u001b[0m\u001b[0;34m.\u001b[0m\u001b[0m_close_and_return_root\u001b[0m\u001b[0;34m(\u001b[0m\u001b[0;34m)\u001b[0m\u001b[0;34m\u001b[0m\u001b[0;34m\u001b[0m\u001b[0m\n\u001b[1;32m   1229\u001b[0m             \u001b[0;32myield\u001b[0m \u001b[0;32mfrom\u001b[0m \u001b[0mpullparser\u001b[0m\u001b[0;34m.\u001b[0m\u001b[0mread_events\u001b[0m\u001b[0;34m(\u001b[0m\u001b[0;34m)\u001b[0m\u001b[0;34m\u001b[0m\u001b[0;34m\u001b[0m\u001b[0m\n",
            "\u001b[0;32m/usr/lib/python3.7/xml/etree/ElementTree.py\u001b[0m in \u001b[0;36mfeed\u001b[0;34m(self, data)\u001b[0m\n\u001b[1;32m   1267\u001b[0m         \u001b[0;32mif\u001b[0m \u001b[0mdata\u001b[0m\u001b[0;34m:\u001b[0m\u001b[0;34m\u001b[0m\u001b[0;34m\u001b[0m\u001b[0m\n\u001b[1;32m   1268\u001b[0m             \u001b[0;32mtry\u001b[0m\u001b[0;34m:\u001b[0m\u001b[0;34m\u001b[0m\u001b[0;34m\u001b[0m\u001b[0m\n\u001b[0;32m-> 1269\u001b[0;31m                 \u001b[0mself\u001b[0m\u001b[0;34m.\u001b[0m\u001b[0m_parser\u001b[0m\u001b[0;34m.\u001b[0m\u001b[0mfeed\u001b[0m\u001b[0;34m(\u001b[0m\u001b[0mdata\u001b[0m\u001b[0;34m)\u001b[0m\u001b[0;34m\u001b[0m\u001b[0;34m\u001b[0m\u001b[0m\n\u001b[0m\u001b[1;32m   1270\u001b[0m             \u001b[0;32mexcept\u001b[0m \u001b[0mSyntaxError\u001b[0m \u001b[0;32mas\u001b[0m \u001b[0mexc\u001b[0m\u001b[0;34m:\u001b[0m\u001b[0;34m\u001b[0m\u001b[0;34m\u001b[0m\u001b[0m\n\u001b[1;32m   1271\u001b[0m                 \u001b[0mself\u001b[0m\u001b[0;34m.\u001b[0m\u001b[0m_events_queue\u001b[0m\u001b[0;34m.\u001b[0m\u001b[0mappend\u001b[0m\u001b[0;34m(\u001b[0m\u001b[0mexc\u001b[0m\u001b[0;34m)\u001b[0m\u001b[0;34m\u001b[0m\u001b[0;34m\u001b[0m\u001b[0m\n",
            "\u001b[0;32m/usr/lib/python3.7/xml/etree/ElementTree.py\u001b[0m in \u001b[0;36mfeed\u001b[0;34m(self, data)\u001b[0m\n\u001b[1;32m   1628\u001b[0m         \u001b[0;34m\"\"\"Feed encoded data to parser.\"\"\"\u001b[0m\u001b[0;34m\u001b[0m\u001b[0;34m\u001b[0m\u001b[0m\n\u001b[1;32m   1629\u001b[0m         \u001b[0;32mtry\u001b[0m\u001b[0;34m:\u001b[0m\u001b[0;34m\u001b[0m\u001b[0;34m\u001b[0m\u001b[0m\n\u001b[0;32m-> 1630\u001b[0;31m             \u001b[0mself\u001b[0m\u001b[0;34m.\u001b[0m\u001b[0mparser\u001b[0m\u001b[0;34m.\u001b[0m\u001b[0mParse\u001b[0m\u001b[0;34m(\u001b[0m\u001b[0mdata\u001b[0m\u001b[0;34m,\u001b[0m \u001b[0;36m0\u001b[0m\u001b[0;34m)\u001b[0m\u001b[0;34m\u001b[0m\u001b[0;34m\u001b[0m\u001b[0m\n\u001b[0m\u001b[1;32m   1631\u001b[0m         \u001b[0;32mexcept\u001b[0m \u001b[0mself\u001b[0m\u001b[0;34m.\u001b[0m\u001b[0m_error\u001b[0m \u001b[0;32mas\u001b[0m \u001b[0mv\u001b[0m\u001b[0;34m:\u001b[0m\u001b[0;34m\u001b[0m\u001b[0;34m\u001b[0m\u001b[0m\n\u001b[1;32m   1632\u001b[0m             \u001b[0mself\u001b[0m\u001b[0;34m.\u001b[0m\u001b[0m_raiseerror\u001b[0m\u001b[0;34m(\u001b[0m\u001b[0mv\u001b[0m\u001b[0;34m)\u001b[0m\u001b[0;34m\u001b[0m\u001b[0;34m\u001b[0m\u001b[0m\n",
            "\u001b[0;32m../Modules/pyexpat.c\u001b[0m in \u001b[0;36mEndElement\u001b[0;34m()\u001b[0m\n",
            "\u001b[0;32m/usr/lib/python3.7/xml/etree/ElementTree.py\u001b[0m in \u001b[0;36mhandler\u001b[0;34m(tag, event, append, end)\u001b[0m\n\u001b[1;32m   1512\u001b[0m                 def handler(tag, event=event_name, append=append,\n\u001b[1;32m   1513\u001b[0m                             end=self._end):\n\u001b[0;32m-> 1514\u001b[0;31m                     \u001b[0mappend\u001b[0m\u001b[0;34m(\u001b[0m\u001b[0;34m(\u001b[0m\u001b[0mevent\u001b[0m\u001b[0;34m,\u001b[0m \u001b[0mend\u001b[0m\u001b[0;34m(\u001b[0m\u001b[0mtag\u001b[0m\u001b[0;34m)\u001b[0m\u001b[0;34m)\u001b[0m\u001b[0;34m)\u001b[0m\u001b[0;34m\u001b[0m\u001b[0;34m\u001b[0m\u001b[0m\n\u001b[0m\u001b[1;32m   1515\u001b[0m                 \u001b[0mparser\u001b[0m\u001b[0;34m.\u001b[0m\u001b[0mEndElementHandler\u001b[0m \u001b[0;34m=\u001b[0m \u001b[0mhandler\u001b[0m\u001b[0;34m\u001b[0m\u001b[0;34m\u001b[0m\u001b[0m\n\u001b[1;32m   1516\u001b[0m             \u001b[0;32melif\u001b[0m \u001b[0mevent_name\u001b[0m \u001b[0;34m==\u001b[0m \u001b[0;34m\"start-ns\"\u001b[0m\u001b[0;34m:\u001b[0m\u001b[0;34m\u001b[0m\u001b[0;34m\u001b[0m\u001b[0m\n",
            "\u001b[0;32m/usr/lib/python3.7/xml/etree/ElementTree.py\u001b[0m in \u001b[0;36m_end\u001b[0;34m(self, tag)\u001b[0m\n\u001b[1;32m   1555\u001b[0m \u001b[0;34m\u001b[0m\u001b[0m\n\u001b[1;32m   1556\u001b[0m     \u001b[0;32mdef\u001b[0m \u001b[0m_end\u001b[0m\u001b[0;34m(\u001b[0m\u001b[0mself\u001b[0m\u001b[0;34m,\u001b[0m \u001b[0mtag\u001b[0m\u001b[0;34m)\u001b[0m\u001b[0;34m:\u001b[0m\u001b[0;34m\u001b[0m\u001b[0;34m\u001b[0m\u001b[0m\n\u001b[0;32m-> 1557\u001b[0;31m         \u001b[0;32mreturn\u001b[0m \u001b[0mself\u001b[0m\u001b[0;34m.\u001b[0m\u001b[0mtarget\u001b[0m\u001b[0;34m.\u001b[0m\u001b[0mend\u001b[0m\u001b[0;34m(\u001b[0m\u001b[0mself\u001b[0m\u001b[0;34m.\u001b[0m\u001b[0m_fixname\u001b[0m\u001b[0;34m(\u001b[0m\u001b[0mtag\u001b[0m\u001b[0;34m)\u001b[0m\u001b[0;34m)\u001b[0m\u001b[0;34m\u001b[0m\u001b[0;34m\u001b[0m\u001b[0m\n\u001b[0m\u001b[1;32m   1558\u001b[0m \u001b[0;34m\u001b[0m\u001b[0m\n\u001b[1;32m   1559\u001b[0m     \u001b[0;32mdef\u001b[0m \u001b[0m_default\u001b[0m\u001b[0;34m(\u001b[0m\u001b[0mself\u001b[0m\u001b[0;34m,\u001b[0m \u001b[0mtext\u001b[0m\u001b[0;34m)\u001b[0m\u001b[0;34m:\u001b[0m\u001b[0;34m\u001b[0m\u001b[0;34m\u001b[0m\u001b[0m\n",
            "\u001b[0;32m/usr/lib/python3.7/xml/etree/ElementTree.py\u001b[0m in \u001b[0;36m_fixname\u001b[0;34m(self, key)\u001b[0m\n\u001b[1;32m   1534\u001b[0m         \u001b[0;31m# expand qname, and convert name string to ascii, if possible\u001b[0m\u001b[0;34m\u001b[0m\u001b[0;34m\u001b[0m\u001b[0;34m\u001b[0m\u001b[0m\n\u001b[1;32m   1535\u001b[0m         \u001b[0;32mtry\u001b[0m\u001b[0;34m:\u001b[0m\u001b[0;34m\u001b[0m\u001b[0;34m\u001b[0m\u001b[0m\n\u001b[0;32m-> 1536\u001b[0;31m             \u001b[0mname\u001b[0m \u001b[0;34m=\u001b[0m \u001b[0mself\u001b[0m\u001b[0;34m.\u001b[0m\u001b[0m_names\u001b[0m\u001b[0;34m[\u001b[0m\u001b[0mkey\u001b[0m\u001b[0;34m]\u001b[0m\u001b[0;34m\u001b[0m\u001b[0;34m\u001b[0m\u001b[0m\n\u001b[0m\u001b[1;32m   1537\u001b[0m         \u001b[0;32mexcept\u001b[0m \u001b[0mKeyError\u001b[0m\u001b[0;34m:\u001b[0m\u001b[0;34m\u001b[0m\u001b[0;34m\u001b[0m\u001b[0m\n\u001b[1;32m   1538\u001b[0m             \u001b[0mname\u001b[0m \u001b[0;34m=\u001b[0m \u001b[0mkey\u001b[0m\u001b[0;34m\u001b[0m\u001b[0;34m\u001b[0m\u001b[0m\n",
            "\u001b[0;31mKeyboardInterrupt\u001b[0m: "
          ]
        }
      ]
    },
    {
      "cell_type": "code",
      "source": [
        "files = glob.glob(f\"/content/gdrive/MyDrive/CodersCrew/gsm_umts_lte_cdma/*.xlsx\")\n",
        "def create_df(files):\n",
        "    for file in files:\n",
        "        title = os.path.splitext(os.path.basename(file))[0].split()[0]\n",
        "        # print(title)\n",
        "        title == pd.read_excel(file)\n",
        "    return title\n",
        "        # print(os.path.splitext(os.path.basename(file)), os.path.dirname(file))\n"
      ],
      "metadata": {
        "id": "wb2Ama0tb6Q4"
      },
      "execution_count": null,
      "outputs": []
    },
    {
      "cell_type": "code",
      "source": [
        "def create_dict_with_df(files):\n",
        "    dfs={}\n",
        "    for file in files:\n",
        "        title = os.path.splitext(os.path.basename(file))[0].split()[0]\n",
        "        dfs[title] = pd.read_excel(file)\n",
        "    return dfs"
      ],
      "metadata": {
        "id": "j7oJz-USUjSp"
      },
      "execution_count": 5,
      "outputs": []
    },
    {
      "cell_type": "code",
      "source": [
        "dfs = create_dict_with_df(files)\n",
        "dfs.keys()"
      ],
      "metadata": {
        "colab": {
          "base_uri": "https://localhost:8080/"
        },
        "id": "BYfzDjkjCL9_",
        "outputId": "4206fc84-adcd-4ff8-a053-4355c9926323"
      },
      "execution_count": 6,
      "outputs": [
        {
          "output_type": "execute_result",
          "data": {
            "text/plain": [
              "dict_keys(['CDMA450', '5G2100', '5G2600', 'CDMA420', '5G1800', 'GSM900', 'GSM1800', 'LTE420', 'LTE450', 'LTE800', 'LTE900', 'LTE1800', 'LTE2100', 'LTE2600', 'UMTS900', 'UMTS1800', 'UMTS2100'])"
            ]
          },
          "metadata": {},
          "execution_count": 6
        }
      ]
    },
    {
      "cell_type": "code",
      "source": [
        "dfs['CDMA450'].info()"
      ],
      "metadata": {
        "colab": {
          "base_uri": "https://localhost:8080/"
        },
        "id": "dZFMPqRdCiCn",
        "outputId": "0ac2f097-d018-49e7-9161-c34a8dfb535a"
      },
      "execution_count": 6,
      "outputs": [
        {
          "output_type": "stream",
          "name": "stdout",
          "text": [
            "<class 'pandas.core.frame.DataFrame'>\n",
            "Index: 0 entries\n",
            "Data columns (total 10 columns):\n",
            " #   Column             Non-Null Count  Dtype \n",
            "---  ------             --------------  ----- \n",
            " 0   Nazwa Operatora    0 non-null      object\n",
            " 1   Nr Decyzji         0 non-null      object\n",
            " 2   Rodzaj decyzji     0 non-null      object\n",
            " 3   Data ważności      0 non-null      object\n",
            " 4   Dł geogr stacji    0 non-null      object\n",
            " 5   Szer geogr stacji  0 non-null      object\n",
            " 6   Miejscowość        0 non-null      object\n",
            " 7   Lokalizacja        0 non-null      object\n",
            " 8   IdStacji           0 non-null      object\n",
            " 9   TERYT              0 non-null      object\n",
            "dtypes: object(10)\n",
            "memory usage: 0.0+ bytes\n"
          ]
        }
      ]
    },
    {
      "cell_type": "code",
      "source": [
        "#check if all collumns are the same in each df\n",
        "all([len(dfs['LTE420'].columns.intersection(df.columns)) == dfs['LTE420'].shape[1] for df in dfs.values()])"
      ],
      "metadata": {
        "colab": {
          "base_uri": "https://localhost:8080/"
        },
        "id": "UX9nuqTgFfD_",
        "outputId": "7305d14a-f14b-4638-d818-6e497dcc71ca"
      },
      "execution_count": 7,
      "outputs": [
        {
          "output_type": "execute_result",
          "data": {
            "text/plain": [
              "True"
            ]
          },
          "metadata": {},
          "execution_count": 7
        }
      ]
    },
    {
      "cell_type": "code",
      "source": [
        "#add columns for RAT and Częstotliwość to join df\n",
        "for elem in dfs.keys():\n",
        "    dfs[elem].insert(0, 'RAT', ''.join([e for e in elem if not e.isdigit()] if elem[0] != '5' else \"5G\"))\n",
        "    dfs[elem].insert(1, 'Częstotliwość', ''.join([e for e in elem[2:] if e.isdigit()]))\n",
        "    "
      ],
      "metadata": {
        "id": "Vu0SvfOiKtTk"
      },
      "execution_count": 8,
      "outputs": []
    },
    {
      "cell_type": "code",
      "source": [
        "#concatenate all LTE's df to one\n",
        "LTE_keys = [key for key in dfs.keys() if key.startswith('L')]\n",
        "LTE = pd.concat([dfs[key] for key in LTE_keys])\n"
      ],
      "metadata": {
        "id": "q9pCPyM05d7Q"
      },
      "execution_count": 9,
      "outputs": []
    },
    {
      "cell_type": "code",
      "source": [
        "LTE.info()"
      ],
      "metadata": {
        "colab": {
          "base_uri": "https://localhost:8080/"
        },
        "id": "tCR9h-GBDiZ6",
        "outputId": "f1f68f70-c484-42ca-fac3-eb23e1bc2ddd"
      },
      "execution_count": 10,
      "outputs": [
        {
          "output_type": "stream",
          "name": "stdout",
          "text": [
            "<class 'pandas.core.frame.DataFrame'>\n",
            "Int64Index: 95723 entries, 0 to 22632\n",
            "Data columns (total 12 columns):\n",
            " #   Column             Non-Null Count  Dtype         \n",
            "---  ------             --------------  -----         \n",
            " 0   RAT                95723 non-null  object        \n",
            " 1   Częstotliwość      95723 non-null  object        \n",
            " 2   Nazwa Operatora    95723 non-null  object        \n",
            " 3   Nr Decyzji         95723 non-null  object        \n",
            " 4   Rodzaj decyzji     95723 non-null  object        \n",
            " 5   Data ważności      95723 non-null  datetime64[ns]\n",
            " 6   Dł geogr stacji    95723 non-null  object        \n",
            " 7   Szer geogr stacji  95723 non-null  object        \n",
            " 8   Miejscowość        95723 non-null  object        \n",
            " 9   Lokalizacja        95559 non-null  object        \n",
            " 10  IdStacji           95723 non-null  object        \n",
            " 11  TERYT              95723 non-null  int64         \n",
            "dtypes: datetime64[ns](1), int64(1), object(10)\n",
            "memory usage: 9.5+ MB\n"
          ]
        }
      ]
    },
    {
      "cell_type": "code",
      "source": [
        "LTE.describe(include='all')"
      ],
      "metadata": {
        "colab": {
          "base_uri": "https://localhost:8080/",
          "height": 512
        },
        "id": "gFBN5ecwDkmF",
        "outputId": "00bfcea8-3eea-4248-94a8-4bcea0f3a409"
      },
      "execution_count": 11,
      "outputs": [
        {
          "output_type": "stream",
          "name": "stderr",
          "text": [
            "/usr/local/lib/python3.7/dist-packages/ipykernel_launcher.py:1: FutureWarning: Treating datetime data as categorical rather than numeric in `.describe` is deprecated and will be removed in a future version of pandas. Specify `datetime_is_numeric=True` to silence this warning and adopt the future behavior now.\n",
            "  \"\"\"Entry point for launching an IPython kernel.\n"
          ]
        },
        {
          "output_type": "execute_result",
          "data": {
            "text/plain": [
              "          RAT Częstotliwość Nazwa Operatora           Nr Decyzji  \\\n",
              "count   95723         95723           95723                95723   \n",
              "unique      1             7               6                31140   \n",
              "top       LTE          1800   P4 Sp. z o.o.  MNET/15/62529/12/21   \n",
              "freq    95723         29956           37030                    5   \n",
              "first     NaN           NaN             NaN                  NaN   \n",
              "last      NaN           NaN             NaN                  NaN   \n",
              "mean      NaN           NaN             NaN                  NaN   \n",
              "std       NaN           NaN             NaN                  NaN   \n",
              "min       NaN           NaN             NaN                  NaN   \n",
              "25%       NaN           NaN             NaN                  NaN   \n",
              "50%       NaN           NaN             NaN                  NaN   \n",
              "75%       NaN           NaN             NaN                  NaN   \n",
              "max       NaN           NaN             NaN                  NaN   \n",
              "\n",
              "       Rodzaj decyzji        Data ważności Dł geogr stacji Szer geogr stacji  \\\n",
              "count           95723                95723           95723             95723   \n",
              "unique              2                  129           16061             12633   \n",
              "top               zmP  2023-08-31 00:00:00       21E01'42\"         52N13'59\"   \n",
              "freq            75542                 7397              49               107   \n",
              "first             NaN  2022-04-30 00:00:00             NaN               NaN   \n",
              "last              NaN  2032-01-31 00:00:00             NaN               NaN   \n",
              "mean              NaN                  NaN             NaN               NaN   \n",
              "std               NaN                  NaN             NaN               NaN   \n",
              "min               NaN                  NaN             NaN               NaN   \n",
              "25%               NaN                  NaN             NaN               NaN   \n",
              "50%               NaN                  NaN             NaN               NaN   \n",
              "75%               NaN                  NaN             NaN               NaN   \n",
              "max               NaN                  NaN             NaN               NaN   \n",
              "\n",
              "       Miejscowość Lokalizacja IdStacji         TERYT  \n",
              "count        95723       95559    95723  9.572300e+04  \n",
              "unique        7193       27229    29602           NaN  \n",
              "top       Warszawa           1  LIM2006           NaN  \n",
              "freq          7409          65       12           NaN  \n",
              "first          NaN         NaN      NaN           NaN  \n",
              "last           NaN         NaN      NaN           NaN  \n",
              "mean           NaN         NaN      NaN  1.738013e+06  \n",
              "std            NaN         NaN      NaN  9.186032e+05  \n",
              "min            NaN         NaN      NaN  2.010110e+05  \n",
              "25%            NaN         NaN      NaN  1.061011e+06  \n",
              "50%            NaN         NaN      NaN  1.465011e+06  \n",
              "75%            NaN         NaN      NaN  2.469011e+06  \n",
              "max            NaN         NaN      NaN  3.263011e+06  "
            ],
            "text/html": [
              "\n",
              "  <div id=\"df-07ebb78f-c0e3-4f23-98c6-9f7a768f87f6\">\n",
              "    <div class=\"colab-df-container\">\n",
              "      <div>\n",
              "<style scoped>\n",
              "    .dataframe tbody tr th:only-of-type {\n",
              "        vertical-align: middle;\n",
              "    }\n",
              "\n",
              "    .dataframe tbody tr th {\n",
              "        vertical-align: top;\n",
              "    }\n",
              "\n",
              "    .dataframe thead th {\n",
              "        text-align: right;\n",
              "    }\n",
              "</style>\n",
              "<table border=\"1\" class=\"dataframe\">\n",
              "  <thead>\n",
              "    <tr style=\"text-align: right;\">\n",
              "      <th></th>\n",
              "      <th>RAT</th>\n",
              "      <th>Częstotliwość</th>\n",
              "      <th>Nazwa Operatora</th>\n",
              "      <th>Nr Decyzji</th>\n",
              "      <th>Rodzaj decyzji</th>\n",
              "      <th>Data ważności</th>\n",
              "      <th>Dł geogr stacji</th>\n",
              "      <th>Szer geogr stacji</th>\n",
              "      <th>Miejscowość</th>\n",
              "      <th>Lokalizacja</th>\n",
              "      <th>IdStacji</th>\n",
              "      <th>TERYT</th>\n",
              "    </tr>\n",
              "  </thead>\n",
              "  <tbody>\n",
              "    <tr>\n",
              "      <th>count</th>\n",
              "      <td>95723</td>\n",
              "      <td>95723</td>\n",
              "      <td>95723</td>\n",
              "      <td>95723</td>\n",
              "      <td>95723</td>\n",
              "      <td>95723</td>\n",
              "      <td>95723</td>\n",
              "      <td>95723</td>\n",
              "      <td>95723</td>\n",
              "      <td>95559</td>\n",
              "      <td>95723</td>\n",
              "      <td>9.572300e+04</td>\n",
              "    </tr>\n",
              "    <tr>\n",
              "      <th>unique</th>\n",
              "      <td>1</td>\n",
              "      <td>7</td>\n",
              "      <td>6</td>\n",
              "      <td>31140</td>\n",
              "      <td>2</td>\n",
              "      <td>129</td>\n",
              "      <td>16061</td>\n",
              "      <td>12633</td>\n",
              "      <td>7193</td>\n",
              "      <td>27229</td>\n",
              "      <td>29602</td>\n",
              "      <td>NaN</td>\n",
              "    </tr>\n",
              "    <tr>\n",
              "      <th>top</th>\n",
              "      <td>LTE</td>\n",
              "      <td>1800</td>\n",
              "      <td>P4 Sp. z o.o.</td>\n",
              "      <td>MNET/15/62529/12/21</td>\n",
              "      <td>zmP</td>\n",
              "      <td>2023-08-31 00:00:00</td>\n",
              "      <td>21E01'42\"</td>\n",
              "      <td>52N13'59\"</td>\n",
              "      <td>Warszawa</td>\n",
              "      <td>1</td>\n",
              "      <td>LIM2006</td>\n",
              "      <td>NaN</td>\n",
              "    </tr>\n",
              "    <tr>\n",
              "      <th>freq</th>\n",
              "      <td>95723</td>\n",
              "      <td>29956</td>\n",
              "      <td>37030</td>\n",
              "      <td>5</td>\n",
              "      <td>75542</td>\n",
              "      <td>7397</td>\n",
              "      <td>49</td>\n",
              "      <td>107</td>\n",
              "      <td>7409</td>\n",
              "      <td>65</td>\n",
              "      <td>12</td>\n",
              "      <td>NaN</td>\n",
              "    </tr>\n",
              "    <tr>\n",
              "      <th>first</th>\n",
              "      <td>NaN</td>\n",
              "      <td>NaN</td>\n",
              "      <td>NaN</td>\n",
              "      <td>NaN</td>\n",
              "      <td>NaN</td>\n",
              "      <td>2022-04-30 00:00:00</td>\n",
              "      <td>NaN</td>\n",
              "      <td>NaN</td>\n",
              "      <td>NaN</td>\n",
              "      <td>NaN</td>\n",
              "      <td>NaN</td>\n",
              "      <td>NaN</td>\n",
              "    </tr>\n",
              "    <tr>\n",
              "      <th>last</th>\n",
              "      <td>NaN</td>\n",
              "      <td>NaN</td>\n",
              "      <td>NaN</td>\n",
              "      <td>NaN</td>\n",
              "      <td>NaN</td>\n",
              "      <td>2032-01-31 00:00:00</td>\n",
              "      <td>NaN</td>\n",
              "      <td>NaN</td>\n",
              "      <td>NaN</td>\n",
              "      <td>NaN</td>\n",
              "      <td>NaN</td>\n",
              "      <td>NaN</td>\n",
              "    </tr>\n",
              "    <tr>\n",
              "      <th>mean</th>\n",
              "      <td>NaN</td>\n",
              "      <td>NaN</td>\n",
              "      <td>NaN</td>\n",
              "      <td>NaN</td>\n",
              "      <td>NaN</td>\n",
              "      <td>NaN</td>\n",
              "      <td>NaN</td>\n",
              "      <td>NaN</td>\n",
              "      <td>NaN</td>\n",
              "      <td>NaN</td>\n",
              "      <td>NaN</td>\n",
              "      <td>1.738013e+06</td>\n",
              "    </tr>\n",
              "    <tr>\n",
              "      <th>std</th>\n",
              "      <td>NaN</td>\n",
              "      <td>NaN</td>\n",
              "      <td>NaN</td>\n",
              "      <td>NaN</td>\n",
              "      <td>NaN</td>\n",
              "      <td>NaN</td>\n",
              "      <td>NaN</td>\n",
              "      <td>NaN</td>\n",
              "      <td>NaN</td>\n",
              "      <td>NaN</td>\n",
              "      <td>NaN</td>\n",
              "      <td>9.186032e+05</td>\n",
              "    </tr>\n",
              "    <tr>\n",
              "      <th>min</th>\n",
              "      <td>NaN</td>\n",
              "      <td>NaN</td>\n",
              "      <td>NaN</td>\n",
              "      <td>NaN</td>\n",
              "      <td>NaN</td>\n",
              "      <td>NaN</td>\n",
              "      <td>NaN</td>\n",
              "      <td>NaN</td>\n",
              "      <td>NaN</td>\n",
              "      <td>NaN</td>\n",
              "      <td>NaN</td>\n",
              "      <td>2.010110e+05</td>\n",
              "    </tr>\n",
              "    <tr>\n",
              "      <th>25%</th>\n",
              "      <td>NaN</td>\n",
              "      <td>NaN</td>\n",
              "      <td>NaN</td>\n",
              "      <td>NaN</td>\n",
              "      <td>NaN</td>\n",
              "      <td>NaN</td>\n",
              "      <td>NaN</td>\n",
              "      <td>NaN</td>\n",
              "      <td>NaN</td>\n",
              "      <td>NaN</td>\n",
              "      <td>NaN</td>\n",
              "      <td>1.061011e+06</td>\n",
              "    </tr>\n",
              "    <tr>\n",
              "      <th>50%</th>\n",
              "      <td>NaN</td>\n",
              "      <td>NaN</td>\n",
              "      <td>NaN</td>\n",
              "      <td>NaN</td>\n",
              "      <td>NaN</td>\n",
              "      <td>NaN</td>\n",
              "      <td>NaN</td>\n",
              "      <td>NaN</td>\n",
              "      <td>NaN</td>\n",
              "      <td>NaN</td>\n",
              "      <td>NaN</td>\n",
              "      <td>1.465011e+06</td>\n",
              "    </tr>\n",
              "    <tr>\n",
              "      <th>75%</th>\n",
              "      <td>NaN</td>\n",
              "      <td>NaN</td>\n",
              "      <td>NaN</td>\n",
              "      <td>NaN</td>\n",
              "      <td>NaN</td>\n",
              "      <td>NaN</td>\n",
              "      <td>NaN</td>\n",
              "      <td>NaN</td>\n",
              "      <td>NaN</td>\n",
              "      <td>NaN</td>\n",
              "      <td>NaN</td>\n",
              "      <td>2.469011e+06</td>\n",
              "    </tr>\n",
              "    <tr>\n",
              "      <th>max</th>\n",
              "      <td>NaN</td>\n",
              "      <td>NaN</td>\n",
              "      <td>NaN</td>\n",
              "      <td>NaN</td>\n",
              "      <td>NaN</td>\n",
              "      <td>NaN</td>\n",
              "      <td>NaN</td>\n",
              "      <td>NaN</td>\n",
              "      <td>NaN</td>\n",
              "      <td>NaN</td>\n",
              "      <td>NaN</td>\n",
              "      <td>3.263011e+06</td>\n",
              "    </tr>\n",
              "  </tbody>\n",
              "</table>\n",
              "</div>\n",
              "      <button class=\"colab-df-convert\" onclick=\"convertToInteractive('df-07ebb78f-c0e3-4f23-98c6-9f7a768f87f6')\"\n",
              "              title=\"Convert this dataframe to an interactive table.\"\n",
              "              style=\"display:none;\">\n",
              "        \n",
              "  <svg xmlns=\"http://www.w3.org/2000/svg\" height=\"24px\"viewBox=\"0 0 24 24\"\n",
              "       width=\"24px\">\n",
              "    <path d=\"M0 0h24v24H0V0z\" fill=\"none\"/>\n",
              "    <path d=\"M18.56 5.44l.94 2.06.94-2.06 2.06-.94-2.06-.94-.94-2.06-.94 2.06-2.06.94zm-11 1L8.5 8.5l.94-2.06 2.06-.94-2.06-.94L8.5 2.5l-.94 2.06-2.06.94zm10 10l.94 2.06.94-2.06 2.06-.94-2.06-.94-.94-2.06-.94 2.06-2.06.94z\"/><path d=\"M17.41 7.96l-1.37-1.37c-.4-.4-.92-.59-1.43-.59-.52 0-1.04.2-1.43.59L10.3 9.45l-7.72 7.72c-.78.78-.78 2.05 0 2.83L4 21.41c.39.39.9.59 1.41.59.51 0 1.02-.2 1.41-.59l7.78-7.78 2.81-2.81c.8-.78.8-2.07 0-2.86zM5.41 20L4 18.59l7.72-7.72 1.47 1.35L5.41 20z\"/>\n",
              "  </svg>\n",
              "      </button>\n",
              "      \n",
              "  <style>\n",
              "    .colab-df-container {\n",
              "      display:flex;\n",
              "      flex-wrap:wrap;\n",
              "      gap: 12px;\n",
              "    }\n",
              "\n",
              "    .colab-df-convert {\n",
              "      background-color: #E8F0FE;\n",
              "      border: none;\n",
              "      border-radius: 50%;\n",
              "      cursor: pointer;\n",
              "      display: none;\n",
              "      fill: #1967D2;\n",
              "      height: 32px;\n",
              "      padding: 0 0 0 0;\n",
              "      width: 32px;\n",
              "    }\n",
              "\n",
              "    .colab-df-convert:hover {\n",
              "      background-color: #E2EBFA;\n",
              "      box-shadow: 0px 1px 2px rgba(60, 64, 67, 0.3), 0px 1px 3px 1px rgba(60, 64, 67, 0.15);\n",
              "      fill: #174EA6;\n",
              "    }\n",
              "\n",
              "    [theme=dark] .colab-df-convert {\n",
              "      background-color: #3B4455;\n",
              "      fill: #D2E3FC;\n",
              "    }\n",
              "\n",
              "    [theme=dark] .colab-df-convert:hover {\n",
              "      background-color: #434B5C;\n",
              "      box-shadow: 0px 1px 3px 1px rgba(0, 0, 0, 0.15);\n",
              "      filter: drop-shadow(0px 1px 2px rgba(0, 0, 0, 0.3));\n",
              "      fill: #FFFFFF;\n",
              "    }\n",
              "  </style>\n",
              "\n",
              "      <script>\n",
              "        const buttonEl =\n",
              "          document.querySelector('#df-07ebb78f-c0e3-4f23-98c6-9f7a768f87f6 button.colab-df-convert');\n",
              "        buttonEl.style.display =\n",
              "          google.colab.kernel.accessAllowed ? 'block' : 'none';\n",
              "\n",
              "        async function convertToInteractive(key) {\n",
              "          const element = document.querySelector('#df-07ebb78f-c0e3-4f23-98c6-9f7a768f87f6');\n",
              "          const dataTable =\n",
              "            await google.colab.kernel.invokeFunction('convertToInteractive',\n",
              "                                                     [key], {});\n",
              "          if (!dataTable) return;\n",
              "\n",
              "          const docLinkHtml = 'Like what you see? Visit the ' +\n",
              "            '<a target=\"_blank\" href=https://colab.research.google.com/notebooks/data_table.ipynb>data table notebook</a>'\n",
              "            + ' to learn more about interactive tables.';\n",
              "          element.innerHTML = '';\n",
              "          dataTable['output_type'] = 'display_data';\n",
              "          await google.colab.output.renderOutput(dataTable, element);\n",
              "          const docLink = document.createElement('div');\n",
              "          docLink.innerHTML = docLinkHtml;\n",
              "          element.appendChild(docLink);\n",
              "        }\n",
              "      </script>\n",
              "    </div>\n",
              "  </div>\n",
              "  "
            ]
          },
          "metadata": {},
          "execution_count": 11
        }
      ]
    },
    {
      "cell_type": "code",
      "source": [
        "LTE.iloc[0]"
      ],
      "metadata": {
        "colab": {
          "base_uri": "https://localhost:8080/"
        },
        "id": "PjN08z0xEaBm",
        "outputId": "e1976963-4c6d-4e55-e61a-d2b27454d5b1"
      },
      "execution_count": 30,
      "outputs": [
        {
          "output_type": "execute_result",
          "data": {
            "text/plain": [
              "RAT                                   LTE\n",
              "Częstotliwość                         420\n",
              "Nazwa Operatora      POLKOMTEL Sp. z o.o.\n",
              "Nr Decyzji               MNET/8/0001/1/21\n",
              "Rodzaj decyzji                          P\n",
              "Data ważności         2031-01-31 00:00:00\n",
              "Dł geogr stacji                 20E32'20\"\n",
              "Szer geogr stacji               50N43'39\"\n",
              "Miejscowość                        Łukowa\n",
              "Lokalizacja                           189\n",
              "IdStacji                          BT10182\n",
              "TERYT                             2604033\n",
              "Name: 0, dtype: object"
            ]
          },
          "metadata": {},
          "execution_count": 30
        }
      ]
    },
    {
      "cell_type": "code",
      "source": [
        "#czy są puste komórki\n",
        "LTE.isnull().sum()"
      ],
      "metadata": {
        "colab": {
          "base_uri": "https://localhost:8080/"
        },
        "id": "VB2KDqJYBZ_W",
        "outputId": "af1e0a8b-0364-426b-d3a0-cbf3ab55032a"
      },
      "execution_count": 12,
      "outputs": [
        {
          "output_type": "execute_result",
          "data": {
            "text/plain": [
              "RAT                    0\n",
              "Częstotliwość          0\n",
              "Nazwa Operatora        0\n",
              "Nr Decyzji             0\n",
              "Rodzaj decyzji         0\n",
              "Data ważności          0\n",
              "Dł geogr stacji        0\n",
              "Szer geogr stacji      0\n",
              "Miejscowość            0\n",
              "Lokalizacja          164\n",
              "IdStacji               0\n",
              "TERYT                  0\n",
              "dtype: int64"
            ]
          },
          "metadata": {},
          "execution_count": 12
        }
      ]
    },
    {
      "cell_type": "code",
      "source": [
        "LTE['Lokalizacja']"
      ],
      "metadata": {
        "colab": {
          "base_uri": "https://localhost:8080/"
        },
        "id": "DDXkTOSSDOlu",
        "outputId": "a72b48a8-d297-4b32-c802-3e712f6007e7"
      },
      "execution_count": 13,
      "outputs": [
        {
          "output_type": "execute_result",
          "data": {
            "text/plain": [
              "0                              189\n",
              "1                              515\n",
              "2                              1\\1\n",
              "3                            328\\1\n",
              "4                              179\n",
              "                   ...            \n",
              "22628                            8\n",
              "22629                    Miłosza 2\n",
              "22630                          200\n",
              "22631    Rynek Zygmunta Augusta 15\n",
              "22632                     Złota 79\n",
              "Name: Lokalizacja, Length: 95723, dtype: object"
            ]
          },
          "metadata": {},
          "execution_count": 13
        }
      ]
    },
    {
      "cell_type": "code",
      "source": [
        "dfs['5G1800']['RAT'][0:10]"
      ],
      "metadata": {
        "colab": {
          "base_uri": "https://localhost:8080/"
        },
        "id": "j9AHsEBcKTC8",
        "outputId": "39e0a8d5-a1a3-4949-e7a0-f6de7b53b4b3"
      },
      "execution_count": 16,
      "outputs": [
        {
          "output_type": "execute_result",
          "data": {
            "text/plain": [
              "0    5G\n",
              "1    5G\n",
              "2    5G\n",
              "3    5G\n",
              "4    5G\n",
              "5    5G\n",
              "6    5G\n",
              "7    5G\n",
              "8    5G\n",
              "9    5G\n",
              "Name: RAT, dtype: object"
            ]
          },
          "metadata": {},
          "execution_count": 16
        }
      ]
    },
    {
      "cell_type": "markdown",
      "source": [
        "zmiana gps na koordynaty geograficzne"
      ],
      "metadata": {
        "id": "JmNZ357aJCxb"
      }
    },
    {
      "cell_type": "code",
      "source": [
        "dlugosc = LTE['Dł geogr stacji'][0].iloc[0]\n",
        "dlugosc\n",
        "szerokosc = LTE['Szer geogr stacji'][0].iloc[0]\n",
        "szerokosc\n",
        "# [i for i in dlugosc if i.isdigit()]"
      ],
      "metadata": {
        "colab": {
          "base_uri": "https://localhost:8080/",
          "height": 35
        },
        "id": "utwKw6vBaWR2",
        "outputId": "819dc0af-1d7b-4220-b333-6c0b210c772b"
      },
      "execution_count": 16,
      "outputs": [
        {
          "output_type": "execute_result",
          "data": {
            "text/plain": [
              "'50N43\\'39\"'"
            ],
            "application/vnd.google.colaboratory.intrinsic+json": {
              "type": "string"
            }
          },
          "metadata": {},
          "execution_count": 16
        }
      ]
    },
    {
      "cell_type": "code",
      "source": [
        "LTE['Dł geogr stacji']= [re.split(r\"(\\d+\\D+)\", elem) for elem in [elem.replace('\\'',' ').replace('\"',' ') for elem in LTE['Dł geogr stacji']]]\n"
      ],
      "metadata": {
        "id": "qqXTZmEcou9e"
      },
      "execution_count": 19,
      "outputs": []
    },
    {
      "cell_type": "code",
      "source": [
        "LTE['Dł geogr stacji'] = [int(elem[1][:-1])+int(elem[3])/60.0 + int(elem[5])/3600.0 for elem in LTE['Dł geogr stacji'] ]"
      ],
      "metadata": {
        "id": "lqL6HeVZq8rM"
      },
      "execution_count": 20,
      "outputs": []
    },
    {
      "cell_type": "code",
      "source": [
        "LTE['Dł geogr stacji']"
      ],
      "metadata": {
        "colab": {
          "base_uri": "https://localhost:8080/"
        },
        "id": "7R3oJszRriqe",
        "outputId": "35462105-0c8b-4e61-e24f-4b38ff63de01"
      },
      "execution_count": 21,
      "outputs": [
        {
          "output_type": "execute_result",
          "data": {
            "text/plain": [
              "0        20.538889\n",
              "1        20.349444\n",
              "2        22.133889\n",
              "3        23.125556\n",
              "4        23.761944\n",
              "           ...    \n",
              "22628    18.845556\n",
              "22629    23.177500\n",
              "22630    22.993056\n",
              "22631    22.977778\n",
              "22632    20.995278\n",
              "Name: Dł geogr stacji, Length: 95723, dtype: float64"
            ]
          },
          "metadata": {},
          "execution_count": 21
        }
      ]
    },
    {
      "cell_type": "code",
      "source": [
        "LTE['Szer geogr stacji']"
      ],
      "metadata": {
        "colab": {
          "base_uri": "https://localhost:8080/"
        },
        "id": "9cKQ87I2uqqZ",
        "outputId": "b431ad47-efbd-41a1-f6a3-27eb0fd2707b"
      },
      "execution_count": 22,
      "outputs": [
        {
          "output_type": "execute_result",
          "data": {
            "text/plain": [
              "0        50N43'39\"\n",
              "1        50N28'43\"\n",
              "2        51N32'47\"\n",
              "3        51N18'42\"\n",
              "4        50N54'17\"\n",
              "           ...    \n",
              "22628    51N36'16\"\n",
              "22629    53N07'22\"\n",
              "22630    53N09'43\"\n",
              "22631    53N50'37\"\n",
              "22632    52N13'45\"\n",
              "Name: Szer geogr stacji, Length: 95723, dtype: object"
            ]
          },
          "metadata": {},
          "execution_count": 22
        }
      ]
    },
    {
      "cell_type": "code",
      "source": [
        "LTE['Szer geogr stacji']= [re.split(r\"(\\d+\\D+)\", elem) for elem in [elem.replace('\\'',' ').replace('\"',' ') for elem in LTE['Szer geogr stacji']]]\n",
        "LTE['Szer geogr stacji'] = [int(elem[1][:-1])+int(elem[3])/60.0 + int(elem[5])/3600.0 for elem in LTE['Szer geogr stacji']]"
      ],
      "metadata": {
        "id": "t1Er5trLuMTv"
      },
      "execution_count": 26,
      "outputs": []
    },
    {
      "cell_type": "code",
      "source": [
        "LTE['Szer geogr stacji']"
      ],
      "metadata": {
        "colab": {
          "base_uri": "https://localhost:8080/"
        },
        "id": "Fhvmy4hPDr2Y",
        "outputId": "67f404e1-fbd1-4889-f3b1-dbb1e9e7563a"
      },
      "execution_count": 27,
      "outputs": [
        {
          "output_type": "execute_result",
          "data": {
            "text/plain": [
              "0        50.727500\n",
              "1        50.478611\n",
              "2        51.546389\n",
              "3        51.311667\n",
              "4        50.904722\n",
              "           ...    \n",
              "22628    51.604444\n",
              "22629    53.122778\n",
              "22630    53.161944\n",
              "22631    53.843611\n",
              "22632    52.229167\n",
              "Name: Szer geogr stacji, Length: 95723, dtype: float64"
            ]
          },
          "metadata": {},
          "execution_count": 27
        }
      ]
    },
    {
      "cell_type": "code",
      "source": [
        "def conversion(gps):\n",
        "    gps = [re.split(r\"(\\d+\\D+)\", elem) for elem in [elem.replace('\\'',' ').replace('\"',' ') for elem in gps]]\n",
        "    gps = [int(elem[1][:-1])+int(elem[3])/60.0 + int(elem[5])/3600.0 for elem in gps]\n",
        "    return gps"
      ],
      "metadata": {
        "id": "CLMvrhOeYvFf"
      },
      "execution_count": 14,
      "outputs": []
    },
    {
      "cell_type": "code",
      "source": [
        "LTE['Szer geogr stacji'] = conversion(LTE['Szer geogr stacji'])"
      ],
      "metadata": {
        "id": "A7Zj7lH3EkMI"
      },
      "execution_count": 15,
      "outputs": []
    },
    {
      "cell_type": "code",
      "source": [
        "LTE['Dł geogr stacji'] = conversion(LTE['Dł geogr stacji'])\n",
        "LTE['Dł geogr stacji']"
      ],
      "metadata": {
        "colab": {
          "base_uri": "https://localhost:8080/"
        },
        "id": "cCJK7FJ4EtKA",
        "outputId": "4691c67b-aa16-403d-b44d-72357b831310"
      },
      "execution_count": 16,
      "outputs": [
        {
          "output_type": "execute_result",
          "data": {
            "text/plain": [
              "0        20.538889\n",
              "1        20.349444\n",
              "2        22.133889\n",
              "3        23.125556\n",
              "4        23.761944\n",
              "           ...    \n",
              "22628    18.845556\n",
              "22629    23.177500\n",
              "22630    22.993056\n",
              "22631    22.977778\n",
              "22632    20.995278\n",
              "Name: Dł geogr stacji, Length: 95723, dtype: float64"
            ]
          },
          "metadata": {},
          "execution_count": 16
        }
      ]
    },
    {
      "cell_type": "code",
      "source": [
        "LTE.plot(x='Dł geogr stacji', y='Szer geogr stacji', kind=\"scatter\", colormap=\"YlOrRd\")"
      ],
      "metadata": {
        "colab": {
          "base_uri": "https://localhost:8080/",
          "height": 296
        },
        "id": "XyPYvuD3FMBK",
        "outputId": "ab98e145-a1d6-4364-bc4e-6ab78c90d571"
      },
      "execution_count": 17,
      "outputs": [
        {
          "output_type": "execute_result",
          "data": {
            "text/plain": [
              "<matplotlib.axes._subplots.AxesSubplot at 0x7f5376f03090>"
            ]
          },
          "metadata": {},
          "execution_count": 17
        },
        {
          "output_type": "display_data",
          "data": {
            "text/plain": [
              "<Figure size 432x288 with 1 Axes>"
            ],
            "image/png": "[encoded data removed]"
          },
          "metadata": {
            "needs_background": "light"
          }
        }
      ]
    },
    {
      "cell_type": "code",
      "source": [
        "Wroclaw = LTE.loc[LTE['Miejscowość'] == 'Wrocław'].reset_index()\n",
        "# df.loc[df['column_name'] == some_value]"
      ],
      "metadata": {
        "id": "4rdb72SRFpGE"
      },
      "execution_count": 18,
      "outputs": []
    },
    {
      "cell_type": "code",
      "source": [
        "Wroclaw"
      ],
      "metadata": {
        "colab": {
          "base_uri": "https://localhost:8080/",
          "height": 424
        },
        "id": "uCk1eFHuGJYP",
        "outputId": "ae4e231e-e338-429e-b582-2ccff78017ee"
      },
      "execution_count": 19,
      "outputs": [
        {
          "output_type": "execute_result",
          "data": {
            "text/plain": [
              "      index  RAT Częstotliwość       Nazwa Operatora           Nr Decyzji  \\\n",
              "0       221  LTE           420  POLKOMTEL Sp. z o.o.     MNET/8/0222/1/21   \n",
              "1      4061  LTE           800    Orange Polska S.A.  MNET/15/76001/10/18   \n",
              "2      4062  LTE           800    Orange Polska S.A.   MNET/15/76499/8/18   \n",
              "3      4063  LTE           800    Orange Polska S.A.   MNET/15/76560/8/18   \n",
              "4      4067  LTE           800    Orange Polska S.A.  MNET/15/77003/10/20   \n",
              "...     ...  ...           ...                   ...                  ...   \n",
              "2076  22614  LTE          2600  T-Mobile Polska S.A.    MNET/2/76215/2/20   \n",
              "2077  22615  LTE          2600  T-Mobile Polska S.A.    MNET/2/76556/1/18   \n",
              "2078  22616  LTE          2600  T-Mobile Polska S.A.    MNET/2/76670/1/18   \n",
              "2079  22617  LTE          2600  T-Mobile Polska S.A.    MNET/2/76671/1/18   \n",
              "2080  22618  LTE          2600  T-Mobile Polska S.A.    MNET/2/77682/1/18   \n",
              "\n",
              "     Rodzaj decyzji Data ważności  Dł geogr stacji  Szer geogr stacji  \\\n",
              "0                 P    2031-01-31        16.980000          51.117500   \n",
              "1               zmP    2023-04-30        17.118056          51.118056   \n",
              "2               zmP    2024-05-31        17.042222          51.076111   \n",
              "3               zmP    2024-04-30        16.973611          51.165278   \n",
              "4               zmP    2023-05-31        16.992500          51.111667   \n",
              "...             ...           ...              ...                ...   \n",
              "2076            zmP    2029-12-31        17.130833          51.149722   \n",
              "2077              P    2028-03-31        17.028056          51.099444   \n",
              "2078              P    2028-03-31        16.990556          51.119167   \n",
              "2079              P    2028-03-31        17.031111          51.103889   \n",
              "2080              P    2028-04-30        16.981667          51.094444   \n",
              "\n",
              "     Miejscowość                       Lokalizacja IdStacji   TERYT  \n",
              "0        Wrocław                 ul. Bystrzycka 24  BT34103  264011  \n",
              "1        Wrocław               Swojczycka 38, 8\\66     2352  264011  \n",
              "2        Wrocław  Świeradowska 51-57, dz. nr 66\\12    14246  264011  \n",
              "3        Wrocław                       dz. nr 38\\2    14285  264011  \n",
              "4        Wrocław                Fabryczna 10, 1/13     2413  264011  \n",
              "...          ...                               ...      ...     ...  \n",
              "2076     Wrocław                 Bierutowska 57/59    46215  264011  \n",
              "2077     Wrocław           Powstańców Śląskich 2-4    46556  264011  \n",
              "2078     Wrocław                       Legnicka 58    46670  264011  \n",
              "2079     Wrocław                      Świdnicka 40    46671  264011  \n",
              "2080     Wrocław             Grabiszyńska 240, 240    82347  264011  \n",
              "\n",
              "[2081 rows x 13 columns]"
            ],
            "text/html": [
              "\n",
              "  <div id=\"df-9bac07d5-89e2-473b-91fa-f93b27453223\">\n",
              "    <div class=\"colab-df-container\">\n",
              "      <div>\n",
              "<style scoped>\n",
              "    .dataframe tbody tr th:only-of-type {\n",
              "        vertical-align: middle;\n",
              "    }\n",
              "\n",
              "    .dataframe tbody tr th {\n",
              "        vertical-align: top;\n",
              "    }\n",
              "\n",
              "    .dataframe thead th {\n",
              "        text-align: right;\n",
              "    }\n",
              "</style>\n",
              "<table border=\"1\" class=\"dataframe\">\n",
              "  <thead>\n",
              "    <tr style=\"text-align: right;\">\n",
              "      <th></th>\n",
              "      <th>index</th>\n",
              "      <th>RAT</th>\n",
              "      <th>Częstotliwość</th>\n",
              "      <th>Nazwa Operatora</th>\n",
              "      <th>Nr Decyzji</th>\n",
              "      <th>Rodzaj decyzji</th>\n",
              "      <th>Data ważności</th>\n",
              "      <th>Dł geogr stacji</th>\n",
              "      <th>Szer geogr stacji</th>\n",
              "      <th>Miejscowość</th>\n",
              "      <th>Lokalizacja</th>\n",
              "      <th>IdStacji</th>\n",
              "      <th>TERYT</th>\n",
              "    </tr>\n",
              "  </thead>\n",
              "  <tbody>\n",
              "    <tr>\n",
              "      <th>0</th>\n",
              "      <td>221</td>\n",
              "      <td>LTE</td>\n",
              "      <td>420</td>\n",
              "      <td>POLKOMTEL Sp. z o.o.</td>\n",
              "      <td>MNET/8/0222/1/21</td>\n",
              "      <td>P</td>\n",
              "      <td>2031-01-31</td>\n",
              "      <td>16.980000</td>\n",
              "      <td>51.117500</td>\n",
              "      <td>Wrocław</td>\n",
              "      <td>ul. Bystrzycka 24</td>\n",
              "      <td>BT34103</td>\n",
              "      <td>264011</td>\n",
              "    </tr>\n",
              "    <tr>\n",
              "      <th>1</th>\n",
              "      <td>4061</td>\n",
              "      <td>LTE</td>\n",
              "      <td>800</td>\n",
              "      <td>Orange Polska S.A.</td>\n",
              "      <td>MNET/15/76001/10/18</td>\n",
              "      <td>zmP</td>\n",
              "      <td>2023-04-30</td>\n",
              "      <td>17.118056</td>\n",
              "      <td>51.118056</td>\n",
              "      <td>Wrocław</td>\n",
              "      <td>Swojczycka 38, 8\\66</td>\n",
              "      <td>2352</td>\n",
              "      <td>264011</td>\n",
              "    </tr>\n",
              "    <tr>\n",
              "      <th>2</th>\n",
              "      <td>4062</td>\n",
              "      <td>LTE</td>\n",
              "      <td>800</td>\n",
              "      <td>Orange Polska S.A.</td>\n",
              "      <td>MNET/15/76499/8/18</td>\n",
              "      <td>zmP</td>\n",
              "      <td>2024-05-31</td>\n",
              "      <td>17.042222</td>\n",
              "      <td>51.076111</td>\n",
              "      <td>Wrocław</td>\n",
              "      <td>Świeradowska 51-57, dz. nr 66\\12</td>\n",
              "      <td>14246</td>\n",
              "      <td>264011</td>\n",
              "    </tr>\n",
              "    <tr>\n",
              "      <th>3</th>\n",
              "      <td>4063</td>\n",
              "      <td>LTE</td>\n",
              "      <td>800</td>\n",
              "      <td>Orange Polska S.A.</td>\n",
              "      <td>MNET/15/76560/8/18</td>\n",
              "      <td>zmP</td>\n",
              "      <td>2024-04-30</td>\n",
              "      <td>16.973611</td>\n",
              "      <td>51.165278</td>\n",
              "      <td>Wrocław</td>\n",
              "      <td>dz. nr 38\\2</td>\n",
              "      <td>14285</td>\n",
              "      <td>264011</td>\n",
              "    </tr>\n",
              "    <tr>\n",
              "      <th>4</th>\n",
              "      <td>4067</td>\n",
              "      <td>LTE</td>\n",
              "      <td>800</td>\n",
              "      <td>Orange Polska S.A.</td>\n",
              "      <td>MNET/15/77003/10/20</td>\n",
              "      <td>zmP</td>\n",
              "      <td>2023-05-31</td>\n",
              "      <td>16.992500</td>\n",
              "      <td>51.111667</td>\n",
              "      <td>Wrocław</td>\n",
              "      <td>Fabryczna 10, 1/13</td>\n",
              "      <td>2413</td>\n",
              "      <td>264011</td>\n",
              "    </tr>\n",
              "    <tr>\n",
              "      <th>...</th>\n",
              "      <td>...</td>\n",
              "      <td>...</td>\n",
              "      <td>...</td>\n",
              "      <td>...</td>\n",
              "      <td>...</td>\n",
              "      <td>...</td>\n",
              "      <td>...</td>\n",
              "      <td>...</td>\n",
              "      <td>...</td>\n",
              "      <td>...</td>\n",
              "      <td>...</td>\n",
              "      <td>...</td>\n",
              "      <td>...</td>\n",
              "    </tr>\n",
              "    <tr>\n",
              "      <th>2076</th>\n",
              "      <td>22614</td>\n",
              "      <td>LTE</td>\n",
              "      <td>2600</td>\n",
              "      <td>T-Mobile Polska S.A.</td>\n",
              "      <td>MNET/2/76215/2/20</td>\n",
              "      <td>zmP</td>\n",
              "      <td>2029-12-31</td>\n",
              "      <td>17.130833</td>\n",
              "      <td>51.149722</td>\n",
              "      <td>Wrocław</td>\n",
              "      <td>Bierutowska 57/59</td>\n",
              "      <td>46215</td>\n",
              "      <td>264011</td>\n",
              "    </tr>\n",
              "    <tr>\n",
              "      <th>2077</th>\n",
              "      <td>22615</td>\n",
              "      <td>LTE</td>\n",
              "      <td>2600</td>\n",
              "      <td>T-Mobile Polska S.A.</td>\n",
              "      <td>MNET/2/76556/1/18</td>\n",
              "      <td>P</td>\n",
              "      <td>2028-03-31</td>\n",
              "      <td>17.028056</td>\n",
              "      <td>51.099444</td>\n",
              "      <td>Wrocław</td>\n",
              "      <td>Powstańców Śląskich 2-4</td>\n",
              "      <td>46556</td>\n",
              "      <td>264011</td>\n",
              "    </tr>\n",
              "    <tr>\n",
              "      <th>2078</th>\n",
              "      <td>22616</td>\n",
              "      <td>LTE</td>\n",
              "      <td>2600</td>\n",
              "      <td>T-Mobile Polska S.A.</td>\n",
              "      <td>MNET/2/76670/1/18</td>\n",
              "      <td>P</td>\n",
              "      <td>2028-03-31</td>\n",
              "      <td>16.990556</td>\n",
              "      <td>51.119167</td>\n",
              "      <td>Wrocław</td>\n",
              "      <td>Legnicka 58</td>\n",
              "      <td>46670</td>\n",
              "      <td>264011</td>\n",
              "    </tr>\n",
              "    <tr>\n",
              "      <th>2079</th>\n",
              "      <td>22617</td>\n",
              "      <td>LTE</td>\n",
              "      <td>2600</td>\n",
              "      <td>T-Mobile Polska S.A.</td>\n",
              "      <td>MNET/2/76671/1/18</td>\n",
              "      <td>P</td>\n",
              "      <td>2028-03-31</td>\n",
              "      <td>17.031111</td>\n",
              "      <td>51.103889</td>\n",
              "      <td>Wrocław</td>\n",
              "      <td>Świdnicka 40</td>\n",
              "      <td>46671</td>\n",
              "      <td>264011</td>\n",
              "    </tr>\n",
              "    <tr>\n",
              "      <th>2080</th>\n",
              "      <td>22618</td>\n",
              "      <td>LTE</td>\n",
              "      <td>2600</td>\n",
              "      <td>T-Mobile Polska S.A.</td>\n",
              "      <td>MNET/2/77682/1/18</td>\n",
              "      <td>P</td>\n",
              "      <td>2028-04-30</td>\n",
              "      <td>16.981667</td>\n",
              "      <td>51.094444</td>\n",
              "      <td>Wrocław</td>\n",
              "      <td>Grabiszyńska 240, 240</td>\n",
              "      <td>82347</td>\n",
              "      <td>264011</td>\n",
              "    </tr>\n",
              "  </tbody>\n",
              "</table>\n",
              "<p>2081 rows × 13 columns</p>\n",
              "</div>\n",
              "      <button class=\"colab-df-convert\" onclick=\"convertToInteractive('df-9bac07d5-89e2-473b-91fa-f93b27453223')\"\n",
              "              title=\"Convert this dataframe to an interactive table.\"\n",
              "              style=\"display:none;\">\n",
              "        \n",
              "  <svg xmlns=\"http://www.w3.org/2000/svg\" height=\"24px\"viewBox=\"0 0 24 24\"\n",
              "       width=\"24px\">\n",
              "    <path d=\"M0 0h24v24H0V0z\" fill=\"none\"/>\n",
              "    <path d=\"M18.56 5.44l.94 2.06.94-2.06 2.06-.94-2.06-.94-.94-2.06-.94 2.06-2.06.94zm-11 1L8.5 8.5l.94-2.06 2.06-.94-2.06-.94L8.5 2.5l-.94 2.06-2.06.94zm10 10l.94 2.06.94-2.06 2.06-.94-2.06-.94-.94-2.06-.94 2.06-2.06.94z\"/><path d=\"M17.41 7.96l-1.37-1.37c-.4-.4-.92-.59-1.43-.59-.52 0-1.04.2-1.43.59L10.3 9.45l-7.72 7.72c-.78.78-.78 2.05 0 2.83L4 21.41c.39.39.9.59 1.41.59.51 0 1.02-.2 1.41-.59l7.78-7.78 2.81-2.81c.8-.78.8-2.07 0-2.86zM5.41 20L4 18.59l7.72-7.72 1.47 1.35L5.41 20z\"/>\n",
              "  </svg>\n",
              "      </button>\n",
              "      \n",
              "  <style>\n",
              "    .colab-df-container {\n",
              "      display:flex;\n",
              "      flex-wrap:wrap;\n",
              "      gap: 12px;\n",
              "    }\n",
              "\n",
              "    .colab-df-convert {\n",
              "      background-color: #E8F0FE;\n",
              "      border: none;\n",
              "      border-radius: 50%;\n",
              "      cursor: pointer;\n",
              "      display: none;\n",
              "      fill: #1967D2;\n",
              "      height: 32px;\n",
              "      padding: 0 0 0 0;\n",
              "      width: 32px;\n",
              "    }\n",
              "\n",
              "    .colab-df-convert:hover {\n",
              "      background-color: #E2EBFA;\n",
              "      box-shadow: 0px 1px 2px rgba(60, 64, 67, 0.3), 0px 1px 3px 1px rgba(60, 64, 67, 0.15);\n",
              "      fill: #174EA6;\n",
              "    }\n",
              "\n",
              "    [theme=dark] .colab-df-convert {\n",
              "      background-color: #3B4455;\n",
              "      fill: #D2E3FC;\n",
              "    }\n",
              "\n",
              "    [theme=dark] .colab-df-convert:hover {\n",
              "      background-color: #434B5C;\n",
              "      box-shadow: 0px 1px 3px 1px rgba(0, 0, 0, 0.15);\n",
              "      filter: drop-shadow(0px 1px 2px rgba(0, 0, 0, 0.3));\n",
              "      fill: #FFFFFF;\n",
              "    }\n",
              "  </style>\n",
              "\n",
              "      <script>\n",
              "        const buttonEl =\n",
              "          document.querySelector('#df-9bac07d5-89e2-473b-91fa-f93b27453223 button.colab-df-convert');\n",
              "        buttonEl.style.display =\n",
              "          google.colab.kernel.accessAllowed ? 'block' : 'none';\n",
              "\n",
              "        async function convertToInteractive(key) {\n",
              "          const element = document.querySelector('#df-9bac07d5-89e2-473b-91fa-f93b27453223');\n",
              "          const dataTable =\n",
              "            await google.colab.kernel.invokeFunction('convertToInteractive',\n",
              "                                                     [key], {});\n",
              "          if (!dataTable) return;\n",
              "\n",
              "          const docLinkHtml = 'Like what you see? Visit the ' +\n",
              "            '<a target=\"_blank\" href=https://colab.research.google.com/notebooks/data_table.ipynb>data table notebook</a>'\n",
              "            + ' to learn more about interactive tables.';\n",
              "          element.innerHTML = '';\n",
              "          dataTable['output_type'] = 'display_data';\n",
              "          await google.colab.output.renderOutput(dataTable, element);\n",
              "          const docLink = document.createElement('div');\n",
              "          docLink.innerHTML = docLinkHtml;\n",
              "          element.appendChild(docLink);\n",
              "        }\n",
              "      </script>\n",
              "    </div>\n",
              "  </div>\n",
              "  "
            ]
          },
          "metadata": {},
          "execution_count": 19
        }
      ]
    },
    {
      "cell_type": "code",
      "source": [
        "Wroclaw.plot(x='Dł geogr stacji', y='Szer geogr stacji', kind=\"scatter\", colormap=\"YlOrRd\")"
      ],
      "metadata": {
        "colab": {
          "base_uri": "https://localhost:8080/",
          "height": 296
        },
        "id": "acaJnKoIGtsU",
        "outputId": "97a16fad-5c66-45b5-a698-7b04a61eec86"
      },
      "execution_count": 20,
      "outputs": [
        {
          "output_type": "execute_result",
          "data": {
            "text/plain": [
              "<matplotlib.axes._subplots.AxesSubplot at 0x7f5376c9c250>"
            ]
          },
          "metadata": {},
          "execution_count": 20
        },
        {
          "output_type": "display_data",
          "data": {
            "text/plain": [
              "<Figure size 432x288 with 1 Axes>"
            ],
            "image/png": "[encoded data removed]"
          },
          "metadata": {
            "needs_background": "light"
          }
        }
      ]
    },
    {
      "cell_type": "code",
      "source": [
        "import math\n",
        "from itertools import combinations\n",
        "\n",
        "def dist(p1, p2):\n",
        "    (x1, y1), (x2, y2) = p1, p2\n",
        "    return math.sqrt((x2 - x1)**2 + (y2 - y1)**2)\n",
        "\n",
        "x = Wroclaw['Dł geogr stacji']\n",
        "y = Wroclaw['Szer geogr stacji']\n",
        "\n",
        "points = list(zip(x,y))\n",
        "distances = [dist(p1, p2) for p1, p2 in combinations(points, 2)]\n",
        "avg_distance = sum(distances) / len(distances)"
      ],
      "metadata": {
        "id": "gZ6lcuQhNfQu"
      },
      "execution_count": 21,
      "outputs": []
    },
    {
      "cell_type": "code",
      "source": [
        "from geopy.distance import distance\n",
        "dist = [distance(p1,p2).km for p1, p2 in combinations(points,2)]\n",
        "avg_dist = sum(dist) / len(dist)"
      ],
      "metadata": {
        "id": "o9Q8J2FwQia3"
      },
      "execution_count": 25,
      "outputs": []
    },
    {
      "cell_type": "code",
      "source": [
        "avg_dist"
      ],
      "metadata": {
        "colab": {
          "base_uri": "https://localhost:8080/"
        },
        "id": "X9ZIZNsfTtkj",
        "outputId": "86208423-4ebc-42f8-bca9-be01082ba135"
      },
      "execution_count": 26,
      "outputs": [
        {
          "output_type": "execute_result",
          "data": {
            "text/plain": [
              "7.7947922261017375"
            ]
          },
          "metadata": {},
          "execution_count": 26
        }
      ]
    },
    {
      "cell_type": "code",
      "source": [
        "Legnica = LTE.loc[LTE['Miejscowość'] == 'Legnica'].reset_index()\n",
        "Legnica.info()"
      ],
      "metadata": {
        "colab": {
          "base_uri": "https://localhost:8080/"
        },
        "id": "qE4j3zqgR-EK",
        "outputId": "cb4a0545-0cbd-49bb-ef26-c8e82ac7d133"
      },
      "execution_count": 29,
      "outputs": [
        {
          "output_type": "stream",
          "name": "stdout",
          "text": [
            "<class 'pandas.core.frame.DataFrame'>\n",
            "RangeIndex: 217 entries, 0 to 216\n",
            "Data columns (total 13 columns):\n",
            " #   Column             Non-Null Count  Dtype         \n",
            "---  ------             --------------  -----         \n",
            " 0   index              217 non-null    int64         \n",
            " 1   RAT                217 non-null    object        \n",
            " 2   Częstotliwość      217 non-null    object        \n",
            " 3   Nazwa Operatora    217 non-null    object        \n",
            " 4   Nr Decyzji         217 non-null    object        \n",
            " 5   Rodzaj decyzji     217 non-null    object        \n",
            " 6   Data ważności      217 non-null    datetime64[ns]\n",
            " 7   Dł geogr stacji    217 non-null    float64       \n",
            " 8   Szer geogr stacji  217 non-null    float64       \n",
            " 9   Miejscowość        217 non-null    object        \n",
            " 10  Lokalizacja        217 non-null    object        \n",
            " 11  IdStacji           217 non-null    object        \n",
            " 12  TERYT              217 non-null    int64         \n",
            "dtypes: datetime64[ns](1), float64(2), int64(2), object(8)\n",
            "memory usage: 22.2+ KB\n"
          ]
        }
      ]
    },
    {
      "cell_type": "code",
      "source": [
        "x_Legnica = Legnica['Dł geogr stacji']\n",
        "y_Legnica = Legnica['Szer geogr stacji']\n",
        "\n",
        "points_Legnica = list(zip(x_Legnica,y_Legnica))\n",
        "\n",
        "dist = [distance(p1,p2).km for p1, p2 in combinations(points_Legnica,2)]\n",
        "avg_dist_Legnica = sum(dist) / len(dist)"
      ],
      "metadata": {
        "id": "FhnBzXYMUMUE"
      },
      "execution_count": 31,
      "outputs": []
    },
    {
      "cell_type": "code",
      "source": [
        "avg_distance"
      ],
      "metadata": {
        "colab": {
          "base_uri": "https://localhost:8080/"
        },
        "id": "fJQfWH_0PJI8",
        "outputId": "2b07a7f1-fa6a-4911-a4de-a26174f8b1c6"
      },
      "execution_count": 22,
      "outputs": [
        {
          "output_type": "execute_result",
          "data": {
            "text/plain": [
              "0.07107197285302791"
            ]
          },
          "metadata": {},
          "execution_count": 22
        }
      ]
    },
    {
      "cell_type": "code",
      "source": [
        "avg_dist_Legnica"
      ],
      "metadata": {
        "colab": {
          "base_uri": "https://localhost:8080/"
        },
        "id": "PS6olwqtVKdP",
        "outputId": "5fe9d43b-f81b-4a6f-c20e-c32a28652e92"
      },
      "execution_count": 32,
      "outputs": [
        {
          "output_type": "execute_result",
          "data": {
            "text/plain": [
              "3.6086782041515204"
            ]
          },
          "metadata": {},
          "execution_count": 32
        }
      ]
    }
  ]
}