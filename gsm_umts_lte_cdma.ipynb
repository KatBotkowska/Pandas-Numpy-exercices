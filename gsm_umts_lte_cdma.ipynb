{
  "nbformat": 4,
  "nbformat_minor": 0,
  "metadata": {
    "colab": {
      "name": "gsm_umts_lte_cdma.ipynb",
      "provenance": [],
      "collapsed_sections": [],
      "toc_visible": true,
      "authorship_tag": "ABX9TyPuGkN8zZS6Kfwu7d+HZPjl",
      "include_colab_link": true
    },
    "kernelspec": {
      "name": "python3",
      "display_name": "Python 3"
    },
    "language_info": {
      "name": "python"
    }
  },
  "cells": [
    {
      "cell_type": "markdown",
      "metadata": {
        "id": "view-in-github",
        "colab_type": "text"
      },
      "source": [
        "<a href=\"https://colab.research.google.com/github/KatBotkowska/Pandas-Numpy-exercices/blob/master/gsm_umts_lte_cdma.ipynb\" target=\"_parent\"><img src=\"https://colab.research.google.com/assets/colab-badge.svg\" alt=\"Open In Colab\"/></a>"
      ]
    },
    {
      "cell_type": "markdown",
      "source": [
        "Dane ściągnięte z https://dane.gov.pl/pl/dataset/1075,wykazy-pozwolen-radiowych-dla-stacji-bazowych-telefonii-komorkowej-gsm-umts-lte-oraz-stacji-wykorzystujacych-technologie-cdma"
      ],
      "metadata": {
        "id": "T_ZfUGxpiyOw"
      }
    },
    {
      "cell_type": "markdown",
      "source": [
        "###Import"
      ],
      "metadata": {
        "id": "mgyN1fm6u3PC"
      }
    },
    {
      "cell_type": "code",
      "source": [
        "!pip install geopandas"
      ],
      "metadata": {
        "colab": {
          "base_uri": "https://localhost:8080/"
        },
        "id": "6gc28UxFU3f7",
        "outputId": "e0d979f8-c6b6-40ab-e3c4-7ec7cd1f2779"
      },
      "execution_count": 2,
      "outputs": [
        {
          "output_type": "stream",
          "name": "stdout",
          "text": [
            "Collecting geopandas\n",
            "  Downloading geopandas-0.10.2-py2.py3-none-any.whl (1.0 MB)\n",
            "\u001b[K     |████████████████████████████████| 1.0 MB 5.0 MB/s \n",
            "\u001b[?25hRequirement already satisfied: pandas>=0.25.0 in /usr/local/lib/python3.7/dist-packages (from geopandas) (1.3.5)\n",
            "Requirement already satisfied: shapely>=1.6 in /usr/local/lib/python3.7/dist-packages (from geopandas) (1.8.1.post1)\n",
            "Collecting fiona>=1.8\n",
            "  Downloading Fiona-1.8.21-cp37-cp37m-manylinux2014_x86_64.whl (16.7 MB)\n",
            "\u001b[K     |████████████████████████████████| 16.7 MB 293 kB/s \n",
            "\u001b[?25hCollecting pyproj>=2.2.0\n",
            "  Downloading pyproj-3.2.1-cp37-cp37m-manylinux2010_x86_64.whl (6.3 MB)\n",
            "\u001b[K     |████████████████████████████████| 6.3 MB 37.9 MB/s \n",
            "\u001b[?25hCollecting click-plugins>=1.0\n",
            "  Downloading click_plugins-1.1.1-py2.py3-none-any.whl (7.5 kB)\n",
            "Requirement already satisfied: setuptools in /usr/local/lib/python3.7/dist-packages (from fiona>=1.8->geopandas) (57.4.0)\n",
            "Requirement already satisfied: attrs>=17 in /usr/local/lib/python3.7/dist-packages (from fiona>=1.8->geopandas) (21.4.0)\n",
            "Collecting cligj>=0.5\n",
            "  Downloading cligj-0.7.2-py3-none-any.whl (7.1 kB)\n",
            "Collecting munch\n",
            "  Downloading munch-2.5.0-py2.py3-none-any.whl (10 kB)\n",
            "Requirement already satisfied: certifi in /usr/local/lib/python3.7/dist-packages (from fiona>=1.8->geopandas) (2021.10.8)\n",
            "Requirement already satisfied: click>=4.0 in /usr/local/lib/python3.7/dist-packages (from fiona>=1.8->geopandas) (7.1.2)\n",
            "Requirement already satisfied: six>=1.7 in /usr/local/lib/python3.7/dist-packages (from fiona>=1.8->geopandas) (1.15.0)\n",
            "Requirement already satisfied: numpy>=1.17.3 in /usr/local/lib/python3.7/dist-packages (from pandas>=0.25.0->geopandas) (1.21.6)\n",
            "Requirement already satisfied: python-dateutil>=2.7.3 in /usr/local/lib/python3.7/dist-packages (from pandas>=0.25.0->geopandas) (2.8.2)\n",
            "Requirement already satisfied: pytz>=2017.3 in /usr/local/lib/python3.7/dist-packages (from pandas>=0.25.0->geopandas) (2022.1)\n",
            "Installing collected packages: munch, cligj, click-plugins, pyproj, fiona, geopandas\n",
            "Successfully installed click-plugins-1.1.1 cligj-0.7.2 fiona-1.8.21 geopandas-0.10.2 munch-2.5.0 pyproj-3.2.1\n"
          ]
        }
      ]
    },
    {
      "cell_type": "code",
      "execution_count": 3,
      "metadata": {
        "id": "9amL47xmHkRD"
      },
      "outputs": [],
      "source": [
        "import pandas as pd\n",
        "import glob\n",
        "import os\n",
        "import re\n",
        "import math\n",
        "from itertools import combinations\n",
        "from geopy.distance import distance\n",
        "import geopandas as gpd\n",
        "import matplotlib.pyplot as plt"
      ]
    },
    {
      "cell_type": "markdown",
      "source": [
        "###Mount gdrive and files "
      ],
      "metadata": {
        "id": "0EJJivQJu8-8"
      }
    },
    {
      "cell_type": "code",
      "metadata": {
        "colab": {
          "base_uri": "https://localhost:8080/"
        },
        "id": "zvVvU9yg9bdq",
        "outputId": "8051f654-8e7e-4680-c478-66dd26f5f5b6"
      },
      "source": [
        "from google.colab import drive\n",
        "drive.mount('/content/gdrive/')"
      ],
      "execution_count": 4,
      "outputs": [
        {
          "output_type": "stream",
          "name": "stdout",
          "text": [
            "Mounted at /content/gdrive/\n"
          ]
        }
      ]
    },
    {
      "cell_type": "code",
      "source": [
        "#already done\n",
        "#!unzip '/content/gdrive/MyDrive/CodersCrew/wykazy_pozwolen_gsm_umts_lte_cdma.zip' -d '/content/gdrive/MyDrive/CodersCrew/gsm_umts_lte_cdma'"
      ],
      "metadata": {
        "colab": {
          "base_uri": "https://localhost:8080/"
        },
        "id": "2w4SHPLlNhmV",
        "outputId": "9046b771-b1cd-47b4-e4d3-4de49ead112c"
      },
      "execution_count": null,
      "outputs": [
        {
          "output_type": "stream",
          "name": "stdout",
          "text": [
            "Archive:  /content/gdrive/MyDrive/CodersCrew/wykazy_pozwolen_gsm_umts_lte_cdma.zip\n",
            "replace /content/gdrive/MyDrive/CodersCrew/gsm_umts_lte_cdma/UMTS2100 - stan na 2022-02-25.xlsx? [y]es, [n]o, [A]ll, [N]one, [r]ename: "
          ]
        }
      ]
    },
    {
      "cell_type": "code",
      "source": [
        "files = glob.glob(f\"/content/gdrive/MyDrive/CodersCrew/gsm_umts_lte_cdma/*.xlsx\")"
      ],
      "metadata": {
        "id": "a6U3cCnsKAoL"
      },
      "execution_count": 5,
      "outputs": []
    },
    {
      "cell_type": "code",
      "source": [
        "# files = glob.glob(f\"/content/gdrive/MyDrive/CodersCrew/gsm_umts_lte_cdma/*.xlsx\")\n",
        "# def create_df(files):\n",
        "#     for file in files:\n",
        "#         title = os.path.splitext(os.path.basename(file))[0].split()[0]\n",
        "#         # print(title)\n",
        "#         title == pd.read_excel(file)\n",
        "#     return title\n",
        "#         # print(os.path.splitext(os.path.basename(file)), os.path.dirname(file))\n"
      ],
      "metadata": {
        "id": "wb2Ama0tb6Q4"
      },
      "execution_count": null,
      "outputs": []
    },
    {
      "cell_type": "markdown",
      "source": [
        "###Create data dictionary from excell files"
      ],
      "metadata": {
        "id": "PvcovCkbvZ2S"
      }
    },
    {
      "cell_type": "code",
      "source": [
        "def create_dict_with_df(files):\n",
        "    dfs={}\n",
        "    for file in files:\n",
        "        title = os.path.splitext(os.path.basename(file))[0].split('_')[0].upper()\n",
        "        dfs[title] = pd.read_excel(file)\n",
        "    return dfs"
      ],
      "metadata": {
        "id": "j7oJz-USUjSp"
      },
      "execution_count": 6,
      "outputs": []
    },
    {
      "cell_type": "code",
      "source": [
        "dfs = create_dict_with_df(files)\n",
        "dfs.keys()"
      ],
      "metadata": {
        "colab": {
          "base_uri": "https://localhost:8080/"
        },
        "id": "BYfzDjkjCL9_",
        "outputId": "d9b2deaa-e451-4e0f-f606-e11c35d43747"
      },
      "execution_count": 7,
      "outputs": [
        {
          "output_type": "execute_result",
          "data": {
            "text/plain": [
              "dict_keys(['CDMA420', 'CDMA450', '5G1800', '5G2100', 'GSM1800', '5G2600', 'GSM900', 'LTE2600', 'LTE2100', 'LTE1800', 'LTE420', 'LTE450', 'LTE800', 'LTE900', 'UMTS1800', 'UMTS2100', 'UMTS900'])"
            ]
          },
          "metadata": {},
          "execution_count": 7
        }
      ]
    },
    {
      "cell_type": "code",
      "source": [
        "dfs['CDMA450'].info()"
      ],
      "metadata": {
        "colab": {
          "base_uri": "https://localhost:8080/"
        },
        "id": "dZFMPqRdCiCn",
        "outputId": "1e74f004-0a50-42f6-b048-25a18c21101d"
      },
      "execution_count": 8,
      "outputs": [
        {
          "output_type": "stream",
          "name": "stdout",
          "text": [
            "<class 'pandas.core.frame.DataFrame'>\n",
            "Index: 0 entries\n",
            "Data columns (total 10 columns):\n",
            " #   Column             Non-Null Count  Dtype \n",
            "---  ------             --------------  ----- \n",
            " 0   Nazwa Operatora    0 non-null      object\n",
            " 1   Nr Decyzji         0 non-null      object\n",
            " 2   Rodzaj decyzji     0 non-null      object\n",
            " 3   Data ważności      0 non-null      object\n",
            " 4   Dł geogr stacji    0 non-null      object\n",
            " 5   Szer geogr stacji  0 non-null      object\n",
            " 6   Miejscowość        0 non-null      object\n",
            " 7   Lokalizacja        0 non-null      object\n",
            " 8   IdStacji           0 non-null      object\n",
            " 9   TERYT              0 non-null      object\n",
            "dtypes: object(10)\n",
            "memory usage: 0.0+ bytes\n"
          ]
        }
      ]
    },
    {
      "cell_type": "code",
      "source": [
        "#check if all collumns are the same in each df\n",
        "all([len(dfs['LTE420'].columns.intersection(df.columns)) == dfs['LTE420'].shape[1] for df in dfs.values()])"
      ],
      "metadata": {
        "colab": {
          "base_uri": "https://localhost:8080/"
        },
        "id": "UX9nuqTgFfD_",
        "outputId": "28b3f78c-9750-4365-8f4f-64dcc0a98afe"
      },
      "execution_count": 9,
      "outputs": [
        {
          "output_type": "execute_result",
          "data": {
            "text/plain": [
              "True"
            ]
          },
          "metadata": {},
          "execution_count": 9
        }
      ]
    },
    {
      "cell_type": "code",
      "source": [
        "#add columns for RAT and Częstotliwość to join df\n",
        "for elem in dfs.keys():\n",
        "    dfs[elem].insert(0, 'RAT', ''.join([e for e in elem if not e.isdigit()] if elem[0] != '5' else \"5G\"))\n",
        "    dfs[elem].insert(1, 'Częstotliwość', ''.join([e for e in elem[2:] if e.isdigit()]))\n",
        "    "
      ],
      "metadata": {
        "id": "Vu0SvfOiKtTk"
      },
      "execution_count": 10,
      "outputs": []
    },
    {
      "cell_type": "markdown",
      "source": [
        "##LTE"
      ],
      "metadata": {
        "id": "JYH3JQjNQyGk"
      }
    },
    {
      "cell_type": "markdown",
      "source": [
        "###Create LTE data frame"
      ],
      "metadata": {
        "id": "_y101855y4w8"
      }
    },
    {
      "cell_type": "code",
      "source": [
        "#concatenate all LTE's df to one\n",
        "LTE_keys = [key for key in dfs.keys() if key.startswith('L')]\n",
        "LTE = pd.concat([dfs[key] for key in LTE_keys])\n"
      ],
      "metadata": {
        "id": "q9pCPyM05d7Q"
      },
      "execution_count": 11,
      "outputs": []
    },
    {
      "cell_type": "code",
      "source": [
        "LTE.info()"
      ],
      "metadata": {
        "colab": {
          "base_uri": "https://localhost:8080/"
        },
        "id": "tCR9h-GBDiZ6",
        "outputId": "4f3c03df-20e3-42c6-98bb-d30848bab503"
      },
      "execution_count": 12,
      "outputs": [
        {
          "output_type": "stream",
          "name": "stdout",
          "text": [
            "<class 'pandas.core.frame.DataFrame'>\n",
            "Int64Index: 96339 entries, 0 to 880\n",
            "Data columns (total 12 columns):\n",
            " #   Column             Non-Null Count  Dtype         \n",
            "---  ------             --------------  -----         \n",
            " 0   RAT                96339 non-null  object        \n",
            " 1   Częstotliwość      96339 non-null  object        \n",
            " 2   Nazwa Operatora    96339 non-null  object        \n",
            " 3   Nr Decyzji         96339 non-null  object        \n",
            " 4   Rodzaj decyzji     96339 non-null  object        \n",
            " 5   Data ważności      96339 non-null  datetime64[ns]\n",
            " 6   Dł geogr stacji    96339 non-null  object        \n",
            " 7   Szer geogr stacji  96339 non-null  object        \n",
            " 8   Miejscowość        96339 non-null  object        \n",
            " 9   Lokalizacja        96175 non-null  object        \n",
            " 10  IdStacji           96339 non-null  object        \n",
            " 11  TERYT              96339 non-null  int64         \n",
            "dtypes: datetime64[ns](1), int64(1), object(10)\n",
            "memory usage: 9.6+ MB\n"
          ]
        }
      ]
    },
    {
      "cell_type": "code",
      "source": [
        "LTE.shape"
      ],
      "metadata": {
        "colab": {
          "base_uri": "https://localhost:8080/"
        },
        "id": "CC7OQfHIYTWx",
        "outputId": "46903450-3455-4a21-9656-9c1b193ee235"
      },
      "execution_count": 13,
      "outputs": [
        {
          "output_type": "execute_result",
          "data": {
            "text/plain": [
              "(96339, 12)"
            ]
          },
          "metadata": {},
          "execution_count": 13
        }
      ]
    },
    {
      "cell_type": "code",
      "source": [
        "LTE.describe(include='all')"
      ],
      "metadata": {
        "colab": {
          "base_uri": "https://localhost:8080/",
          "height": 512
        },
        "id": "gFBN5ecwDkmF",
        "outputId": "2ec18805-0ceb-4319-9a56-fc07b117f17e"
      },
      "execution_count": 14,
      "outputs": [
        {
          "output_type": "stream",
          "name": "stderr",
          "text": [
            "/usr/local/lib/python3.7/dist-packages/ipykernel_launcher.py:1: FutureWarning: Treating datetime data as categorical rather than numeric in `.describe` is deprecated and will be removed in a future version of pandas. Specify `datetime_is_numeric=True` to silence this warning and adopt the future behavior now.\n",
            "  \"\"\"Entry point for launching an IPython kernel.\n"
          ]
        },
        {
          "output_type": "execute_result",
          "data": {
            "text/plain": [
              "          RAT Częstotliwość Nazwa Operatora           Nr Decyzji  \\\n",
              "count   96339         96339           96339                96339   \n",
              "unique      1             7               6                31310   \n",
              "top       LTE          1800   P4 Sp. z o.o.  MNET/15/48847/13/21   \n",
              "freq    96339         30094           37519                    5   \n",
              "first     NaN           NaN             NaN                  NaN   \n",
              "last      NaN           NaN             NaN                  NaN   \n",
              "mean      NaN           NaN             NaN                  NaN   \n",
              "std       NaN           NaN             NaN                  NaN   \n",
              "min       NaN           NaN             NaN                  NaN   \n",
              "25%       NaN           NaN             NaN                  NaN   \n",
              "50%       NaN           NaN             NaN                  NaN   \n",
              "75%       NaN           NaN             NaN                  NaN   \n",
              "max       NaN           NaN             NaN                  NaN   \n",
              "\n",
              "       Rodzaj decyzji        Data ważności Dł geogr stacji Szer geogr stacji  \\\n",
              "count           96339                96339           96339             96339   \n",
              "unique              2                  137           16102             12668   \n",
              "top               zmP  2023-08-31 00:00:00       21E01'42\"         52N13'59\"   \n",
              "freq            75890                 7399              49               107   \n",
              "first             NaN  2022-04-30 00:00:00             NaN               NaN   \n",
              "last              NaN  2032-03-31 00:00:00             NaN               NaN   \n",
              "mean              NaN                  NaN             NaN               NaN   \n",
              "std               NaN                  NaN             NaN               NaN   \n",
              "min               NaN                  NaN             NaN               NaN   \n",
              "25%               NaN                  NaN             NaN               NaN   \n",
              "50%               NaN                  NaN             NaN               NaN   \n",
              "75%               NaN                  NaN             NaN               NaN   \n",
              "max               NaN                  NaN             NaN               NaN   \n",
              "\n",
              "       Miejscowość Lokalizacja IdStacji         TERYT  \n",
              "count        96339       96175    96339  9.633900e+04  \n",
              "unique        7223       27345    29728           NaN  \n",
              "top       Warszawa           1  ZLT3003           NaN  \n",
              "freq          7426          68       12           NaN  \n",
              "first          NaN         NaN      NaN           NaN  \n",
              "last           NaN         NaN      NaN           NaN  \n",
              "mean           NaN         NaN      NaN  1.736602e+06  \n",
              "std            NaN         NaN      NaN  9.181927e+05  \n",
              "min            NaN         NaN      NaN  2.010110e+05  \n",
              "25%            NaN         NaN      NaN  1.061011e+06  \n",
              "50%            NaN         NaN      NaN  1.465011e+06  \n",
              "75%            NaN         NaN      NaN  2.469011e+06  \n",
              "max            NaN         NaN      NaN  3.263011e+06  "
            ],
            "text/html": [
              "\n",
              "  <div id=\"df-bfd8b331-2641-40bb-971b-a6233a4cde3a\">\n",
              "    <div class=\"colab-df-container\">\n",
              "      <div>\n",
              "<style scoped>\n",
              "    .dataframe tbody tr th:only-of-type {\n",
              "        vertical-align: middle;\n",
              "    }\n",
              "\n",
              "    .dataframe tbody tr th {\n",
              "        vertical-align: top;\n",
              "    }\n",
              "\n",
              "    .dataframe thead th {\n",
              "        text-align: right;\n",
              "    }\n",
              "</style>\n",
              "<table border=\"1\" class=\"dataframe\">\n",
              "  <thead>\n",
              "    <tr style=\"text-align: right;\">\n",
              "      <th></th>\n",
              "      <th>RAT</th>\n",
              "      <th>Częstotliwość</th>\n",
              "      <th>Nazwa Operatora</th>\n",
              "      <th>Nr Decyzji</th>\n",
              "      <th>Rodzaj decyzji</th>\n",
              "      <th>Data ważności</th>\n",
              "      <th>Dł geogr stacji</th>\n",
              "      <th>Szer geogr stacji</th>\n",
              "      <th>Miejscowość</th>\n",
              "      <th>Lokalizacja</th>\n",
              "      <th>IdStacji</th>\n",
              "      <th>TERYT</th>\n",
              "    </tr>\n",
              "  </thead>\n",
              "  <tbody>\n",
              "    <tr>\n",
              "      <th>count</th>\n",
              "      <td>96339</td>\n",
              "      <td>96339</td>\n",
              "      <td>96339</td>\n",
              "      <td>96339</td>\n",
              "      <td>96339</td>\n",
              "      <td>96339</td>\n",
              "      <td>96339</td>\n",
              "      <td>96339</td>\n",
              "      <td>96339</td>\n",
              "      <td>96175</td>\n",
              "      <td>96339</td>\n",
              "      <td>9.633900e+04</td>\n",
              "    </tr>\n",
              "    <tr>\n",
              "      <th>unique</th>\n",
              "      <td>1</td>\n",
              "      <td>7</td>\n",
              "      <td>6</td>\n",
              "      <td>31310</td>\n",
              "      <td>2</td>\n",
              "      <td>137</td>\n",
              "      <td>16102</td>\n",
              "      <td>12668</td>\n",
              "      <td>7223</td>\n",
              "      <td>27345</td>\n",
              "      <td>29728</td>\n",
              "      <td>NaN</td>\n",
              "    </tr>\n",
              "    <tr>\n",
              "      <th>top</th>\n",
              "      <td>LTE</td>\n",
              "      <td>1800</td>\n",
              "      <td>P4 Sp. z o.o.</td>\n",
              "      <td>MNET/15/48847/13/21</td>\n",
              "      <td>zmP</td>\n",
              "      <td>2023-08-31 00:00:00</td>\n",
              "      <td>21E01'42\"</td>\n",
              "      <td>52N13'59\"</td>\n",
              "      <td>Warszawa</td>\n",
              "      <td>1</td>\n",
              "      <td>ZLT3003</td>\n",
              "      <td>NaN</td>\n",
              "    </tr>\n",
              "    <tr>\n",
              "      <th>freq</th>\n",
              "      <td>96339</td>\n",
              "      <td>30094</td>\n",
              "      <td>37519</td>\n",
              "      <td>5</td>\n",
              "      <td>75890</td>\n",
              "      <td>7399</td>\n",
              "      <td>49</td>\n",
              "      <td>107</td>\n",
              "      <td>7426</td>\n",
              "      <td>68</td>\n",
              "      <td>12</td>\n",
              "      <td>NaN</td>\n",
              "    </tr>\n",
              "    <tr>\n",
              "      <th>first</th>\n",
              "      <td>NaN</td>\n",
              "      <td>NaN</td>\n",
              "      <td>NaN</td>\n",
              "      <td>NaN</td>\n",
              "      <td>NaN</td>\n",
              "      <td>2022-04-30 00:00:00</td>\n",
              "      <td>NaN</td>\n",
              "      <td>NaN</td>\n",
              "      <td>NaN</td>\n",
              "      <td>NaN</td>\n",
              "      <td>NaN</td>\n",
              "      <td>NaN</td>\n",
              "    </tr>\n",
              "    <tr>\n",
              "      <th>last</th>\n",
              "      <td>NaN</td>\n",
              "      <td>NaN</td>\n",
              "      <td>NaN</td>\n",
              "      <td>NaN</td>\n",
              "      <td>NaN</td>\n",
              "      <td>2032-03-31 00:00:00</td>\n",
              "      <td>NaN</td>\n",
              "      <td>NaN</td>\n",
              "      <td>NaN</td>\n",
              "      <td>NaN</td>\n",
              "      <td>NaN</td>\n",
              "      <td>NaN</td>\n",
              "    </tr>\n",
              "    <tr>\n",
              "      <th>mean</th>\n",
              "      <td>NaN</td>\n",
              "      <td>NaN</td>\n",
              "      <td>NaN</td>\n",
              "      <td>NaN</td>\n",
              "      <td>NaN</td>\n",
              "      <td>NaN</td>\n",
              "      <td>NaN</td>\n",
              "      <td>NaN</td>\n",
              "      <td>NaN</td>\n",
              "      <td>NaN</td>\n",
              "      <td>NaN</td>\n",
              "      <td>1.736602e+06</td>\n",
              "    </tr>\n",
              "    <tr>\n",
              "      <th>std</th>\n",
              "      <td>NaN</td>\n",
              "      <td>NaN</td>\n",
              "      <td>NaN</td>\n",
              "      <td>NaN</td>\n",
              "      <td>NaN</td>\n",
              "      <td>NaN</td>\n",
              "      <td>NaN</td>\n",
              "      <td>NaN</td>\n",
              "      <td>NaN</td>\n",
              "      <td>NaN</td>\n",
              "      <td>NaN</td>\n",
              "      <td>9.181927e+05</td>\n",
              "    </tr>\n",
              "    <tr>\n",
              "      <th>min</th>\n",
              "      <td>NaN</td>\n",
              "      <td>NaN</td>\n",
              "      <td>NaN</td>\n",
              "      <td>NaN</td>\n",
              "      <td>NaN</td>\n",
              "      <td>NaN</td>\n",
              "      <td>NaN</td>\n",
              "      <td>NaN</td>\n",
              "      <td>NaN</td>\n",
              "      <td>NaN</td>\n",
              "      <td>NaN</td>\n",
              "      <td>2.010110e+05</td>\n",
              "    </tr>\n",
              "    <tr>\n",
              "      <th>25%</th>\n",
              "      <td>NaN</td>\n",
              "      <td>NaN</td>\n",
              "      <td>NaN</td>\n",
              "      <td>NaN</td>\n",
              "      <td>NaN</td>\n",
              "      <td>NaN</td>\n",
              "      <td>NaN</td>\n",
              "      <td>NaN</td>\n",
              "      <td>NaN</td>\n",
              "      <td>NaN</td>\n",
              "      <td>NaN</td>\n",
              "      <td>1.061011e+06</td>\n",
              "    </tr>\n",
              "    <tr>\n",
              "      <th>50%</th>\n",
              "      <td>NaN</td>\n",
              "      <td>NaN</td>\n",
              "      <td>NaN</td>\n",
              "      <td>NaN</td>\n",
              "      <td>NaN</td>\n",
              "      <td>NaN</td>\n",
              "      <td>NaN</td>\n",
              "      <td>NaN</td>\n",
              "      <td>NaN</td>\n",
              "      <td>NaN</td>\n",
              "      <td>NaN</td>\n",
              "      <td>1.465011e+06</td>\n",
              "    </tr>\n",
              "    <tr>\n",
              "      <th>75%</th>\n",
              "      <td>NaN</td>\n",
              "      <td>NaN</td>\n",
              "      <td>NaN</td>\n",
              "      <td>NaN</td>\n",
              "      <td>NaN</td>\n",
              "      <td>NaN</td>\n",
              "      <td>NaN</td>\n",
              "      <td>NaN</td>\n",
              "      <td>NaN</td>\n",
              "      <td>NaN</td>\n",
              "      <td>NaN</td>\n",
              "      <td>2.469011e+06</td>\n",
              "    </tr>\n",
              "    <tr>\n",
              "      <th>max</th>\n",
              "      <td>NaN</td>\n",
              "      <td>NaN</td>\n",
              "      <td>NaN</td>\n",
              "      <td>NaN</td>\n",
              "      <td>NaN</td>\n",
              "      <td>NaN</td>\n",
              "      <td>NaN</td>\n",
              "      <td>NaN</td>\n",
              "      <td>NaN</td>\n",
              "      <td>NaN</td>\n",
              "      <td>NaN</td>\n",
              "      <td>3.263011e+06</td>\n",
              "    </tr>\n",
              "  </tbody>\n",
              "</table>\n",
              "</div>\n",
              "      <button class=\"colab-df-convert\" onclick=\"convertToInteractive('df-bfd8b331-2641-40bb-971b-a6233a4cde3a')\"\n",
              "              title=\"Convert this dataframe to an interactive table.\"\n",
              "              style=\"display:none;\">\n",
              "        \n",
              "  <svg xmlns=\"http://www.w3.org/2000/svg\" height=\"24px\"viewBox=\"0 0 24 24\"\n",
              "       width=\"24px\">\n",
              "    <path d=\"M0 0h24v24H0V0z\" fill=\"none\"/>\n",
              "    <path d=\"M18.56 5.44l.94 2.06.94-2.06 2.06-.94-2.06-.94-.94-2.06-.94 2.06-2.06.94zm-11 1L8.5 8.5l.94-2.06 2.06-.94-2.06-.94L8.5 2.5l-.94 2.06-2.06.94zm10 10l.94 2.06.94-2.06 2.06-.94-2.06-.94-.94-2.06-.94 2.06-2.06.94z\"/><path d=\"M17.41 7.96l-1.37-1.37c-.4-.4-.92-.59-1.43-.59-.52 0-1.04.2-1.43.59L10.3 9.45l-7.72 7.72c-.78.78-.78 2.05 0 2.83L4 21.41c.39.39.9.59 1.41.59.51 0 1.02-.2 1.41-.59l7.78-7.78 2.81-2.81c.8-.78.8-2.07 0-2.86zM5.41 20L4 18.59l7.72-7.72 1.47 1.35L5.41 20z\"/>\n",
              "  </svg>\n",
              "      </button>\n",
              "      \n",
              "  <style>\n",
              "    .colab-df-container {\n",
              "      display:flex;\n",
              "      flex-wrap:wrap;\n",
              "      gap: 12px;\n",
              "    }\n",
              "\n",
              "    .colab-df-convert {\n",
              "      background-color: #E8F0FE;\n",
              "      border: none;\n",
              "      border-radius: 50%;\n",
              "      cursor: pointer;\n",
              "      display: none;\n",
              "      fill: #1967D2;\n",
              "      height: 32px;\n",
              "      padding: 0 0 0 0;\n",
              "      width: 32px;\n",
              "    }\n",
              "\n",
              "    .colab-df-convert:hover {\n",
              "      background-color: #E2EBFA;\n",
              "      box-shadow: 0px 1px 2px rgba(60, 64, 67, 0.3), 0px 1px 3px 1px rgba(60, 64, 67, 0.15);\n",
              "      fill: #174EA6;\n",
              "    }\n",
              "\n",
              "    [theme=dark] .colab-df-convert {\n",
              "      background-color: #3B4455;\n",
              "      fill: #D2E3FC;\n",
              "    }\n",
              "\n",
              "    [theme=dark] .colab-df-convert:hover {\n",
              "      background-color: #434B5C;\n",
              "      box-shadow: 0px 1px 3px 1px rgba(0, 0, 0, 0.15);\n",
              "      filter: drop-shadow(0px 1px 2px rgba(0, 0, 0, 0.3));\n",
              "      fill: #FFFFFF;\n",
              "    }\n",
              "  </style>\n",
              "\n",
              "      <script>\n",
              "        const buttonEl =\n",
              "          document.querySelector('#df-bfd8b331-2641-40bb-971b-a6233a4cde3a button.colab-df-convert');\n",
              "        buttonEl.style.display =\n",
              "          google.colab.kernel.accessAllowed ? 'block' : 'none';\n",
              "\n",
              "        async function convertToInteractive(key) {\n",
              "          const element = document.querySelector('#df-bfd8b331-2641-40bb-971b-a6233a4cde3a');\n",
              "          const dataTable =\n",
              "            await google.colab.kernel.invokeFunction('convertToInteractive',\n",
              "                                                     [key], {});\n",
              "          if (!dataTable) return;\n",
              "\n",
              "          const docLinkHtml = 'Like what you see? Visit the ' +\n",
              "            '<a target=\"_blank\" href=https://colab.research.google.com/notebooks/data_table.ipynb>data table notebook</a>'\n",
              "            + ' to learn more about interactive tables.';\n",
              "          element.innerHTML = '';\n",
              "          dataTable['output_type'] = 'display_data';\n",
              "          await google.colab.output.renderOutput(dataTable, element);\n",
              "          const docLink = document.createElement('div');\n",
              "          docLink.innerHTML = docLinkHtml;\n",
              "          element.appendChild(docLink);\n",
              "        }\n",
              "      </script>\n",
              "    </div>\n",
              "  </div>\n",
              "  "
            ]
          },
          "metadata": {},
          "execution_count": 14
        }
      ]
    },
    {
      "cell_type": "code",
      "source": [
        "LTE.head()"
      ],
      "metadata": {
        "colab": {
          "base_uri": "https://localhost:8080/",
          "height": 354
        },
        "id": "PjN08z0xEaBm",
        "outputId": "adbcd499-f9cd-41ec-d418-bb1d057f3b82"
      },
      "execution_count": 16,
      "outputs": [
        {
          "output_type": "execute_result",
          "data": {
            "text/plain": [
              "   RAT Częstotliwość    Nazwa Operatora           Nr Decyzji Rodzaj decyzji  \\\n",
              "0  LTE          2600  AERO 2 Sp. z o.o.  LTE2600/5/0006/2/17            zmP   \n",
              "1  LTE          2600  AERO 2 Sp. z o.o.  LTE2600/5/0007/2/17            zmP   \n",
              "2  LTE          2600  AERO 2 Sp. z o.o.  LTE2600/5/0008/2/17            zmP   \n",
              "3  LTE          2600  AERO 2 Sp. z o.o.  LTE2600/5/0009/2/17            zmP   \n",
              "4  LTE          2600  AERO 2 Sp. z o.o.  LTE2600/5/0010/2/17            zmP   \n",
              "\n",
              "  Data ważności Dł geogr stacji Szer geogr stacji          Miejscowość  \\\n",
              "0    2023-03-31       20E00'48\"         51N31'48\"  Tomaszów Mazowiecki   \n",
              "1    2023-03-31       19E56'09\"         52N05'36\"               Łowicz   \n",
              "2    2023-03-31       18E43'33\"         51N35'31\"              Sieradz   \n",
              "3    2023-03-31       17E59'32\"         51N16'29\"                Kępno   \n",
              "4    2023-03-31       17E29'52\"         51N57'48\"              Jarocin   \n",
              "\n",
              "                             Lokalizacja IdStacji    TERYT  \n",
              "0  Prezydenta Ignacego Mościckiego 14\\18  BT30063  1016011  \n",
              "1                  Powstańców 1863 r. 12  BT30880  1005011  \n",
              "2                       Jana Pawła II 28  BT31183  1014011  \n",
              "3                         dz. nr 2044\\20  BT32993  3008033  \n",
              "4                              Węglowa 1  BT33131  3006023  "
            ],
            "text/html": [
              "\n",
              "  <div id=\"df-89f8095a-528b-49ef-a3ab-bf1e04076446\">\n",
              "    <div class=\"colab-df-container\">\n",
              "      <div>\n",
              "<style scoped>\n",
              "    .dataframe tbody tr th:only-of-type {\n",
              "        vertical-align: middle;\n",
              "    }\n",
              "\n",
              "    .dataframe tbody tr th {\n",
              "        vertical-align: top;\n",
              "    }\n",
              "\n",
              "    .dataframe thead th {\n",
              "        text-align: right;\n",
              "    }\n",
              "</style>\n",
              "<table border=\"1\" class=\"dataframe\">\n",
              "  <thead>\n",
              "    <tr style=\"text-align: right;\">\n",
              "      <th></th>\n",
              "      <th>RAT</th>\n",
              "      <th>Częstotliwość</th>\n",
              "      <th>Nazwa Operatora</th>\n",
              "      <th>Nr Decyzji</th>\n",
              "      <th>Rodzaj decyzji</th>\n",
              "      <th>Data ważności</th>\n",
              "      <th>Dł geogr stacji</th>\n",
              "      <th>Szer geogr stacji</th>\n",
              "      <th>Miejscowość</th>\n",
              "      <th>Lokalizacja</th>\n",
              "      <th>IdStacji</th>\n",
              "      <th>TERYT</th>\n",
              "    </tr>\n",
              "  </thead>\n",
              "  <tbody>\n",
              "    <tr>\n",
              "      <th>0</th>\n",
              "      <td>LTE</td>\n",
              "      <td>2600</td>\n",
              "      <td>AERO 2 Sp. z o.o.</td>\n",
              "      <td>LTE2600/5/0006/2/17</td>\n",
              "      <td>zmP</td>\n",
              "      <td>2023-03-31</td>\n",
              "      <td>20E00'48\"</td>\n",
              "      <td>51N31'48\"</td>\n",
              "      <td>Tomaszów Mazowiecki</td>\n",
              "      <td>Prezydenta Ignacego Mościckiego 14\\18</td>\n",
              "      <td>BT30063</td>\n",
              "      <td>1016011</td>\n",
              "    </tr>\n",
              "    <tr>\n",
              "      <th>1</th>\n",
              "      <td>LTE</td>\n",
              "      <td>2600</td>\n",
              "      <td>AERO 2 Sp. z o.o.</td>\n",
              "      <td>LTE2600/5/0007/2/17</td>\n",
              "      <td>zmP</td>\n",
              "      <td>2023-03-31</td>\n",
              "      <td>19E56'09\"</td>\n",
              "      <td>52N05'36\"</td>\n",
              "      <td>Łowicz</td>\n",
              "      <td>Powstańców 1863 r. 12</td>\n",
              "      <td>BT30880</td>\n",
              "      <td>1005011</td>\n",
              "    </tr>\n",
              "    <tr>\n",
              "      <th>2</th>\n",
              "      <td>LTE</td>\n",
              "      <td>2600</td>\n",
              "      <td>AERO 2 Sp. z o.o.</td>\n",
              "      <td>LTE2600/5/0008/2/17</td>\n",
              "      <td>zmP</td>\n",
              "      <td>2023-03-31</td>\n",
              "      <td>18E43'33\"</td>\n",
              "      <td>51N35'31\"</td>\n",
              "      <td>Sieradz</td>\n",
              "      <td>Jana Pawła II 28</td>\n",
              "      <td>BT31183</td>\n",
              "      <td>1014011</td>\n",
              "    </tr>\n",
              "    <tr>\n",
              "      <th>3</th>\n",
              "      <td>LTE</td>\n",
              "      <td>2600</td>\n",
              "      <td>AERO 2 Sp. z o.o.</td>\n",
              "      <td>LTE2600/5/0009/2/17</td>\n",
              "      <td>zmP</td>\n",
              "      <td>2023-03-31</td>\n",
              "      <td>17E59'32\"</td>\n",
              "      <td>51N16'29\"</td>\n",
              "      <td>Kępno</td>\n",
              "      <td>dz. nr 2044\\20</td>\n",
              "      <td>BT32993</td>\n",
              "      <td>3008033</td>\n",
              "    </tr>\n",
              "    <tr>\n",
              "      <th>4</th>\n",
              "      <td>LTE</td>\n",
              "      <td>2600</td>\n",
              "      <td>AERO 2 Sp. z o.o.</td>\n",
              "      <td>LTE2600/5/0010/2/17</td>\n",
              "      <td>zmP</td>\n",
              "      <td>2023-03-31</td>\n",
              "      <td>17E29'52\"</td>\n",
              "      <td>51N57'48\"</td>\n",
              "      <td>Jarocin</td>\n",
              "      <td>Węglowa 1</td>\n",
              "      <td>BT33131</td>\n",
              "      <td>3006023</td>\n",
              "    </tr>\n",
              "  </tbody>\n",
              "</table>\n",
              "</div>\n",
              "      <button class=\"colab-df-convert\" onclick=\"convertToInteractive('df-89f8095a-528b-49ef-a3ab-bf1e04076446')\"\n",
              "              title=\"Convert this dataframe to an interactive table.\"\n",
              "              style=\"display:none;\">\n",
              "        \n",
              "  <svg xmlns=\"http://www.w3.org/2000/svg\" height=\"24px\"viewBox=\"0 0 24 24\"\n",
              "       width=\"24px\">\n",
              "    <path d=\"M0 0h24v24H0V0z\" fill=\"none\"/>\n",
              "    <path d=\"M18.56 5.44l.94 2.06.94-2.06 2.06-.94-2.06-.94-.94-2.06-.94 2.06-2.06.94zm-11 1L8.5 8.5l.94-2.06 2.06-.94-2.06-.94L8.5 2.5l-.94 2.06-2.06.94zm10 10l.94 2.06.94-2.06 2.06-.94-2.06-.94-.94-2.06-.94 2.06-2.06.94z\"/><path d=\"M17.41 7.96l-1.37-1.37c-.4-.4-.92-.59-1.43-.59-.52 0-1.04.2-1.43.59L10.3 9.45l-7.72 7.72c-.78.78-.78 2.05 0 2.83L4 21.41c.39.39.9.59 1.41.59.51 0 1.02-.2 1.41-.59l7.78-7.78 2.81-2.81c.8-.78.8-2.07 0-2.86zM5.41 20L4 18.59l7.72-7.72 1.47 1.35L5.41 20z\"/>\n",
              "  </svg>\n",
              "      </button>\n",
              "      \n",
              "  <style>\n",
              "    .colab-df-container {\n",
              "      display:flex;\n",
              "      flex-wrap:wrap;\n",
              "      gap: 12px;\n",
              "    }\n",
              "\n",
              "    .colab-df-convert {\n",
              "      background-color: #E8F0FE;\n",
              "      border: none;\n",
              "      border-radius: 50%;\n",
              "      cursor: pointer;\n",
              "      display: none;\n",
              "      fill: #1967D2;\n",
              "      height: 32px;\n",
              "      padding: 0 0 0 0;\n",
              "      width: 32px;\n",
              "    }\n",
              "\n",
              "    .colab-df-convert:hover {\n",
              "      background-color: #E2EBFA;\n",
              "      box-shadow: 0px 1px 2px rgba(60, 64, 67, 0.3), 0px 1px 3px 1px rgba(60, 64, 67, 0.15);\n",
              "      fill: #174EA6;\n",
              "    }\n",
              "\n",
              "    [theme=dark] .colab-df-convert {\n",
              "      background-color: #3B4455;\n",
              "      fill: #D2E3FC;\n",
              "    }\n",
              "\n",
              "    [theme=dark] .colab-df-convert:hover {\n",
              "      background-color: #434B5C;\n",
              "      box-shadow: 0px 1px 3px 1px rgba(0, 0, 0, 0.15);\n",
              "      filter: drop-shadow(0px 1px 2px rgba(0, 0, 0, 0.3));\n",
              "      fill: #FFFFFF;\n",
              "    }\n",
              "  </style>\n",
              "\n",
              "      <script>\n",
              "        const buttonEl =\n",
              "          document.querySelector('#df-89f8095a-528b-49ef-a3ab-bf1e04076446 button.colab-df-convert');\n",
              "        buttonEl.style.display =\n",
              "          google.colab.kernel.accessAllowed ? 'block' : 'none';\n",
              "\n",
              "        async function convertToInteractive(key) {\n",
              "          const element = document.querySelector('#df-89f8095a-528b-49ef-a3ab-bf1e04076446');\n",
              "          const dataTable =\n",
              "            await google.colab.kernel.invokeFunction('convertToInteractive',\n",
              "                                                     [key], {});\n",
              "          if (!dataTable) return;\n",
              "\n",
              "          const docLinkHtml = 'Like what you see? Visit the ' +\n",
              "            '<a target=\"_blank\" href=https://colab.research.google.com/notebooks/data_table.ipynb>data table notebook</a>'\n",
              "            + ' to learn more about interactive tables.';\n",
              "          element.innerHTML = '';\n",
              "          dataTable['output_type'] = 'display_data';\n",
              "          await google.colab.output.renderOutput(dataTable, element);\n",
              "          const docLink = document.createElement('div');\n",
              "          docLink.innerHTML = docLinkHtml;\n",
              "          element.appendChild(docLink);\n",
              "        }\n",
              "      </script>\n",
              "    </div>\n",
              "  </div>\n",
              "  "
            ]
          },
          "metadata": {},
          "execution_count": 16
        }
      ]
    },
    {
      "cell_type": "code",
      "source": [
        "#czy są puste komórki\n",
        "LTE.isnull().sum()"
      ],
      "metadata": {
        "colab": {
          "base_uri": "https://localhost:8080/"
        },
        "id": "VB2KDqJYBZ_W",
        "outputId": "6c967e3e-0066-4a39-8941-4822050339fd"
      },
      "execution_count": 17,
      "outputs": [
        {
          "output_type": "execute_result",
          "data": {
            "text/plain": [
              "RAT                    0\n",
              "Częstotliwość          0\n",
              "Nazwa Operatora        0\n",
              "Nr Decyzji             0\n",
              "Rodzaj decyzji         0\n",
              "Data ważności          0\n",
              "Dł geogr stacji        0\n",
              "Szer geogr stacji      0\n",
              "Miejscowość            0\n",
              "Lokalizacja          164\n",
              "IdStacji               0\n",
              "TERYT                  0\n",
              "dtype: int64"
            ]
          },
          "metadata": {},
          "execution_count": 17
        }
      ]
    },
    {
      "cell_type": "code",
      "source": [
        "LTE['Lokalizacja']"
      ],
      "metadata": {
        "colab": {
          "base_uri": "https://localhost:8080/"
        },
        "id": "DDXkTOSSDOlu",
        "outputId": "37d8f7c2-3837-4632-8f94-34080ac90699"
      },
      "execution_count": 18,
      "outputs": [
        {
          "output_type": "execute_result",
          "data": {
            "text/plain": [
              "0      Prezydenta Ignacego Mościckiego 14\\18\n",
              "1                      Powstańców 1863 r. 12\n",
              "2                           Jana Pawła II 28\n",
              "3                             dz. nr 2044\\20\n",
              "4                                  Węglowa 1\n",
              "                       ...                  \n",
              "876                                      295\n",
              "877                                      110\n",
              "878                                       6D\n",
              "879                                   4455/2\n",
              "880                                  2, 7/22\n",
              "Name: Lokalizacja, Length: 96339, dtype: object"
            ]
          },
          "metadata": {},
          "execution_count": 18
        }
      ]
    },
    {
      "cell_type": "markdown",
      "source": [
        "###zmiana gps na koordynaty geograficzne"
      ],
      "metadata": {
        "id": "JmNZ357aJCxb"
      }
    },
    {
      "cell_type": "code",
      "source": [
        "dlugosc = LTE['Dł geogr stacji'][0].iloc[0]\n",
        "dlugosc\n",
        "szerokosc = LTE['Szer geogr stacji'][0].iloc[0]\n",
        "szerokosc\n",
        "# [i for i in dlugosc if i.isdigit()]"
      ],
      "metadata": {
        "colab": {
          "base_uri": "https://localhost:8080/",
          "height": 35
        },
        "id": "utwKw6vBaWR2",
        "outputId": "819dc0af-1d7b-4220-b333-6c0b210c772b"
      },
      "execution_count": null,
      "outputs": [
        {
          "output_type": "execute_result",
          "data": {
            "text/plain": [
              "'50N43\\'39\"'"
            ],
            "application/vnd.google.colaboratory.intrinsic+json": {
              "type": "string"
            }
          },
          "metadata": {},
          "execution_count": 16
        }
      ]
    },
    {
      "cell_type": "code",
      "source": [
        "LTE['Dł geogr stacji']= [re.split(r\"(\\d+\\D+)\", elem) for elem in [elem.replace('\\'',' ').replace('\"',' ') for elem in LTE['Dł geogr stacji']]]\n"
      ],
      "metadata": {
        "id": "qqXTZmEcou9e"
      },
      "execution_count": null,
      "outputs": []
    },
    {
      "cell_type": "code",
      "source": [
        "LTE['Dł geogr stacji'] = [int(elem[1][:-1])+int(elem[3])/60.0 + int(elem[5])/3600.0 for elem in LTE['Dł geogr stacji'] ]"
      ],
      "metadata": {
        "id": "lqL6HeVZq8rM"
      },
      "execution_count": null,
      "outputs": []
    },
    {
      "cell_type": "code",
      "source": [
        "LTE['Dł geogr stacji']"
      ],
      "metadata": {
        "colab": {
          "base_uri": "https://localhost:8080/"
        },
        "id": "7R3oJszRriqe",
        "outputId": "35462105-0c8b-4e61-e24f-4b38ff63de01"
      },
      "execution_count": null,
      "outputs": [
        {
          "output_type": "execute_result",
          "data": {
            "text/plain": [
              "0        20.538889\n",
              "1        20.349444\n",
              "2        22.133889\n",
              "3        23.125556\n",
              "4        23.761944\n",
              "           ...    \n",
              "22628    18.845556\n",
              "22629    23.177500\n",
              "22630    22.993056\n",
              "22631    22.977778\n",
              "22632    20.995278\n",
              "Name: Dł geogr stacji, Length: 95723, dtype: float64"
            ]
          },
          "metadata": {},
          "execution_count": 21
        }
      ]
    },
    {
      "cell_type": "code",
      "source": [
        "LTE['Szer geogr stacji']"
      ],
      "metadata": {
        "colab": {
          "base_uri": "https://localhost:8080/"
        },
        "id": "9cKQ87I2uqqZ",
        "outputId": "b431ad47-efbd-41a1-f6a3-27eb0fd2707b"
      },
      "execution_count": null,
      "outputs": [
        {
          "output_type": "execute_result",
          "data": {
            "text/plain": [
              "0        50N43'39\"\n",
              "1        50N28'43\"\n",
              "2        51N32'47\"\n",
              "3        51N18'42\"\n",
              "4        50N54'17\"\n",
              "           ...    \n",
              "22628    51N36'16\"\n",
              "22629    53N07'22\"\n",
              "22630    53N09'43\"\n",
              "22631    53N50'37\"\n",
              "22632    52N13'45\"\n",
              "Name: Szer geogr stacji, Length: 95723, dtype: object"
            ]
          },
          "metadata": {},
          "execution_count": 22
        }
      ]
    },
    {
      "cell_type": "code",
      "source": [
        "LTE['Szer geogr stacji']= [re.split(r\"(\\d+\\D+)\", elem) for elem in [elem.replace('\\'',' ').replace('\"',' ') for elem in LTE['Szer geogr stacji']]]\n",
        "LTE['Szer geogr stacji'] = [int(elem[1][:-1])+int(elem[3])/60.0 + int(elem[5])/3600.0 for elem in LTE['Szer geogr stacji']]"
      ],
      "metadata": {
        "id": "t1Er5trLuMTv"
      },
      "execution_count": null,
      "outputs": []
    },
    {
      "cell_type": "code",
      "source": [
        "LTE['Szer geogr stacji']"
      ],
      "metadata": {
        "colab": {
          "base_uri": "https://localhost:8080/"
        },
        "id": "Fhvmy4hPDr2Y",
        "outputId": "67f404e1-fbd1-4889-f3b1-dbb1e9e7563a"
      },
      "execution_count": null,
      "outputs": [
        {
          "output_type": "execute_result",
          "data": {
            "text/plain": [
              "0        50.727500\n",
              "1        50.478611\n",
              "2        51.546389\n",
              "3        51.311667\n",
              "4        50.904722\n",
              "           ...    \n",
              "22628    51.604444\n",
              "22629    53.122778\n",
              "22630    53.161944\n",
              "22631    53.843611\n",
              "22632    52.229167\n",
              "Name: Szer geogr stacji, Length: 95723, dtype: float64"
            ]
          },
          "metadata": {},
          "execution_count": 27
        }
      ]
    },
    {
      "cell_type": "code",
      "source": [
        "def conversion(gps):\n",
        "    gps = [re.split(r\"(\\d+\\D+)\", elem) for elem in [elem.replace('\\'',' ').replace('\"',' ') for elem in gps]]\n",
        "    gps = [int(elem[1][:-1])+int(elem[3])/60.0 + int(elem[5])/3600.0 for elem in gps]\n",
        "    return gps"
      ],
      "metadata": {
        "id": "CLMvrhOeYvFf"
      },
      "execution_count": 19,
      "outputs": []
    },
    {
      "cell_type": "code",
      "source": [
        "LTE['Szer geogr stacji'] = conversion(LTE['Szer geogr stacji'])"
      ],
      "metadata": {
        "id": "A7Zj7lH3EkMI"
      },
      "execution_count": 20,
      "outputs": []
    },
    {
      "cell_type": "code",
      "source": [
        "LTE['Dł geogr stacji'] = conversion(LTE['Dł geogr stacji'])\n",
        "LTE['Dł geogr stacji']"
      ],
      "metadata": {
        "colab": {
          "base_uri": "https://localhost:8080/"
        },
        "id": "cCJK7FJ4EtKA",
        "outputId": "d88141ec-2b34-4b06-97f5-53e403c56a4e"
      },
      "execution_count": 21,
      "outputs": [
        {
          "output_type": "execute_result",
          "data": {
            "text/plain": [
              "0      20.013333\n",
              "1      19.935833\n",
              "2      18.725833\n",
              "3      17.992222\n",
              "4      17.497778\n",
              "         ...    \n",
              "876    22.471389\n",
              "877    22.805278\n",
              "878    22.680278\n",
              "879    19.858889\n",
              "880    16.892778\n",
              "Name: Dł geogr stacji, Length: 96339, dtype: float64"
            ]
          },
          "metadata": {},
          "execution_count": 21
        }
      ]
    },
    {
      "cell_type": "markdown",
      "source": [
        "###mapy z LTE RAT"
      ],
      "metadata": {
        "id": "dYqpJ0ISIX3O"
      }
    },
    {
      "cell_type": "code",
      "source": [
        "LTE.plot(x='Dł geogr stacji', y='Szer geogr stacji', kind=\"scatter\", colormap=\"YlOrRd\")"
      ],
      "metadata": {
        "colab": {
          "base_uri": "https://localhost:8080/",
          "height": 296
        },
        "id": "XyPYvuD3FMBK",
        "outputId": "73a7139e-fbd4-4091-bcb3-0928b29fe6f2"
      },
      "execution_count": 22,
      "outputs": [
        {
          "output_type": "execute_result",
          "data": {
            "text/plain": [
              "<matplotlib.axes._subplots.AxesSubplot at 0x7f9aaa178250>"
            ]
          },
          "metadata": {},
          "execution_count": 22
        },
        {
          "output_type": "display_data",
          "data": {
            "text/plain": [
              "<Figure size 432x288 with 1 Axes>"
            ],
            "image/png": "[encoded data removed]"
          },
          "metadata": {
            "needs_background": "light"
          }
        }
      ]
    },
    {
      "cell_type": "code",
      "source": [
        "countries = gpd.read_file(\n",
        "               gpd.datasets.get_path(\"naturalearth_lowres\"))\n",
        "countries.head()"
      ],
      "metadata": {
        "colab": {
          "base_uri": "https://localhost:8080/",
          "height": 206
        },
        "id": "XYSuh3qRUM64",
        "outputId": "9d4bc745-aa8d-48ff-ef7d-2416810d18e3"
      },
      "execution_count": 23,
      "outputs": [
        {
          "output_type": "execute_result",
          "data": {
            "text/plain": [
              "     pop_est      continent                      name iso_a3  gdp_md_est  \\\n",
              "0     920938        Oceania                      Fiji    FJI      8374.0   \n",
              "1   53950935         Africa                  Tanzania    TZA    150600.0   \n",
              "2     603253         Africa                 W. Sahara    ESH       906.5   \n",
              "3   35623680  North America                    Canada    CAN   1674000.0   \n",
              "4  326625791  North America  United States of America    USA  18560000.0   \n",
              "\n",
              "                                            geometry  \n",
              "0  MULTIPOLYGON (((180.00000 -16.06713, 180.00000...  \n",
              "1  POLYGON ((33.90371 -0.95000, 34.07262 -1.05982...  \n",
              "2  POLYGON ((-8.66559 27.65643, -8.66512 27.58948...  \n",
              "3  MULTIPOLYGON (((-122.84000 49.00000, -122.9742...  \n",
              "4  MULTIPOLYGON (((-122.84000 49.00000, -120.0000...  "
            ],
            "text/html": [
              "\n",
              "  <div id=\"df-6922e177-7538-4062-bb86-d421c60429c9\">\n",
              "    <div class=\"colab-df-container\">\n",
              "      <div>\n",
              "<style scoped>\n",
              "    .dataframe tbody tr th:only-of-type {\n",
              "        vertical-align: middle;\n",
              "    }\n",
              "\n",
              "    .dataframe tbody tr th {\n",
              "        vertical-align: top;\n",
              "    }\n",
              "\n",
              "    .dataframe thead th {\n",
              "        text-align: right;\n",
              "    }\n",
              "</style>\n",
              "<table border=\"1\" class=\"dataframe\">\n",
              "  <thead>\n",
              "    <tr style=\"text-align: right;\">\n",
              "      <th></th>\n",
              "      <th>pop_est</th>\n",
              "      <th>continent</th>\n",
              "      <th>name</th>\n",
              "      <th>iso_a3</th>\n",
              "      <th>gdp_md_est</th>\n",
              "      <th>geometry</th>\n",
              "    </tr>\n",
              "  </thead>\n",
              "  <tbody>\n",
              "    <tr>\n",
              "      <th>0</th>\n",
              "      <td>920938</td>\n",
              "      <td>Oceania</td>\n",
              "      <td>Fiji</td>\n",
              "      <td>FJI</td>\n",
              "      <td>8374.0</td>\n",
              "      <td>MULTIPOLYGON (((180.00000 -16.06713, 180.00000...</td>\n",
              "    </tr>\n",
              "    <tr>\n",
              "      <th>1</th>\n",
              "      <td>53950935</td>\n",
              "      <td>Africa</td>\n",
              "      <td>Tanzania</td>\n",
              "      <td>TZA</td>\n",
              "      <td>150600.0</td>\n",
              "      <td>POLYGON ((33.90371 -0.95000, 34.07262 -1.05982...</td>\n",
              "    </tr>\n",
              "    <tr>\n",
              "      <th>2</th>\n",
              "      <td>603253</td>\n",
              "      <td>Africa</td>\n",
              "      <td>W. Sahara</td>\n",
              "      <td>ESH</td>\n",
              "      <td>906.5</td>\n",
              "      <td>POLYGON ((-8.66559 27.65643, -8.66512 27.58948...</td>\n",
              "    </tr>\n",
              "    <tr>\n",
              "      <th>3</th>\n",
              "      <td>35623680</td>\n",
              "      <td>North America</td>\n",
              "      <td>Canada</td>\n",
              "      <td>CAN</td>\n",
              "      <td>1674000.0</td>\n",
              "      <td>MULTIPOLYGON (((-122.84000 49.00000, -122.9742...</td>\n",
              "    </tr>\n",
              "    <tr>\n",
              "      <th>4</th>\n",
              "      <td>326625791</td>\n",
              "      <td>North America</td>\n",
              "      <td>United States of America</td>\n",
              "      <td>USA</td>\n",
              "      <td>18560000.0</td>\n",
              "      <td>MULTIPOLYGON (((-122.84000 49.00000, -120.0000...</td>\n",
              "    </tr>\n",
              "  </tbody>\n",
              "</table>\n",
              "</div>\n",
              "      <button class=\"colab-df-convert\" onclick=\"convertToInteractive('df-6922e177-7538-4062-bb86-d421c60429c9')\"\n",
              "              title=\"Convert this dataframe to an interactive table.\"\n",
              "              style=\"display:none;\">\n",
              "        \n",
              "  <svg xmlns=\"http://www.w3.org/2000/svg\" height=\"24px\"viewBox=\"0 0 24 24\"\n",
              "       width=\"24px\">\n",
              "    <path d=\"M0 0h24v24H0V0z\" fill=\"none\"/>\n",
              "    <path d=\"M18.56 5.44l.94 2.06.94-2.06 2.06-.94-2.06-.94-.94-2.06-.94 2.06-2.06.94zm-11 1L8.5 8.5l.94-2.06 2.06-.94-2.06-.94L8.5 2.5l-.94 2.06-2.06.94zm10 10l.94 2.06.94-2.06 2.06-.94-2.06-.94-.94-2.06-.94 2.06-2.06.94z\"/><path d=\"M17.41 7.96l-1.37-1.37c-.4-.4-.92-.59-1.43-.59-.52 0-1.04.2-1.43.59L10.3 9.45l-7.72 7.72c-.78.78-.78 2.05 0 2.83L4 21.41c.39.39.9.59 1.41.59.51 0 1.02-.2 1.41-.59l7.78-7.78 2.81-2.81c.8-.78.8-2.07 0-2.86zM5.41 20L4 18.59l7.72-7.72 1.47 1.35L5.41 20z\"/>\n",
              "  </svg>\n",
              "      </button>\n",
              "      \n",
              "  <style>\n",
              "    .colab-df-container {\n",
              "      display:flex;\n",
              "      flex-wrap:wrap;\n",
              "      gap: 12px;\n",
              "    }\n",
              "\n",
              "    .colab-df-convert {\n",
              "      background-color: #E8F0FE;\n",
              "      border: none;\n",
              "      border-radius: 50%;\n",
              "      cursor: pointer;\n",
              "      display: none;\n",
              "      fill: #1967D2;\n",
              "      height: 32px;\n",
              "      padding: 0 0 0 0;\n",
              "      width: 32px;\n",
              "    }\n",
              "\n",
              "    .colab-df-convert:hover {\n",
              "      background-color: #E2EBFA;\n",
              "      box-shadow: 0px 1px 2px rgba(60, 64, 67, 0.3), 0px 1px 3px 1px rgba(60, 64, 67, 0.15);\n",
              "      fill: #174EA6;\n",
              "    }\n",
              "\n",
              "    [theme=dark] .colab-df-convert {\n",
              "      background-color: #3B4455;\n",
              "      fill: #D2E3FC;\n",
              "    }\n",
              "\n",
              "    [theme=dark] .colab-df-convert:hover {\n",
              "      background-color: #434B5C;\n",
              "      box-shadow: 0px 1px 3px 1px rgba(0, 0, 0, 0.15);\n",
              "      filter: drop-shadow(0px 1px 2px rgba(0, 0, 0, 0.3));\n",
              "      fill: #FFFFFF;\n",
              "    }\n",
              "  </style>\n",
              "\n",
              "      <script>\n",
              "        const buttonEl =\n",
              "          document.querySelector('#df-6922e177-7538-4062-bb86-d421c60429c9 button.colab-df-convert');\n",
              "        buttonEl.style.display =\n",
              "          google.colab.kernel.accessAllowed ? 'block' : 'none';\n",
              "\n",
              "        async function convertToInteractive(key) {\n",
              "          const element = document.querySelector('#df-6922e177-7538-4062-bb86-d421c60429c9');\n",
              "          const dataTable =\n",
              "            await google.colab.kernel.invokeFunction('convertToInteractive',\n",
              "                                                     [key], {});\n",
              "          if (!dataTable) return;\n",
              "\n",
              "          const docLinkHtml = 'Like what you see? Visit the ' +\n",
              "            '<a target=\"_blank\" href=https://colab.research.google.com/notebooks/data_table.ipynb>data table notebook</a>'\n",
              "            + ' to learn more about interactive tables.';\n",
              "          element.innerHTML = '';\n",
              "          dataTable['output_type'] = 'display_data';\n",
              "          await google.colab.output.renderOutput(dataTable, element);\n",
              "          const docLink = document.createElement('div');\n",
              "          docLink.innerHTML = docLinkHtml;\n",
              "          element.appendChild(docLink);\n",
              "        }\n",
              "      </script>\n",
              "    </div>\n",
              "  </div>\n",
              "  "
            ]
          },
          "metadata": {},
          "execution_count": 23
        }
      ]
    },
    {
      "cell_type": "code",
      "source": [
        "countries.plot(color=\"lightgrey\")"
      ],
      "metadata": {
        "colab": {
          "base_uri": "https://localhost:8080/",
          "height": 227
        },
        "id": "uxjWS_kNVNFx",
        "outputId": "2179e223-3c66-4c0c-c171-6e4a0af6d8e7"
      },
      "execution_count": 24,
      "outputs": [
        {
          "output_type": "execute_result",
          "data": {
            "text/plain": [
              "<matplotlib.axes._subplots.AxesSubplot at 0x7f9aaa134f50>"
            ]
          },
          "metadata": {},
          "execution_count": 24
        },
        {
          "output_type": "display_data",
          "data": {
            "text/plain": [
              "<Figure size 432x288 with 1 Axes>"
            ],
            "image/png": "[encoded data removed]"
          },
          "metadata": {
            "needs_background": "light"
          }
        }
      ]
    },
    {
      "cell_type": "code",
      "source": [
        "countries[countries[\"name\"] == \"Poland\"].plot(color=\"lightgrey\")"
      ],
      "metadata": {
        "colab": {
          "base_uri": "https://localhost:8080/",
          "height": 282
        },
        "id": "MdeeQD67VRTf",
        "outputId": "2669e8ca-c8b4-4bbb-e046-7f0c0c5f5d1d"
      },
      "execution_count": 25,
      "outputs": [
        {
          "output_type": "execute_result",
          "data": {
            "text/plain": [
              "<matplotlib.axes._subplots.AxesSubplot at 0x7f9aaa2ec950>"
            ]
          },
          "metadata": {},
          "execution_count": 25
        },
        {
          "output_type": "display_data",
          "data": {
            "text/plain": [
              "<Figure size 432x288 with 1 Axes>"
            ],
            "image/png": "[encoded data removed]"
          },
          "metadata": {
            "needs_background": "light"
          }
        }
      ]
    },
    {
      "cell_type": "code",
      "source": [
        "def create_map_with_RATs(df, title):\n",
        "    # initialize an axis\n",
        "    fig, ax = plt.subplots(figsize=(8,6))\n",
        "    # plot map on axis\n",
        "    countries = gpd.read_file(  \n",
        "        gpd.datasets.get_path(\"naturalearth_lowres\"))\n",
        "    countries[countries[\"name\"] == \"Poland\"].plot(color=\"lightgrey\",\n",
        "                                                    ax=ax)\n",
        "\n",
        "    # plot points\n",
        "    df.plot(x='Dł geogr stacji', y='Szer geogr stacji', kind=\"scatter\", colormap=\"YlOrRd\", \n",
        "            title=title, \n",
        "            ax=ax)\n",
        "    # add grid\n",
        "    ax.grid(b=True, alpha=0.5)\n",
        "    return plt.show()"
      ],
      "metadata": {
        "id": "mZFz4aTaVaft"
      },
      "execution_count": 43,
      "outputs": []
    },
    {
      "cell_type": "code",
      "source": [
        "create_map_with_RATs(LTE, 'LTE RATs in Poland')"
      ],
      "metadata": {
        "colab": {
          "base_uri": "https://localhost:8080/",
          "height": 404
        },
        "id": "fK9Aq6BkC8-H",
        "outputId": "8fc647ef-57cd-4c23-af53-868d6fd2c0eb"
      },
      "execution_count": 44,
      "outputs": [
        {
          "output_type": "display_data",
          "data": {
            "text/plain": [
              "<Figure size 576x432 with 1 Axes>"
            ],
            "image/png": "[encoded data removed]"
          },
          "metadata": {
            "needs_background": "light"
          }
        }
      ]
    },
    {
      "cell_type": "code",
      "source": [
        "#gminy miejskie\n",
        "town_municipality_LTE=LTE[LTE['TERYT'].apply(str).str.endswith('1')].reset_index()\n",
        "\n",
        "create_map_with_RATs(town_municipality_LTE, 'LTE RATs in Poland, town municipalities')"
      ],
      "metadata": {
        "colab": {
          "base_uri": "https://localhost:8080/",
          "height": 404
        },
        "id": "43ywFd0h86UC",
        "outputId": "e4b0a19d-3b45-49fa-8513-6e60de2d5c35"
      },
      "execution_count": 46,
      "outputs": [
        {
          "output_type": "display_data",
          "data": {
            "text/plain": [
              "<Figure size 576x432 with 1 Axes>"
            ],
            "image/png": "[encoded data removed]"
          },
          "metadata": {
            "needs_background": "light"
          }
        }
      ]
    },
    {
      "cell_type": "code",
      "source": [
        "#gminy wiejskie\n",
        "rural_municipality_LTE=LTE[LTE['TERYT'].apply(str).str.endswith('2')].reset_index()\n",
        "\n",
        "create_map_with_RATs(rural_municipality_LTE, 'LTE RATs in Poland, rural municipalities')"
      ],
      "metadata": {
        "colab": {
          "base_uri": "https://localhost:8080/",
          "height": 404
        },
        "id": "qD9DlcZ_D9lD",
        "outputId": "7d4e6369-265a-43a9-fb3d-eae34e363ac6"
      },
      "execution_count": 47,
      "outputs": [
        {
          "output_type": "display_data",
          "data": {
            "text/plain": [
              "<Figure size 576x432 with 1 Axes>"
            ],
            "image/png": "[encoded data removed]"
          },
          "metadata": {
            "needs_background": "light"
          }
        }
      ]
    },
    {
      "cell_type": "markdown",
      "source": [
        "1. nałożyć na mapę: https://towardsdatascience.com/the-easiest-way-to-plot-data-from-pandas-on-a-world-map-1a62962a27f3\n",
        "1a. wygenerowac mape dla wroclawia: https://stackoverflow.com/questions/71565032/how-to-see-city-map-when-ploting-with-geopandas-lib\n",
        "2. Wybrać wg teryt gminy miejskie (1) i wiejskie (2) ostatnia cyfra --> https://pl.wikipedia.org/wiki/TERC i tak zrobić rysunek. zrobić analizy typu jaka firma na jakim terenie\n",
        "3. analiza na dolny sląsk (26 wg teryt) - jakie firmy, jakie częstotliwości, ile wg miast najwięcej\n",
        "4. ilość pozwoleń wydanych w poszczególnych latach"
      ],
      "metadata": {
        "id": "TW5AGl8zWQnG"
      }
    },
    {
      "cell_type": "markdown",
      "source": [
        "###Wroclaw a Legnica"
      ],
      "metadata": {
        "id": "gJJSG_cAKViz"
      }
    },
    {
      "cell_type": "code",
      "source": [
        "Wroclaw = LTE.loc[LTE['Miejscowość'] == 'Wrocław'].reset_index()\n",
        "# df.loc[df['column_name'] == some_value]"
      ],
      "metadata": {
        "id": "4rdb72SRFpGE"
      },
      "execution_count": 27,
      "outputs": []
    },
    {
      "cell_type": "code",
      "source": [
        "Wroclaw"
      ],
      "metadata": {
        "colab": {
          "base_uri": "https://localhost:8080/",
          "height": 659
        },
        "id": "uCk1eFHuGJYP",
        "outputId": "14a9319a-307a-4db9-bf8d-8392f0420f5a"
      },
      "execution_count": 28,
      "outputs": [
        {
          "output_type": "execute_result",
          "data": {
            "text/plain": [
              "      index  RAT Częstotliwość       Nazwa Operatora           Nr Decyzji  \\\n",
              "0      4455  LTE          2600    Orange Polska S.A.  MNET/15/76001/10/18   \n",
              "1      4456  LTE          2600    Orange Polska S.A.   MNET/15/76499/8/18   \n",
              "2      4457  LTE          2600    Orange Polska S.A.   MNET/15/76560/8/18   \n",
              "3      4461  LTE          2600    Orange Polska S.A.  MNET/15/77003/10/20   \n",
              "4      4462  LTE          2600    Orange Polska S.A.  MNET/15/77004/11/20   \n",
              "...     ...  ...           ...                   ...                  ...   \n",
              "2077    868  LTE           900  T-Mobile Polska S.A.  MNET/11/76174/10/22   \n",
              "2078    869  LTE           900  T-Mobile Polska S.A.  MNET/11/76187/10/22   \n",
              "2079    870  LTE           900  T-Mobile Polska S.A.   MNET/11/76417/8/22   \n",
              "2080    871  LTE           900  T-Mobile Polska S.A.  MNET/11/76421/11/22   \n",
              "2081    872  LTE           900  T-Mobile Polska S.A.   MNET/11/76636/7/22   \n",
              "\n",
              "     Rodzaj decyzji Data ważności  Dł geogr stacji  Szer geogr stacji  \\\n",
              "0               zmP    2023-04-30        17.118056          51.118056   \n",
              "1               zmP    2024-05-31        17.042222          51.076111   \n",
              "2               zmP    2024-04-30        16.973611          51.165278   \n",
              "3               zmP    2023-05-31        16.992500          51.111667   \n",
              "4               zmP    2023-05-31        17.025556          51.091389   \n",
              "...             ...           ...              ...                ...   \n",
              "2077            zmP    2023-04-30        17.022222          51.139167   \n",
              "2078            zmP    2023-06-30        17.042500          51.105556   \n",
              "2079            zmP    2024-07-31        17.060278          51.119167   \n",
              "2080            zmP    2023-04-30        17.080000          51.138611   \n",
              "2081            zmP    2026-03-31        17.020833          51.117222   \n",
              "\n",
              "     Miejscowość                                Lokalizacja IdStacji   TERYT  \n",
              "0        Wrocław                        Swojczycka 38, 8\\66     2352  264011  \n",
              "1        Wrocław           Świeradowska 51-57, dz. nr 66\\12    14246  264011  \n",
              "2        Wrocław                                dz. nr 38\\2    14285  264011  \n",
              "3        Wrocław                         Fabryczna 10, 1/13     2413  264011  \n",
              "4        Wrocław                    Komandorska 118/120, 16     2371  264011  \n",
              "...          ...                                        ...      ...     ...  \n",
              "2077     Wrocław                    Bezpieczna 28/34, 114/2    46174  264011  \n",
              "2078     Wrocław  Józefa Ignacego Kraszewskiego 27/31, 21/2    46187  264011  \n",
              "2079     Wrocław                          Walecznych 15, 20    42568  264011  \n",
              "2080     Wrocław          Bolesława Krzywoustego 107, 100/6    46421  264011  \n",
              "2081     Wrocław                  Romana Dmowskiego 7, 3/11    43525  264011  \n",
              "\n",
              "[2082 rows x 13 columns]"
            ],
            "text/html": [
              "\n",
              "  <div id=\"df-3b07264f-07a3-4bda-8395-ef90222f1eb7\">\n",
              "    <div class=\"colab-df-container\">\n",
              "      <div>\n",
              "<style scoped>\n",
              "    .dataframe tbody tr th:only-of-type {\n",
              "        vertical-align: middle;\n",
              "    }\n",
              "\n",
              "    .dataframe tbody tr th {\n",
              "        vertical-align: top;\n",
              "    }\n",
              "\n",
              "    .dataframe thead th {\n",
              "        text-align: right;\n",
              "    }\n",
              "</style>\n",
              "<table border=\"1\" class=\"dataframe\">\n",
              "  <thead>\n",
              "    <tr style=\"text-align: right;\">\n",
              "      <th></th>\n",
              "      <th>index</th>\n",
              "      <th>RAT</th>\n",
              "      <th>Częstotliwość</th>\n",
              "      <th>Nazwa Operatora</th>\n",
              "      <th>Nr Decyzji</th>\n",
              "      <th>Rodzaj decyzji</th>\n",
              "      <th>Data ważności</th>\n",
              "      <th>Dł geogr stacji</th>\n",
              "      <th>Szer geogr stacji</th>\n",
              "      <th>Miejscowość</th>\n",
              "      <th>Lokalizacja</th>\n",
              "      <th>IdStacji</th>\n",
              "      <th>TERYT</th>\n",
              "    </tr>\n",
              "  </thead>\n",
              "  <tbody>\n",
              "    <tr>\n",
              "      <th>0</th>\n",
              "      <td>4455</td>\n",
              "      <td>LTE</td>\n",
              "      <td>2600</td>\n",
              "      <td>Orange Polska S.A.</td>\n",
              "      <td>MNET/15/76001/10/18</td>\n",
              "      <td>zmP</td>\n",
              "      <td>2023-04-30</td>\n",
              "      <td>17.118056</td>\n",
              "      <td>51.118056</td>\n",
              "      <td>Wrocław</td>\n",
              "      <td>Swojczycka 38, 8\\66</td>\n",
              "      <td>2352</td>\n",
              "      <td>264011</td>\n",
              "    </tr>\n",
              "    <tr>\n",
              "      <th>1</th>\n",
              "      <td>4456</td>\n",
              "      <td>LTE</td>\n",
              "      <td>2600</td>\n",
              "      <td>Orange Polska S.A.</td>\n",
              "      <td>MNET/15/76499/8/18</td>\n",
              "      <td>zmP</td>\n",
              "      <td>2024-05-31</td>\n",
              "      <td>17.042222</td>\n",
              "      <td>51.076111</td>\n",
              "      <td>Wrocław</td>\n",
              "      <td>Świeradowska 51-57, dz. nr 66\\12</td>\n",
              "      <td>14246</td>\n",
              "      <td>264011</td>\n",
              "    </tr>\n",
              "    <tr>\n",
              "      <th>2</th>\n",
              "      <td>4457</td>\n",
              "      <td>LTE</td>\n",
              "      <td>2600</td>\n",
              "      <td>Orange Polska S.A.</td>\n",
              "      <td>MNET/15/76560/8/18</td>\n",
              "      <td>zmP</td>\n",
              "      <td>2024-04-30</td>\n",
              "      <td>16.973611</td>\n",
              "      <td>51.165278</td>\n",
              "      <td>Wrocław</td>\n",
              "      <td>dz. nr 38\\2</td>\n",
              "      <td>14285</td>\n",
              "      <td>264011</td>\n",
              "    </tr>\n",
              "    <tr>\n",
              "      <th>3</th>\n",
              "      <td>4461</td>\n",
              "      <td>LTE</td>\n",
              "      <td>2600</td>\n",
              "      <td>Orange Polska S.A.</td>\n",
              "      <td>MNET/15/77003/10/20</td>\n",
              "      <td>zmP</td>\n",
              "      <td>2023-05-31</td>\n",
              "      <td>16.992500</td>\n",
              "      <td>51.111667</td>\n",
              "      <td>Wrocław</td>\n",
              "      <td>Fabryczna 10, 1/13</td>\n",
              "      <td>2413</td>\n",
              "      <td>264011</td>\n",
              "    </tr>\n",
              "    <tr>\n",
              "      <th>4</th>\n",
              "      <td>4462</td>\n",
              "      <td>LTE</td>\n",
              "      <td>2600</td>\n",
              "      <td>Orange Polska S.A.</td>\n",
              "      <td>MNET/15/77004/11/20</td>\n",
              "      <td>zmP</td>\n",
              "      <td>2023-05-31</td>\n",
              "      <td>17.025556</td>\n",
              "      <td>51.091389</td>\n",
              "      <td>Wrocław</td>\n",
              "      <td>Komandorska 118/120, 16</td>\n",
              "      <td>2371</td>\n",
              "      <td>264011</td>\n",
              "    </tr>\n",
              "    <tr>\n",
              "      <th>...</th>\n",
              "      <td>...</td>\n",
              "      <td>...</td>\n",
              "      <td>...</td>\n",
              "      <td>...</td>\n",
              "      <td>...</td>\n",
              "      <td>...</td>\n",
              "      <td>...</td>\n",
              "      <td>...</td>\n",
              "      <td>...</td>\n",
              "      <td>...</td>\n",
              "      <td>...</td>\n",
              "      <td>...</td>\n",
              "      <td>...</td>\n",
              "    </tr>\n",
              "    <tr>\n",
              "      <th>2077</th>\n",
              "      <td>868</td>\n",
              "      <td>LTE</td>\n",
              "      <td>900</td>\n",
              "      <td>T-Mobile Polska S.A.</td>\n",
              "      <td>MNET/11/76174/10/22</td>\n",
              "      <td>zmP</td>\n",
              "      <td>2023-04-30</td>\n",
              "      <td>17.022222</td>\n",
              "      <td>51.139167</td>\n",
              "      <td>Wrocław</td>\n",
              "      <td>Bezpieczna 28/34, 114/2</td>\n",
              "      <td>46174</td>\n",
              "      <td>264011</td>\n",
              "    </tr>\n",
              "    <tr>\n",
              "      <th>2078</th>\n",
              "      <td>869</td>\n",
              "      <td>LTE</td>\n",
              "      <td>900</td>\n",
              "      <td>T-Mobile Polska S.A.</td>\n",
              "      <td>MNET/11/76187/10/22</td>\n",
              "      <td>zmP</td>\n",
              "      <td>2023-06-30</td>\n",
              "      <td>17.042500</td>\n",
              "      <td>51.105556</td>\n",
              "      <td>Wrocław</td>\n",
              "      <td>Józefa Ignacego Kraszewskiego 27/31, 21/2</td>\n",
              "      <td>46187</td>\n",
              "      <td>264011</td>\n",
              "    </tr>\n",
              "    <tr>\n",
              "      <th>2079</th>\n",
              "      <td>870</td>\n",
              "      <td>LTE</td>\n",
              "      <td>900</td>\n",
              "      <td>T-Mobile Polska S.A.</td>\n",
              "      <td>MNET/11/76417/8/22</td>\n",
              "      <td>zmP</td>\n",
              "      <td>2024-07-31</td>\n",
              "      <td>17.060278</td>\n",
              "      <td>51.119167</td>\n",
              "      <td>Wrocław</td>\n",
              "      <td>Walecznych 15, 20</td>\n",
              "      <td>42568</td>\n",
              "      <td>264011</td>\n",
              "    </tr>\n",
              "    <tr>\n",
              "      <th>2080</th>\n",
              "      <td>871</td>\n",
              "      <td>LTE</td>\n",
              "      <td>900</td>\n",
              "      <td>T-Mobile Polska S.A.</td>\n",
              "      <td>MNET/11/76421/11/22</td>\n",
              "      <td>zmP</td>\n",
              "      <td>2023-04-30</td>\n",
              "      <td>17.080000</td>\n",
              "      <td>51.138611</td>\n",
              "      <td>Wrocław</td>\n",
              "      <td>Bolesława Krzywoustego 107, 100/6</td>\n",
              "      <td>46421</td>\n",
              "      <td>264011</td>\n",
              "    </tr>\n",
              "    <tr>\n",
              "      <th>2081</th>\n",
              "      <td>872</td>\n",
              "      <td>LTE</td>\n",
              "      <td>900</td>\n",
              "      <td>T-Mobile Polska S.A.</td>\n",
              "      <td>MNET/11/76636/7/22</td>\n",
              "      <td>zmP</td>\n",
              "      <td>2026-03-31</td>\n",
              "      <td>17.020833</td>\n",
              "      <td>51.117222</td>\n",
              "      <td>Wrocław</td>\n",
              "      <td>Romana Dmowskiego 7, 3/11</td>\n",
              "      <td>43525</td>\n",
              "      <td>264011</td>\n",
              "    </tr>\n",
              "  </tbody>\n",
              "</table>\n",
              "<p>2082 rows × 13 columns</p>\n",
              "</div>\n",
              "      <button class=\"colab-df-convert\" onclick=\"convertToInteractive('df-3b07264f-07a3-4bda-8395-ef90222f1eb7')\"\n",
              "              title=\"Convert this dataframe to an interactive table.\"\n",
              "              style=\"display:none;\">\n",
              "        \n",
              "  <svg xmlns=\"http://www.w3.org/2000/svg\" height=\"24px\"viewBox=\"0 0 24 24\"\n",
              "       width=\"24px\">\n",
              "    <path d=\"M0 0h24v24H0V0z\" fill=\"none\"/>\n",
              "    <path d=\"M18.56 5.44l.94 2.06.94-2.06 2.06-.94-2.06-.94-.94-2.06-.94 2.06-2.06.94zm-11 1L8.5 8.5l.94-2.06 2.06-.94-2.06-.94L8.5 2.5l-.94 2.06-2.06.94zm10 10l.94 2.06.94-2.06 2.06-.94-2.06-.94-.94-2.06-.94 2.06-2.06.94z\"/><path d=\"M17.41 7.96l-1.37-1.37c-.4-.4-.92-.59-1.43-.59-.52 0-1.04.2-1.43.59L10.3 9.45l-7.72 7.72c-.78.78-.78 2.05 0 2.83L4 21.41c.39.39.9.59 1.41.59.51 0 1.02-.2 1.41-.59l7.78-7.78 2.81-2.81c.8-.78.8-2.07 0-2.86zM5.41 20L4 18.59l7.72-7.72 1.47 1.35L5.41 20z\"/>\n",
              "  </svg>\n",
              "      </button>\n",
              "      \n",
              "  <style>\n",
              "    .colab-df-container {\n",
              "      display:flex;\n",
              "      flex-wrap:wrap;\n",
              "      gap: 12px;\n",
              "    }\n",
              "\n",
              "    .colab-df-convert {\n",
              "      background-color: #E8F0FE;\n",
              "      border: none;\n",
              "      border-radius: 50%;\n",
              "      cursor: pointer;\n",
              "      display: none;\n",
              "      fill: #1967D2;\n",
              "      height: 32px;\n",
              "      padding: 0 0 0 0;\n",
              "      width: 32px;\n",
              "    }\n",
              "\n",
              "    .colab-df-convert:hover {\n",
              "      background-color: #E2EBFA;\n",
              "      box-shadow: 0px 1px 2px rgba(60, 64, 67, 0.3), 0px 1px 3px 1px rgba(60, 64, 67, 0.15);\n",
              "      fill: #174EA6;\n",
              "    }\n",
              "\n",
              "    [theme=dark] .colab-df-convert {\n",
              "      background-color: #3B4455;\n",
              "      fill: #D2E3FC;\n",
              "    }\n",
              "\n",
              "    [theme=dark] .colab-df-convert:hover {\n",
              "      background-color: #434B5C;\n",
              "      box-shadow: 0px 1px 3px 1px rgba(0, 0, 0, 0.15);\n",
              "      filter: drop-shadow(0px 1px 2px rgba(0, 0, 0, 0.3));\n",
              "      fill: #FFFFFF;\n",
              "    }\n",
              "  </style>\n",
              "\n",
              "      <script>\n",
              "        const buttonEl =\n",
              "          document.querySelector('#df-3b07264f-07a3-4bda-8395-ef90222f1eb7 button.colab-df-convert');\n",
              "        buttonEl.style.display =\n",
              "          google.colab.kernel.accessAllowed ? 'block' : 'none';\n",
              "\n",
              "        async function convertToInteractive(key) {\n",
              "          const element = document.querySelector('#df-3b07264f-07a3-4bda-8395-ef90222f1eb7');\n",
              "          const dataTable =\n",
              "            await google.colab.kernel.invokeFunction('convertToInteractive',\n",
              "                                                     [key], {});\n",
              "          if (!dataTable) return;\n",
              "\n",
              "          const docLinkHtml = 'Like what you see? Visit the ' +\n",
              "            '<a target=\"_blank\" href=https://colab.research.google.com/notebooks/data_table.ipynb>data table notebook</a>'\n",
              "            + ' to learn more about interactive tables.';\n",
              "          element.innerHTML = '';\n",
              "          dataTable['output_type'] = 'display_data';\n",
              "          await google.colab.output.renderOutput(dataTable, element);\n",
              "          const docLink = document.createElement('div');\n",
              "          docLink.innerHTML = docLinkHtml;\n",
              "          element.appendChild(docLink);\n",
              "        }\n",
              "      </script>\n",
              "    </div>\n",
              "  </div>\n",
              "  "
            ]
          },
          "metadata": {},
          "execution_count": 28
        }
      ]
    },
    {
      "cell_type": "code",
      "source": [
        "Wroclaw.plot(x='Dł geogr stacji', y='Szer geogr stacji', kind=\"scatter\", colormap=\"YlOrRd\")"
      ],
      "metadata": {
        "colab": {
          "base_uri": "https://localhost:8080/",
          "height": 296
        },
        "id": "acaJnKoIGtsU",
        "outputId": "a0b3681f-f147-43db-bf39-93c240fbb4ab"
      },
      "execution_count": 30,
      "outputs": [
        {
          "output_type": "execute_result",
          "data": {
            "text/plain": [
              "<matplotlib.axes._subplots.AxesSubplot at 0x7f0bd39bdc90>"
            ]
          },
          "metadata": {},
          "execution_count": 30
        },
        {
          "output_type": "display_data",
          "data": {
            "text/plain": [
              "<Figure size 432x288 with 1 Axes>"
            ],
            "image/png": "[encoded data removed]"
          },
          "metadata": {
            "needs_background": "light"
          }
        }
      ]
    },
    {
      "cell_type": "code",
      "source": [
        "def dist(p1, p2):\n",
        "    (x1, y1), (x2, y2) = p1, p2\n",
        "    return math.sqrt((x2 - x1)**2 + (y2 - y1)**2)\n",
        "\n",
        "x = Wroclaw['Dł geogr stacji']\n",
        "y = Wroclaw['Szer geogr stacji']\n",
        "\n",
        "points = list(zip(x,y))\n",
        "distances = [dist(p1, p2) for p1, p2 in combinations(points, 2)]\n",
        "avg_distance = sum(distances) / len(distances)"
      ],
      "metadata": {
        "id": "gZ6lcuQhNfQu"
      },
      "execution_count": 32,
      "outputs": []
    },
    {
      "cell_type": "code",
      "source": [
        "dist = [distance(p1,p2).km for p1, p2 in combinations(points,2)]\n",
        "avg_dist = sum(dist) / len(dist)"
      ],
      "metadata": {
        "id": "o9Q8J2FwQia3"
      },
      "execution_count": 34,
      "outputs": []
    },
    {
      "cell_type": "code",
      "source": [
        "avg_dist"
      ],
      "metadata": {
        "colab": {
          "base_uri": "https://localhost:8080/"
        },
        "id": "X9ZIZNsfTtkj",
        "outputId": "82ba5682-baac-4810-8433-7a476fbd176c"
      },
      "execution_count": 35,
      "outputs": [
        {
          "output_type": "execute_result",
          "data": {
            "text/plain": [
              "7.796126274640078"
            ]
          },
          "metadata": {},
          "execution_count": 35
        }
      ]
    },
    {
      "cell_type": "code",
      "source": [
        "Legnica = LTE.loc[LTE['Miejscowość'] == 'Legnica'].reset_index()\n",
        "Legnica.info()"
      ],
      "metadata": {
        "colab": {
          "base_uri": "https://localhost:8080/"
        },
        "id": "qE4j3zqgR-EK",
        "outputId": "0a020010-c3fe-4acd-8793-656470eb5fc4"
      },
      "execution_count": 36,
      "outputs": [
        {
          "output_type": "stream",
          "name": "stdout",
          "text": [
            "<class 'pandas.core.frame.DataFrame'>\n",
            "RangeIndex: 217 entries, 0 to 216\n",
            "Data columns (total 13 columns):\n",
            " #   Column             Non-Null Count  Dtype         \n",
            "---  ------             --------------  -----         \n",
            " 0   index              217 non-null    int64         \n",
            " 1   RAT                217 non-null    object        \n",
            " 2   Częstotliwość      217 non-null    object        \n",
            " 3   Nazwa Operatora    217 non-null    object        \n",
            " 4   Nr Decyzji         217 non-null    object        \n",
            " 5   Rodzaj decyzji     217 non-null    object        \n",
            " 6   Data ważności      217 non-null    datetime64[ns]\n",
            " 7   Dł geogr stacji    217 non-null    float64       \n",
            " 8   Szer geogr stacji  217 non-null    float64       \n",
            " 9   Miejscowość        217 non-null    object        \n",
            " 10  Lokalizacja        217 non-null    object        \n",
            " 11  IdStacji           217 non-null    object        \n",
            " 12  TERYT              217 non-null    int64         \n",
            "dtypes: datetime64[ns](1), float64(2), int64(2), object(8)\n",
            "memory usage: 22.2+ KB\n"
          ]
        }
      ]
    },
    {
      "cell_type": "code",
      "source": [
        "x_Legnica = Legnica['Dł geogr stacji']\n",
        "y_Legnica = Legnica['Szer geogr stacji']\n",
        "\n",
        "points_Legnica = list(zip(x_Legnica,y_Legnica))\n",
        "\n",
        "dist = [distance(p1,p2).km for p1, p2 in combinations(points_Legnica,2)]\n",
        "avg_dist_Legnica = sum(dist) / len(dist)"
      ],
      "metadata": {
        "id": "FhnBzXYMUMUE"
      },
      "execution_count": 37,
      "outputs": []
    },
    {
      "cell_type": "code",
      "source": [
        "avg_distance"
      ],
      "metadata": {
        "colab": {
          "base_uri": "https://localhost:8080/"
        },
        "id": "fJQfWH_0PJI8",
        "outputId": "c6e5f2b5-3f84-4ccd-b9e1-ca8f6526f361"
      },
      "execution_count": 38,
      "outputs": [
        {
          "output_type": "execute_result",
          "data": {
            "text/plain": [
              "0.07108527826870514"
            ]
          },
          "metadata": {},
          "execution_count": 38
        }
      ]
    },
    {
      "cell_type": "code",
      "source": [
        "avg_dist_Legnica"
      ],
      "metadata": {
        "colab": {
          "base_uri": "https://localhost:8080/"
        },
        "id": "PS6olwqtVKdP",
        "outputId": "19f8a3f7-7eda-4de7-8b72-ea8d00748307"
      },
      "execution_count": 39,
      "outputs": [
        {
          "output_type": "execute_result",
          "data": {
            "text/plain": [
              "3.6086782041515075"
            ]
          },
          "metadata": {},
          "execution_count": 39
        }
      ]
    },
    {
      "cell_type": "code",
      "source": [
        "density_Wroclaw = Wroclaw.shape[0] / 292.8 \n",
        "density_Legnica =  Legnica.shape[0] / 56.29"
      ],
      "metadata": {
        "id": "z8QOFvLKYu6l"
      },
      "execution_count": 40,
      "outputs": []
    },
    {
      "cell_type": "code",
      "source": [
        "f'zageszczenie w legnicy to  {round(density_Legnica,2)} BTSy na km2 a Wroclaw to {round(density_Wroclaw,2)} na km2' "
      ],
      "metadata": {
        "colab": {
          "base_uri": "https://localhost:8080/",
          "height": 35
        },
        "id": "vIcvhRlCZE9y",
        "outputId": "c3a282a9-4e3f-4ad2-d803-b8273994371a"
      },
      "execution_count": null,
      "outputs": [
        {
          "output_type": "execute_result",
          "data": {
            "text/plain": [
              "'zageszczenie w legnicy to  3.86 BTSy na km2 a Wroclaw to 7.11 na km2'"
            ],
            "application/vnd.google.colaboratory.intrinsic+json": {
              "type": "string"
            }
          },
          "metadata": {},
          "execution_count": 41
        }
      ]
    },
    {
      "cell_type": "markdown",
      "source": [
        "###Operatorzy"
      ],
      "metadata": {
        "id": "yBwG6rrxEoZY"
      }
    },
    {
      "cell_type": "code",
      "source": [
        "LTE['Nazwa Operatora'].unique()"
      ],
      "metadata": {
        "colab": {
          "base_uri": "https://localhost:8080/"
        },
        "id": "GhgZVJvkEt8O",
        "outputId": "0cbd586a-85ac-4b25-f5ee-66c13e5bfaa1"
      },
      "execution_count": 48,
      "outputs": [
        {
          "output_type": "execute_result",
          "data": {
            "text/plain": [
              "array(['AERO 2 Sp. z o.o.', 'Orange Polska S.A.', 'P4 Sp. z o.o.',\n",
              "       'POLKOMTEL Sp. z o.o.', 'T-Mobile Polska S.A.', 'PGE Systemy S.A.'],\n",
              "      dtype=object)"
            ]
          },
          "metadata": {},
          "execution_count": 48
        }
      ]
    },
    {
      "cell_type": "code",
      "source": [
        "Operatorzy = pd.DataFrame(LTE.groupby(['Nazwa Operatora'])['Nazwa Operatora'].count().reset_index(name=\"RATs count\")).sort_values(by='RATs count', ascending=False)\n",
        "Operatorzy\n",
        "# df2 = df.groupby(['Courses'])['Courses'].count()"
      ],
      "metadata": {
        "id": "5C-DfT-uZG5Q",
        "colab": {
          "base_uri": "https://localhost:8080/",
          "height": 238
        },
        "outputId": "5dda5431-9d00-4071-dd59-7e6493c8c4a2"
      },
      "execution_count": 75,
      "outputs": [
        {
          "output_type": "execute_result",
          "data": {
            "text/plain": [
              "        Nazwa Operatora  RATs count\n",
              "2         P4 Sp. z o.o.       37519\n",
              "1    Orange Polska S.A.       25637\n",
              "5  T-Mobile Polska S.A.       25039\n",
              "0     AERO 2 Sp. z o.o.        6841\n",
              "4  POLKOMTEL Sp. z o.o.        1299\n",
              "3      PGE Systemy S.A.           4"
            ],
            "text/html": [
              "\n",
              "  <div id=\"df-c3fa4696-9e3a-4c86-97f5-9ae74d41c0b7\">\n",
              "    <div class=\"colab-df-container\">\n",
              "      <div>\n",
              "<style scoped>\n",
              "    .dataframe tbody tr th:only-of-type {\n",
              "        vertical-align: middle;\n",
              "    }\n",
              "\n",
              "    .dataframe tbody tr th {\n",
              "        vertical-align: top;\n",
              "    }\n",
              "\n",
              "    .dataframe thead th {\n",
              "        text-align: right;\n",
              "    }\n",
              "</style>\n",
              "<table border=\"1\" class=\"dataframe\">\n",
              "  <thead>\n",
              "    <tr style=\"text-align: right;\">\n",
              "      <th></th>\n",
              "      <th>Nazwa Operatora</th>\n",
              "      <th>RATs count</th>\n",
              "    </tr>\n",
              "  </thead>\n",
              "  <tbody>\n",
              "    <tr>\n",
              "      <th>2</th>\n",
              "      <td>P4 Sp. z o.o.</td>\n",
              "      <td>37519</td>\n",
              "    </tr>\n",
              "    <tr>\n",
              "      <th>1</th>\n",
              "      <td>Orange Polska S.A.</td>\n",
              "      <td>25637</td>\n",
              "    </tr>\n",
              "    <tr>\n",
              "      <th>5</th>\n",
              "      <td>T-Mobile Polska S.A.</td>\n",
              "      <td>25039</td>\n",
              "    </tr>\n",
              "    <tr>\n",
              "      <th>0</th>\n",
              "      <td>AERO 2 Sp. z o.o.</td>\n",
              "      <td>6841</td>\n",
              "    </tr>\n",
              "    <tr>\n",
              "      <th>4</th>\n",
              "      <td>POLKOMTEL Sp. z o.o.</td>\n",
              "      <td>1299</td>\n",
              "    </tr>\n",
              "    <tr>\n",
              "      <th>3</th>\n",
              "      <td>PGE Systemy S.A.</td>\n",
              "      <td>4</td>\n",
              "    </tr>\n",
              "  </tbody>\n",
              "</table>\n",
              "</div>\n",
              "      <button class=\"colab-df-convert\" onclick=\"convertToInteractive('df-c3fa4696-9e3a-4c86-97f5-9ae74d41c0b7')\"\n",
              "              title=\"Convert this dataframe to an interactive table.\"\n",
              "              style=\"display:none;\">\n",
              "        \n",
              "  <svg xmlns=\"http://www.w3.org/2000/svg\" height=\"24px\"viewBox=\"0 0 24 24\"\n",
              "       width=\"24px\">\n",
              "    <path d=\"M0 0h24v24H0V0z\" fill=\"none\"/>\n",
              "    <path d=\"M18.56 5.44l.94 2.06.94-2.06 2.06-.94-2.06-.94-.94-2.06-.94 2.06-2.06.94zm-11 1L8.5 8.5l.94-2.06 2.06-.94-2.06-.94L8.5 2.5l-.94 2.06-2.06.94zm10 10l.94 2.06.94-2.06 2.06-.94-2.06-.94-.94-2.06-.94 2.06-2.06.94z\"/><path d=\"M17.41 7.96l-1.37-1.37c-.4-.4-.92-.59-1.43-.59-.52 0-1.04.2-1.43.59L10.3 9.45l-7.72 7.72c-.78.78-.78 2.05 0 2.83L4 21.41c.39.39.9.59 1.41.59.51 0 1.02-.2 1.41-.59l7.78-7.78 2.81-2.81c.8-.78.8-2.07 0-2.86zM5.41 20L4 18.59l7.72-7.72 1.47 1.35L5.41 20z\"/>\n",
              "  </svg>\n",
              "      </button>\n",
              "      \n",
              "  <style>\n",
              "    .colab-df-container {\n",
              "      display:flex;\n",
              "      flex-wrap:wrap;\n",
              "      gap: 12px;\n",
              "    }\n",
              "\n",
              "    .colab-df-convert {\n",
              "      background-color: #E8F0FE;\n",
              "      border: none;\n",
              "      border-radius: 50%;\n",
              "      cursor: pointer;\n",
              "      display: none;\n",
              "      fill: #1967D2;\n",
              "      height: 32px;\n",
              "      padding: 0 0 0 0;\n",
              "      width: 32px;\n",
              "    }\n",
              "\n",
              "    .colab-df-convert:hover {\n",
              "      background-color: #E2EBFA;\n",
              "      box-shadow: 0px 1px 2px rgba(60, 64, 67, 0.3), 0px 1px 3px 1px rgba(60, 64, 67, 0.15);\n",
              "      fill: #174EA6;\n",
              "    }\n",
              "\n",
              "    [theme=dark] .colab-df-convert {\n",
              "      background-color: #3B4455;\n",
              "      fill: #D2E3FC;\n",
              "    }\n",
              "\n",
              "    [theme=dark] .colab-df-convert:hover {\n",
              "      background-color: #434B5C;\n",
              "      box-shadow: 0px 1px 3px 1px rgba(0, 0, 0, 0.15);\n",
              "      filter: drop-shadow(0px 1px 2px rgba(0, 0, 0, 0.3));\n",
              "      fill: #FFFFFF;\n",
              "    }\n",
              "  </style>\n",
              "\n",
              "      <script>\n",
              "        const buttonEl =\n",
              "          document.querySelector('#df-c3fa4696-9e3a-4c86-97f5-9ae74d41c0b7 button.colab-df-convert');\n",
              "        buttonEl.style.display =\n",
              "          google.colab.kernel.accessAllowed ? 'block' : 'none';\n",
              "\n",
              "        async function convertToInteractive(key) {\n",
              "          const element = document.querySelector('#df-c3fa4696-9e3a-4c86-97f5-9ae74d41c0b7');\n",
              "          const dataTable =\n",
              "            await google.colab.kernel.invokeFunction('convertToInteractive',\n",
              "                                                     [key], {});\n",
              "          if (!dataTable) return;\n",
              "\n",
              "          const docLinkHtml = 'Like what you see? Visit the ' +\n",
              "            '<a target=\"_blank\" href=https://colab.research.google.com/notebooks/data_table.ipynb>data table notebook</a>'\n",
              "            + ' to learn more about interactive tables.';\n",
              "          element.innerHTML = '';\n",
              "          dataTable['output_type'] = 'display_data';\n",
              "          await google.colab.output.renderOutput(dataTable, element);\n",
              "          const docLink = document.createElement('div');\n",
              "          docLink.innerHTML = docLinkHtml;\n",
              "          element.appendChild(docLink);\n",
              "        }\n",
              "      </script>\n",
              "    </div>\n",
              "  </div>\n",
              "  "
            ]
          },
          "metadata": {},
          "execution_count": 75
        }
      ]
    },
    {
      "cell_type": "code",
      "source": [
        "Operatorzy_miasta = pd.DataFrame(town_municipality_LTE.groupby(['Nazwa Operatora'])['Nazwa Operatora'].count().reset_index(name=\"RATs on town area\")).sort_values(by='RATs on town area', ascending=False)\n",
        "Operatorzy_miasta"
      ],
      "metadata": {
        "colab": {
          "base_uri": "https://localhost:8080/",
          "height": 238
        },
        "id": "hXEJYUd8HnCp",
        "outputId": "b993377c-de0f-459b-fe2a-79c2062af24c"
      },
      "execution_count": 76,
      "outputs": [
        {
          "output_type": "execute_result",
          "data": {
            "text/plain": [
              "        Nazwa Operatora  RATs on town area\n",
              "2         P4 Sp. z o.o.              18752\n",
              "1    Orange Polska S.A.              12270\n",
              "5  T-Mobile Polska S.A.              12188\n",
              "0     AERO 2 Sp. z o.o.               3465\n",
              "4  POLKOMTEL Sp. z o.o.                557\n",
              "3      PGE Systemy S.A.                  3"
            ],
            "text/html": [
              "\n",
              "  <div id=\"df-f82670ae-7e9f-4af1-922c-89ff6780b7c6\">\n",
              "    <div class=\"colab-df-container\">\n",
              "      <div>\n",
              "<style scoped>\n",
              "    .dataframe tbody tr th:only-of-type {\n",
              "        vertical-align: middle;\n",
              "    }\n",
              "\n",
              "    .dataframe tbody tr th {\n",
              "        vertical-align: top;\n",
              "    }\n",
              "\n",
              "    .dataframe thead th {\n",
              "        text-align: right;\n",
              "    }\n",
              "</style>\n",
              "<table border=\"1\" class=\"dataframe\">\n",
              "  <thead>\n",
              "    <tr style=\"text-align: right;\">\n",
              "      <th></th>\n",
              "      <th>Nazwa Operatora</th>\n",
              "      <th>RATs on town area</th>\n",
              "    </tr>\n",
              "  </thead>\n",
              "  <tbody>\n",
              "    <tr>\n",
              "      <th>2</th>\n",
              "      <td>P4 Sp. z o.o.</td>\n",
              "      <td>18752</td>\n",
              "    </tr>\n",
              "    <tr>\n",
              "      <th>1</th>\n",
              "      <td>Orange Polska S.A.</td>\n",
              "      <td>12270</td>\n",
              "    </tr>\n",
              "    <tr>\n",
              "      <th>5</th>\n",
              "      <td>T-Mobile Polska S.A.</td>\n",
              "      <td>12188</td>\n",
              "    </tr>\n",
              "    <tr>\n",
              "      <th>0</th>\n",
              "      <td>AERO 2 Sp. z o.o.</td>\n",
              "      <td>3465</td>\n",
              "    </tr>\n",
              "    <tr>\n",
              "      <th>4</th>\n",
              "      <td>POLKOMTEL Sp. z o.o.</td>\n",
              "      <td>557</td>\n",
              "    </tr>\n",
              "    <tr>\n",
              "      <th>3</th>\n",
              "      <td>PGE Systemy S.A.</td>\n",
              "      <td>3</td>\n",
              "    </tr>\n",
              "  </tbody>\n",
              "</table>\n",
              "</div>\n",
              "      <button class=\"colab-df-convert\" onclick=\"convertToInteractive('df-f82670ae-7e9f-4af1-922c-89ff6780b7c6')\"\n",
              "              title=\"Convert this dataframe to an interactive table.\"\n",
              "              style=\"display:none;\">\n",
              "        \n",
              "  <svg xmlns=\"http://www.w3.org/2000/svg\" height=\"24px\"viewBox=\"0 0 24 24\"\n",
              "       width=\"24px\">\n",
              "    <path d=\"M0 0h24v24H0V0z\" fill=\"none\"/>\n",
              "    <path d=\"M18.56 5.44l.94 2.06.94-2.06 2.06-.94-2.06-.94-.94-2.06-.94 2.06-2.06.94zm-11 1L8.5 8.5l.94-2.06 2.06-.94-2.06-.94L8.5 2.5l-.94 2.06-2.06.94zm10 10l.94 2.06.94-2.06 2.06-.94-2.06-.94-.94-2.06-.94 2.06-2.06.94z\"/><path d=\"M17.41 7.96l-1.37-1.37c-.4-.4-.92-.59-1.43-.59-.52 0-1.04.2-1.43.59L10.3 9.45l-7.72 7.72c-.78.78-.78 2.05 0 2.83L4 21.41c.39.39.9.59 1.41.59.51 0 1.02-.2 1.41-.59l7.78-7.78 2.81-2.81c.8-.78.8-2.07 0-2.86zM5.41 20L4 18.59l7.72-7.72 1.47 1.35L5.41 20z\"/>\n",
              "  </svg>\n",
              "      </button>\n",
              "      \n",
              "  <style>\n",
              "    .colab-df-container {\n",
              "      display:flex;\n",
              "      flex-wrap:wrap;\n",
              "      gap: 12px;\n",
              "    }\n",
              "\n",
              "    .colab-df-convert {\n",
              "      background-color: #E8F0FE;\n",
              "      border: none;\n",
              "      border-radius: 50%;\n",
              "      cursor: pointer;\n",
              "      display: none;\n",
              "      fill: #1967D2;\n",
              "      height: 32px;\n",
              "      padding: 0 0 0 0;\n",
              "      width: 32px;\n",
              "    }\n",
              "\n",
              "    .colab-df-convert:hover {\n",
              "      background-color: #E2EBFA;\n",
              "      box-shadow: 0px 1px 2px rgba(60, 64, 67, 0.3), 0px 1px 3px 1px rgba(60, 64, 67, 0.15);\n",
              "      fill: #174EA6;\n",
              "    }\n",
              "\n",
              "    [theme=dark] .colab-df-convert {\n",
              "      background-color: #3B4455;\n",
              "      fill: #D2E3FC;\n",
              "    }\n",
              "\n",
              "    [theme=dark] .colab-df-convert:hover {\n",
              "      background-color: #434B5C;\n",
              "      box-shadow: 0px 1px 3px 1px rgba(0, 0, 0, 0.15);\n",
              "      filter: drop-shadow(0px 1px 2px rgba(0, 0, 0, 0.3));\n",
              "      fill: #FFFFFF;\n",
              "    }\n",
              "  </style>\n",
              "\n",
              "      <script>\n",
              "        const buttonEl =\n",
              "          document.querySelector('#df-f82670ae-7e9f-4af1-922c-89ff6780b7c6 button.colab-df-convert');\n",
              "        buttonEl.style.display =\n",
              "          google.colab.kernel.accessAllowed ? 'block' : 'none';\n",
              "\n",
              "        async function convertToInteractive(key) {\n",
              "          const element = document.querySelector('#df-f82670ae-7e9f-4af1-922c-89ff6780b7c6');\n",
              "          const dataTable =\n",
              "            await google.colab.kernel.invokeFunction('convertToInteractive',\n",
              "                                                     [key], {});\n",
              "          if (!dataTable) return;\n",
              "\n",
              "          const docLinkHtml = 'Like what you see? Visit the ' +\n",
              "            '<a target=\"_blank\" href=https://colab.research.google.com/notebooks/data_table.ipynb>data table notebook</a>'\n",
              "            + ' to learn more about interactive tables.';\n",
              "          element.innerHTML = '';\n",
              "          dataTable['output_type'] = 'display_data';\n",
              "          await google.colab.output.renderOutput(dataTable, element);\n",
              "          const docLink = document.createElement('div');\n",
              "          docLink.innerHTML = docLinkHtml;\n",
              "          element.appendChild(docLink);\n",
              "        }\n",
              "      </script>\n",
              "    </div>\n",
              "  </div>\n",
              "  "
            ]
          },
          "metadata": {},
          "execution_count": 76
        }
      ]
    },
    {
      "cell_type": "code",
      "source": [
        "Operatorzy_wsie = pd.DataFrame(rural_municipality_LTE.groupby(['Nazwa Operatora'])['Nazwa Operatora'].count().reset_index(name='RATs on rural areas')).sort_values(by='RATs on rural areas', ascending=False)\n",
        "Operatorzy_wsie"
      ],
      "metadata": {
        "colab": {
          "base_uri": "https://localhost:8080/",
          "height": 206
        },
        "id": "nT30pXyhKlB7",
        "outputId": "accf1d6c-84d1-4c33-dea1-08f0fd144de9"
      },
      "execution_count": 77,
      "outputs": [
        {
          "output_type": "execute_result",
          "data": {
            "text/plain": [
              "        Nazwa Operatora  RATs on rural areas\n",
              "2         P4 Sp. z o.o.                10827\n",
              "1    Orange Polska S.A.                 7660\n",
              "4  T-Mobile Polska S.A.                 7453\n",
              "0     AERO 2 Sp. z o.o.                 1857\n",
              "3  POLKOMTEL Sp. z o.o.                  363"
            ],
            "text/html": [
              "\n",
              "  <div id=\"df-d4ab20f5-0959-49ea-8a94-1597104dc692\">\n",
              "    <div class=\"colab-df-container\">\n",
              "      <div>\n",
              "<style scoped>\n",
              "    .dataframe tbody tr th:only-of-type {\n",
              "        vertical-align: middle;\n",
              "    }\n",
              "\n",
              "    .dataframe tbody tr th {\n",
              "        vertical-align: top;\n",
              "    }\n",
              "\n",
              "    .dataframe thead th {\n",
              "        text-align: right;\n",
              "    }\n",
              "</style>\n",
              "<table border=\"1\" class=\"dataframe\">\n",
              "  <thead>\n",
              "    <tr style=\"text-align: right;\">\n",
              "      <th></th>\n",
              "      <th>Nazwa Operatora</th>\n",
              "      <th>RATs on rural areas</th>\n",
              "    </tr>\n",
              "  </thead>\n",
              "  <tbody>\n",
              "    <tr>\n",
              "      <th>2</th>\n",
              "      <td>P4 Sp. z o.o.</td>\n",
              "      <td>10827</td>\n",
              "    </tr>\n",
              "    <tr>\n",
              "      <th>1</th>\n",
              "      <td>Orange Polska S.A.</td>\n",
              "      <td>7660</td>\n",
              "    </tr>\n",
              "    <tr>\n",
              "      <th>4</th>\n",
              "      <td>T-Mobile Polska S.A.</td>\n",
              "      <td>7453</td>\n",
              "    </tr>\n",
              "    <tr>\n",
              "      <th>0</th>\n",
              "      <td>AERO 2 Sp. z o.o.</td>\n",
              "      <td>1857</td>\n",
              "    </tr>\n",
              "    <tr>\n",
              "      <th>3</th>\n",
              "      <td>POLKOMTEL Sp. z o.o.</td>\n",
              "      <td>363</td>\n",
              "    </tr>\n",
              "  </tbody>\n",
              "</table>\n",
              "</div>\n",
              "      <button class=\"colab-df-convert\" onclick=\"convertToInteractive('df-d4ab20f5-0959-49ea-8a94-1597104dc692')\"\n",
              "              title=\"Convert this dataframe to an interactive table.\"\n",
              "              style=\"display:none;\">\n",
              "        \n",
              "  <svg xmlns=\"http://www.w3.org/2000/svg\" height=\"24px\"viewBox=\"0 0 24 24\"\n",
              "       width=\"24px\">\n",
              "    <path d=\"M0 0h24v24H0V0z\" fill=\"none\"/>\n",
              "    <path d=\"M18.56 5.44l.94 2.06.94-2.06 2.06-.94-2.06-.94-.94-2.06-.94 2.06-2.06.94zm-11 1L8.5 8.5l.94-2.06 2.06-.94-2.06-.94L8.5 2.5l-.94 2.06-2.06.94zm10 10l.94 2.06.94-2.06 2.06-.94-2.06-.94-.94-2.06-.94 2.06-2.06.94z\"/><path d=\"M17.41 7.96l-1.37-1.37c-.4-.4-.92-.59-1.43-.59-.52 0-1.04.2-1.43.59L10.3 9.45l-7.72 7.72c-.78.78-.78 2.05 0 2.83L4 21.41c.39.39.9.59 1.41.59.51 0 1.02-.2 1.41-.59l7.78-7.78 2.81-2.81c.8-.78.8-2.07 0-2.86zM5.41 20L4 18.59l7.72-7.72 1.47 1.35L5.41 20z\"/>\n",
              "  </svg>\n",
              "      </button>\n",
              "      \n",
              "  <style>\n",
              "    .colab-df-container {\n",
              "      display:flex;\n",
              "      flex-wrap:wrap;\n",
              "      gap: 12px;\n",
              "    }\n",
              "\n",
              "    .colab-df-convert {\n",
              "      background-color: #E8F0FE;\n",
              "      border: none;\n",
              "      border-radius: 50%;\n",
              "      cursor: pointer;\n",
              "      display: none;\n",
              "      fill: #1967D2;\n",
              "      height: 32px;\n",
              "      padding: 0 0 0 0;\n",
              "      width: 32px;\n",
              "    }\n",
              "\n",
              "    .colab-df-convert:hover {\n",
              "      background-color: #E2EBFA;\n",
              "      box-shadow: 0px 1px 2px rgba(60, 64, 67, 0.3), 0px 1px 3px 1px rgba(60, 64, 67, 0.15);\n",
              "      fill: #174EA6;\n",
              "    }\n",
              "\n",
              "    [theme=dark] .colab-df-convert {\n",
              "      background-color: #3B4455;\n",
              "      fill: #D2E3FC;\n",
              "    }\n",
              "\n",
              "    [theme=dark] .colab-df-convert:hover {\n",
              "      background-color: #434B5C;\n",
              "      box-shadow: 0px 1px 3px 1px rgba(0, 0, 0, 0.15);\n",
              "      filter: drop-shadow(0px 1px 2px rgba(0, 0, 0, 0.3));\n",
              "      fill: #FFFFFF;\n",
              "    }\n",
              "  </style>\n",
              "\n",
              "      <script>\n",
              "        const buttonEl =\n",
              "          document.querySelector('#df-d4ab20f5-0959-49ea-8a94-1597104dc692 button.colab-df-convert');\n",
              "        buttonEl.style.display =\n",
              "          google.colab.kernel.accessAllowed ? 'block' : 'none';\n",
              "\n",
              "        async function convertToInteractive(key) {\n",
              "          const element = document.querySelector('#df-d4ab20f5-0959-49ea-8a94-1597104dc692');\n",
              "          const dataTable =\n",
              "            await google.colab.kernel.invokeFunction('convertToInteractive',\n",
              "                                                     [key], {});\n",
              "          if (!dataTable) return;\n",
              "\n",
              "          const docLinkHtml = 'Like what you see? Visit the ' +\n",
              "            '<a target=\"_blank\" href=https://colab.research.google.com/notebooks/data_table.ipynb>data table notebook</a>'\n",
              "            + ' to learn more about interactive tables.';\n",
              "          element.innerHTML = '';\n",
              "          dataTable['output_type'] = 'display_data';\n",
              "          await google.colab.output.renderOutput(dataTable, element);\n",
              "          const docLink = document.createElement('div');\n",
              "          docLink.innerHTML = docLinkHtml;\n",
              "          element.appendChild(docLink);\n",
              "        }\n",
              "      </script>\n",
              "    </div>\n",
              "  </div>\n",
              "  "
            ]
          },
          "metadata": {},
          "execution_count": 77
        }
      ]
    },
    {
      "cell_type": "code",
      "source": [
        "Operatorzy_razem=pd.merge(pd.merge(Operatorzy, Operatorzy_miasta, on='Nazwa Operatora'), Operatorzy_wsie, on='Nazwa Operatora', how='left')\n",
        "Operatorzy_razem['RATs on rural areas'] = Operatorzy_razem['RATs on rural areas'].fillna(0).astype(int)\n",
        "Operatorzy_razem"
      ],
      "metadata": {
        "colab": {
          "base_uri": "https://localhost:8080/",
          "height": 238
        },
        "id": "RcFa9xkhMy7v",
        "outputId": "f82dabba-c3a9-49a8-a767-3ec2aeccfcee"
      },
      "execution_count": 87,
      "outputs": [
        {
          "output_type": "execute_result",
          "data": {
            "text/plain": [
              "        Nazwa Operatora  RATs count  RATs on town area  RATs on rural areas\n",
              "0         P4 Sp. z o.o.       37519              18752                10827\n",
              "1    Orange Polska S.A.       25637              12270                 7660\n",
              "2  T-Mobile Polska S.A.       25039              12188                 7453\n",
              "3     AERO 2 Sp. z o.o.        6841               3465                 1857\n",
              "4  POLKOMTEL Sp. z o.o.        1299                557                  363\n",
              "5      PGE Systemy S.A.           4                  3                    0"
            ],
            "text/html": [
              "\n",
              "  <div id=\"df-4f4a6eda-8c47-4cc2-bc5d-7486f6dc1f5f\">\n",
              "    <div class=\"colab-df-container\">\n",
              "      <div>\n",
              "<style scoped>\n",
              "    .dataframe tbody tr th:only-of-type {\n",
              "        vertical-align: middle;\n",
              "    }\n",
              "\n",
              "    .dataframe tbody tr th {\n",
              "        vertical-align: top;\n",
              "    }\n",
              "\n",
              "    .dataframe thead th {\n",
              "        text-align: right;\n",
              "    }\n",
              "</style>\n",
              "<table border=\"1\" class=\"dataframe\">\n",
              "  <thead>\n",
              "    <tr style=\"text-align: right;\">\n",
              "      <th></th>\n",
              "      <th>Nazwa Operatora</th>\n",
              "      <th>RATs count</th>\n",
              "      <th>RATs on town area</th>\n",
              "      <th>RATs on rural areas</th>\n",
              "    </tr>\n",
              "  </thead>\n",
              "  <tbody>\n",
              "    <tr>\n",
              "      <th>0</th>\n",
              "      <td>P4 Sp. z o.o.</td>\n",
              "      <td>37519</td>\n",
              "      <td>18752</td>\n",
              "      <td>10827</td>\n",
              "    </tr>\n",
              "    <tr>\n",
              "      <th>1</th>\n",
              "      <td>Orange Polska S.A.</td>\n",
              "      <td>25637</td>\n",
              "      <td>12270</td>\n",
              "      <td>7660</td>\n",
              "    </tr>\n",
              "    <tr>\n",
              "      <th>2</th>\n",
              "      <td>T-Mobile Polska S.A.</td>\n",
              "      <td>25039</td>\n",
              "      <td>12188</td>\n",
              "      <td>7453</td>\n",
              "    </tr>\n",
              "    <tr>\n",
              "      <th>3</th>\n",
              "      <td>AERO 2 Sp. z o.o.</td>\n",
              "      <td>6841</td>\n",
              "      <td>3465</td>\n",
              "      <td>1857</td>\n",
              "    </tr>\n",
              "    <tr>\n",
              "      <th>4</th>\n",
              "      <td>POLKOMTEL Sp. z o.o.</td>\n",
              "      <td>1299</td>\n",
              "      <td>557</td>\n",
              "      <td>363</td>\n",
              "    </tr>\n",
              "    <tr>\n",
              "      <th>5</th>\n",
              "      <td>PGE Systemy S.A.</td>\n",
              "      <td>4</td>\n",
              "      <td>3</td>\n",
              "      <td>0</td>\n",
              "    </tr>\n",
              "  </tbody>\n",
              "</table>\n",
              "</div>\n",
              "      <button class=\"colab-df-convert\" onclick=\"convertToInteractive('df-4f4a6eda-8c47-4cc2-bc5d-7486f6dc1f5f')\"\n",
              "              title=\"Convert this dataframe to an interactive table.\"\n",
              "              style=\"display:none;\">\n",
              "        \n",
              "  <svg xmlns=\"http://www.w3.org/2000/svg\" height=\"24px\"viewBox=\"0 0 24 24\"\n",
              "       width=\"24px\">\n",
              "    <path d=\"M0 0h24v24H0V0z\" fill=\"none\"/>\n",
              "    <path d=\"M18.56 5.44l.94 2.06.94-2.06 2.06-.94-2.06-.94-.94-2.06-.94 2.06-2.06.94zm-11 1L8.5 8.5l.94-2.06 2.06-.94-2.06-.94L8.5 2.5l-.94 2.06-2.06.94zm10 10l.94 2.06.94-2.06 2.06-.94-2.06-.94-.94-2.06-.94 2.06-2.06.94z\"/><path d=\"M17.41 7.96l-1.37-1.37c-.4-.4-.92-.59-1.43-.59-.52 0-1.04.2-1.43.59L10.3 9.45l-7.72 7.72c-.78.78-.78 2.05 0 2.83L4 21.41c.39.39.9.59 1.41.59.51 0 1.02-.2 1.41-.59l7.78-7.78 2.81-2.81c.8-.78.8-2.07 0-2.86zM5.41 20L4 18.59l7.72-7.72 1.47 1.35L5.41 20z\"/>\n",
              "  </svg>\n",
              "      </button>\n",
              "      \n",
              "  <style>\n",
              "    .colab-df-container {\n",
              "      display:flex;\n",
              "      flex-wrap:wrap;\n",
              "      gap: 12px;\n",
              "    }\n",
              "\n",
              "    .colab-df-convert {\n",
              "      background-color: #E8F0FE;\n",
              "      border: none;\n",
              "      border-radius: 50%;\n",
              "      cursor: pointer;\n",
              "      display: none;\n",
              "      fill: #1967D2;\n",
              "      height: 32px;\n",
              "      padding: 0 0 0 0;\n",
              "      width: 32px;\n",
              "    }\n",
              "\n",
              "    .colab-df-convert:hover {\n",
              "      background-color: #E2EBFA;\n",
              "      box-shadow: 0px 1px 2px rgba(60, 64, 67, 0.3), 0px 1px 3px 1px rgba(60, 64, 67, 0.15);\n",
              "      fill: #174EA6;\n",
              "    }\n",
              "\n",
              "    [theme=dark] .colab-df-convert {\n",
              "      background-color: #3B4455;\n",
              "      fill: #D2E3FC;\n",
              "    }\n",
              "\n",
              "    [theme=dark] .colab-df-convert:hover {\n",
              "      background-color: #434B5C;\n",
              "      box-shadow: 0px 1px 3px 1px rgba(0, 0, 0, 0.15);\n",
              "      filter: drop-shadow(0px 1px 2px rgba(0, 0, 0, 0.3));\n",
              "      fill: #FFFFFF;\n",
              "    }\n",
              "  </style>\n",
              "\n",
              "      <script>\n",
              "        const buttonEl =\n",
              "          document.querySelector('#df-4f4a6eda-8c47-4cc2-bc5d-7486f6dc1f5f button.colab-df-convert');\n",
              "        buttonEl.style.display =\n",
              "          google.colab.kernel.accessAllowed ? 'block' : 'none';\n",
              "\n",
              "        async function convertToInteractive(key) {\n",
              "          const element = document.querySelector('#df-4f4a6eda-8c47-4cc2-bc5d-7486f6dc1f5f');\n",
              "          const dataTable =\n",
              "            await google.colab.kernel.invokeFunction('convertToInteractive',\n",
              "                                                     [key], {});\n",
              "          if (!dataTable) return;\n",
              "\n",
              "          const docLinkHtml = 'Like what you see? Visit the ' +\n",
              "            '<a target=\"_blank\" href=https://colab.research.google.com/notebooks/data_table.ipynb>data table notebook</a>'\n",
              "            + ' to learn more about interactive tables.';\n",
              "          element.innerHTML = '';\n",
              "          dataTable['output_type'] = 'display_data';\n",
              "          await google.colab.output.renderOutput(dataTable, element);\n",
              "          const docLink = document.createElement('div');\n",
              "          docLink.innerHTML = docLinkHtml;\n",
              "          element.appendChild(docLink);\n",
              "        }\n",
              "      </script>\n",
              "    </div>\n",
              "  </div>\n",
              "  "
            ]
          },
          "metadata": {},
          "execution_count": 87
        }
      ]
    },
    {
      "cell_type": "markdown",
      "source": [
        "###PGE"
      ],
      "metadata": {
        "id": "HUrRiq3qQaUR"
      }
    },
    {
      "cell_type": "code",
      "source": [
        "LTE[LTE['Nazwa Operatora']=='PGE Systemy S.A.']"
      ],
      "metadata": {
        "colab": {
          "base_uri": "https://localhost:8080/",
          "height": 175
        },
        "id": "Eb3d8LBNQdMX",
        "outputId": "5b27e4cf-edcc-40df-8da6-08570cc8e37b"
      },
      "execution_count": 88,
      "outputs": [
        {
          "output_type": "execute_result",
          "data": {
            "text/plain": [
              "   RAT Częstotliwość   Nazwa Operatora             Nr Decyzji Rodzaj decyzji  \\\n",
              "0  LTE           450  PGE Systemy S.A.  LTE450/18/120001/1/21              P   \n",
              "1  LTE           450  PGE Systemy S.A.  LTE450/18/120002/1/21              P   \n",
              "2  LTE           450  PGE Systemy S.A.  LTE450/18/330001/1/21              P   \n",
              "3  LTE           450  PGE Systemy S.A.  LTE450/18/330002/1/21              P   \n",
              "\n",
              "  Data ważności  Dł geogr stacji  Szer geogr stacji Miejscowość  \\\n",
              "0    2031-02-28        23.170000          53.129444   Białystok   \n",
              "1    2031-02-28        23.010833          53.853333    Augustów   \n",
              "2    2031-02-28        16.896389          52.449722      Poznań   \n",
              "3    2031-02-28        17.557500          52.335000    Września   \n",
              "\n",
              "        Lokalizacja IdStacji    TERYT  \n",
              "0    Elektryczna 13   120001  2061011  \n",
              "1     Elektryczna 2   120002  2001011  \n",
              "2   Strzeszyńska 58   330001  3064011  \n",
              "3  Czerniejewska 2a   330002  3030054  "
            ],
            "text/html": [
              "\n",
              "  <div id=\"df-925729e9-c6de-4023-b872-7bc8ce134380\">\n",
              "    <div class=\"colab-df-container\">\n",
              "      <div>\n",
              "<style scoped>\n",
              "    .dataframe tbody tr th:only-of-type {\n",
              "        vertical-align: middle;\n",
              "    }\n",
              "\n",
              "    .dataframe tbody tr th {\n",
              "        vertical-align: top;\n",
              "    }\n",
              "\n",
              "    .dataframe thead th {\n",
              "        text-align: right;\n",
              "    }\n",
              "</style>\n",
              "<table border=\"1\" class=\"dataframe\">\n",
              "  <thead>\n",
              "    <tr style=\"text-align: right;\">\n",
              "      <th></th>\n",
              "      <th>RAT</th>\n",
              "      <th>Częstotliwość</th>\n",
              "      <th>Nazwa Operatora</th>\n",
              "      <th>Nr Decyzji</th>\n",
              "      <th>Rodzaj decyzji</th>\n",
              "      <th>Data ważności</th>\n",
              "      <th>Dł geogr stacji</th>\n",
              "      <th>Szer geogr stacji</th>\n",
              "      <th>Miejscowość</th>\n",
              "      <th>Lokalizacja</th>\n",
              "      <th>IdStacji</th>\n",
              "      <th>TERYT</th>\n",
              "    </tr>\n",
              "  </thead>\n",
              "  <tbody>\n",
              "    <tr>\n",
              "      <th>0</th>\n",
              "      <td>LTE</td>\n",
              "      <td>450</td>\n",
              "      <td>PGE Systemy S.A.</td>\n",
              "      <td>LTE450/18/120001/1/21</td>\n",
              "      <td>P</td>\n",
              "      <td>2031-02-28</td>\n",
              "      <td>23.170000</td>\n",
              "      <td>53.129444</td>\n",
              "      <td>Białystok</td>\n",
              "      <td>Elektryczna 13</td>\n",
              "      <td>120001</td>\n",
              "      <td>2061011</td>\n",
              "    </tr>\n",
              "    <tr>\n",
              "      <th>1</th>\n",
              "      <td>LTE</td>\n",
              "      <td>450</td>\n",
              "      <td>PGE Systemy S.A.</td>\n",
              "      <td>LTE450/18/120002/1/21</td>\n",
              "      <td>P</td>\n",
              "      <td>2031-02-28</td>\n",
              "      <td>23.010833</td>\n",
              "      <td>53.853333</td>\n",
              "      <td>Augustów</td>\n",
              "      <td>Elektryczna 2</td>\n",
              "      <td>120002</td>\n",
              "      <td>2001011</td>\n",
              "    </tr>\n",
              "    <tr>\n",
              "      <th>2</th>\n",
              "      <td>LTE</td>\n",
              "      <td>450</td>\n",
              "      <td>PGE Systemy S.A.</td>\n",
              "      <td>LTE450/18/330001/1/21</td>\n",
              "      <td>P</td>\n",
              "      <td>2031-02-28</td>\n",
              "      <td>16.896389</td>\n",
              "      <td>52.449722</td>\n",
              "      <td>Poznań</td>\n",
              "      <td>Strzeszyńska 58</td>\n",
              "      <td>330001</td>\n",
              "      <td>3064011</td>\n",
              "    </tr>\n",
              "    <tr>\n",
              "      <th>3</th>\n",
              "      <td>LTE</td>\n",
              "      <td>450</td>\n",
              "      <td>PGE Systemy S.A.</td>\n",
              "      <td>LTE450/18/330002/1/21</td>\n",
              "      <td>P</td>\n",
              "      <td>2031-02-28</td>\n",
              "      <td>17.557500</td>\n",
              "      <td>52.335000</td>\n",
              "      <td>Września</td>\n",
              "      <td>Czerniejewska 2a</td>\n",
              "      <td>330002</td>\n",
              "      <td>3030054</td>\n",
              "    </tr>\n",
              "  </tbody>\n",
              "</table>\n",
              "</div>\n",
              "      <button class=\"colab-df-convert\" onclick=\"convertToInteractive('df-925729e9-c6de-4023-b872-7bc8ce134380')\"\n",
              "              title=\"Convert this dataframe to an interactive table.\"\n",
              "              style=\"display:none;\">\n",
              "        \n",
              "  <svg xmlns=\"http://www.w3.org/2000/svg\" height=\"24px\"viewBox=\"0 0 24 24\"\n",
              "       width=\"24px\">\n",
              "    <path d=\"M0 0h24v24H0V0z\" fill=\"none\"/>\n",
              "    <path d=\"M18.56 5.44l.94 2.06.94-2.06 2.06-.94-2.06-.94-.94-2.06-.94 2.06-2.06.94zm-11 1L8.5 8.5l.94-2.06 2.06-.94-2.06-.94L8.5 2.5l-.94 2.06-2.06.94zm10 10l.94 2.06.94-2.06 2.06-.94-2.06-.94-.94-2.06-.94 2.06-2.06.94z\"/><path d=\"M17.41 7.96l-1.37-1.37c-.4-.4-.92-.59-1.43-.59-.52 0-1.04.2-1.43.59L10.3 9.45l-7.72 7.72c-.78.78-.78 2.05 0 2.83L4 21.41c.39.39.9.59 1.41.59.51 0 1.02-.2 1.41-.59l7.78-7.78 2.81-2.81c.8-.78.8-2.07 0-2.86zM5.41 20L4 18.59l7.72-7.72 1.47 1.35L5.41 20z\"/>\n",
              "  </svg>\n",
              "      </button>\n",
              "      \n",
              "  <style>\n",
              "    .colab-df-container {\n",
              "      display:flex;\n",
              "      flex-wrap:wrap;\n",
              "      gap: 12px;\n",
              "    }\n",
              "\n",
              "    .colab-df-convert {\n",
              "      background-color: #E8F0FE;\n",
              "      border: none;\n",
              "      border-radius: 50%;\n",
              "      cursor: pointer;\n",
              "      display: none;\n",
              "      fill: #1967D2;\n",
              "      height: 32px;\n",
              "      padding: 0 0 0 0;\n",
              "      width: 32px;\n",
              "    }\n",
              "\n",
              "    .colab-df-convert:hover {\n",
              "      background-color: #E2EBFA;\n",
              "      box-shadow: 0px 1px 2px rgba(60, 64, 67, 0.3), 0px 1px 3px 1px rgba(60, 64, 67, 0.15);\n",
              "      fill: #174EA6;\n",
              "    }\n",
              "\n",
              "    [theme=dark] .colab-df-convert {\n",
              "      background-color: #3B4455;\n",
              "      fill: #D2E3FC;\n",
              "    }\n",
              "\n",
              "    [theme=dark] .colab-df-convert:hover {\n",
              "      background-color: #434B5C;\n",
              "      box-shadow: 0px 1px 3px 1px rgba(0, 0, 0, 0.15);\n",
              "      filter: drop-shadow(0px 1px 2px rgba(0, 0, 0, 0.3));\n",
              "      fill: #FFFFFF;\n",
              "    }\n",
              "  </style>\n",
              "\n",
              "      <script>\n",
              "        const buttonEl =\n",
              "          document.querySelector('#df-925729e9-c6de-4023-b872-7bc8ce134380 button.colab-df-convert');\n",
              "        buttonEl.style.display =\n",
              "          google.colab.kernel.accessAllowed ? 'block' : 'none';\n",
              "\n",
              "        async function convertToInteractive(key) {\n",
              "          const element = document.querySelector('#df-925729e9-c6de-4023-b872-7bc8ce134380');\n",
              "          const dataTable =\n",
              "            await google.colab.kernel.invokeFunction('convertToInteractive',\n",
              "                                                     [key], {});\n",
              "          if (!dataTable) return;\n",
              "\n",
              "          const docLinkHtml = 'Like what you see? Visit the ' +\n",
              "            '<a target=\"_blank\" href=https://colab.research.google.com/notebooks/data_table.ipynb>data table notebook</a>'\n",
              "            + ' to learn more about interactive tables.';\n",
              "          element.innerHTML = '';\n",
              "          dataTable['output_type'] = 'display_data';\n",
              "          await google.colab.output.renderOutput(dataTable, element);\n",
              "          const docLink = document.createElement('div');\n",
              "          docLink.innerHTML = docLinkHtml;\n",
              "          element.appendChild(docLink);\n",
              "        }\n",
              "      </script>\n",
              "    </div>\n",
              "  </div>\n",
              "  "
            ]
          },
          "metadata": {},
          "execution_count": 88
        }
      ]
    },
    {
      "cell_type": "markdown",
      "source": [
        "###Pozwolenia"
      ],
      "metadata": {
        "id": "PgtoMikoQ_MV"
      }
    }
  ]
}