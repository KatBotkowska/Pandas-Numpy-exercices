{
  "nbformat": 4,
  "nbformat_minor": 0,
  "metadata": {
    "colab": {
      "name": "Selecting_subsets_1.ipynb",
      "version": "0.3.2",
      "provenance": [],
      "collapsed_sections": []
    },
    "kernelspec": {
      "name": "python3",
      "display_name": "Python 3"
    }
  },
  "cells": [
    {
      "cell_type": "markdown",
      "metadata": {
        "id": "Z7pAC57NoG-B",
        "colab_type": "text"
      },
      "source": [
        "### How to select subsets in Pandas - part 1: .loc  .iloc\n",
        "wg https://medium.com/dunder-data/selecting-subsets-of-data-in-pandas-6fcd0170be9c"
      ]
    },
    {
      "cell_type": "code",
      "metadata": {
        "id": "1-jMyI3Zn_m5",
        "colab_type": "code",
        "colab": {}
      },
      "source": [
        "import pandas as pd\n",
        "import numpy as np"
      ],
      "execution_count": 0,
      "outputs": []
    },
    {
      "cell_type": "markdown",
      "metadata": {
        "id": "6bEi0y89sLBP",
        "colab_type": "text"
      },
      "source": [
        "*Przy czytaniu plików csv musi być do path wskazany raw - dla pliku, inaczej czyta plik z html, pierwsza kolumna została wskazana jako index*"
      ]
    },
    {
      "cell_type": "code",
      "metadata": {
        "id": "5qO3zPZuohGM",
        "colab_type": "code",
        "colab": {}
      },
      "source": [
        "path = 'https://raw.githubusercontent.com/tdpetrou/Learn-Pandas/master/data/sample_data.csv'\n",
        "df = pd.read_csv(path, sep = ',', header = [0], index_col = 0)"
      ],
      "execution_count": 0,
      "outputs": []
    },
    {
      "cell_type": "code",
      "metadata": {
        "id": "d_hHDr5IpotJ",
        "colab_type": "code",
        "colab": {
          "base_uri": "https://localhost:8080/",
          "height": 153
        },
        "outputId": "7f0a09eb-e20b-421f-c027-b918bf679131"
      },
      "source": [
        "print(df)"
      ],
      "execution_count": 24,
      "outputs": [
        {
          "output_type": "stream",
          "text": [
            "          state  color    food  age  height  score\n",
            "Jane         NY   blue   Steak   30     165    4.6\n",
            "Niko         TX  green    Lamb    2      70    8.3\n",
            "Aaron        FL    red   Mango   12     120    9.0\n",
            "Penelope     AL  white   Apple    4      80    3.3\n",
            "Dean         AK   gray  Cheese   32     180    1.8\n",
            "Christina    TX  black   Melon   33     172    9.5\n",
            "Cornelia     TX    red   Beans   69     150    2.2\n"
          ],
          "name": "stdout"
        }
      ]
    },
    {
      "cell_type": "markdown",
      "metadata": {
        "id": "x4ftAmIUsZCC",
        "colab_type": "text"
      },
      "source": [
        "### DataFrame components"
      ]
    },
    {
      "cell_type": "code",
      "metadata": {
        "id": "tzeg39JcsZ7w",
        "colab_type": "code",
        "colab": {}
      },
      "source": [
        "index = df.index\n",
        "columns = df.columns\n",
        "values = df.values"
      ],
      "execution_count": 0,
      "outputs": []
    },
    {
      "cell_type": "code",
      "metadata": {
        "id": "BLfTGL1PsaDr",
        "colab_type": "code",
        "colab": {
          "base_uri": "https://localhost:8080/",
          "height": 34
        },
        "outputId": "5419216d-5c23-4d64-9733-bbf24398ca01"
      },
      "source": [
        "index"
      ],
      "execution_count": 26,
      "outputs": [
        {
          "output_type": "execute_result",
          "data": {
            "text/plain": [
              "Index(['Jane', 'Niko', 'Aaron', 'Penelope', 'Dean', 'Christina', 'Cornelia'], dtype='object')"
            ]
          },
          "metadata": {
            "tags": []
          },
          "execution_count": 26
        }
      ]
    },
    {
      "cell_type": "code",
      "metadata": {
        "id": "c3SPejULsaBA",
        "colab_type": "code",
        "colab": {
          "base_uri": "https://localhost:8080/",
          "height": 34
        },
        "outputId": "96926c04-27d9-4002-d3ba-20b613e4170c"
      },
      "source": [
        "columns"
      ],
      "execution_count": 27,
      "outputs": [
        {
          "output_type": "execute_result",
          "data": {
            "text/plain": [
              "Index(['state', 'color', 'food', 'age', 'height', 'score'], dtype='object')"
            ]
          },
          "metadata": {
            "tags": []
          },
          "execution_count": 27
        }
      ]
    },
    {
      "cell_type": "code",
      "metadata": {
        "id": "m7nnCuQ1sWYm",
        "colab_type": "code",
        "colab": {
          "base_uri": "https://localhost:8080/",
          "height": 136
        },
        "outputId": "6a780126-a957-4916-d3eb-067d199e3a23"
      },
      "source": [
        "values"
      ],
      "execution_count": 28,
      "outputs": [
        {
          "output_type": "execute_result",
          "data": {
            "text/plain": [
              "array([['NY', 'blue', 'Steak', 30, 165, 4.6],\n",
              "       ['TX', 'green', 'Lamb', 2, 70, 8.3],\n",
              "       ['FL', 'red', 'Mango', 12, 120, 9.0],\n",
              "       ['AL', 'white', 'Apple', 4, 80, 3.3],\n",
              "       ['AK', 'gray', 'Cheese', 32, 180, 1.8],\n",
              "       ['TX', 'black', 'Melon', 33, 172, 9.5],\n",
              "       ['TX', 'red', 'Beans', 69, 150, 2.2]], dtype=object)"
            ]
          },
          "metadata": {
            "tags": []
          },
          "execution_count": 28
        }
      ]
    },
    {
      "cell_type": "code",
      "metadata": {
        "id": "8VstMpXVsxvB",
        "colab_type": "code",
        "colab": {
          "base_uri": "https://localhost:8080/",
          "height": 34
        },
        "outputId": "d9606f91-44dc-449f-d749-f84c6a97a4cd"
      },
      "source": [
        "type(index)"
      ],
      "execution_count": 29,
      "outputs": [
        {
          "output_type": "execute_result",
          "data": {
            "text/plain": [
              "pandas.core.indexes.base.Index"
            ]
          },
          "metadata": {
            "tags": []
          },
          "execution_count": 29
        }
      ]
    },
    {
      "cell_type": "code",
      "metadata": {
        "id": "LYH4B-_Usz_f",
        "colab_type": "code",
        "colab": {
          "base_uri": "https://localhost:8080/",
          "height": 34
        },
        "outputId": "179b6a11-f79f-4951-d1f7-76ada3a3f4c6"
      },
      "source": [
        "type(columns)"
      ],
      "execution_count": 30,
      "outputs": [
        {
          "output_type": "execute_result",
          "data": {
            "text/plain": [
              "pandas.core.indexes.base.Index"
            ]
          },
          "metadata": {
            "tags": []
          },
          "execution_count": 30
        }
      ]
    },
    {
      "cell_type": "code",
      "metadata": {
        "id": "2c0ffRtfs2p9",
        "colab_type": "code",
        "colab": {
          "base_uri": "https://localhost:8080/",
          "height": 34
        },
        "outputId": "dc294b85-f9a2-497f-a9d9-0dee2e30c816"
      },
      "source": [
        "type(values)"
      ],
      "execution_count": 31,
      "outputs": [
        {
          "output_type": "execute_result",
          "data": {
            "text/plain": [
              "numpy.ndarray"
            ]
          },
          "metadata": {
            "tags": []
          },
          "execution_count": 31
        }
      ]
    },
    {
      "cell_type": "markdown",
      "metadata": {
        "id": "_5lOawxMs7Q5",
        "colab_type": "text"
      },
      "source": [
        "*Zarówno index i columns mają ten sam typ: index - wartości \"nagłówków\" dla kolumn i wierszy.\n",
        "Wartości samej tabeli są elementem macierzy -np ndarray - kontenera na dane w NumPy*"
      ]
    },
    {
      "cell_type": "markdown",
      "metadata": {
        "id": "kzNcx_16tfr6",
        "colab_type": "text"
      },
      "source": [
        "### Wybieranie kolumn"
      ]
    },
    {
      "cell_type": "code",
      "metadata": {
        "id": "ltCIoMzitkMs",
        "colab_type": "code",
        "colab": {
          "base_uri": "https://localhost:8080/",
          "height": 153
        },
        "outputId": "8a2f1eb0-3504-4f22-e032-bf2b891d4d34"
      },
      "source": [
        "df['food']"
      ],
      "execution_count": 32,
      "outputs": [
        {
          "output_type": "execute_result",
          "data": {
            "text/plain": [
              "Jane          Steak\n",
              "Niko           Lamb\n",
              "Aaron         Mango\n",
              "Penelope      Apple\n",
              "Dean         Cheese\n",
              "Christina     Melon\n",
              "Cornelia      Beans\n",
              "Name: food, dtype: object"
            ]
          },
          "metadata": {
            "tags": []
          },
          "execution_count": 32
        }
      ]
    },
    {
      "cell_type": "markdown",
      "metadata": {
        "id": "ZlzIf8BotvRH",
        "colab_type": "text"
      },
      "source": [
        "*Przy wybieraniu kolumn otrzymujemy kontener z danymi - serię. Jest to jednowymiarowa sekwencja danych z nagłówkami.  W skład serii wchodzi: index (w tym przypadku imiona) oraz wartości(dane - w tym przypadku: food). Nie ma kolumn w serii.*"
      ]
    },
    {
      "cell_type": "code",
      "metadata": {
        "id": "bkNuiHW7uXeO",
        "colab_type": "code",
        "colab": {
          "base_uri": "https://localhost:8080/",
          "height": 266
        },
        "outputId": "6563b026-fac5-42f1-ad8a-eb777e18801f"
      },
      "source": [
        "df[['color','food','score']] #przy wybieraniu kilku kolumn - podwójny []-lista kolumn"
      ],
      "execution_count": 37,
      "outputs": [
        {
          "output_type": "execute_result",
          "data": {
            "text/html": [
              "<div>\n",
              "<style scoped>\n",
              "    .dataframe tbody tr th:only-of-type {\n",
              "        vertical-align: middle;\n",
              "    }\n",
              "\n",
              "    .dataframe tbody tr th {\n",
              "        vertical-align: top;\n",
              "    }\n",
              "\n",
              "    .dataframe thead th {\n",
              "        text-align: right;\n",
              "    }\n",
              "</style>\n",
              "<table border=\"1\" class=\"dataframe\">\n",
              "  <thead>\n",
              "    <tr style=\"text-align: right;\">\n",
              "      <th></th>\n",
              "      <th>color</th>\n",
              "      <th>food</th>\n",
              "      <th>score</th>\n",
              "    </tr>\n",
              "  </thead>\n",
              "  <tbody>\n",
              "    <tr>\n",
              "      <th>Jane</th>\n",
              "      <td>blue</td>\n",
              "      <td>Steak</td>\n",
              "      <td>4.6</td>\n",
              "    </tr>\n",
              "    <tr>\n",
              "      <th>Niko</th>\n",
              "      <td>green</td>\n",
              "      <td>Lamb</td>\n",
              "      <td>8.3</td>\n",
              "    </tr>\n",
              "    <tr>\n",
              "      <th>Aaron</th>\n",
              "      <td>red</td>\n",
              "      <td>Mango</td>\n",
              "      <td>9.0</td>\n",
              "    </tr>\n",
              "    <tr>\n",
              "      <th>Penelope</th>\n",
              "      <td>white</td>\n",
              "      <td>Apple</td>\n",
              "      <td>3.3</td>\n",
              "    </tr>\n",
              "    <tr>\n",
              "      <th>Dean</th>\n",
              "      <td>gray</td>\n",
              "      <td>Cheese</td>\n",
              "      <td>1.8</td>\n",
              "    </tr>\n",
              "    <tr>\n",
              "      <th>Christina</th>\n",
              "      <td>black</td>\n",
              "      <td>Melon</td>\n",
              "      <td>9.5</td>\n",
              "    </tr>\n",
              "    <tr>\n",
              "      <th>Cornelia</th>\n",
              "      <td>red</td>\n",
              "      <td>Beans</td>\n",
              "      <td>2.2</td>\n",
              "    </tr>\n",
              "  </tbody>\n",
              "</table>\n",
              "</div>"
            ],
            "text/plain": [
              "           color    food  score\n",
              "Jane        blue   Steak    4.6\n",
              "Niko       green    Lamb    8.3\n",
              "Aaron        red   Mango    9.0\n",
              "Penelope   white   Apple    3.3\n",
              "Dean        gray  Cheese    1.8\n",
              "Christina  black   Melon    9.5\n",
              "Cornelia     red   Beans    2.2"
            ]
          },
          "metadata": {
            "tags": []
          },
          "execution_count": 37
        }
      ]
    },
    {
      "cell_type": "markdown",
      "metadata": {
        "id": "HbYUcBXKvOse",
        "colab_type": "text"
      },
      "source": [
        "*W tym przypadku otrzymujemy DataFrame, a nie serię*"
      ]
    },
    {
      "cell_type": "code",
      "metadata": {
        "id": "B0ADt9BKvEud",
        "colab_type": "code",
        "colab": {
          "base_uri": "https://localhost:8080/",
          "height": 266
        },
        "outputId": "55e0784d-c433-4c9d-aed0-4e1b897dbf1a"
      },
      "source": [
        "df[['food']] #aby otrzymać DataFrame dla 1 kolumny, trzeba ją podać jako listę - podwójny[], wygląda podobnie, ale inny kontner"
      ],
      "execution_count": 38,
      "outputs": [
        {
          "output_type": "execute_result",
          "data": {
            "text/html": [
              "<div>\n",
              "<style scoped>\n",
              "    .dataframe tbody tr th:only-of-type {\n",
              "        vertical-align: middle;\n",
              "    }\n",
              "\n",
              "    .dataframe tbody tr th {\n",
              "        vertical-align: top;\n",
              "    }\n",
              "\n",
              "    .dataframe thead th {\n",
              "        text-align: right;\n",
              "    }\n",
              "</style>\n",
              "<table border=\"1\" class=\"dataframe\">\n",
              "  <thead>\n",
              "    <tr style=\"text-align: right;\">\n",
              "      <th></th>\n",
              "      <th>food</th>\n",
              "    </tr>\n",
              "  </thead>\n",
              "  <tbody>\n",
              "    <tr>\n",
              "      <th>Jane</th>\n",
              "      <td>Steak</td>\n",
              "    </tr>\n",
              "    <tr>\n",
              "      <th>Niko</th>\n",
              "      <td>Lamb</td>\n",
              "    </tr>\n",
              "    <tr>\n",
              "      <th>Aaron</th>\n",
              "      <td>Mango</td>\n",
              "    </tr>\n",
              "    <tr>\n",
              "      <th>Penelope</th>\n",
              "      <td>Apple</td>\n",
              "    </tr>\n",
              "    <tr>\n",
              "      <th>Dean</th>\n",
              "      <td>Cheese</td>\n",
              "    </tr>\n",
              "    <tr>\n",
              "      <th>Christina</th>\n",
              "      <td>Melon</td>\n",
              "    </tr>\n",
              "    <tr>\n",
              "      <th>Cornelia</th>\n",
              "      <td>Beans</td>\n",
              "    </tr>\n",
              "  </tbody>\n",
              "</table>\n",
              "</div>"
            ],
            "text/plain": [
              "             food\n",
              "Jane        Steak\n",
              "Niko         Lamb\n",
              "Aaron       Mango\n",
              "Penelope    Apple\n",
              "Dean       Cheese\n",
              "Christina   Melon\n",
              "Cornelia    Beans"
            ]
          },
          "metadata": {
            "tags": []
          },
          "execution_count": 38
        }
      ]
    },
    {
      "cell_type": "code",
      "metadata": {
        "id": "RoOMnCZSvcsI",
        "colab_type": "code",
        "colab": {
          "base_uri": "https://localhost:8080/",
          "height": 266
        },
        "outputId": "928a6b69-1dba-4eab-aa04-817c687cf418"
      },
      "source": [
        "df[['height', 'color']] #kolejność nie jest ważna"
      ],
      "execution_count": 39,
      "outputs": [
        {
          "output_type": "execute_result",
          "data": {
            "text/html": [
              "<div>\n",
              "<style scoped>\n",
              "    .dataframe tbody tr th:only-of-type {\n",
              "        vertical-align: middle;\n",
              "    }\n",
              "\n",
              "    .dataframe tbody tr th {\n",
              "        vertical-align: top;\n",
              "    }\n",
              "\n",
              "    .dataframe thead th {\n",
              "        text-align: right;\n",
              "    }\n",
              "</style>\n",
              "<table border=\"1\" class=\"dataframe\">\n",
              "  <thead>\n",
              "    <tr style=\"text-align: right;\">\n",
              "      <th></th>\n",
              "      <th>height</th>\n",
              "      <th>color</th>\n",
              "    </tr>\n",
              "  </thead>\n",
              "  <tbody>\n",
              "    <tr>\n",
              "      <th>Jane</th>\n",
              "      <td>165</td>\n",
              "      <td>blue</td>\n",
              "    </tr>\n",
              "    <tr>\n",
              "      <th>Niko</th>\n",
              "      <td>70</td>\n",
              "      <td>green</td>\n",
              "    </tr>\n",
              "    <tr>\n",
              "      <th>Aaron</th>\n",
              "      <td>120</td>\n",
              "      <td>red</td>\n",
              "    </tr>\n",
              "    <tr>\n",
              "      <th>Penelope</th>\n",
              "      <td>80</td>\n",
              "      <td>white</td>\n",
              "    </tr>\n",
              "    <tr>\n",
              "      <th>Dean</th>\n",
              "      <td>180</td>\n",
              "      <td>gray</td>\n",
              "    </tr>\n",
              "    <tr>\n",
              "      <th>Christina</th>\n",
              "      <td>172</td>\n",
              "      <td>black</td>\n",
              "    </tr>\n",
              "    <tr>\n",
              "      <th>Cornelia</th>\n",
              "      <td>150</td>\n",
              "      <td>red</td>\n",
              "    </tr>\n",
              "  </tbody>\n",
              "</table>\n",
              "</div>"
            ],
            "text/plain": [
              "           height  color\n",
              "Jane          165   blue\n",
              "Niko           70  green\n",
              "Aaron         120    red\n",
              "Penelope       80  white\n",
              "Dean          180   gray\n",
              "Christina     172  black\n",
              "Cornelia      150    red"
            ]
          },
          "metadata": {
            "tags": []
          },
          "execution_count": 39
        }
      ]
    },
    {
      "cell_type": "markdown",
      "metadata": {
        "id": "AyVU-cc0vqod",
        "colab_type": "text"
      },
      "source": [
        "*Najczęstsze błędy*\n",
        "\n",
        "1.   Literówka w nazwie kolumny: 'colour' zamiast 'color' - KeyError\n",
        "2.   Jak sie zapomni listy do wybierania kilku kolumn = df['color', 'age'] zamiast df[['color', 'age']]-też KeyError\n",
        "\n"
      ]
    },
    {
      "cell_type": "markdown",
      "metadata": {
        "id": "Qd9K1kfNw9ct",
        "colab_type": "text"
      },
      "source": [
        "### .loc \n",
        "Indeksowanie za pomocą .loc- można wybierać wiersze lub kolumny, ale jedynie przez nazwę danej kolumny czy wiersza"
      ]
    },
    {
      "cell_type": "code",
      "metadata": {
        "id": "EJTe6uqQxPnE",
        "colab_type": "code",
        "colab": {
          "base_uri": "https://localhost:8080/",
          "height": 136
        },
        "outputId": "d7e3bbd7-a750-44db-e79f-f4eccfa82777"
      },
      "source": [
        "df.loc['Niko'] #zwraca serię, gdzie kolumny stały się indexem, a nazwa Serii to nazwa wybieranej kolumny"
      ],
      "execution_count": 40,
      "outputs": [
        {
          "output_type": "execute_result",
          "data": {
            "text/plain": [
              "state        TX\n",
              "color     green\n",
              "food       Lamb\n",
              "age           2\n",
              "height       70\n",
              "score       8.3\n",
              "Name: Niko, dtype: object"
            ]
          },
          "metadata": {
            "tags": []
          },
          "execution_count": 40
        }
      ]
    },
    {
      "cell_type": "code",
      "metadata": {
        "id": "T_MLm7vlxifO",
        "colab_type": "code",
        "colab": {
          "base_uri": "https://localhost:8080/",
          "height": 111
        },
        "outputId": "2a9e7416-7d9c-46e9-ecfb-acfdf5e921c0"
      },
      "source": [
        "df.loc[['Niko', 'Penelope']] #zwraca DF - dla kilku wierszy, które trzeba podać jako listę: [[]]"
      ],
      "execution_count": 41,
      "outputs": [
        {
          "output_type": "execute_result",
          "data": {
            "text/html": [
              "<div>\n",
              "<style scoped>\n",
              "    .dataframe tbody tr th:only-of-type {\n",
              "        vertical-align: middle;\n",
              "    }\n",
              "\n",
              "    .dataframe tbody tr th {\n",
              "        vertical-align: top;\n",
              "    }\n",
              "\n",
              "    .dataframe thead th {\n",
              "        text-align: right;\n",
              "    }\n",
              "</style>\n",
              "<table border=\"1\" class=\"dataframe\">\n",
              "  <thead>\n",
              "    <tr style=\"text-align: right;\">\n",
              "      <th></th>\n",
              "      <th>state</th>\n",
              "      <th>color</th>\n",
              "      <th>food</th>\n",
              "      <th>age</th>\n",
              "      <th>height</th>\n",
              "      <th>score</th>\n",
              "    </tr>\n",
              "  </thead>\n",
              "  <tbody>\n",
              "    <tr>\n",
              "      <th>Niko</th>\n",
              "      <td>TX</td>\n",
              "      <td>green</td>\n",
              "      <td>Lamb</td>\n",
              "      <td>2</td>\n",
              "      <td>70</td>\n",
              "      <td>8.3</td>\n",
              "    </tr>\n",
              "    <tr>\n",
              "      <th>Penelope</th>\n",
              "      <td>AL</td>\n",
              "      <td>white</td>\n",
              "      <td>Apple</td>\n",
              "      <td>4</td>\n",
              "      <td>80</td>\n",
              "      <td>3.3</td>\n",
              "    </tr>\n",
              "  </tbody>\n",
              "</table>\n",
              "</div>"
            ],
            "text/plain": [
              "         state  color   food  age  height  score\n",
              "Niko        TX  green   Lamb    2      70    8.3\n",
              "Penelope    AL  white  Apple    4      80    3.3"
            ]
          },
          "metadata": {
            "tags": []
          },
          "execution_count": 41
        }
      ]
    },
    {
      "cell_type": "code",
      "metadata": {
        "id": "pSCSWP3xxz8f",
        "colab_type": "code",
        "colab": {
          "base_uri": "https://localhost:8080/",
          "height": 173
        },
        "outputId": "4ea837c7-741a-476a-fec0-96e618c8a878"
      },
      "source": [
        "df.loc['Niko':'Dean'] #wycinek z użyciem :, ale bez listy. Uwaga: uwzględnia ostatnią wartość: Dean, inaczej niz np w listach Pythona"
      ],
      "execution_count": 43,
      "outputs": [
        {
          "output_type": "execute_result",
          "data": {
            "text/html": [
              "<div>\n",
              "<style scoped>\n",
              "    .dataframe tbody tr th:only-of-type {\n",
              "        vertical-align: middle;\n",
              "    }\n",
              "\n",
              "    .dataframe tbody tr th {\n",
              "        vertical-align: top;\n",
              "    }\n",
              "\n",
              "    .dataframe thead th {\n",
              "        text-align: right;\n",
              "    }\n",
              "</style>\n",
              "<table border=\"1\" class=\"dataframe\">\n",
              "  <thead>\n",
              "    <tr style=\"text-align: right;\">\n",
              "      <th></th>\n",
              "      <th>state</th>\n",
              "      <th>color</th>\n",
              "      <th>food</th>\n",
              "      <th>age</th>\n",
              "      <th>height</th>\n",
              "      <th>score</th>\n",
              "    </tr>\n",
              "  </thead>\n",
              "  <tbody>\n",
              "    <tr>\n",
              "      <th>Niko</th>\n",
              "      <td>TX</td>\n",
              "      <td>green</td>\n",
              "      <td>Lamb</td>\n",
              "      <td>2</td>\n",
              "      <td>70</td>\n",
              "      <td>8.3</td>\n",
              "    </tr>\n",
              "    <tr>\n",
              "      <th>Aaron</th>\n",
              "      <td>FL</td>\n",
              "      <td>red</td>\n",
              "      <td>Mango</td>\n",
              "      <td>12</td>\n",
              "      <td>120</td>\n",
              "      <td>9.0</td>\n",
              "    </tr>\n",
              "    <tr>\n",
              "      <th>Penelope</th>\n",
              "      <td>AL</td>\n",
              "      <td>white</td>\n",
              "      <td>Apple</td>\n",
              "      <td>4</td>\n",
              "      <td>80</td>\n",
              "      <td>3.3</td>\n",
              "    </tr>\n",
              "    <tr>\n",
              "      <th>Dean</th>\n",
              "      <td>AK</td>\n",
              "      <td>gray</td>\n",
              "      <td>Cheese</td>\n",
              "      <td>32</td>\n",
              "      <td>180</td>\n",
              "      <td>1.8</td>\n",
              "    </tr>\n",
              "  </tbody>\n",
              "</table>\n",
              "</div>"
            ],
            "text/plain": [
              "         state  color    food  age  height  score\n",
              "Niko        TX  green    Lamb    2      70    8.3\n",
              "Aaron       FL    red   Mango   12     120    9.0\n",
              "Penelope    AL  white   Apple    4      80    3.3\n",
              "Dean        AK   gray  Cheese   32     180    1.8"
            ]
          },
          "metadata": {
            "tags": []
          },
          "execution_count": 43
        }
      ]
    },
    {
      "cell_type": "markdown",
      "metadata": {
        "id": "RysUIg9myz47",
        "colab_type": "text"
      },
      "source": [
        "*Wycinek:*\n",
        "*df.loc['od': 'do': step]*"
      ]
    },
    {
      "cell_type": "code",
      "metadata": {
        "id": "yT0scHuwySXE",
        "colab_type": "code",
        "colab": {
          "base_uri": "https://localhost:8080/",
          "height": 142
        },
        "outputId": "de85cbc1-d53b-443e-b49b-045bfa4ba760"
      },
      "source": [
        "df.loc[:'Aaron'] #wycinek od początku do Aarona włącznie"
      ],
      "execution_count": 44,
      "outputs": [
        {
          "output_type": "execute_result",
          "data": {
            "text/html": [
              "<div>\n",
              "<style scoped>\n",
              "    .dataframe tbody tr th:only-of-type {\n",
              "        vertical-align: middle;\n",
              "    }\n",
              "\n",
              "    .dataframe tbody tr th {\n",
              "        vertical-align: top;\n",
              "    }\n",
              "\n",
              "    .dataframe thead th {\n",
              "        text-align: right;\n",
              "    }\n",
              "</style>\n",
              "<table border=\"1\" class=\"dataframe\">\n",
              "  <thead>\n",
              "    <tr style=\"text-align: right;\">\n",
              "      <th></th>\n",
              "      <th>state</th>\n",
              "      <th>color</th>\n",
              "      <th>food</th>\n",
              "      <th>age</th>\n",
              "      <th>height</th>\n",
              "      <th>score</th>\n",
              "    </tr>\n",
              "  </thead>\n",
              "  <tbody>\n",
              "    <tr>\n",
              "      <th>Jane</th>\n",
              "      <td>NY</td>\n",
              "      <td>blue</td>\n",
              "      <td>Steak</td>\n",
              "      <td>30</td>\n",
              "      <td>165</td>\n",
              "      <td>4.6</td>\n",
              "    </tr>\n",
              "    <tr>\n",
              "      <th>Niko</th>\n",
              "      <td>TX</td>\n",
              "      <td>green</td>\n",
              "      <td>Lamb</td>\n",
              "      <td>2</td>\n",
              "      <td>70</td>\n",
              "      <td>8.3</td>\n",
              "    </tr>\n",
              "    <tr>\n",
              "      <th>Aaron</th>\n",
              "      <td>FL</td>\n",
              "      <td>red</td>\n",
              "      <td>Mango</td>\n",
              "      <td>12</td>\n",
              "      <td>120</td>\n",
              "      <td>9.0</td>\n",
              "    </tr>\n",
              "  </tbody>\n",
              "</table>\n",
              "</div>"
            ],
            "text/plain": [
              "      state  color   food  age  height  score\n",
              "Jane     NY   blue  Steak   30     165    4.6\n",
              "Niko     TX  green   Lamb    2      70    8.3\n",
              "Aaron    FL    red  Mango   12     120    9.0"
            ]
          },
          "metadata": {
            "tags": []
          },
          "execution_count": 44
        }
      ]
    },
    {
      "cell_type": "code",
      "metadata": {
        "id": "OY00v0wcye2-",
        "colab_type": "code",
        "colab": {
          "base_uri": "https://localhost:8080/",
          "height": 142
        },
        "outputId": "1201036b-e5d8-42c7-8450-2e403e531e55"
      },
      "source": [
        "df.loc['Niko':'Christina': 2] #od NIko do Christina,dla  step = 2"
      ],
      "execution_count": 45,
      "outputs": [
        {
          "output_type": "execute_result",
          "data": {
            "text/html": [
              "<div>\n",
              "<style scoped>\n",
              "    .dataframe tbody tr th:only-of-type {\n",
              "        vertical-align: middle;\n",
              "    }\n",
              "\n",
              "    .dataframe tbody tr th {\n",
              "        vertical-align: top;\n",
              "    }\n",
              "\n",
              "    .dataframe thead th {\n",
              "        text-align: right;\n",
              "    }\n",
              "</style>\n",
              "<table border=\"1\" class=\"dataframe\">\n",
              "  <thead>\n",
              "    <tr style=\"text-align: right;\">\n",
              "      <th></th>\n",
              "      <th>state</th>\n",
              "      <th>color</th>\n",
              "      <th>food</th>\n",
              "      <th>age</th>\n",
              "      <th>height</th>\n",
              "      <th>score</th>\n",
              "    </tr>\n",
              "  </thead>\n",
              "  <tbody>\n",
              "    <tr>\n",
              "      <th>Niko</th>\n",
              "      <td>TX</td>\n",
              "      <td>green</td>\n",
              "      <td>Lamb</td>\n",
              "      <td>2</td>\n",
              "      <td>70</td>\n",
              "      <td>8.3</td>\n",
              "    </tr>\n",
              "    <tr>\n",
              "      <th>Penelope</th>\n",
              "      <td>AL</td>\n",
              "      <td>white</td>\n",
              "      <td>Apple</td>\n",
              "      <td>4</td>\n",
              "      <td>80</td>\n",
              "      <td>3.3</td>\n",
              "    </tr>\n",
              "    <tr>\n",
              "      <th>Christina</th>\n",
              "      <td>TX</td>\n",
              "      <td>black</td>\n",
              "      <td>Melon</td>\n",
              "      <td>33</td>\n",
              "      <td>172</td>\n",
              "      <td>9.5</td>\n",
              "    </tr>\n",
              "  </tbody>\n",
              "</table>\n",
              "</div>"
            ],
            "text/plain": [
              "          state  color   food  age  height  score\n",
              "Niko         TX  green   Lamb    2      70    8.3\n",
              "Penelope     AL  white  Apple    4      80    3.3\n",
              "Christina    TX  black  Melon   33     172    9.5"
            ]
          },
          "metadata": {
            "tags": []
          },
          "execution_count": 45
        }
      ]
    },
    {
      "cell_type": "code",
      "metadata": {
        "id": "1h8lgRo7zGa5",
        "colab_type": "code",
        "colab": {
          "base_uri": "https://localhost:8080/",
          "height": 142
        },
        "outputId": "943b2d3b-6adb-431f-944a-8a2fb52729c5"
      },
      "source": [
        "df.loc['Dean':] #od Deana do końca"
      ],
      "execution_count": 46,
      "outputs": [
        {
          "output_type": "execute_result",
          "data": {
            "text/html": [
              "<div>\n",
              "<style scoped>\n",
              "    .dataframe tbody tr th:only-of-type {\n",
              "        vertical-align: middle;\n",
              "    }\n",
              "\n",
              "    .dataframe tbody tr th {\n",
              "        vertical-align: top;\n",
              "    }\n",
              "\n",
              "    .dataframe thead th {\n",
              "        text-align: right;\n",
              "    }\n",
              "</style>\n",
              "<table border=\"1\" class=\"dataframe\">\n",
              "  <thead>\n",
              "    <tr style=\"text-align: right;\">\n",
              "      <th></th>\n",
              "      <th>state</th>\n",
              "      <th>color</th>\n",
              "      <th>food</th>\n",
              "      <th>age</th>\n",
              "      <th>height</th>\n",
              "      <th>score</th>\n",
              "    </tr>\n",
              "  </thead>\n",
              "  <tbody>\n",
              "    <tr>\n",
              "      <th>Dean</th>\n",
              "      <td>AK</td>\n",
              "      <td>gray</td>\n",
              "      <td>Cheese</td>\n",
              "      <td>32</td>\n",
              "      <td>180</td>\n",
              "      <td>1.8</td>\n",
              "    </tr>\n",
              "    <tr>\n",
              "      <th>Christina</th>\n",
              "      <td>TX</td>\n",
              "      <td>black</td>\n",
              "      <td>Melon</td>\n",
              "      <td>33</td>\n",
              "      <td>172</td>\n",
              "      <td>9.5</td>\n",
              "    </tr>\n",
              "    <tr>\n",
              "      <th>Cornelia</th>\n",
              "      <td>TX</td>\n",
              "      <td>red</td>\n",
              "      <td>Beans</td>\n",
              "      <td>69</td>\n",
              "      <td>150</td>\n",
              "      <td>2.2</td>\n",
              "    </tr>\n",
              "  </tbody>\n",
              "</table>\n",
              "</div>"
            ],
            "text/plain": [
              "          state  color    food  age  height  score\n",
              "Dean         AK   gray  Cheese   32     180    1.8\n",
              "Christina    TX  black   Melon   33     172    9.5\n",
              "Cornelia     TX    red   Beans   69     150    2.2"
            ]
          },
          "metadata": {
            "tags": []
          },
          "execution_count": 46
        }
      ]
    },
    {
      "cell_type": "markdown",
      "metadata": {
        "id": "SSZ6zZcyzVXd",
        "colab_type": "text"
      },
      "source": [
        "*Przy pomocy  .loc można wybierać jednocześnie wiersze i kolumny: df.loc[row_selection, column_selection]*"
      ]
    },
    {
      "cell_type": "code",
      "metadata": {
        "id": "beuofPfPzgm2",
        "colab_type": "code",
        "colab": {
          "base_uri": "https://localhost:8080/",
          "height": 111
        },
        "outputId": "2fea6885-b29d-47fd-9851-75c78ff9bcca"
      },
      "source": [
        "df.loc[['Dean', 'Cornelia'], ['age', 'state', 'score']] #wybranie jednocześnie kilku kolumn i wierszy"
      ],
      "execution_count": 47,
      "outputs": [
        {
          "output_type": "execute_result",
          "data": {
            "text/html": [
              "<div>\n",
              "<style scoped>\n",
              "    .dataframe tbody tr th:only-of-type {\n",
              "        vertical-align: middle;\n",
              "    }\n",
              "\n",
              "    .dataframe tbody tr th {\n",
              "        vertical-align: top;\n",
              "    }\n",
              "\n",
              "    .dataframe thead th {\n",
              "        text-align: right;\n",
              "    }\n",
              "</style>\n",
              "<table border=\"1\" class=\"dataframe\">\n",
              "  <thead>\n",
              "    <tr style=\"text-align: right;\">\n",
              "      <th></th>\n",
              "      <th>age</th>\n",
              "      <th>state</th>\n",
              "      <th>score</th>\n",
              "    </tr>\n",
              "  </thead>\n",
              "  <tbody>\n",
              "    <tr>\n",
              "      <th>Dean</th>\n",
              "      <td>32</td>\n",
              "      <td>AK</td>\n",
              "      <td>1.8</td>\n",
              "    </tr>\n",
              "    <tr>\n",
              "      <th>Cornelia</th>\n",
              "      <td>69</td>\n",
              "      <td>TX</td>\n",
              "      <td>2.2</td>\n",
              "    </tr>\n",
              "  </tbody>\n",
              "</table>\n",
              "</div>"
            ],
            "text/plain": [
              "          age state  score\n",
              "Dean       32    AK    1.8\n",
              "Cornelia   69    TX    2.2"
            ]
          },
          "metadata": {
            "tags": []
          },
          "execution_count": 47
        }
      ]
    },
    {
      "cell_type": "code",
      "metadata": {
        "id": "bS7NT1bhz4Dq",
        "colab_type": "code",
        "colab": {
          "base_uri": "https://localhost:8080/",
          "height": 68
        },
        "outputId": "1645f332-3bfc-410a-fb81-a4558466efb3"
      },
      "source": [
        "df.loc[['Dean', 'Aaron'], 'food'] #wybieranie przez nazwy nagłówków - dla kilku - lista"
      ],
      "execution_count": 49,
      "outputs": [
        {
          "output_type": "execute_result",
          "data": {
            "text/plain": [
              "Dean     Cheese\n",
              "Aaron     Mango\n",
              "Name: food, dtype: object"
            ]
          },
          "metadata": {
            "tags": []
          },
          "execution_count": 49
        }
      ]
    },
    {
      "cell_type": "code",
      "metadata": {
        "id": "OcOzRTEU0WST",
        "colab_type": "code",
        "colab": {
          "base_uri": "https://localhost:8080/",
          "height": 111
        },
        "outputId": "853b6852-646b-4500-827e-eee7e29f9c5a"
      },
      "source": [
        "df.loc[['Dean', 'Aaron'], ['food']] # jak lista przy food to zrobi DF"
      ],
      "execution_count": 51,
      "outputs": [
        {
          "output_type": "execute_result",
          "data": {
            "text/html": [
              "<div>\n",
              "<style scoped>\n",
              "    .dataframe tbody tr th:only-of-type {\n",
              "        vertical-align: middle;\n",
              "    }\n",
              "\n",
              "    .dataframe tbody tr th {\n",
              "        vertical-align: top;\n",
              "    }\n",
              "\n",
              "    .dataframe thead th {\n",
              "        text-align: right;\n",
              "    }\n",
              "</style>\n",
              "<table border=\"1\" class=\"dataframe\">\n",
              "  <thead>\n",
              "    <tr style=\"text-align: right;\">\n",
              "      <th></th>\n",
              "      <th>food</th>\n",
              "    </tr>\n",
              "  </thead>\n",
              "  <tbody>\n",
              "    <tr>\n",
              "      <th>Dean</th>\n",
              "      <td>Cheese</td>\n",
              "    </tr>\n",
              "    <tr>\n",
              "      <th>Aaron</th>\n",
              "      <td>Mango</td>\n",
              "    </tr>\n",
              "  </tbody>\n",
              "</table>\n",
              "</div>"
            ],
            "text/plain": [
              "         food\n",
              "Dean   Cheese\n",
              "Aaron   Mango"
            ]
          },
          "metadata": {
            "tags": []
          },
          "execution_count": 51
        }
      ]
    },
    {
      "cell_type": "code",
      "metadata": {
        "id": "z5djRP_70BCG",
        "colab_type": "code",
        "colab": {
          "base_uri": "https://localhost:8080/",
          "height": 173
        },
        "outputId": "bdfbbd92-3384-4cf4-8475-f074e5628d1d"
      },
      "source": [
        "df.loc['Jane': 'Penelope', ['state', 'color']] #wybieranie przez slice : - wtedy bez []"
      ],
      "execution_count": 50,
      "outputs": [
        {
          "output_type": "execute_result",
          "data": {
            "text/html": [
              "<div>\n",
              "<style scoped>\n",
              "    .dataframe tbody tr th:only-of-type {\n",
              "        vertical-align: middle;\n",
              "    }\n",
              "\n",
              "    .dataframe tbody tr th {\n",
              "        vertical-align: top;\n",
              "    }\n",
              "\n",
              "    .dataframe thead th {\n",
              "        text-align: right;\n",
              "    }\n",
              "</style>\n",
              "<table border=\"1\" class=\"dataframe\">\n",
              "  <thead>\n",
              "    <tr style=\"text-align: right;\">\n",
              "      <th></th>\n",
              "      <th>state</th>\n",
              "      <th>color</th>\n",
              "    </tr>\n",
              "  </thead>\n",
              "  <tbody>\n",
              "    <tr>\n",
              "      <th>Jane</th>\n",
              "      <td>NY</td>\n",
              "      <td>blue</td>\n",
              "    </tr>\n",
              "    <tr>\n",
              "      <th>Niko</th>\n",
              "      <td>TX</td>\n",
              "      <td>green</td>\n",
              "    </tr>\n",
              "    <tr>\n",
              "      <th>Aaron</th>\n",
              "      <td>FL</td>\n",
              "      <td>red</td>\n",
              "    </tr>\n",
              "    <tr>\n",
              "      <th>Penelope</th>\n",
              "      <td>AL</td>\n",
              "      <td>white</td>\n",
              "    </tr>\n",
              "  </tbody>\n",
              "</table>\n",
              "</div>"
            ],
            "text/plain": [
              "         state  color\n",
              "Jane        NY   blue\n",
              "Niko        TX  green\n",
              "Aaron       FL    red\n",
              "Penelope    AL  white"
            ]
          },
          "metadata": {
            "tags": []
          },
          "execution_count": 50
        }
      ]
    },
    {
      "cell_type": "code",
      "metadata": {
        "id": "AkBCPFhi0mQd",
        "colab_type": "code",
        "colab": {
          "base_uri": "https://localhost:8080/",
          "height": 34
        },
        "outputId": "b53635e1-0a22-45d7-ace1-98d71f61a3a6"
      },
      "source": [
        "df.loc['Jane', 'age'] #zwróci konkretną wartość"
      ],
      "execution_count": 52,
      "outputs": [
        {
          "output_type": "execute_result",
          "data": {
            "text/plain": [
              "30"
            ]
          },
          "metadata": {
            "tags": []
          },
          "execution_count": 52
        }
      ]
    },
    {
      "cell_type": "code",
      "metadata": {
        "id": "vuRTEycV0s8v",
        "colab_type": "code",
        "colab": {
          "base_uri": "https://localhost:8080/",
          "height": 204
        },
        "outputId": "744662ba-d070-4002-8777-9773a0f78ad0"
      },
      "source": [
        "df.loc[:'Dean', 'height':] #podwójny wycinek"
      ],
      "execution_count": 53,
      "outputs": [
        {
          "output_type": "execute_result",
          "data": {
            "text/html": [
              "<div>\n",
              "<style scoped>\n",
              "    .dataframe tbody tr th:only-of-type {\n",
              "        vertical-align: middle;\n",
              "    }\n",
              "\n",
              "    .dataframe tbody tr th {\n",
              "        vertical-align: top;\n",
              "    }\n",
              "\n",
              "    .dataframe thead th {\n",
              "        text-align: right;\n",
              "    }\n",
              "</style>\n",
              "<table border=\"1\" class=\"dataframe\">\n",
              "  <thead>\n",
              "    <tr style=\"text-align: right;\">\n",
              "      <th></th>\n",
              "      <th>height</th>\n",
              "      <th>score</th>\n",
              "    </tr>\n",
              "  </thead>\n",
              "  <tbody>\n",
              "    <tr>\n",
              "      <th>Jane</th>\n",
              "      <td>165</td>\n",
              "      <td>4.6</td>\n",
              "    </tr>\n",
              "    <tr>\n",
              "      <th>Niko</th>\n",
              "      <td>70</td>\n",
              "      <td>8.3</td>\n",
              "    </tr>\n",
              "    <tr>\n",
              "      <th>Aaron</th>\n",
              "      <td>120</td>\n",
              "      <td>9.0</td>\n",
              "    </tr>\n",
              "    <tr>\n",
              "      <th>Penelope</th>\n",
              "      <td>80</td>\n",
              "      <td>3.3</td>\n",
              "    </tr>\n",
              "    <tr>\n",
              "      <th>Dean</th>\n",
              "      <td>180</td>\n",
              "      <td>1.8</td>\n",
              "    </tr>\n",
              "  </tbody>\n",
              "</table>\n",
              "</div>"
            ],
            "text/plain": [
              "          height  score\n",
              "Jane         165    4.6\n",
              "Niko          70    8.3\n",
              "Aaron        120    9.0\n",
              "Penelope      80    3.3\n",
              "Dean         180    1.8"
            ]
          },
          "metadata": {
            "tags": []
          },
          "execution_count": 53
        }
      ]
    },
    {
      "cell_type": "code",
      "metadata": {
        "id": "kJjDyzqc06KZ",
        "colab_type": "code",
        "colab": {
          "base_uri": "https://localhost:8080/",
          "height": 266
        },
        "outputId": "fa211ffc-d905-488f-e5f0-f33e494a6b20"
      },
      "source": [
        "df.loc[:, ['food', 'color']] #wszystkie wiersze i dwie kolumny"
      ],
      "execution_count": 54,
      "outputs": [
        {
          "output_type": "execute_result",
          "data": {
            "text/html": [
              "<div>\n",
              "<style scoped>\n",
              "    .dataframe tbody tr th:only-of-type {\n",
              "        vertical-align: middle;\n",
              "    }\n",
              "\n",
              "    .dataframe tbody tr th {\n",
              "        vertical-align: top;\n",
              "    }\n",
              "\n",
              "    .dataframe thead th {\n",
              "        text-align: right;\n",
              "    }\n",
              "</style>\n",
              "<table border=\"1\" class=\"dataframe\">\n",
              "  <thead>\n",
              "    <tr style=\"text-align: right;\">\n",
              "      <th></th>\n",
              "      <th>food</th>\n",
              "      <th>color</th>\n",
              "    </tr>\n",
              "  </thead>\n",
              "  <tbody>\n",
              "    <tr>\n",
              "      <th>Jane</th>\n",
              "      <td>Steak</td>\n",
              "      <td>blue</td>\n",
              "    </tr>\n",
              "    <tr>\n",
              "      <th>Niko</th>\n",
              "      <td>Lamb</td>\n",
              "      <td>green</td>\n",
              "    </tr>\n",
              "    <tr>\n",
              "      <th>Aaron</th>\n",
              "      <td>Mango</td>\n",
              "      <td>red</td>\n",
              "    </tr>\n",
              "    <tr>\n",
              "      <th>Penelope</th>\n",
              "      <td>Apple</td>\n",
              "      <td>white</td>\n",
              "    </tr>\n",
              "    <tr>\n",
              "      <th>Dean</th>\n",
              "      <td>Cheese</td>\n",
              "      <td>gray</td>\n",
              "    </tr>\n",
              "    <tr>\n",
              "      <th>Christina</th>\n",
              "      <td>Melon</td>\n",
              "      <td>black</td>\n",
              "    </tr>\n",
              "    <tr>\n",
              "      <th>Cornelia</th>\n",
              "      <td>Beans</td>\n",
              "      <td>red</td>\n",
              "    </tr>\n",
              "  </tbody>\n",
              "</table>\n",
              "</div>"
            ],
            "text/plain": [
              "             food  color\n",
              "Jane        Steak   blue\n",
              "Niko         Lamb  green\n",
              "Aaron       Mango    red\n",
              "Penelope    Apple  white\n",
              "Dean       Cheese   gray\n",
              "Christina   Melon  black\n",
              "Cornelia    Beans    red"
            ]
          },
          "metadata": {
            "tags": []
          },
          "execution_count": 54
        }
      ]
    },
    {
      "cell_type": "code",
      "metadata": {
        "id": "vfv97YWP1HUG",
        "colab_type": "code",
        "colab": {
          "base_uri": "https://localhost:8080/",
          "height": 111
        },
        "outputId": "534db938-adc3-48d4-c0fd-1c53c9168f5e"
      },
      "source": [
        "df.loc[['Penelope', 'Aaron'], :] #dwa wiersze wszystkie kolumny"
      ],
      "execution_count": 55,
      "outputs": [
        {
          "output_type": "execute_result",
          "data": {
            "text/html": [
              "<div>\n",
              "<style scoped>\n",
              "    .dataframe tbody tr th:only-of-type {\n",
              "        vertical-align: middle;\n",
              "    }\n",
              "\n",
              "    .dataframe tbody tr th {\n",
              "        vertical-align: top;\n",
              "    }\n",
              "\n",
              "    .dataframe thead th {\n",
              "        text-align: right;\n",
              "    }\n",
              "</style>\n",
              "<table border=\"1\" class=\"dataframe\">\n",
              "  <thead>\n",
              "    <tr style=\"text-align: right;\">\n",
              "      <th></th>\n",
              "      <th>state</th>\n",
              "      <th>color</th>\n",
              "      <th>food</th>\n",
              "      <th>age</th>\n",
              "      <th>height</th>\n",
              "      <th>score</th>\n",
              "    </tr>\n",
              "  </thead>\n",
              "  <tbody>\n",
              "    <tr>\n",
              "      <th>Penelope</th>\n",
              "      <td>AL</td>\n",
              "      <td>white</td>\n",
              "      <td>Apple</td>\n",
              "      <td>4</td>\n",
              "      <td>80</td>\n",
              "      <td>3.3</td>\n",
              "    </tr>\n",
              "    <tr>\n",
              "      <th>Aaron</th>\n",
              "      <td>FL</td>\n",
              "      <td>red</td>\n",
              "      <td>Mango</td>\n",
              "      <td>12</td>\n",
              "      <td>120</td>\n",
              "      <td>9.0</td>\n",
              "    </tr>\n",
              "  </tbody>\n",
              "</table>\n",
              "</div>"
            ],
            "text/plain": [
              "         state  color   food  age  height  score\n",
              "Penelope    AL  white  Apple    4      80    3.3\n",
              "Aaron       FL    red  Mango   12     120    9.0"
            ]
          },
          "metadata": {
            "tags": []
          },
          "execution_count": 55
        }
      ]
    },
    {
      "cell_type": "markdown",
      "metadata": {
        "id": "Em3d-YWq1g_Q",
        "colab_type": "text"
      },
      "source": [
        "*Można wcześniej przypisać kilka wierszy/kolumn do nowych zmiennych, by łatwiej operować*"
      ]
    },
    {
      "cell_type": "code",
      "metadata": {
        "id": "JuGdYcr91m70",
        "colab_type": "code",
        "colab": {
          "base_uri": "https://localhost:8080/",
          "height": 173
        },
        "outputId": "8fdaf323-4d0d-41fa-badb-448ba71ddcf0"
      },
      "source": [
        "rows = ['Jane', 'Niko', 'Aaron', 'Penelope']\n",
        "columns = ['age', 'score', 'state', 'height']\n",
        "df.loc[rows, columns]"
      ],
      "execution_count": 56,
      "outputs": [
        {
          "output_type": "execute_result",
          "data": {
            "text/html": [
              "<div>\n",
              "<style scoped>\n",
              "    .dataframe tbody tr th:only-of-type {\n",
              "        vertical-align: middle;\n",
              "    }\n",
              "\n",
              "    .dataframe tbody tr th {\n",
              "        vertical-align: top;\n",
              "    }\n",
              "\n",
              "    .dataframe thead th {\n",
              "        text-align: right;\n",
              "    }\n",
              "</style>\n",
              "<table border=\"1\" class=\"dataframe\">\n",
              "  <thead>\n",
              "    <tr style=\"text-align: right;\">\n",
              "      <th></th>\n",
              "      <th>age</th>\n",
              "      <th>score</th>\n",
              "      <th>state</th>\n",
              "      <th>height</th>\n",
              "    </tr>\n",
              "  </thead>\n",
              "  <tbody>\n",
              "    <tr>\n",
              "      <th>Jane</th>\n",
              "      <td>30</td>\n",
              "      <td>4.6</td>\n",
              "      <td>NY</td>\n",
              "      <td>165</td>\n",
              "    </tr>\n",
              "    <tr>\n",
              "      <th>Niko</th>\n",
              "      <td>2</td>\n",
              "      <td>8.3</td>\n",
              "      <td>TX</td>\n",
              "      <td>70</td>\n",
              "    </tr>\n",
              "    <tr>\n",
              "      <th>Aaron</th>\n",
              "      <td>12</td>\n",
              "      <td>9.0</td>\n",
              "      <td>FL</td>\n",
              "      <td>120</td>\n",
              "    </tr>\n",
              "    <tr>\n",
              "      <th>Penelope</th>\n",
              "      <td>4</td>\n",
              "      <td>3.3</td>\n",
              "      <td>AL</td>\n",
              "      <td>80</td>\n",
              "    </tr>\n",
              "  </tbody>\n",
              "</table>\n",
              "</div>"
            ],
            "text/plain": [
              "          age  score state  height\n",
              "Jane       30    4.6    NY     165\n",
              "Niko        2    8.3    TX      70\n",
              "Aaron      12    9.0    FL     120\n",
              "Penelope    4    3.3    AL      80"
            ]
          },
          "metadata": {
            "tags": []
          },
          "execution_count": 56
        }
      ]
    },
    {
      "cell_type": "markdown",
      "metadata": {
        "id": "ZkjzwTR92D-m",
        "colab_type": "text"
      },
      "source": [
        "### Podsumowanie .loc###\n",
        "\n",
        "\n",
        "1.   Indeksowanie jedynie za pomocą nagłówków\n",
        "2.   Można równocześnie wybrać wiersze i kolumny\n",
        "3. Można wybrać pojedynczy nagłówek, listę nagłówków lub wycinek\n",
        "4. Przecinek oddziela wybierane wiersze od kolumn \n",
        "\n"
      ]
    },
    {
      "cell_type": "markdown",
      "metadata": {
        "id": "tspDQLOb229v",
        "colab_type": "text"
      },
      "source": [
        "### .iloc\n",
        "*Podobnie jak .loc tyle że indeksowanie za pomocą integer - np. [0]*"
      ]
    },
    {
      "cell_type": "code",
      "metadata": {
        "id": "iL7mmYed3ZC8",
        "colab_type": "code",
        "colab": {
          "base_uri": "https://localhost:8080/",
          "height": 136
        },
        "outputId": "93e55e18-d144-43ea-8806-7a4521de6b97"
      },
      "source": [
        "df.iloc[3] #wiersz nr 3 jako seria, gdzie nagłówek wiersza jest name serii"
      ],
      "execution_count": 57,
      "outputs": [
        {
          "output_type": "execute_result",
          "data": {
            "text/plain": [
              "state        AL\n",
              "color     white\n",
              "food      Apple\n",
              "age           4\n",
              "height       80\n",
              "score       3.3\n",
              "Name: Penelope, dtype: object"
            ]
          },
          "metadata": {
            "tags": []
          },
          "execution_count": 57
        }
      ]
    },
    {
      "cell_type": "code",
      "metadata": {
        "id": "XFK6J_-93zlK",
        "colab_type": "code",
        "colab": {
          "base_uri": "https://localhost:8080/",
          "height": 80
        },
        "outputId": "3ed725f8-8e70-43b0-e5cb-a13385b8e9ec"
      },
      "source": [
        "df.iloc[[3]] #ponieważ lista to jako DF"
      ],
      "execution_count": 59,
      "outputs": [
        {
          "output_type": "execute_result",
          "data": {
            "text/html": [
              "<div>\n",
              "<style scoped>\n",
              "    .dataframe tbody tr th:only-of-type {\n",
              "        vertical-align: middle;\n",
              "    }\n",
              "\n",
              "    .dataframe tbody tr th {\n",
              "        vertical-align: top;\n",
              "    }\n",
              "\n",
              "    .dataframe thead th {\n",
              "        text-align: right;\n",
              "    }\n",
              "</style>\n",
              "<table border=\"1\" class=\"dataframe\">\n",
              "  <thead>\n",
              "    <tr style=\"text-align: right;\">\n",
              "      <th></th>\n",
              "      <th>state</th>\n",
              "      <th>color</th>\n",
              "      <th>food</th>\n",
              "      <th>age</th>\n",
              "      <th>height</th>\n",
              "      <th>score</th>\n",
              "    </tr>\n",
              "  </thead>\n",
              "  <tbody>\n",
              "    <tr>\n",
              "      <th>Penelope</th>\n",
              "      <td>AL</td>\n",
              "      <td>white</td>\n",
              "      <td>Apple</td>\n",
              "      <td>4</td>\n",
              "      <td>80</td>\n",
              "      <td>3.3</td>\n",
              "    </tr>\n",
              "  </tbody>\n",
              "</table>\n",
              "</div>"
            ],
            "text/plain": [
              "         state  color   food  age  height  score\n",
              "Penelope    AL  white  Apple    4      80    3.3"
            ]
          },
          "metadata": {
            "tags": []
          },
          "execution_count": 59
        }
      ]
    },
    {
      "cell_type": "code",
      "metadata": {
        "id": "6yPslf6t2m21",
        "colab_type": "code",
        "colab": {
          "base_uri": "https://localhost:8080/",
          "height": 142
        },
        "outputId": "52d45e17-302e-495b-a7ff-b004e7758beb"
      },
      "source": [
        "df.iloc[[5, 2, 4]] #kilka wierszy - wtedy jako DF,bo lista [[]]"
      ],
      "execution_count": 58,
      "outputs": [
        {
          "output_type": "execute_result",
          "data": {
            "text/html": [
              "<div>\n",
              "<style scoped>\n",
              "    .dataframe tbody tr th:only-of-type {\n",
              "        vertical-align: middle;\n",
              "    }\n",
              "\n",
              "    .dataframe tbody tr th {\n",
              "        vertical-align: top;\n",
              "    }\n",
              "\n",
              "    .dataframe thead th {\n",
              "        text-align: right;\n",
              "    }\n",
              "</style>\n",
              "<table border=\"1\" class=\"dataframe\">\n",
              "  <thead>\n",
              "    <tr style=\"text-align: right;\">\n",
              "      <th></th>\n",
              "      <th>state</th>\n",
              "      <th>color</th>\n",
              "      <th>food</th>\n",
              "      <th>age</th>\n",
              "      <th>height</th>\n",
              "      <th>score</th>\n",
              "    </tr>\n",
              "  </thead>\n",
              "  <tbody>\n",
              "    <tr>\n",
              "      <th>Christina</th>\n",
              "      <td>TX</td>\n",
              "      <td>black</td>\n",
              "      <td>Melon</td>\n",
              "      <td>33</td>\n",
              "      <td>172</td>\n",
              "      <td>9.5</td>\n",
              "    </tr>\n",
              "    <tr>\n",
              "      <th>Aaron</th>\n",
              "      <td>FL</td>\n",
              "      <td>red</td>\n",
              "      <td>Mango</td>\n",
              "      <td>12</td>\n",
              "      <td>120</td>\n",
              "      <td>9.0</td>\n",
              "    </tr>\n",
              "    <tr>\n",
              "      <th>Dean</th>\n",
              "      <td>AK</td>\n",
              "      <td>gray</td>\n",
              "      <td>Cheese</td>\n",
              "      <td>32</td>\n",
              "      <td>180</td>\n",
              "      <td>1.8</td>\n",
              "    </tr>\n",
              "  </tbody>\n",
              "</table>\n",
              "</div>"
            ],
            "text/plain": [
              "          state  color    food  age  height  score\n",
              "Christina    TX  black   Melon   33     172    9.5\n",
              "Aaron        FL    red   Mango   12     120    9.0\n",
              "Dean         AK   gray  Cheese   32     180    1.8"
            ]
          },
          "metadata": {
            "tags": []
          },
          "execution_count": 58
        }
      ]
    },
    {
      "cell_type": "code",
      "metadata": {
        "id": "Pnml9Pdf35L4",
        "colab_type": "code",
        "colab": {
          "base_uri": "https://localhost:8080/",
          "height": 111
        },
        "outputId": "71fcfe9c-6b83-49af-9f9d-872c5c5a5c32"
      },
      "source": [
        "df.iloc[3:5] #wycinek, ale tutaj już bez ostatniego wiersza - nr 5, inaczej niz przy  .loc"
      ],
      "execution_count": 60,
      "outputs": [
        {
          "output_type": "execute_result",
          "data": {
            "text/html": [
              "<div>\n",
              "<style scoped>\n",
              "    .dataframe tbody tr th:only-of-type {\n",
              "        vertical-align: middle;\n",
              "    }\n",
              "\n",
              "    .dataframe tbody tr th {\n",
              "        vertical-align: top;\n",
              "    }\n",
              "\n",
              "    .dataframe thead th {\n",
              "        text-align: right;\n",
              "    }\n",
              "</style>\n",
              "<table border=\"1\" class=\"dataframe\">\n",
              "  <thead>\n",
              "    <tr style=\"text-align: right;\">\n",
              "      <th></th>\n",
              "      <th>state</th>\n",
              "      <th>color</th>\n",
              "      <th>food</th>\n",
              "      <th>age</th>\n",
              "      <th>height</th>\n",
              "      <th>score</th>\n",
              "    </tr>\n",
              "  </thead>\n",
              "  <tbody>\n",
              "    <tr>\n",
              "      <th>Penelope</th>\n",
              "      <td>AL</td>\n",
              "      <td>white</td>\n",
              "      <td>Apple</td>\n",
              "      <td>4</td>\n",
              "      <td>80</td>\n",
              "      <td>3.3</td>\n",
              "    </tr>\n",
              "    <tr>\n",
              "      <th>Dean</th>\n",
              "      <td>AK</td>\n",
              "      <td>gray</td>\n",
              "      <td>Cheese</td>\n",
              "      <td>32</td>\n",
              "      <td>180</td>\n",
              "      <td>1.8</td>\n",
              "    </tr>\n",
              "  </tbody>\n",
              "</table>\n",
              "</div>"
            ],
            "text/plain": [
              "         state  color    food  age  height  score\n",
              "Penelope    AL  white   Apple    4      80    3.3\n",
              "Dean        AK   gray  Cheese   32     180    1.8"
            ]
          },
          "metadata": {
            "tags": []
          },
          "execution_count": 60
        }
      ]
    },
    {
      "cell_type": "code",
      "metadata": {
        "id": "YkGjjkMD4N4q",
        "colab_type": "code",
        "colab": {
          "base_uri": "https://localhost:8080/",
          "height": 173
        },
        "outputId": "e141baa4-ac45-4d65-a3a2-14d665033754"
      },
      "source": [
        "df.iloc[3:] #od wiersza 3 do końca"
      ],
      "execution_count": 61,
      "outputs": [
        {
          "output_type": "execute_result",
          "data": {
            "text/html": [
              "<div>\n",
              "<style scoped>\n",
              "    .dataframe tbody tr th:only-of-type {\n",
              "        vertical-align: middle;\n",
              "    }\n",
              "\n",
              "    .dataframe tbody tr th {\n",
              "        vertical-align: top;\n",
              "    }\n",
              "\n",
              "    .dataframe thead th {\n",
              "        text-align: right;\n",
              "    }\n",
              "</style>\n",
              "<table border=\"1\" class=\"dataframe\">\n",
              "  <thead>\n",
              "    <tr style=\"text-align: right;\">\n",
              "      <th></th>\n",
              "      <th>state</th>\n",
              "      <th>color</th>\n",
              "      <th>food</th>\n",
              "      <th>age</th>\n",
              "      <th>height</th>\n",
              "      <th>score</th>\n",
              "    </tr>\n",
              "  </thead>\n",
              "  <tbody>\n",
              "    <tr>\n",
              "      <th>Penelope</th>\n",
              "      <td>AL</td>\n",
              "      <td>white</td>\n",
              "      <td>Apple</td>\n",
              "      <td>4</td>\n",
              "      <td>80</td>\n",
              "      <td>3.3</td>\n",
              "    </tr>\n",
              "    <tr>\n",
              "      <th>Dean</th>\n",
              "      <td>AK</td>\n",
              "      <td>gray</td>\n",
              "      <td>Cheese</td>\n",
              "      <td>32</td>\n",
              "      <td>180</td>\n",
              "      <td>1.8</td>\n",
              "    </tr>\n",
              "    <tr>\n",
              "      <th>Christina</th>\n",
              "      <td>TX</td>\n",
              "      <td>black</td>\n",
              "      <td>Melon</td>\n",
              "      <td>33</td>\n",
              "      <td>172</td>\n",
              "      <td>9.5</td>\n",
              "    </tr>\n",
              "    <tr>\n",
              "      <th>Cornelia</th>\n",
              "      <td>TX</td>\n",
              "      <td>red</td>\n",
              "      <td>Beans</td>\n",
              "      <td>69</td>\n",
              "      <td>150</td>\n",
              "      <td>2.2</td>\n",
              "    </tr>\n",
              "  </tbody>\n",
              "</table>\n",
              "</div>"
            ],
            "text/plain": [
              "          state  color    food  age  height  score\n",
              "Penelope     AL  white   Apple    4      80    3.3\n",
              "Dean         AK   gray  Cheese   32     180    1.8\n",
              "Christina    TX  black   Melon   33     172    9.5\n",
              "Cornelia     TX    red   Beans   69     150    2.2"
            ]
          },
          "metadata": {
            "tags": []
          },
          "execution_count": 61
        }
      ]
    },
    {
      "cell_type": "code",
      "metadata": {
        "id": "yaHPqh574TtX",
        "colab_type": "code",
        "colab": {
          "base_uri": "https://localhost:8080/",
          "height": 142
        },
        "outputId": "f2c3cc3e-8383-493f-e2fa-49642a244f41"
      },
      "source": [
        "df.iloc[:3] #od początku do wiersza 3, bez niego"
      ],
      "execution_count": 62,
      "outputs": [
        {
          "output_type": "execute_result",
          "data": {
            "text/html": [
              "<div>\n",
              "<style scoped>\n",
              "    .dataframe tbody tr th:only-of-type {\n",
              "        vertical-align: middle;\n",
              "    }\n",
              "\n",
              "    .dataframe tbody tr th {\n",
              "        vertical-align: top;\n",
              "    }\n",
              "\n",
              "    .dataframe thead th {\n",
              "        text-align: right;\n",
              "    }\n",
              "</style>\n",
              "<table border=\"1\" class=\"dataframe\">\n",
              "  <thead>\n",
              "    <tr style=\"text-align: right;\">\n",
              "      <th></th>\n",
              "      <th>state</th>\n",
              "      <th>color</th>\n",
              "      <th>food</th>\n",
              "      <th>age</th>\n",
              "      <th>height</th>\n",
              "      <th>score</th>\n",
              "    </tr>\n",
              "  </thead>\n",
              "  <tbody>\n",
              "    <tr>\n",
              "      <th>Jane</th>\n",
              "      <td>NY</td>\n",
              "      <td>blue</td>\n",
              "      <td>Steak</td>\n",
              "      <td>30</td>\n",
              "      <td>165</td>\n",
              "      <td>4.6</td>\n",
              "    </tr>\n",
              "    <tr>\n",
              "      <th>Niko</th>\n",
              "      <td>TX</td>\n",
              "      <td>green</td>\n",
              "      <td>Lamb</td>\n",
              "      <td>2</td>\n",
              "      <td>70</td>\n",
              "      <td>8.3</td>\n",
              "    </tr>\n",
              "    <tr>\n",
              "      <th>Aaron</th>\n",
              "      <td>FL</td>\n",
              "      <td>red</td>\n",
              "      <td>Mango</td>\n",
              "      <td>12</td>\n",
              "      <td>120</td>\n",
              "      <td>9.0</td>\n",
              "    </tr>\n",
              "  </tbody>\n",
              "</table>\n",
              "</div>"
            ],
            "text/plain": [
              "      state  color   food  age  height  score\n",
              "Jane     NY   blue  Steak   30     165    4.6\n",
              "Niko     TX  green   Lamb    2      70    8.3\n",
              "Aaron    FL    red  Mango   12     120    9.0"
            ]
          },
          "metadata": {
            "tags": []
          },
          "execution_count": 62
        }
      ]
    },
    {
      "cell_type": "code",
      "metadata": {
        "id": "CRmmCdun4eO1",
        "colab_type": "code",
        "colab": {
          "base_uri": "https://localhost:8080/",
          "height": 111
        },
        "outputId": "0e2201f2-4c7a-41a1-d2c6-351c1852e0b6"
      },
      "source": [
        "df.iloc[3::2] #od 3go do końca co dwa wiersze step"
      ],
      "execution_count": 63,
      "outputs": [
        {
          "output_type": "execute_result",
          "data": {
            "text/html": [
              "<div>\n",
              "<style scoped>\n",
              "    .dataframe tbody tr th:only-of-type {\n",
              "        vertical-align: middle;\n",
              "    }\n",
              "\n",
              "    .dataframe tbody tr th {\n",
              "        vertical-align: top;\n",
              "    }\n",
              "\n",
              "    .dataframe thead th {\n",
              "        text-align: right;\n",
              "    }\n",
              "</style>\n",
              "<table border=\"1\" class=\"dataframe\">\n",
              "  <thead>\n",
              "    <tr style=\"text-align: right;\">\n",
              "      <th></th>\n",
              "      <th>state</th>\n",
              "      <th>color</th>\n",
              "      <th>food</th>\n",
              "      <th>age</th>\n",
              "      <th>height</th>\n",
              "      <th>score</th>\n",
              "    </tr>\n",
              "  </thead>\n",
              "  <tbody>\n",
              "    <tr>\n",
              "      <th>Penelope</th>\n",
              "      <td>AL</td>\n",
              "      <td>white</td>\n",
              "      <td>Apple</td>\n",
              "      <td>4</td>\n",
              "      <td>80</td>\n",
              "      <td>3.3</td>\n",
              "    </tr>\n",
              "    <tr>\n",
              "      <th>Christina</th>\n",
              "      <td>TX</td>\n",
              "      <td>black</td>\n",
              "      <td>Melon</td>\n",
              "      <td>33</td>\n",
              "      <td>172</td>\n",
              "      <td>9.5</td>\n",
              "    </tr>\n",
              "  </tbody>\n",
              "</table>\n",
              "</div>"
            ],
            "text/plain": [
              "          state  color   food  age  height  score\n",
              "Penelope     AL  white  Apple    4      80    3.3\n",
              "Christina    TX  black  Melon   33     172    9.5"
            ]
          },
          "metadata": {
            "tags": []
          },
          "execution_count": 63
        }
      ]
    },
    {
      "cell_type": "code",
      "metadata": {
        "id": "ZPcCFUtP4paY",
        "colab_type": "code",
        "colab": {
          "base_uri": "https://localhost:8080/",
          "height": 111
        },
        "outputId": "94a285b0-878b-4e36-d751-68efb39d131d"
      },
      "source": [
        "df.iloc[[2,4], [0,3]] #dwa wiersze, dwie kolumny"
      ],
      "execution_count": 64,
      "outputs": [
        {
          "output_type": "execute_result",
          "data": {
            "text/html": [
              "<div>\n",
              "<style scoped>\n",
              "    .dataframe tbody tr th:only-of-type {\n",
              "        vertical-align: middle;\n",
              "    }\n",
              "\n",
              "    .dataframe tbody tr th {\n",
              "        vertical-align: top;\n",
              "    }\n",
              "\n",
              "    .dataframe thead th {\n",
              "        text-align: right;\n",
              "    }\n",
              "</style>\n",
              "<table border=\"1\" class=\"dataframe\">\n",
              "  <thead>\n",
              "    <tr style=\"text-align: right;\">\n",
              "      <th></th>\n",
              "      <th>state</th>\n",
              "      <th>age</th>\n",
              "    </tr>\n",
              "  </thead>\n",
              "  <tbody>\n",
              "    <tr>\n",
              "      <th>Aaron</th>\n",
              "      <td>FL</td>\n",
              "      <td>12</td>\n",
              "    </tr>\n",
              "    <tr>\n",
              "      <th>Dean</th>\n",
              "      <td>AK</td>\n",
              "      <td>32</td>\n",
              "    </tr>\n",
              "  </tbody>\n",
              "</table>\n",
              "</div>"
            ],
            "text/plain": [
              "      state  age\n",
              "Aaron    FL   12\n",
              "Dean     AK   32"
            ]
          },
          "metadata": {
            "tags": []
          },
          "execution_count": 64
        }
      ]
    },
    {
      "cell_type": "code",
      "metadata": {
        "id": "tVhw8Mph4zVy",
        "colab_type": "code",
        "colab": {
          "base_uri": "https://localhost:8080/",
          "height": 142
        },
        "outputId": "6b3b05cb-496d-4d4a-c7b5-294497f024a6"
      },
      "source": [
        "df.iloc[3:6, [1,4]] #dla wierszy wycinek - wtedy bez listy, dla kolumn lista"
      ],
      "execution_count": 67,
      "outputs": [
        {
          "output_type": "execute_result",
          "data": {
            "text/html": [
              "<div>\n",
              "<style scoped>\n",
              "    .dataframe tbody tr th:only-of-type {\n",
              "        vertical-align: middle;\n",
              "    }\n",
              "\n",
              "    .dataframe tbody tr th {\n",
              "        vertical-align: top;\n",
              "    }\n",
              "\n",
              "    .dataframe thead th {\n",
              "        text-align: right;\n",
              "    }\n",
              "</style>\n",
              "<table border=\"1\" class=\"dataframe\">\n",
              "  <thead>\n",
              "    <tr style=\"text-align: right;\">\n",
              "      <th></th>\n",
              "      <th>color</th>\n",
              "      <th>height</th>\n",
              "    </tr>\n",
              "  </thead>\n",
              "  <tbody>\n",
              "    <tr>\n",
              "      <th>Penelope</th>\n",
              "      <td>white</td>\n",
              "      <td>80</td>\n",
              "    </tr>\n",
              "    <tr>\n",
              "      <th>Dean</th>\n",
              "      <td>gray</td>\n",
              "      <td>180</td>\n",
              "    </tr>\n",
              "    <tr>\n",
              "      <th>Christina</th>\n",
              "      <td>black</td>\n",
              "      <td>172</td>\n",
              "    </tr>\n",
              "  </tbody>\n",
              "</table>\n",
              "</div>"
            ],
            "text/plain": [
              "           color  height\n",
              "Penelope   white      80\n",
              "Dean        gray     180\n",
              "Christina  black     172"
            ]
          },
          "metadata": {
            "tags": []
          },
          "execution_count": 67
        }
      ]
    },
    {
      "cell_type": "code",
      "metadata": {
        "id": "HTHiPCar5G4q",
        "colab_type": "code",
        "colab": {
          "base_uri": "https://localhost:8080/",
          "height": 142
        },
        "outputId": "f3275379-5788-4ec3-e64b-c6d67ab1fb38"
      },
      "source": [
        "df.iloc[3:6, 1:4]#dla wierszy i kolumn wycinek"
      ],
      "execution_count": 68,
      "outputs": [
        {
          "output_type": "execute_result",
          "data": {
            "text/html": [
              "<div>\n",
              "<style scoped>\n",
              "    .dataframe tbody tr th:only-of-type {\n",
              "        vertical-align: middle;\n",
              "    }\n",
              "\n",
              "    .dataframe tbody tr th {\n",
              "        vertical-align: top;\n",
              "    }\n",
              "\n",
              "    .dataframe thead th {\n",
              "        text-align: right;\n",
              "    }\n",
              "</style>\n",
              "<table border=\"1\" class=\"dataframe\">\n",
              "  <thead>\n",
              "    <tr style=\"text-align: right;\">\n",
              "      <th></th>\n",
              "      <th>color</th>\n",
              "      <th>food</th>\n",
              "      <th>age</th>\n",
              "    </tr>\n",
              "  </thead>\n",
              "  <tbody>\n",
              "    <tr>\n",
              "      <th>Penelope</th>\n",
              "      <td>white</td>\n",
              "      <td>Apple</td>\n",
              "      <td>4</td>\n",
              "    </tr>\n",
              "    <tr>\n",
              "      <th>Dean</th>\n",
              "      <td>gray</td>\n",
              "      <td>Cheese</td>\n",
              "      <td>32</td>\n",
              "    </tr>\n",
              "    <tr>\n",
              "      <th>Christina</th>\n",
              "      <td>black</td>\n",
              "      <td>Melon</td>\n",
              "      <td>33</td>\n",
              "    </tr>\n",
              "  </tbody>\n",
              "</table>\n",
              "</div>"
            ],
            "text/plain": [
              "           color    food  age\n",
              "Penelope   white   Apple    4\n",
              "Dean        gray  Cheese   32\n",
              "Christina  black   Melon   33"
            ]
          },
          "metadata": {
            "tags": []
          },
          "execution_count": 68
        }
      ]
    },
    {
      "cell_type": "code",
      "metadata": {
        "id": "XWXZarD75S8r",
        "colab_type": "code",
        "colab": {
          "base_uri": "https://localhost:8080/",
          "height": 34
        },
        "outputId": "e340ae14-dd94-4fbb-eb0b-acaeafb3d4a2"
      },
      "source": [
        "df.iloc[2,5] #wybrana konkretna wartość "
      ],
      "execution_count": 69,
      "outputs": [
        {
          "output_type": "execute_result",
          "data": {
            "text/plain": [
              "9.0"
            ]
          },
          "metadata": {
            "tags": []
          },
          "execution_count": 69
        }
      ]
    },
    {
      "cell_type": "code",
      "metadata": {
        "id": "5nkjgFgF5cHs",
        "colab_type": "code",
        "colab": {
          "base_uri": "https://localhost:8080/",
          "height": 153
        },
        "outputId": "7f79c0b9-c08e-444d-ae47-048f65026740"
      },
      "source": [
        "df.iloc[:, 5] #wszystkie wiersze, jedna kolumna"
      ],
      "execution_count": 70,
      "outputs": [
        {
          "output_type": "execute_result",
          "data": {
            "text/plain": [
              "Jane         4.6\n",
              "Niko         8.3\n",
              "Aaron        9.0\n",
              "Penelope     3.3\n",
              "Dean         1.8\n",
              "Christina    9.5\n",
              "Cornelia     2.2\n",
              "Name: score, dtype: float64"
            ]
          },
          "metadata": {
            "tags": []
          },
          "execution_count": 70
        }
      ]
    },
    {
      "cell_type": "code",
      "metadata": {
        "id": "6LWd6rb05kTg",
        "colab_type": "code",
        "colab": {
          "base_uri": "https://localhost:8080/",
          "height": 136
        },
        "outputId": "bb29bae2-7dc6-4710-e670-b7ca63233bf7"
      },
      "source": [
        "df.iloc[5, :] #jeden wiersz, wszystkie kolumny"
      ],
      "execution_count": 71,
      "outputs": [
        {
          "output_type": "execute_result",
          "data": {
            "text/plain": [
              "state        TX\n",
              "color     black\n",
              "food      Melon\n",
              "age          33\n",
              "height      172\n",
              "score       9.5\n",
              "Name: Christina, dtype: object"
            ]
          },
          "metadata": {
            "tags": []
          },
          "execution_count": 71
        }
      ]
    },
    {
      "cell_type": "markdown",
      "metadata": {
        "id": "2UOdYXwI6KlY",
        "colab_type": "text"
      },
      "source": [
        "### Wybieranie fragmentów dla utworzonej serii"
      ]
    },
    {
      "cell_type": "code",
      "metadata": {
        "id": "LYXIaByS6Qn_",
        "colab_type": "code",
        "colab": {
          "base_uri": "https://localhost:8080/",
          "height": 153
        },
        "outputId": "2559b355-14a5-4f84-8d6c-884346ddf1aa"
      },
      "source": [
        "food = df['food']\n",
        "food"
      ],
      "execution_count": 72,
      "outputs": [
        {
          "output_type": "execute_result",
          "data": {
            "text/plain": [
              "Jane          Steak\n",
              "Niko           Lamb\n",
              "Aaron         Mango\n",
              "Penelope      Apple\n",
              "Dean         Cheese\n",
              "Christina     Melon\n",
              "Cornelia      Beans\n",
              "Name: food, dtype: object"
            ]
          },
          "metadata": {
            "tags": []
          },
          "execution_count": 72
        }
      ]
    },
    {
      "cell_type": "code",
      "metadata": {
        "id": "pOJ5HLwt6cjl",
        "colab_type": "code",
        "colab": {
          "base_uri": "https://localhost:8080/",
          "height": 34
        },
        "outputId": "27ce2653-662c-40dd-fa9a-ff71e20aac8e"
      },
      "source": [
        "food.loc['Aaron'] #podobnie jak przy tabeli, wybieramy po nagłówkach"
      ],
      "execution_count": 73,
      "outputs": [
        {
          "output_type": "execute_result",
          "data": {
            "text/plain": [
              "'Mango'"
            ]
          },
          "metadata": {
            "tags": []
          },
          "execution_count": 73
        }
      ]
    },
    {
      "cell_type": "code",
      "metadata": {
        "id": "yDcWEcgj6mpA",
        "colab_type": "code",
        "colab": {
          "base_uri": "https://localhost:8080/",
          "height": 85
        },
        "outputId": "b5fd117d-3f31-4f2f-900e-15a7b740f9a2"
      },
      "source": [
        "food.loc[['Niko', 'Penelope', 'Cornelia']] #zwraca serię!!"
      ],
      "execution_count": 74,
      "outputs": [
        {
          "output_type": "execute_result",
          "data": {
            "text/plain": [
              "Niko         Lamb\n",
              "Penelope    Apple\n",
              "Cornelia    Beans\n",
              "Name: food, dtype: object"
            ]
          },
          "metadata": {
            "tags": []
          },
          "execution_count": 74
        }
      ]
    },
    {
      "cell_type": "code",
      "metadata": {
        "id": "vA0RXS146yKX",
        "colab_type": "code",
        "colab": {
          "base_uri": "https://localhost:8080/",
          "height": 102
        },
        "outputId": "88143b1b-0361-431e-cdef-3847c6021871"
      },
      "source": [
        "food.loc['Jane': 'Penelope'] #wycinek, uwzględnia ostatni wiersz, też seria!"
      ],
      "execution_count": 75,
      "outputs": [
        {
          "output_type": "execute_result",
          "data": {
            "text/plain": [
              "Jane        Steak\n",
              "Niko         Lamb\n",
              "Aaron       Mango\n",
              "Penelope    Apple\n",
              "Name: food, dtype: object"
            ]
          },
          "metadata": {
            "tags": []
          },
          "execution_count": 75
        }
      ]
    },
    {
      "cell_type": "code",
      "metadata": {
        "id": "NHmFXHaV7AKc",
        "colab_type": "code",
        "colab": {
          "base_uri": "https://localhost:8080/",
          "height": 85
        },
        "outputId": "d46835dc-36f1-4d9d-87a7-6833394a40c0"
      },
      "source": [
        "food.loc['Dean':] #od Deana do końca"
      ],
      "execution_count": 76,
      "outputs": [
        {
          "output_type": "execute_result",
          "data": {
            "text/plain": [
              "Dean         Cheese\n",
              "Christina     Melon\n",
              "Cornelia      Beans\n",
              "Name: food, dtype: object"
            ]
          },
          "metadata": {
            "tags": []
          },
          "execution_count": 76
        }
      ]
    },
    {
      "cell_type": "code",
      "metadata": {
        "id": "4Plyl5ji7Ghv",
        "colab_type": "code",
        "colab": {
          "base_uri": "https://localhost:8080/",
          "height": 51
        },
        "outputId": "924b420c-3b7f-4596-cf9e-85fb55847f01"
      },
      "source": [
        "food.loc[['Dean']] #nawet przy liście, będzie seria!!"
      ],
      "execution_count": 77,
      "outputs": [
        {
          "output_type": "execute_result",
          "data": {
            "text/plain": [
              "Dean    Cheese\n",
              "Name: food, dtype: object"
            ]
          },
          "metadata": {
            "tags": []
          },
          "execution_count": 77
        }
      ]
    },
    {
      "cell_type": "code",
      "metadata": {
        "id": "lC6TOVPp7Twz",
        "colab_type": "code",
        "colab": {
          "base_uri": "https://localhost:8080/",
          "height": 34
        },
        "outputId": "f8787cea-ce03-4ecb-ce19-f211fc56c144"
      },
      "source": [
        "food.iloc[0]#indeksowanie .iloc za pomocą integers"
      ],
      "execution_count": 78,
      "outputs": [
        {
          "output_type": "execute_result",
          "data": {
            "text/plain": [
              "'Steak'"
            ]
          },
          "metadata": {
            "tags": []
          },
          "execution_count": 78
        }
      ]
    },
    {
      "cell_type": "code",
      "metadata": {
        "id": "EoAgLuEF7d3W",
        "colab_type": "code",
        "colab": {
          "base_uri": "https://localhost:8080/",
          "height": 85
        },
        "outputId": "4c7547f9-8f32-4a1b-9219-d9b92f7b399f"
      },
      "source": [
        "food.iloc[[3,2,1]] #tutaj też seria"
      ],
      "execution_count": 79,
      "outputs": [
        {
          "output_type": "execute_result",
          "data": {
            "text/plain": [
              "Penelope    Apple\n",
              "Aaron       Mango\n",
              "Niko         Lamb\n",
              "Name: food, dtype: object"
            ]
          },
          "metadata": {
            "tags": []
          },
          "execution_count": 79
        }
      ]
    },
    {
      "cell_type": "code",
      "metadata": {
        "id": "T4AvyGc07lt0",
        "colab_type": "code",
        "colab": {
          "base_uri": "https://localhost:8080/",
          "height": 119
        },
        "outputId": "c6e00f03-5449-4640-c0ae-dbd8891e2955"
      },
      "source": [
        "food.iloc[0:5]# przy indeksowaniu .iloc - bez uwzględnienia ostatniego, inaczej niż w .loc"
      ],
      "execution_count": 80,
      "outputs": [
        {
          "output_type": "execute_result",
          "data": {
            "text/plain": [
              "Jane         Steak\n",
              "Niko          Lamb\n",
              "Aaron        Mango\n",
              "Penelope     Apple\n",
              "Dean        Cheese\n",
              "Name: food, dtype: object"
            ]
          },
          "metadata": {
            "tags": []
          },
          "execution_count": 80
        }
      ]
    },
    {
      "cell_type": "markdown",
      "metadata": {
        "id": "OIPpjcuC9UFZ",
        "colab_type": "text"
      },
      "source": [
        "### Importowanie danych bez wskazywania pierwszej kolumny jako indeksu"
      ]
    },
    {
      "cell_type": "code",
      "metadata": {
        "id": "oZUD8U527ymO",
        "colab_type": "code",
        "colab": {
          "base_uri": "https://localhost:8080/",
          "height": 266
        },
        "outputId": "f05d9eef-54c9-4dd1-8457-beab2cfe7974"
      },
      "source": [
        "df2 = pd.read_csv('https://raw.githubusercontent.com/tdpetrou/Learn-Pandas/master/data/sample_data2.csv')\n",
        "df2"
      ],
      "execution_count": 81,
      "outputs": [
        {
          "output_type": "execute_result",
          "data": {
            "text/html": [
              "<div>\n",
              "<style scoped>\n",
              "    .dataframe tbody tr th:only-of-type {\n",
              "        vertical-align: middle;\n",
              "    }\n",
              "\n",
              "    .dataframe tbody tr th {\n",
              "        vertical-align: top;\n",
              "    }\n",
              "\n",
              "    .dataframe thead th {\n",
              "        text-align: right;\n",
              "    }\n",
              "</style>\n",
              "<table border=\"1\" class=\"dataframe\">\n",
              "  <thead>\n",
              "    <tr style=\"text-align: right;\">\n",
              "      <th></th>\n",
              "      <th>Names</th>\n",
              "      <th>state</th>\n",
              "      <th>color</th>\n",
              "      <th>food</th>\n",
              "      <th>age</th>\n",
              "      <th>height</th>\n",
              "      <th>score</th>\n",
              "    </tr>\n",
              "  </thead>\n",
              "  <tbody>\n",
              "    <tr>\n",
              "      <th>0</th>\n",
              "      <td>Jane</td>\n",
              "      <td>NY</td>\n",
              "      <td>blue</td>\n",
              "      <td>Steak</td>\n",
              "      <td>30</td>\n",
              "      <td>165</td>\n",
              "      <td>4.6</td>\n",
              "    </tr>\n",
              "    <tr>\n",
              "      <th>1</th>\n",
              "      <td>Niko</td>\n",
              "      <td>TX</td>\n",
              "      <td>green</td>\n",
              "      <td>Lamb</td>\n",
              "      <td>2</td>\n",
              "      <td>70</td>\n",
              "      <td>8.3</td>\n",
              "    </tr>\n",
              "    <tr>\n",
              "      <th>2</th>\n",
              "      <td>Aaron</td>\n",
              "      <td>FL</td>\n",
              "      <td>red</td>\n",
              "      <td>Mango</td>\n",
              "      <td>12</td>\n",
              "      <td>120</td>\n",
              "      <td>9.0</td>\n",
              "    </tr>\n",
              "    <tr>\n",
              "      <th>3</th>\n",
              "      <td>Penelope</td>\n",
              "      <td>AL</td>\n",
              "      <td>white</td>\n",
              "      <td>Apple</td>\n",
              "      <td>4</td>\n",
              "      <td>80</td>\n",
              "      <td>3.3</td>\n",
              "    </tr>\n",
              "    <tr>\n",
              "      <th>4</th>\n",
              "      <td>Dean</td>\n",
              "      <td>AK</td>\n",
              "      <td>gray</td>\n",
              "      <td>Cheese</td>\n",
              "      <td>32</td>\n",
              "      <td>180</td>\n",
              "      <td>1.8</td>\n",
              "    </tr>\n",
              "    <tr>\n",
              "      <th>5</th>\n",
              "      <td>Christina</td>\n",
              "      <td>TX</td>\n",
              "      <td>black</td>\n",
              "      <td>Melon</td>\n",
              "      <td>33</td>\n",
              "      <td>172</td>\n",
              "      <td>9.5</td>\n",
              "    </tr>\n",
              "    <tr>\n",
              "      <th>6</th>\n",
              "      <td>Cornelia</td>\n",
              "      <td>TX</td>\n",
              "      <td>red</td>\n",
              "      <td>Beans</td>\n",
              "      <td>69</td>\n",
              "      <td>150</td>\n",
              "      <td>2.2</td>\n",
              "    </tr>\n",
              "  </tbody>\n",
              "</table>\n",
              "</div>"
            ],
            "text/plain": [
              "       Names state  color    food  age  height  score\n",
              "0       Jane    NY   blue   Steak   30     165    4.6\n",
              "1       Niko    TX  green    Lamb    2      70    8.3\n",
              "2      Aaron    FL    red   Mango   12     120    9.0\n",
              "3   Penelope    AL  white   Apple    4      80    3.3\n",
              "4       Dean    AK   gray  Cheese   32     180    1.8\n",
              "5  Christina    TX  black   Melon   33     172    9.5\n",
              "6   Cornelia    TX    red   Beans   69     150    2.2"
            ]
          },
          "metadata": {
            "tags": []
          },
          "execution_count": 81
        }
      ]
    },
    {
      "cell_type": "code",
      "metadata": {
        "id": "pO30cN279qg3",
        "colab_type": "code",
        "colab": {
          "base_uri": "https://localhost:8080/",
          "height": 34
        },
        "outputId": "820762a4-4179-4068-899f-b070dea7828a"
      },
      "source": [
        "df2.index"
      ],
      "execution_count": 82,
      "outputs": [
        {
          "output_type": "execute_result",
          "data": {
            "text/plain": [
              "RangeIndex(start=0, stop=7, step=1)"
            ]
          },
          "metadata": {
            "tags": []
          },
          "execution_count": 82
        }
      ]
    },
    {
      "cell_type": "markdown",
      "metadata": {
        "id": "E7idDTgr9ujW",
        "colab_type": "text"
      },
      "source": [
        "*Tutaj pandas tworzy index sam domyślnie przez range*"
      ]
    },
    {
      "cell_type": "code",
      "metadata": {
        "id": "JYTs18iR-DtK",
        "colab_type": "code",
        "colab": {
          "base_uri": "https://localhost:8080/",
          "height": 142
        },
        "outputId": "4cec1b28-1357-438b-ce62-64d7fbf5b359"
      },
      "source": [
        "df2.loc[[2,5,4], ['food', 'color']] #wybieramy wiersze po nazwach - nadanych przez range, kolumny tez po nazwach"
      ],
      "execution_count": 83,
      "outputs": [
        {
          "output_type": "execute_result",
          "data": {
            "text/html": [
              "<div>\n",
              "<style scoped>\n",
              "    .dataframe tbody tr th:only-of-type {\n",
              "        vertical-align: middle;\n",
              "    }\n",
              "\n",
              "    .dataframe tbody tr th {\n",
              "        vertical-align: top;\n",
              "    }\n",
              "\n",
              "    .dataframe thead th {\n",
              "        text-align: right;\n",
              "    }\n",
              "</style>\n",
              "<table border=\"1\" class=\"dataframe\">\n",
              "  <thead>\n",
              "    <tr style=\"text-align: right;\">\n",
              "      <th></th>\n",
              "      <th>food</th>\n",
              "      <th>color</th>\n",
              "    </tr>\n",
              "  </thead>\n",
              "  <tbody>\n",
              "    <tr>\n",
              "      <th>2</th>\n",
              "      <td>Mango</td>\n",
              "      <td>red</td>\n",
              "    </tr>\n",
              "    <tr>\n",
              "      <th>5</th>\n",
              "      <td>Melon</td>\n",
              "      <td>black</td>\n",
              "    </tr>\n",
              "    <tr>\n",
              "      <th>4</th>\n",
              "      <td>Cheese</td>\n",
              "      <td>gray</td>\n",
              "    </tr>\n",
              "  </tbody>\n",
              "</table>\n",
              "</div>"
            ],
            "text/plain": [
              "     food  color\n",
              "2   Mango    red\n",
              "5   Melon  black\n",
              "4  Cheese   gray"
            ]
          },
          "metadata": {
            "tags": []
          },
          "execution_count": 83
        }
      ]
    },
    {
      "cell_type": "code",
      "metadata": {
        "id": "60FqK5aV-E5n",
        "colab_type": "code",
        "colab": {
          "base_uri": "https://localhost:8080/",
          "height": 142
        },
        "outputId": "2cf703ec-b381-4dac-a8a5-424fd5c26a92"
      },
      "source": [
        "df2.iloc[[2,5,4], [1,3,4]] #w iloc same numery wierszy i kolumn"
      ],
      "execution_count": 85,
      "outputs": [
        {
          "output_type": "execute_result",
          "data": {
            "text/html": [
              "<div>\n",
              "<style scoped>\n",
              "    .dataframe tbody tr th:only-of-type {\n",
              "        vertical-align: middle;\n",
              "    }\n",
              "\n",
              "    .dataframe tbody tr th {\n",
              "        vertical-align: top;\n",
              "    }\n",
              "\n",
              "    .dataframe thead th {\n",
              "        text-align: right;\n",
              "    }\n",
              "</style>\n",
              "<table border=\"1\" class=\"dataframe\">\n",
              "  <thead>\n",
              "    <tr style=\"text-align: right;\">\n",
              "      <th></th>\n",
              "      <th>state</th>\n",
              "      <th>food</th>\n",
              "      <th>age</th>\n",
              "    </tr>\n",
              "  </thead>\n",
              "  <tbody>\n",
              "    <tr>\n",
              "      <th>2</th>\n",
              "      <td>FL</td>\n",
              "      <td>Mango</td>\n",
              "      <td>12</td>\n",
              "    </tr>\n",
              "    <tr>\n",
              "      <th>5</th>\n",
              "      <td>TX</td>\n",
              "      <td>Melon</td>\n",
              "      <td>33</td>\n",
              "    </tr>\n",
              "    <tr>\n",
              "      <th>4</th>\n",
              "      <td>AK</td>\n",
              "      <td>Cheese</td>\n",
              "      <td>32</td>\n",
              "    </tr>\n",
              "  </tbody>\n",
              "</table>\n",
              "</div>"
            ],
            "text/plain": [
              "  state    food  age\n",
              "2    FL   Mango   12\n",
              "5    TX   Melon   33\n",
              "4    AK  Cheese   32"
            ]
          },
          "metadata": {
            "tags": []
          },
          "execution_count": 85
        }
      ]
    },
    {
      "cell_type": "code",
      "metadata": {
        "id": "VooiVXh8-whF",
        "colab_type": "code",
        "colab": {
          "base_uri": "https://localhost:8080/",
          "height": 142
        },
        "outputId": "2c32687e-a175-4190-af4c-bdd35a02bf45"
      },
      "source": [
        "df2.iloc[:3] #przy iloc jest bez 3go wiersza"
      ],
      "execution_count": 86,
      "outputs": [
        {
          "output_type": "execute_result",
          "data": {
            "text/html": [
              "<div>\n",
              "<style scoped>\n",
              "    .dataframe tbody tr th:only-of-type {\n",
              "        vertical-align: middle;\n",
              "    }\n",
              "\n",
              "    .dataframe tbody tr th {\n",
              "        vertical-align: top;\n",
              "    }\n",
              "\n",
              "    .dataframe thead th {\n",
              "        text-align: right;\n",
              "    }\n",
              "</style>\n",
              "<table border=\"1\" class=\"dataframe\">\n",
              "  <thead>\n",
              "    <tr style=\"text-align: right;\">\n",
              "      <th></th>\n",
              "      <th>Names</th>\n",
              "      <th>state</th>\n",
              "      <th>color</th>\n",
              "      <th>food</th>\n",
              "      <th>age</th>\n",
              "      <th>height</th>\n",
              "      <th>score</th>\n",
              "    </tr>\n",
              "  </thead>\n",
              "  <tbody>\n",
              "    <tr>\n",
              "      <th>0</th>\n",
              "      <td>Jane</td>\n",
              "      <td>NY</td>\n",
              "      <td>blue</td>\n",
              "      <td>Steak</td>\n",
              "      <td>30</td>\n",
              "      <td>165</td>\n",
              "      <td>4.6</td>\n",
              "    </tr>\n",
              "    <tr>\n",
              "      <th>1</th>\n",
              "      <td>Niko</td>\n",
              "      <td>TX</td>\n",
              "      <td>green</td>\n",
              "      <td>Lamb</td>\n",
              "      <td>2</td>\n",
              "      <td>70</td>\n",
              "      <td>8.3</td>\n",
              "    </tr>\n",
              "    <tr>\n",
              "      <th>2</th>\n",
              "      <td>Aaron</td>\n",
              "      <td>FL</td>\n",
              "      <td>red</td>\n",
              "      <td>Mango</td>\n",
              "      <td>12</td>\n",
              "      <td>120</td>\n",
              "      <td>9.0</td>\n",
              "    </tr>\n",
              "  </tbody>\n",
              "</table>\n",
              "</div>"
            ],
            "text/plain": [
              "   Names state  color   food  age  height  score\n",
              "0   Jane    NY   blue  Steak   30     165    4.6\n",
              "1   Niko    TX  green   Lamb    2      70    8.3\n",
              "2  Aaron    FL    red  Mango   12     120    9.0"
            ]
          },
          "metadata": {
            "tags": []
          },
          "execution_count": 86
        }
      ]
    },
    {
      "cell_type": "code",
      "metadata": {
        "id": "AByDle8N-1a-",
        "colab_type": "code",
        "colab": {
          "base_uri": "https://localhost:8080/",
          "height": 173
        },
        "outputId": "fb8cff59-2af2-49b6-c45a-f55e3b93618c"
      },
      "source": [
        "df2.loc[:3] #przy loc jest z 3cim wierszem"
      ],
      "execution_count": 87,
      "outputs": [
        {
          "output_type": "execute_result",
          "data": {
            "text/html": [
              "<div>\n",
              "<style scoped>\n",
              "    .dataframe tbody tr th:only-of-type {\n",
              "        vertical-align: middle;\n",
              "    }\n",
              "\n",
              "    .dataframe tbody tr th {\n",
              "        vertical-align: top;\n",
              "    }\n",
              "\n",
              "    .dataframe thead th {\n",
              "        text-align: right;\n",
              "    }\n",
              "</style>\n",
              "<table border=\"1\" class=\"dataframe\">\n",
              "  <thead>\n",
              "    <tr style=\"text-align: right;\">\n",
              "      <th></th>\n",
              "      <th>Names</th>\n",
              "      <th>state</th>\n",
              "      <th>color</th>\n",
              "      <th>food</th>\n",
              "      <th>age</th>\n",
              "      <th>height</th>\n",
              "      <th>score</th>\n",
              "    </tr>\n",
              "  </thead>\n",
              "  <tbody>\n",
              "    <tr>\n",
              "      <th>0</th>\n",
              "      <td>Jane</td>\n",
              "      <td>NY</td>\n",
              "      <td>blue</td>\n",
              "      <td>Steak</td>\n",
              "      <td>30</td>\n",
              "      <td>165</td>\n",
              "      <td>4.6</td>\n",
              "    </tr>\n",
              "    <tr>\n",
              "      <th>1</th>\n",
              "      <td>Niko</td>\n",
              "      <td>TX</td>\n",
              "      <td>green</td>\n",
              "      <td>Lamb</td>\n",
              "      <td>2</td>\n",
              "      <td>70</td>\n",
              "      <td>8.3</td>\n",
              "    </tr>\n",
              "    <tr>\n",
              "      <th>2</th>\n",
              "      <td>Aaron</td>\n",
              "      <td>FL</td>\n",
              "      <td>red</td>\n",
              "      <td>Mango</td>\n",
              "      <td>12</td>\n",
              "      <td>120</td>\n",
              "      <td>9.0</td>\n",
              "    </tr>\n",
              "    <tr>\n",
              "      <th>3</th>\n",
              "      <td>Penelope</td>\n",
              "      <td>AL</td>\n",
              "      <td>white</td>\n",
              "      <td>Apple</td>\n",
              "      <td>4</td>\n",
              "      <td>80</td>\n",
              "      <td>3.3</td>\n",
              "    </tr>\n",
              "  </tbody>\n",
              "</table>\n",
              "</div>"
            ],
            "text/plain": [
              "      Names state  color   food  age  height  score\n",
              "0      Jane    NY   blue  Steak   30     165    4.6\n",
              "1      Niko    TX  green   Lamb    2      70    8.3\n",
              "2     Aaron    FL    red  Mango   12     120    9.0\n",
              "3  Penelope    AL  white  Apple    4      80    3.3"
            ]
          },
          "metadata": {
            "tags": []
          },
          "execution_count": 87
        }
      ]
    },
    {
      "cell_type": "markdown",
      "metadata": {
        "id": "CjFsGApy_N2M",
        "colab_type": "text"
      },
      "source": [
        "### Jak później nadać index"
      ]
    },
    {
      "cell_type": "code",
      "metadata": {
        "id": "YZAbcdze_Rke",
        "colab_type": "code",
        "colab": {
          "base_uri": "https://localhost:8080/",
          "height": 297
        },
        "outputId": "ba640b1a-49ce-4a61-8fd0-6ba0a6d11da6"
      },
      "source": [
        "df2_idx = df2.set_index('Names')\n",
        "df2_idx"
      ],
      "execution_count": 88,
      "outputs": [
        {
          "output_type": "execute_result",
          "data": {
            "text/html": [
              "<div>\n",
              "<style scoped>\n",
              "    .dataframe tbody tr th:only-of-type {\n",
              "        vertical-align: middle;\n",
              "    }\n",
              "\n",
              "    .dataframe tbody tr th {\n",
              "        vertical-align: top;\n",
              "    }\n",
              "\n",
              "    .dataframe thead th {\n",
              "        text-align: right;\n",
              "    }\n",
              "</style>\n",
              "<table border=\"1\" class=\"dataframe\">\n",
              "  <thead>\n",
              "    <tr style=\"text-align: right;\">\n",
              "      <th></th>\n",
              "      <th>state</th>\n",
              "      <th>color</th>\n",
              "      <th>food</th>\n",
              "      <th>age</th>\n",
              "      <th>height</th>\n",
              "      <th>score</th>\n",
              "    </tr>\n",
              "    <tr>\n",
              "      <th>Names</th>\n",
              "      <th></th>\n",
              "      <th></th>\n",
              "      <th></th>\n",
              "      <th></th>\n",
              "      <th></th>\n",
              "      <th></th>\n",
              "    </tr>\n",
              "  </thead>\n",
              "  <tbody>\n",
              "    <tr>\n",
              "      <th>Jane</th>\n",
              "      <td>NY</td>\n",
              "      <td>blue</td>\n",
              "      <td>Steak</td>\n",
              "      <td>30</td>\n",
              "      <td>165</td>\n",
              "      <td>4.6</td>\n",
              "    </tr>\n",
              "    <tr>\n",
              "      <th>Niko</th>\n",
              "      <td>TX</td>\n",
              "      <td>green</td>\n",
              "      <td>Lamb</td>\n",
              "      <td>2</td>\n",
              "      <td>70</td>\n",
              "      <td>8.3</td>\n",
              "    </tr>\n",
              "    <tr>\n",
              "      <th>Aaron</th>\n",
              "      <td>FL</td>\n",
              "      <td>red</td>\n",
              "      <td>Mango</td>\n",
              "      <td>12</td>\n",
              "      <td>120</td>\n",
              "      <td>9.0</td>\n",
              "    </tr>\n",
              "    <tr>\n",
              "      <th>Penelope</th>\n",
              "      <td>AL</td>\n",
              "      <td>white</td>\n",
              "      <td>Apple</td>\n",
              "      <td>4</td>\n",
              "      <td>80</td>\n",
              "      <td>3.3</td>\n",
              "    </tr>\n",
              "    <tr>\n",
              "      <th>Dean</th>\n",
              "      <td>AK</td>\n",
              "      <td>gray</td>\n",
              "      <td>Cheese</td>\n",
              "      <td>32</td>\n",
              "      <td>180</td>\n",
              "      <td>1.8</td>\n",
              "    </tr>\n",
              "    <tr>\n",
              "      <th>Christina</th>\n",
              "      <td>TX</td>\n",
              "      <td>black</td>\n",
              "      <td>Melon</td>\n",
              "      <td>33</td>\n",
              "      <td>172</td>\n",
              "      <td>9.5</td>\n",
              "    </tr>\n",
              "    <tr>\n",
              "      <th>Cornelia</th>\n",
              "      <td>TX</td>\n",
              "      <td>red</td>\n",
              "      <td>Beans</td>\n",
              "      <td>69</td>\n",
              "      <td>150</td>\n",
              "      <td>2.2</td>\n",
              "    </tr>\n",
              "  </tbody>\n",
              "</table>\n",
              "</div>"
            ],
            "text/plain": [
              "          state  color    food  age  height  score\n",
              "Names                                             \n",
              "Jane         NY   blue   Steak   30     165    4.6\n",
              "Niko         TX  green    Lamb    2      70    8.3\n",
              "Aaron        FL    red   Mango   12     120    9.0\n",
              "Penelope     AL  white   Apple    4      80    3.3\n",
              "Dean         AK   gray  Cheese   32     180    1.8\n",
              "Christina    TX  black   Melon   33     172    9.5\n",
              "Cornelia     TX    red   Beans   69     150    2.2"
            ]
          },
          "metadata": {
            "tags": []
          },
          "execution_count": 88
        }
      ]
    },
    {
      "cell_type": "markdown",
      "metadata": {
        "id": "zdvo1QaQ_i2X",
        "colab_type": "text"
      },
      "source": [
        "*W takim przypadku kolumnie indeksującej jest nadawana nazwa. Na samym początku, gdy wskazywaliśmy indeks przy pobieraniu danych, kolumna indeksu nie miała nazwy*"
      ]
    },
    {
      "cell_type": "markdown",
      "metadata": {
        "id": "36eobuBm_6ov",
        "colab_type": "text"
      },
      "source": [
        "### Dostęp do kolumn przy pomocy atrybutu DF"
      ]
    },
    {
      "cell_type": "code",
      "metadata": {
        "id": "GXMEEv-cADAK",
        "colab_type": "code",
        "colab": {
          "base_uri": "https://localhost:8080/",
          "height": 153
        },
        "outputId": "6ef28904-2f60-49e2-a336-29e9bf216ec5"
      },
      "source": [
        "df.state"
      ],
      "execution_count": 89,
      "outputs": [
        {
          "output_type": "execute_result",
          "data": {
            "text/plain": [
              "Jane         NY\n",
              "Niko         TX\n",
              "Aaron        FL\n",
              "Penelope     AL\n",
              "Dean         AK\n",
              "Christina    TX\n",
              "Cornelia     TX\n",
              "Name: state, dtype: object"
            ]
          },
          "metadata": {
            "tags": []
          },
          "execution_count": 89
        }
      ]
    },
    {
      "cell_type": "code",
      "metadata": {
        "id": "jwy9DhFsAHMA",
        "colab_type": "code",
        "colab": {
          "base_uri": "https://localhost:8080/",
          "height": 153
        },
        "outputId": "2652b938-6808-4e2a-d5bb-369a7ccb634f"
      },
      "source": [
        "df.age"
      ],
      "execution_count": 90,
      "outputs": [
        {
          "output_type": "execute_result",
          "data": {
            "text/plain": [
              "Jane         30\n",
              "Niko          2\n",
              "Aaron        12\n",
              "Penelope      4\n",
              "Dean         32\n",
              "Christina    33\n",
              "Cornelia     69\n",
              "Name: age, dtype: int64"
            ]
          },
          "metadata": {
            "tags": []
          },
          "execution_count": 90
        }
      ]
    },
    {
      "cell_type": "markdown",
      "metadata": {
        "id": "vb3ihpCpBAZq",
        "colab_type": "text"
      },
      "source": [
        "### Cwiczenia"
      ]
    },
    {
      "cell_type": "code",
      "metadata": {
        "id": "u1nLUcorAN4g",
        "colab_type": "code",
        "colab": {}
      },
      "source": [
        "path = 'https://raw.githubusercontent.com/tdpetrou/Learn-Pandas/master/data/food_inspections.csv'\n",
        "df_food = pd.read_csv(path)"
      ],
      "execution_count": 0,
      "outputs": []
    },
    {
      "cell_type": "code",
      "metadata": {
        "id": "D0Q1IoAoFThG",
        "colab_type": "code",
        "colab": {
          "base_uri": "https://localhost:8080/",
          "height": 306
        },
        "outputId": "163515cc-2925-4591-9a69-e88be8f01acc"
      },
      "source": [
        "df_food.head(5)"
      ],
      "execution_count": 102,
      "outputs": [
        {
          "output_type": "execute_result",
          "data": {
            "text/html": [
              "<div>\n",
              "<style scoped>\n",
              "    .dataframe tbody tr th:only-of-type {\n",
              "        vertical-align: middle;\n",
              "    }\n",
              "\n",
              "    .dataframe tbody tr th {\n",
              "        vertical-align: top;\n",
              "    }\n",
              "\n",
              "    .dataframe thead th {\n",
              "        text-align: right;\n",
              "    }\n",
              "</style>\n",
              "<table border=\"1\" class=\"dataframe\">\n",
              "  <thead>\n",
              "    <tr style=\"text-align: right;\">\n",
              "      <th></th>\n",
              "      <th>DBA Name</th>\n",
              "      <th>Facility Type</th>\n",
              "      <th>Risk</th>\n",
              "      <th>Address</th>\n",
              "      <th>Zip</th>\n",
              "      <th>Inspection Date</th>\n",
              "      <th>Inspection Type</th>\n",
              "      <th>Results</th>\n",
              "      <th>Violations</th>\n",
              "    </tr>\n",
              "  </thead>\n",
              "  <tbody>\n",
              "    <tr>\n",
              "      <th>0</th>\n",
              "      <td>DANY'S TACOS</td>\n",
              "      <td>Restaurant</td>\n",
              "      <td>Risk 1 (High)</td>\n",
              "      <td>2857 S ST LOUIS AVE</td>\n",
              "      <td>60623.0</td>\n",
              "      <td>03/27/2017</td>\n",
              "      <td>License</td>\n",
              "      <td>Fail</td>\n",
              "      <td>16. FOOD PROTECTED DURING STORAGE, PREPARATION...</td>\n",
              "    </tr>\n",
              "    <tr>\n",
              "      <th>1</th>\n",
              "      <td>BILLY FOOD MARKET INC</td>\n",
              "      <td>NaN</td>\n",
              "      <td>Risk 3 (Low)</td>\n",
              "      <td>3906 W ROOSEVELT RD</td>\n",
              "      <td>60624.0</td>\n",
              "      <td>03/27/2017</td>\n",
              "      <td>License</td>\n",
              "      <td>Not Ready</td>\n",
              "      <td>NaN</td>\n",
              "    </tr>\n",
              "    <tr>\n",
              "      <th>2</th>\n",
              "      <td>TAQUERIA HACIENDA TAPATIA</td>\n",
              "      <td>Restaurant</td>\n",
              "      <td>Risk 1 (High)</td>\n",
              "      <td>4125 W 26TH ST</td>\n",
              "      <td>60623.0</td>\n",
              "      <td>03/27/2017</td>\n",
              "      <td>License Re-Inspection</td>\n",
              "      <td>Pass</td>\n",
              "      <td>2. FACILITIES TO MAINTAIN PROPER TEMPERATURE -...</td>\n",
              "    </tr>\n",
              "    <tr>\n",
              "      <th>3</th>\n",
              "      <td>WILD GOOSE BAR &amp; GRILL</td>\n",
              "      <td>Restaurant</td>\n",
              "      <td>Risk 1 (High)</td>\n",
              "      <td>4265 N LINCOLN AVE</td>\n",
              "      <td>60618.0</td>\n",
              "      <td>03/27/2017</td>\n",
              "      <td>Canvass</td>\n",
              "      <td>Fail</td>\n",
              "      <td>16. FOOD PROTECTED DURING STORAGE, PREPARATION...</td>\n",
              "    </tr>\n",
              "    <tr>\n",
              "      <th>4</th>\n",
              "      <td>PUBLICAN TAVERN K1</td>\n",
              "      <td>Restaurant</td>\n",
              "      <td>Risk 1 (High)</td>\n",
              "      <td>11601 W TOUHY AVE</td>\n",
              "      <td>60666.0</td>\n",
              "      <td>03/27/2017</td>\n",
              "      <td>Canvass</td>\n",
              "      <td>Fail</td>\n",
              "      <td>18. NO EVIDENCE OF RODENT OR INSECT OUTER OPEN...</td>\n",
              "    </tr>\n",
              "  </tbody>\n",
              "</table>\n",
              "</div>"
            ],
            "text/plain": [
              "                    DBA Name  ...                                         Violations\n",
              "0               DANY'S TACOS  ...  16. FOOD PROTECTED DURING STORAGE, PREPARATION...\n",
              "1      BILLY FOOD MARKET INC  ...                                                NaN\n",
              "2  TAQUERIA HACIENDA TAPATIA  ...  2. FACILITIES TO MAINTAIN PROPER TEMPERATURE -...\n",
              "3     WILD GOOSE BAR & GRILL  ...  16. FOOD PROTECTED DURING STORAGE, PREPARATION...\n",
              "4         PUBLICAN TAVERN K1  ...  18. NO EVIDENCE OF RODENT OR INSECT OUTER OPEN...\n",
              "\n",
              "[5 rows x 9 columns]"
            ]
          },
          "metadata": {
            "tags": []
          },
          "execution_count": 102
        }
      ]
    },
    {
      "cell_type": "code",
      "metadata": {
        "id": "mcc5E_JJF7t7",
        "colab_type": "code",
        "colab": {
          "base_uri": "https://localhost:8080/",
          "height": 337
        },
        "outputId": "e4103df1-68cf-42c9-fb1f-ac720fe39a17"
      },
      "source": [
        "df_food = df_food.set_index('DBA Name') #trzeba nadpisać df z nowym indeksem\n",
        "df_food.head()"
      ],
      "execution_count": 106,
      "outputs": [
        {
          "output_type": "execute_result",
          "data": {
            "text/html": [
              "<div>\n",
              "<style scoped>\n",
              "    .dataframe tbody tr th:only-of-type {\n",
              "        vertical-align: middle;\n",
              "    }\n",
              "\n",
              "    .dataframe tbody tr th {\n",
              "        vertical-align: top;\n",
              "    }\n",
              "\n",
              "    .dataframe thead th {\n",
              "        text-align: right;\n",
              "    }\n",
              "</style>\n",
              "<table border=\"1\" class=\"dataframe\">\n",
              "  <thead>\n",
              "    <tr style=\"text-align: right;\">\n",
              "      <th></th>\n",
              "      <th>Facility Type</th>\n",
              "      <th>Risk</th>\n",
              "      <th>Address</th>\n",
              "      <th>Zip</th>\n",
              "      <th>Inspection Date</th>\n",
              "      <th>Inspection Type</th>\n",
              "      <th>Results</th>\n",
              "      <th>Violations</th>\n",
              "    </tr>\n",
              "    <tr>\n",
              "      <th>DBA Name</th>\n",
              "      <th></th>\n",
              "      <th></th>\n",
              "      <th></th>\n",
              "      <th></th>\n",
              "      <th></th>\n",
              "      <th></th>\n",
              "      <th></th>\n",
              "      <th></th>\n",
              "    </tr>\n",
              "  </thead>\n",
              "  <tbody>\n",
              "    <tr>\n",
              "      <th>DANY'S TACOS</th>\n",
              "      <td>Restaurant</td>\n",
              "      <td>Risk 1 (High)</td>\n",
              "      <td>2857 S ST LOUIS AVE</td>\n",
              "      <td>60623.0</td>\n",
              "      <td>03/27/2017</td>\n",
              "      <td>License</td>\n",
              "      <td>Fail</td>\n",
              "      <td>16. FOOD PROTECTED DURING STORAGE, PREPARATION...</td>\n",
              "    </tr>\n",
              "    <tr>\n",
              "      <th>BILLY FOOD MARKET INC</th>\n",
              "      <td>NaN</td>\n",
              "      <td>Risk 3 (Low)</td>\n",
              "      <td>3906 W ROOSEVELT RD</td>\n",
              "      <td>60624.0</td>\n",
              "      <td>03/27/2017</td>\n",
              "      <td>License</td>\n",
              "      <td>Not Ready</td>\n",
              "      <td>NaN</td>\n",
              "    </tr>\n",
              "    <tr>\n",
              "      <th>TAQUERIA HACIENDA TAPATIA</th>\n",
              "      <td>Restaurant</td>\n",
              "      <td>Risk 1 (High)</td>\n",
              "      <td>4125 W 26TH ST</td>\n",
              "      <td>60623.0</td>\n",
              "      <td>03/27/2017</td>\n",
              "      <td>License Re-Inspection</td>\n",
              "      <td>Pass</td>\n",
              "      <td>2. FACILITIES TO MAINTAIN PROPER TEMPERATURE -...</td>\n",
              "    </tr>\n",
              "    <tr>\n",
              "      <th>WILD GOOSE BAR &amp; GRILL</th>\n",
              "      <td>Restaurant</td>\n",
              "      <td>Risk 1 (High)</td>\n",
              "      <td>4265 N LINCOLN AVE</td>\n",
              "      <td>60618.0</td>\n",
              "      <td>03/27/2017</td>\n",
              "      <td>Canvass</td>\n",
              "      <td>Fail</td>\n",
              "      <td>16. FOOD PROTECTED DURING STORAGE, PREPARATION...</td>\n",
              "    </tr>\n",
              "    <tr>\n",
              "      <th>PUBLICAN TAVERN K1</th>\n",
              "      <td>Restaurant</td>\n",
              "      <td>Risk 1 (High)</td>\n",
              "      <td>11601 W TOUHY AVE</td>\n",
              "      <td>60666.0</td>\n",
              "      <td>03/27/2017</td>\n",
              "      <td>Canvass</td>\n",
              "      <td>Fail</td>\n",
              "      <td>18. NO EVIDENCE OF RODENT OR INSECT OUTER OPEN...</td>\n",
              "    </tr>\n",
              "  </tbody>\n",
              "</table>\n",
              "</div>"
            ],
            "text/plain": [
              "                          Facility Type  ...                                         Violations\n",
              "DBA Name                                 ...                                                   \n",
              "DANY'S TACOS                 Restaurant  ...  16. FOOD PROTECTED DURING STORAGE, PREPARATION...\n",
              "BILLY FOOD MARKET INC               NaN  ...                                                NaN\n",
              "TAQUERIA HACIENDA TAPATIA    Restaurant  ...  2. FACILITIES TO MAINTAIN PROPER TEMPERATURE -...\n",
              "WILD GOOSE BAR & GRILL       Restaurant  ...  16. FOOD PROTECTED DURING STORAGE, PREPARATION...\n",
              "PUBLICAN TAVERN K1           Restaurant  ...  18. NO EVIDENCE OF RODENT OR INSECT OUTER OPEN...\n",
              "\n",
              "[5 rows x 8 columns]"
            ]
          },
          "metadata": {
            "tags": []
          },
          "execution_count": 106
        }
      ]
    },
    {
      "cell_type": "code",
      "metadata": {
        "id": "_hA8OsdSHPFW",
        "colab_type": "code",
        "colab": {
          "base_uri": "https://localhost:8080/",
          "height": 136
        },
        "outputId": "157f3cf1-114b-4690-c658-f3b581185315"
      },
      "source": [
        "df_food['Risk'].head()"
      ],
      "execution_count": 109,
      "outputs": [
        {
          "output_type": "execute_result",
          "data": {
            "text/plain": [
              "DBA Name\n",
              "DANY'S TACOS                 Risk 1 (High)\n",
              "BILLY FOOD MARKET INC         Risk 3 (Low)\n",
              "TAQUERIA HACIENDA TAPATIA    Risk 1 (High)\n",
              "WILD GOOSE BAR & GRILL       Risk 1 (High)\n",
              "PUBLICAN TAVERN K1           Risk 1 (High)\n",
              "Name: Risk, dtype: object"
            ]
          },
          "metadata": {
            "tags": []
          },
          "execution_count": 109
        }
      ]
    },
    {
      "cell_type": "code",
      "metadata": {
        "id": "wdUev62yGvNp",
        "colab_type": "code",
        "colab": {
          "base_uri": "https://localhost:8080/",
          "height": 136
        },
        "outputId": "93f7b8c9-2624-4072-c428-ba23b51047ca"
      },
      "source": [
        "df_food.Risk.head()"
      ],
      "execution_count": 110,
      "outputs": [
        {
          "output_type": "execute_result",
          "data": {
            "text/plain": [
              "DBA Name\n",
              "DANY'S TACOS                 Risk 1 (High)\n",
              "BILLY FOOD MARKET INC         Risk 3 (Low)\n",
              "TAQUERIA HACIENDA TAPATIA    Risk 1 (High)\n",
              "WILD GOOSE BAR & GRILL       Risk 1 (High)\n",
              "PUBLICAN TAVERN K1           Risk 1 (High)\n",
              "Name: Risk, dtype: object"
            ]
          },
          "metadata": {
            "tags": []
          },
          "execution_count": 110
        }
      ]
    },
    {
      "cell_type": "code",
      "metadata": {
        "id": "FQCerzqyHhR3",
        "colab_type": "code",
        "colab": {
          "base_uri": "https://localhost:8080/",
          "height": 235
        },
        "outputId": "5464a019-90ca-4a18-f852-dc27edb1c864"
      },
      "source": [
        "df_food[['Risk', 'Results']].head()"
      ],
      "execution_count": 112,
      "outputs": [
        {
          "output_type": "execute_result",
          "data": {
            "text/html": [
              "<div>\n",
              "<style scoped>\n",
              "    .dataframe tbody tr th:only-of-type {\n",
              "        vertical-align: middle;\n",
              "    }\n",
              "\n",
              "    .dataframe tbody tr th {\n",
              "        vertical-align: top;\n",
              "    }\n",
              "\n",
              "    .dataframe thead th {\n",
              "        text-align: right;\n",
              "    }\n",
              "</style>\n",
              "<table border=\"1\" class=\"dataframe\">\n",
              "  <thead>\n",
              "    <tr style=\"text-align: right;\">\n",
              "      <th></th>\n",
              "      <th>Risk</th>\n",
              "      <th>Results</th>\n",
              "    </tr>\n",
              "    <tr>\n",
              "      <th>DBA Name</th>\n",
              "      <th></th>\n",
              "      <th></th>\n",
              "    </tr>\n",
              "  </thead>\n",
              "  <tbody>\n",
              "    <tr>\n",
              "      <th>DANY'S TACOS</th>\n",
              "      <td>Risk 1 (High)</td>\n",
              "      <td>Fail</td>\n",
              "    </tr>\n",
              "    <tr>\n",
              "      <th>BILLY FOOD MARKET INC</th>\n",
              "      <td>Risk 3 (Low)</td>\n",
              "      <td>Not Ready</td>\n",
              "    </tr>\n",
              "    <tr>\n",
              "      <th>TAQUERIA HACIENDA TAPATIA</th>\n",
              "      <td>Risk 1 (High)</td>\n",
              "      <td>Pass</td>\n",
              "    </tr>\n",
              "    <tr>\n",
              "      <th>WILD GOOSE BAR &amp; GRILL</th>\n",
              "      <td>Risk 1 (High)</td>\n",
              "      <td>Fail</td>\n",
              "    </tr>\n",
              "    <tr>\n",
              "      <th>PUBLICAN TAVERN K1</th>\n",
              "      <td>Risk 1 (High)</td>\n",
              "      <td>Fail</td>\n",
              "    </tr>\n",
              "  </tbody>\n",
              "</table>\n",
              "</div>"
            ],
            "text/plain": [
              "                                    Risk    Results\n",
              "DBA Name                                           \n",
              "DANY'S TACOS               Risk 1 (High)       Fail\n",
              "BILLY FOOD MARKET INC       Risk 3 (Low)  Not Ready\n",
              "TAQUERIA HACIENDA TAPATIA  Risk 1 (High)       Pass\n",
              "WILD GOOSE BAR & GRILL     Risk 1 (High)       Fail\n",
              "PUBLICAN TAVERN K1         Risk 1 (High)       Fail"
            ]
          },
          "metadata": {
            "tags": []
          },
          "execution_count": 112
        }
      ]
    },
    {
      "cell_type": "code",
      "metadata": {
        "id": "G-UP_F7fHr4F",
        "colab_type": "code",
        "colab": {
          "base_uri": "https://localhost:8080/",
          "height": 235
        },
        "outputId": "50811919-e4f9-44c2-98f9-2ff6f9eaad57"
      },
      "source": [
        "df_food[['Risk']].head()"
      ],
      "execution_count": 113,
      "outputs": [
        {
          "output_type": "execute_result",
          "data": {
            "text/html": [
              "<div>\n",
              "<style scoped>\n",
              "    .dataframe tbody tr th:only-of-type {\n",
              "        vertical-align: middle;\n",
              "    }\n",
              "\n",
              "    .dataframe tbody tr th {\n",
              "        vertical-align: top;\n",
              "    }\n",
              "\n",
              "    .dataframe thead th {\n",
              "        text-align: right;\n",
              "    }\n",
              "</style>\n",
              "<table border=\"1\" class=\"dataframe\">\n",
              "  <thead>\n",
              "    <tr style=\"text-align: right;\">\n",
              "      <th></th>\n",
              "      <th>Risk</th>\n",
              "    </tr>\n",
              "    <tr>\n",
              "      <th>DBA Name</th>\n",
              "      <th></th>\n",
              "    </tr>\n",
              "  </thead>\n",
              "  <tbody>\n",
              "    <tr>\n",
              "      <th>DANY'S TACOS</th>\n",
              "      <td>Risk 1 (High)</td>\n",
              "    </tr>\n",
              "    <tr>\n",
              "      <th>BILLY FOOD MARKET INC</th>\n",
              "      <td>Risk 3 (Low)</td>\n",
              "    </tr>\n",
              "    <tr>\n",
              "      <th>TAQUERIA HACIENDA TAPATIA</th>\n",
              "      <td>Risk 1 (High)</td>\n",
              "    </tr>\n",
              "    <tr>\n",
              "      <th>WILD GOOSE BAR &amp; GRILL</th>\n",
              "      <td>Risk 1 (High)</td>\n",
              "    </tr>\n",
              "    <tr>\n",
              "      <th>PUBLICAN TAVERN K1</th>\n",
              "      <td>Risk 1 (High)</td>\n",
              "    </tr>\n",
              "  </tbody>\n",
              "</table>\n",
              "</div>"
            ],
            "text/plain": [
              "                                    Risk\n",
              "DBA Name                                \n",
              "DANY'S TACOS               Risk 1 (High)\n",
              "BILLY FOOD MARKET INC       Risk 3 (Low)\n",
              "TAQUERIA HACIENDA TAPATIA  Risk 1 (High)\n",
              "WILD GOOSE BAR & GRILL     Risk 1 (High)\n",
              "PUBLICAN TAVERN K1         Risk 1 (High)"
            ]
          },
          "metadata": {
            "tags": []
          },
          "execution_count": 113
        }
      ]
    },
    {
      "cell_type": "code",
      "metadata": {
        "id": "KSR9wHDTH262",
        "colab_type": "code",
        "colab": {
          "base_uri": "https://localhost:8080/",
          "height": 170
        },
        "outputId": "f248a2b1-9d74-47d9-ffda-b9a92de5add6"
      },
      "source": [
        "df_food.loc['WILD GOOSE BAR & GRILL'] #zwraca serię"
      ],
      "execution_count": 117,
      "outputs": [
        {
          "output_type": "execute_result",
          "data": {
            "text/plain": [
              "Facility Type                                             Restaurant\n",
              "Risk                                                   Risk 1 (High)\n",
              "Address                                          4265 N LINCOLN AVE \n",
              "Zip                                                            60618\n",
              "Inspection Date                                           03/27/2017\n",
              "Inspection Type                                              Canvass\n",
              "Results                                                         Fail\n",
              "Violations         16. FOOD PROTECTED DURING STORAGE, PREPARATION...\n",
              "Name: WILD GOOSE BAR & GRILL, dtype: object"
            ]
          },
          "metadata": {
            "tags": []
          },
          "execution_count": 117
        }
      ]
    },
    {
      "cell_type": "code",
      "metadata": {
        "id": "c8Y2M1myIYbk",
        "colab_type": "code",
        "colab": {
          "base_uri": "https://localhost:8080/",
          "height": 261
        },
        "outputId": "ba54f861-7c10-40f3-96e6-75e9a5bca693"
      },
      "source": [
        "df_food.loc[['WILD GOOSE BAR & GRILL', 'TAQUERIA HACIENDA TAPIATA'], ['Risk', 'Results']]"
      ],
      "execution_count": 118,
      "outputs": [
        {
          "output_type": "stream",
          "text": [
            "/usr/local/lib/python3.6/dist-packages/pandas/core/indexing.py:1494: FutureWarning: \n",
            "Passing list-likes to .loc or [] with any missing label will raise\n",
            "KeyError in the future, you can use .reindex() as an alternative.\n",
            "\n",
            "See the documentation here:\n",
            "https://pandas.pydata.org/pandas-docs/stable/indexing.html#deprecate-loc-reindex-listlike\n",
            "  return self._getitem_tuple(key)\n"
          ],
          "name": "stderr"
        },
        {
          "output_type": "execute_result",
          "data": {
            "text/html": [
              "<div>\n",
              "<style scoped>\n",
              "    .dataframe tbody tr th:only-of-type {\n",
              "        vertical-align: middle;\n",
              "    }\n",
              "\n",
              "    .dataframe tbody tr th {\n",
              "        vertical-align: top;\n",
              "    }\n",
              "\n",
              "    .dataframe thead th {\n",
              "        text-align: right;\n",
              "    }\n",
              "</style>\n",
              "<table border=\"1\" class=\"dataframe\">\n",
              "  <thead>\n",
              "    <tr style=\"text-align: right;\">\n",
              "      <th></th>\n",
              "      <th>Risk</th>\n",
              "      <th>Results</th>\n",
              "    </tr>\n",
              "    <tr>\n",
              "      <th>DBA Name</th>\n",
              "      <th></th>\n",
              "      <th></th>\n",
              "    </tr>\n",
              "  </thead>\n",
              "  <tbody>\n",
              "    <tr>\n",
              "      <th>WILD GOOSE BAR &amp; GRILL</th>\n",
              "      <td>Risk 1 (High)</td>\n",
              "      <td>Fail</td>\n",
              "    </tr>\n",
              "    <tr>\n",
              "      <th>TAQUERIA HACIENDA TAPIATA</th>\n",
              "      <td>NaN</td>\n",
              "      <td>NaN</td>\n",
              "    </tr>\n",
              "  </tbody>\n",
              "</table>\n",
              "</div>"
            ],
            "text/plain": [
              "                                    Risk Results\n",
              "DBA Name                                        \n",
              "WILD GOOSE BAR & GRILL     Risk 1 (High)    Fail\n",
              "TAQUERIA HACIENDA TAPIATA            NaN     NaN"
            ]
          },
          "metadata": {
            "tags": []
          },
          "execution_count": 118
        }
      ]
    },
    {
      "cell_type": "code",
      "metadata": {
        "id": "du_cUN8HKjiS",
        "colab_type": "code",
        "colab": {
          "base_uri": "https://localhost:8080/",
          "height": 34
        },
        "outputId": "2f9d2b80-16ca-4a00-9820-59d4e41abc93"
      },
      "source": [
        "df_food.loc['SCRUB A DUB', 'Risk']"
      ],
      "execution_count": 119,
      "outputs": [
        {
          "output_type": "execute_result",
          "data": {
            "text/plain": [
              "'Risk 2 (Medium)'"
            ]
          },
          "metadata": {
            "tags": []
          },
          "execution_count": 119
        }
      ]
    },
    {
      "cell_type": "code",
      "metadata": {
        "id": "_BwTjN7KKyaa",
        "colab_type": "code",
        "colab": {
          "base_uri": "https://localhost:8080/",
          "height": 204
        },
        "outputId": "330ddbb9-2884-4def-cf3a-aa3b9a213331"
      },
      "source": [
        "df_food.loc['THRESHOLD SCHOOL':'SCRUB A DUB': 3000, 'Inspection Type']"
      ],
      "execution_count": 122,
      "outputs": [
        {
          "output_type": "execute_result",
          "data": {
            "text/plain": [
              "DBA Name\n",
              "THRESHOLD SCHOOL                         Canvass\n",
              "SAN JOSE FAST FOOD                       Canvass\n",
              "CHUCHOS ON ADDISON INC                   Canvass\n",
              "PIZZERIA AROMA             Canvass Re-Inspection\n",
              "JEWEL FOOD STORE #3210                   Canvass\n",
              "EGANS TAVERN                             Canvass\n",
              "Los Amigos Grill                         Canvass\n",
              "JOHNNY VAN'S SMOKEHOUSE                  License\n",
              "WEN   CAFE INC                   Out of Business\n",
              "Name: Inspection Type, dtype: object"
            ]
          },
          "metadata": {
            "tags": []
          },
          "execution_count": 122
        }
      ]
    },
    {
      "cell_type": "code",
      "metadata": {
        "id": "nzYM5jcRLQ_d",
        "colab_type": "code",
        "colab": {
          "base_uri": "https://localhost:8080/",
          "height": 577
        },
        "outputId": "ef258eea-8f86-4e8e-d7f6-7a0303e0fef4"
      },
      "source": [
        "df_food.iloc[500:510]"
      ],
      "execution_count": 124,
      "outputs": [
        {
          "output_type": "execute_result",
          "data": {
            "text/html": [
              "<div>\n",
              "<style scoped>\n",
              "    .dataframe tbody tr th:only-of-type {\n",
              "        vertical-align: middle;\n",
              "    }\n",
              "\n",
              "    .dataframe tbody tr th {\n",
              "        vertical-align: top;\n",
              "    }\n",
              "\n",
              "    .dataframe thead th {\n",
              "        text-align: right;\n",
              "    }\n",
              "</style>\n",
              "<table border=\"1\" class=\"dataframe\">\n",
              "  <thead>\n",
              "    <tr style=\"text-align: right;\">\n",
              "      <th></th>\n",
              "      <th>Facility Type</th>\n",
              "      <th>Risk</th>\n",
              "      <th>Address</th>\n",
              "      <th>Zip</th>\n",
              "      <th>Inspection Date</th>\n",
              "      <th>Inspection Type</th>\n",
              "      <th>Results</th>\n",
              "      <th>Violations</th>\n",
              "    </tr>\n",
              "    <tr>\n",
              "      <th>DBA Name</th>\n",
              "      <th></th>\n",
              "      <th></th>\n",
              "      <th></th>\n",
              "      <th></th>\n",
              "      <th></th>\n",
              "      <th></th>\n",
              "      <th></th>\n",
              "      <th></th>\n",
              "    </tr>\n",
              "  </thead>\n",
              "  <tbody>\n",
              "    <tr>\n",
              "      <th>THE MECCA RESTAURANT</th>\n",
              "      <td>Restaurant</td>\n",
              "      <td>Risk 1 (High)</td>\n",
              "      <td>6666 N NORTHWEST HWY</td>\n",
              "      <td>60631.0</td>\n",
              "      <td>03/14/2017</td>\n",
              "      <td>Canvass</td>\n",
              "      <td>Pass w/ Conditions</td>\n",
              "      <td>8. SANITIZING RINSE FOR EQUIPMENT AND UTENSILS...</td>\n",
              "    </tr>\n",
              "    <tr>\n",
              "      <th>L &amp; T CHINA FAST WOK INC.</th>\n",
              "      <td>Restaurant</td>\n",
              "      <td>Risk 1 (High)</td>\n",
              "      <td>2020 N CALIFORNIA AVE</td>\n",
              "      <td>60647.0</td>\n",
              "      <td>03/14/2017</td>\n",
              "      <td>Canvass</td>\n",
              "      <td>Pass</td>\n",
              "      <td>33. FOOD AND NON-FOOD CONTACT EQUIPMENT UTENSI...</td>\n",
              "    </tr>\n",
              "    <tr>\n",
              "      <th>SCHNEIDER  SENIOR  APARTMENT</th>\n",
              "      <td>Golden Diner</td>\n",
              "      <td>Risk 1 (High)</td>\n",
              "      <td>1750 W PETERSON AVE</td>\n",
              "      <td>60660.0</td>\n",
              "      <td>03/14/2017</td>\n",
              "      <td>Canvass Re-Inspection</td>\n",
              "      <td>Pass</td>\n",
              "      <td>35. WALLS, CEILINGS, ATTACHED EQUIPMENT CONSTR...</td>\n",
              "    </tr>\n",
              "    <tr>\n",
              "      <th>ECKHARDT CAFE</th>\n",
              "      <td>Restaurant</td>\n",
              "      <td>Risk 1 (High)</td>\n",
              "      <td>5640 S ELLIS AVE</td>\n",
              "      <td>60637.0</td>\n",
              "      <td>03/14/2017</td>\n",
              "      <td>Canvass</td>\n",
              "      <td>Pass</td>\n",
              "      <td>33. FOOD AND NON-FOOD CONTACT EQUIPMENT UTENSI...</td>\n",
              "    </tr>\n",
              "    <tr>\n",
              "      <th>WING ZONE</th>\n",
              "      <td>Restaurant</td>\n",
              "      <td>Risk 1 (High)</td>\n",
              "      <td>1757 W 87TH ST</td>\n",
              "      <td>60620.0</td>\n",
              "      <td>03/14/2017</td>\n",
              "      <td>Canvass</td>\n",
              "      <td>Out of Business</td>\n",
              "      <td>NaN</td>\n",
              "    </tr>\n",
              "    <tr>\n",
              "      <th>ARBYS</th>\n",
              "      <td>Restaurant</td>\n",
              "      <td>Risk 1 (High)</td>\n",
              "      <td>500 W MADISON ST</td>\n",
              "      <td>60661.0</td>\n",
              "      <td>03/14/2017</td>\n",
              "      <td>Canvass</td>\n",
              "      <td>Pass</td>\n",
              "      <td>34. FLOORS: CONSTRUCTED PER CODE, CLEANED, GOO...</td>\n",
              "    </tr>\n",
              "    <tr>\n",
              "      <th>LAS ISLAS MARIAS</th>\n",
              "      <td>Restaurant</td>\n",
              "      <td>Risk 1 (High)</td>\n",
              "      <td>8205-8209 S PULASKI RD</td>\n",
              "      <td>60652.0</td>\n",
              "      <td>03/14/2017</td>\n",
              "      <td>Canvass</td>\n",
              "      <td>Pass</td>\n",
              "      <td>30. FOOD IN ORIGINAL CONTAINER, PROPERLY LABEL...</td>\n",
              "    </tr>\n",
              "    <tr>\n",
              "      <th>MARGARET'S</th>\n",
              "      <td>Restaurant</td>\n",
              "      <td>Risk 1 (High)</td>\n",
              "      <td>5134 W IRVING PARK RD</td>\n",
              "      <td>60641.0</td>\n",
              "      <td>03/14/2017</td>\n",
              "      <td>Canvass</td>\n",
              "      <td>Pass</td>\n",
              "      <td>33. FOOD AND NON-FOOD CONTACT EQUIPMENT UTENSI...</td>\n",
              "    </tr>\n",
              "    <tr>\n",
              "      <th>POPEYES FAMOUS FRIED CHICKEN</th>\n",
              "      <td>Restaurant</td>\n",
              "      <td>Risk 2 (Medium)</td>\n",
              "      <td>9516 S VINCENNES AVE</td>\n",
              "      <td>60643.0</td>\n",
              "      <td>03/14/2017</td>\n",
              "      <td>Complaint</td>\n",
              "      <td>Pass w/ Conditions</td>\n",
              "      <td>3. POTENTIALLY HAZARDOUS FOOD MEETS TEMPERATUR...</td>\n",
              "    </tr>\n",
              "    <tr>\n",
              "      <th>PJ PIZZA COMPANY 1 DBA PAPA JOHNS</th>\n",
              "      <td>Restaurant</td>\n",
              "      <td>Risk 2 (Medium)</td>\n",
              "      <td>1755 W 87TH ST</td>\n",
              "      <td>60620.0</td>\n",
              "      <td>03/14/2017</td>\n",
              "      <td>Canvass</td>\n",
              "      <td>Out of Business</td>\n",
              "      <td>NaN</td>\n",
              "    </tr>\n",
              "  </tbody>\n",
              "</table>\n",
              "</div>"
            ],
            "text/plain": [
              "                                  Facility Type  ...                                         Violations\n",
              "DBA Name                                         ...                                                   \n",
              "THE MECCA RESTAURANT                 Restaurant  ...  8. SANITIZING RINSE FOR EQUIPMENT AND UTENSILS...\n",
              "L & T CHINA FAST WOK INC.            Restaurant  ...  33. FOOD AND NON-FOOD CONTACT EQUIPMENT UTENSI...\n",
              "SCHNEIDER  SENIOR  APARTMENT       Golden Diner  ...  35. WALLS, CEILINGS, ATTACHED EQUIPMENT CONSTR...\n",
              "ECKHARDT CAFE                        Restaurant  ...  33. FOOD AND NON-FOOD CONTACT EQUIPMENT UTENSI...\n",
              "WING ZONE                            Restaurant  ...                                                NaN\n",
              "ARBYS                                Restaurant  ...  34. FLOORS: CONSTRUCTED PER CODE, CLEANED, GOO...\n",
              "LAS ISLAS MARIAS                     Restaurant  ...  30. FOOD IN ORIGINAL CONTAINER, PROPERLY LABEL...\n",
              "MARGARET'S                           Restaurant  ...  33. FOOD AND NON-FOOD CONTACT EQUIPMENT UTENSI...\n",
              "POPEYES FAMOUS FRIED CHICKEN         Restaurant  ...  3. POTENTIALLY HAZARDOUS FOOD MEETS TEMPERATUR...\n",
              "PJ PIZZA COMPANY 1 DBA PAPA JOHNS    Restaurant  ...                                                NaN\n",
              "\n",
              "[10 rows x 8 columns]"
            ]
          },
          "metadata": {
            "tags": []
          },
          "execution_count": 124
        }
      ]
    },
    {
      "cell_type": "code",
      "metadata": {
        "id": "0KP4kWphLjCU",
        "colab_type": "code",
        "colab": {
          "base_uri": "https://localhost:8080/",
          "height": 173
        },
        "outputId": "18da597a-5f27-469a-9711-eb03385768ac"
      },
      "source": [
        "df_food.iloc[[100, 1000, 1000], [5,3,1]]"
      ],
      "execution_count": 125,
      "outputs": [
        {
          "output_type": "execute_result",
          "data": {
            "text/html": [
              "<div>\n",
              "<style scoped>\n",
              "    .dataframe tbody tr th:only-of-type {\n",
              "        vertical-align: middle;\n",
              "    }\n",
              "\n",
              "    .dataframe tbody tr th {\n",
              "        vertical-align: top;\n",
              "    }\n",
              "\n",
              "    .dataframe thead th {\n",
              "        text-align: right;\n",
              "    }\n",
              "</style>\n",
              "<table border=\"1\" class=\"dataframe\">\n",
              "  <thead>\n",
              "    <tr style=\"text-align: right;\">\n",
              "      <th></th>\n",
              "      <th>Inspection Type</th>\n",
              "      <th>Zip</th>\n",
              "      <th>Risk</th>\n",
              "    </tr>\n",
              "    <tr>\n",
              "      <th>DBA Name</th>\n",
              "      <th></th>\n",
              "      <th></th>\n",
              "      <th></th>\n",
              "    </tr>\n",
              "  </thead>\n",
              "  <tbody>\n",
              "    <tr>\n",
              "      <th>TAQUERIA LA CANTERA</th>\n",
              "      <td>License</td>\n",
              "      <td>60608.0</td>\n",
              "      <td>Risk 1 (High)</td>\n",
              "    </tr>\n",
              "    <tr>\n",
              "      <th>PARK TAVERN CHICAGO</th>\n",
              "      <td>Complaint</td>\n",
              "      <td>60612.0</td>\n",
              "      <td>Risk 1 (High)</td>\n",
              "    </tr>\n",
              "    <tr>\n",
              "      <th>PARK TAVERN CHICAGO</th>\n",
              "      <td>Complaint</td>\n",
              "      <td>60612.0</td>\n",
              "      <td>Risk 1 (High)</td>\n",
              "    </tr>\n",
              "  </tbody>\n",
              "</table>\n",
              "</div>"
            ],
            "text/plain": [
              "                    Inspection Type      Zip           Risk\n",
              "DBA Name                                                   \n",
              "TAQUERIA LA CANTERA         License  60608.0  Risk 1 (High)\n",
              "PARK TAVERN CHICAGO       Complaint  60612.0  Risk 1 (High)\n",
              "PARK TAVERN CHICAGO       Complaint  60612.0  Risk 1 (High)"
            ]
          },
          "metadata": {
            "tags": []
          },
          "execution_count": 125
        }
      ]
    },
    {
      "cell_type": "code",
      "metadata": {
        "id": "Raz0dukxLwcN",
        "colab_type": "code",
        "colab": {
          "base_uri": "https://localhost:8080/",
          "height": 34
        },
        "outputId": "a780d40b-717c-472b-88be-37f637633724"
      },
      "source": [
        "df_risk = df_food['Risk']\n",
        "type(df_risk)"
      ],
      "execution_count": 127,
      "outputs": [
        {
          "output_type": "execute_result",
          "data": {
            "text/plain": [
              "pandas.core.series.Series"
            ]
          },
          "metadata": {
            "tags": []
          },
          "execution_count": 127
        }
      ]
    },
    {
      "cell_type": "code",
      "metadata": {
        "id": "NcMtxyaWMEZE",
        "colab_type": "code",
        "colab": {
          "base_uri": "https://localhost:8080/",
          "height": 85
        },
        "outputId": "62c4eb1d-85da-47aa-b2ec-b3d0cba8f294"
      },
      "source": [
        "df_risk.loc[['ARBYS', 'POPEYES FAMOUS FRIED CHICKEN']]"
      ],
      "execution_count": 129,
      "outputs": [
        {
          "output_type": "execute_result",
          "data": {
            "text/plain": [
              "DBA Name\n",
              "ARBYS                             Risk 1 (High)\n",
              "POPEYES FAMOUS FRIED CHICKEN    Risk 2 (Medium)\n",
              "Name: Risk, dtype: object"
            ]
          },
          "metadata": {
            "tags": []
          },
          "execution_count": 129
        }
      ]
    }
  ]
}